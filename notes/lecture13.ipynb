{
 "cells": [
  {
   "cell_type": "code",
   "execution_count": 1,
   "metadata": {},
   "outputs": [],
   "source": [
    "import ee\n",
    "import geemap\n",
    "import geopandas as gpd\n",
    "ee.Initialize()"
   ]
  },
  {
   "cell_type": "markdown",
   "metadata": {},
   "source": [
    "## Time inspector"
   ]
  },
  {
   "cell_type": "code",
   "execution_count": 2,
   "metadata": {},
   "outputs": [
    {
     "data": {
      "text/html": [
       "\n",
       "            <style>\n",
       "                .geemap-dark {\n",
       "                    --jp-widgets-color: white;\n",
       "                    --jp-widgets-label-color: white;\n",
       "                    --jp-ui-font-color1: white;\n",
       "                    --jp-layout-color2: #454545;\n",
       "                    background-color: #383838;\n",
       "                }\n",
       "\n",
       "                .geemap-dark .jupyter-button {\n",
       "                    --jp-layout-color3: #383838;\n",
       "                }\n",
       "\n",
       "                .geemap-colab {\n",
       "                    background-color: var(--colab-primary-surface-color, white);\n",
       "                }\n",
       "\n",
       "                .geemap-colab .jupyter-button {\n",
       "                    --jp-layout-color3: var(--colab-primary-surface-color, white);\n",
       "                }\n",
       "            </style>\n",
       "            "
      ],
      "text/plain": [
       "<IPython.core.display.HTML object>"
      ]
     },
     "metadata": {},
     "output_type": "display_data"
    },
    {
     "data": {
      "text/plain": [
       "['2001', '2004', '2006', '2008', '2011', '2013', '2016', '2019']"
      ]
     },
     "execution_count": 2,
     "metadata": {},
     "output_type": "execute_result"
    }
   ],
   "source": [
    "Map = geemap.Map(center=[40,-100], zoom=4)\n",
    "collection= ee.ImageCollection('USGS/NLCD_RELEASES/2019_REL/NLCD').select('landcover')\n",
    "\n",
    "vis_params = {\n",
    "    'bands': ['landcover'],\n",
    "}\n",
    "\n",
    "years= collection.aggregate_array('system:index').getInfo()\n",
    "years"
   ]
  },
  {
   "cell_type": "code",
   "execution_count": 4,
   "metadata": {},
   "outputs": [
    {
     "data": {
      "text/html": [
       "\n",
       "            <style>\n",
       "                .geemap-dark {\n",
       "                    --jp-widgets-color: white;\n",
       "                    --jp-widgets-label-color: white;\n",
       "                    --jp-ui-font-color1: white;\n",
       "                    --jp-layout-color2: #454545;\n",
       "                    background-color: #383838;\n",
       "                }\n",
       "\n",
       "                .geemap-dark .jupyter-button {\n",
       "                    --jp-layout-color3: #383838;\n",
       "                }\n",
       "\n",
       "                .geemap-colab {\n",
       "                    background-color: var(--colab-primary-surface-color, white);\n",
       "                }\n",
       "\n",
       "                .geemap-colab .jupyter-button {\n",
       "                    --jp-layout-color3: var(--colab-primary-surface-color, white);\n",
       "                }\n",
       "            </style>\n",
       "            "
      ],
      "text/plain": [
       "<IPython.core.display.HTML object>"
      ]
     },
     "metadata": {},
     "output_type": "display_data"
    },
    {
     "data": {
      "text/html": [
       "<div><style>:root {\n",
       "  --font-color-primary: var(--jp-content-font-color0, rgba(0, 0, 0, 1));\n",
       "  --font-color-secondary: var(--jp-content-font-color2, rgba(0, 0, 0, 0.6));\n",
       "  --font-color-accent: rgba(123, 31, 162, 1);\n",
       "  --border-color: var(--jp-border-color2, #e0e0e0);\n",
       "  --background-color: var(--jp-layout-color0, white);\n",
       "  --background-color-row-even: var(--jp-layout-color1, white);\n",
       "  --background-color-row-odd: var(--jp-layout-color2, #eeeeee);\n",
       "}\n",
       "\n",
       "html[theme=\"dark\"],\n",
       "body[data-theme=\"dark\"],\n",
       "body.vscode-dark {\n",
       "  --font-color-primary: rgba(255, 255, 255, 1);\n",
       "  --font-color-secondary: rgba(255, 255, 255, 0.6);\n",
       "  --font-color-accent: rgb(173, 132, 190);\n",
       "  --border-color: #2e2e2e;\n",
       "  --background-color: #111111;\n",
       "  --background-color-row-even: #111111;\n",
       "  --background-color-row-odd: #313131;\n",
       "}\n",
       "\n",
       ".ee {\n",
       "  padding: 1em;\n",
       "  line-height: 1.5em;\n",
       "  min-width: 300px;\n",
       "  max-width: 1200px;\n",
       "  overflow-y: scroll;\n",
       "  max-height: 600px;\n",
       "  border: 1px solid var(--border-color);\n",
       "  font-family: monospace;\n",
       "}\n",
       "\n",
       ".ee li {\n",
       "  list-style-type: none;\n",
       "}\n",
       "\n",
       ".ee ul {\n",
       "  padding-left: 1.5em !important;\n",
       "  margin: 0;\n",
       "}\n",
       "\n",
       ".ee > ul {\n",
       "  padding-left: 0 !important;\n",
       "}\n",
       "\n",
       ".ee-open,\n",
       ".ee-shut {\n",
       "  color: var(--font-color-secondary);\n",
       "  cursor: pointer;\n",
       "  margin: 0;\n",
       "}\n",
       "\n",
       ".ee-open:hover,\n",
       ".ee-shut:hover {\n",
       "  color: var(--font-color-primary);\n",
       "}\n",
       "\n",
       ".ee-k {\n",
       "  color: var(--font-color-accent);\n",
       "  margin-right: 6px;\n",
       "}\n",
       "\n",
       ".ee-v {\n",
       "  color: var(--font-color-primary);\n",
       "}\n",
       "\n",
       ".ee-toggle {\n",
       "  display: none;\n",
       "}\n",
       "\n",
       ".ee-shut + ul {\n",
       "  display: none;\n",
       "}\n",
       "\n",
       ".ee-open + ul {\n",
       "  display: block;\n",
       "}\n",
       "\n",
       ".ee-shut::before {\n",
       "  display: inline-block;\n",
       "  content: \"▼\";\n",
       "  margin-right: 6px;\n",
       "  transform: rotate(-90deg);\n",
       "  transition: transform 0.2s;\n",
       "}\n",
       "\n",
       ".ee-open::before {\n",
       "  transform: rotate(0deg);\n",
       "  display: inline-block;\n",
       "  content: \"▼\";\n",
       "  margin-right: 6px;\n",
       "  transition: transform 0.2s;\n",
       "}\n",
       "</style><div class='ee'><ul><li><label class='ee-shut'>Image USGS/NLCD_RELEASES/2019_REL/NLCD/2001 (1 band)<input type='checkbox' class='ee-toggle'></label><ul><li><span class='ee-k'>type:</span><span class='ee-v'>Image</span></li><li><span class='ee-k'>id:</span><span class='ee-v'>USGS/NLCD_RELEASES/2019_REL/NLCD/2001</span></li><li><span class='ee-k'>version:</span><span class='ee-v'>1654972256207626</span></li><li><label class='ee-shut'>bands: List (1 element)<input type='checkbox' class='ee-toggle'></label><ul><li><label class='ee-shut'>0: \"landcover\", unsigned int8, PROJCS[\"IMAGINE GeoTIFF Support\n",
       "ERDAS IMAGINE 2018  16.5.0.596\n",
       "Projection = Albers Conical Equal Area\", \n",
       "  GEOGCS[\"WGS 84\", \n",
       "    DATUM[\"WGS_1984\", \n",
       "      SPHEROID[\"WGS 84\", 6378137.0, 298.257223563, AUTHORITY[\"EPSG\",\"7030\"]], \n",
       "      AUTHORITY[\"EPSG\",\"6326\"]], \n",
       "    PRIMEM[\"Greenwich\", 0.0], \n",
       "    UNIT[\"degree\", 0.017453292519943295], \n",
       "    AXIS[\"Longitude\", EAST], \n",
       "    AXIS[\"Latitude\", NORTH], \n",
       "    AUTHORITY[\"EPSG\",\"4326\"]], \n",
       "  PROJECTION[\"Albers_Conic_Equal_Area\"], \n",
       "  PARAMETER[\"central_meridian\", -96.0], \n",
       "  PARAMETER[\"latitude_of_origin\", 23.0], \n",
       "  PARAMETER[\"standard_parallel_1\", 29.5], \n",
       "  PARAMETER[\"false_easting\", 0.0], \n",
       "  PARAMETER[\"false_northing\", 0.0], \n",
       "  PARAMETER[\"standard_parallel_2\", 45.5], \n",
       "  UNIT[\"m\", 1.0], \n",
       "  AXIS[\"x\", EAST], \n",
       "  AXIS[\"y\", NORTH]], 161190x104424 px<input type='checkbox' class='ee-toggle'></label><ul><li><span class='ee-k'>id:</span><span class='ee-v'>landcover</span></li><li><span class='ee-k'>crs:</span><span class='ee-v'>PROJCS[\"IMAGINE GeoTIFF Support\n",
       "ERDAS IMAGINE 2018  16.5.0.596\n",
       "Projection = Albers Conical Equal Area\", \n",
       "  GEOGCS[\"WGS 84\", \n",
       "    DATUM[\"WGS_1984\", \n",
       "      SPHEROID[\"WGS 84\", 6378137.0, 298.257223563, AUTHORITY[\"EPSG\",\"7030\"]], \n",
       "      AUTHORITY[\"EPSG\",\"6326\"]], \n",
       "    PRIMEM[\"Greenwich\", 0.0], \n",
       "    UNIT[\"degree\", 0.017453292519943295], \n",
       "    AXIS[\"Longitude\", EAST], \n",
       "    AXIS[\"Latitude\", NORTH], \n",
       "    AUTHORITY[\"EPSG\",\"4326\"]], \n",
       "  PROJECTION[\"Albers_Conic_Equal_Area\"], \n",
       "  PARAMETER[\"central_meridian\", -96.0], \n",
       "  PARAMETER[\"latitude_of_origin\", 23.0], \n",
       "  PARAMETER[\"standard_parallel_1\", 29.5], \n",
       "  PARAMETER[\"false_easting\", 0.0], \n",
       "  PARAMETER[\"false_northing\", 0.0], \n",
       "  PARAMETER[\"standard_parallel_2\", 45.5], \n",
       "  UNIT[\"m\", 1.0], \n",
       "  AXIS[\"x\", EAST], \n",
       "  AXIS[\"y\", NORTH]]</span></li><li><label class='ee-shut'>crs_transform: [30, 0, -2493045, 0, -30, 3310005]<input type='checkbox' class='ee-toggle'></label><ul><li><span class='ee-k'>0:</span><span class='ee-v'>30</span></li><li><span class='ee-k'>1:</span><span class='ee-v'>0</span></li><li><span class='ee-k'>2:</span><span class='ee-v'>-2493045</span></li><li><span class='ee-k'>3:</span><span class='ee-v'>0</span></li><li><span class='ee-k'>4:</span><span class='ee-v'>-30</span></li><li><span class='ee-k'>5:</span><span class='ee-v'>3310005</span></li></ul></li><li><label class='ee-shut'>data_type: unsigned int8<input type='checkbox' class='ee-toggle'></label><ul><li><span class='ee-k'>type:</span><span class='ee-v'>PixelType</span></li><li><span class='ee-k'>max:</span><span class='ee-v'>255</span></li><li><span class='ee-k'>min:</span><span class='ee-v'>0</span></li><li><span class='ee-k'>precision:</span><span class='ee-v'>int</span></li></ul></li><li><label class='ee-shut'>dimensions: [161190, 104424]<input type='checkbox' class='ee-toggle'></label><ul><li><span class='ee-k'>0:</span><span class='ee-v'>161190</span></li><li><span class='ee-k'>1:</span><span class='ee-v'>104424</span></li></ul></li></ul></li></ul></li><li><label class='ee-shut'>properties: Object (11 properties)<input type='checkbox' class='ee-toggle'></label><ul><li><label class='ee-shut'>impervious_descriptor_class_names: List (11 elements)<input type='checkbox' class='ee-toggle'></label><ul><li><span class='ee-k'>0:</span><span class='ee-v'>Unclassified.</span></li><li><span class='ee-k'>1:</span><span class='ee-v'>Primary road. Interstates and other major roads. Pixels were\n",
       "derived from the 2018 NavStreets Street Data.\n",
       "</span></li><li><span class='ee-k'>2:</span><span class='ee-v'>Secondary road. Non-interstate highways. Pixels were derived\n",
       " from the 2018 NavStreets Street Data.\n",
       "</span></li><li><span class='ee-k'>3:</span><span class='ee-v'>Tertiary road. Any two-lane road. Pixels were derived from the\n",
       "2018 NavStreets Street Data.\n",
       "</span></li><li><span class='ee-k'>4:</span><span class='ee-v'>Thinned road. Small tertiary roads that generally are not paved\n",
       "and have been removed from the landcover but remain as part of\n",
       "the impervious surface product. Pixels were derived from the 2018\n",
       "NavStreets Street Data.\n",
       "</span></li><li><span class='ee-k'>5:</span><span class='ee-v'>Non-road non-energy impervious. Developed areas that are\n",
       "generally not roads or energy production; includes\n",
       "residential/commercial/industrial areas, parks, and golf courses.\n",
       "</span></li><li><span class='ee-k'>6:</span><span class='ee-v'>Microsoft buildings. Buildings not captured in the NLCD\n",
       "impervious process, and not included in the nonroad impervious\n",
       "surface class. Pixels derived from the Microsoft US Building\n",
       "Footprints dataset.\n",
       "</span></li><li><span class='ee-k'>7:</span><span class='ee-v'>LCMAP impervious. Impervious pixels from LCMAP that were used\n",
       "to fill in gaps left when roads were updated from previous\n",
       "versions of NLCD.\n",
       "</span></li><li><span class='ee-k'>8:</span><span class='ee-v'>Wind turbines. Pixels derived from the US Wind Turbine Dataset,\n",
       "accessed on 1/9/2020.\n",
       "</span></li><li><span class='ee-k'>9:</span><span class='ee-v'>Well pads. Pixels derived from the 2019 Oil and Natural Gas Wells\n",
       "dataset from the Oak Ridge National Laboratory.\n",
       "</span></li><li><span class='ee-k'>10:</span><span class='ee-v'>Other energy production. Areas previously identified as well pads\n",
       "and wind turbines and classified in coordination with the\n",
       "Landfire project.\n",
       "</span></li></ul></li><li><label class='ee-shut'>impervious_descriptor_class_palette: List (11 elements)<input type='checkbox' class='ee-toggle'></label><ul><li><span class='ee-k'>0:</span><span class='ee-v'>000000</span></li><li><span class='ee-k'>1:</span><span class='ee-v'>ff0000</span></li><li><span class='ee-k'>2:</span><span class='ee-v'>ffff00</span></li><li><span class='ee-k'>3:</span><span class='ee-v'>0000ff</span></li><li><span class='ee-k'>4:</span><span class='ee-v'>ffffff</span></li><li><span class='ee-k'>5:</span><span class='ee-v'>ffc0c5</span></li><li><span class='ee-k'>6:</span><span class='ee-v'>eb82eb</span></li><li><span class='ee-k'>7:</span><span class='ee-v'>9f1feb</span></li><li><span class='ee-k'>8:</span><span class='ee-v'>40dfd0</span></li><li><span class='ee-k'>9:</span><span class='ee-v'>79ff00</span></li><li><span class='ee-k'>10:</span><span class='ee-v'>005f00</span></li></ul></li><li><label class='ee-shut'>impervious_descriptor_class_values: [0, 20, 21, 22, 23, 24, 25, 26, 27, 28, 29]<input type='checkbox' class='ee-toggle'></label><ul><li><span class='ee-k'>0:</span><span class='ee-v'>0</span></li><li><span class='ee-k'>1:</span><span class='ee-v'>20</span></li><li><span class='ee-k'>2:</span><span class='ee-v'>21</span></li><li><span class='ee-k'>3:</span><span class='ee-v'>22</span></li><li><span class='ee-k'>4:</span><span class='ee-v'>23</span></li><li><span class='ee-k'>5:</span><span class='ee-v'>24</span></li><li><span class='ee-k'>6:</span><span class='ee-v'>25</span></li><li><span class='ee-k'>7:</span><span class='ee-v'>26</span></li><li><span class='ee-k'>8:</span><span class='ee-v'>27</span></li><li><span class='ee-k'>9:</span><span class='ee-v'>28</span></li><li><span class='ee-k'>10:</span><span class='ee-v'>29</span></li></ul></li><li><label class='ee-shut'>landcover_class_names: List (20 elements)<input type='checkbox' class='ee-toggle'></label><ul><li><span class='ee-k'>0:</span><span class='ee-v'>Open water: areas of open water, generally with less than 25% cover of vegetation or soil.</span></li><li><span class='ee-k'>1:</span><span class='ee-v'>Perennial ice/snow: areas characterized by a perennial cover of ice and/or snow, generally greater than 25% of total cover.\n",
       "</span></li><li><span class='ee-k'>2:</span><span class='ee-v'>Developed, open space: areas with a mixture of some constructed materials, but mostly vegetation in the form of lawn grasses. Impervious surfaces account for less than 20% of total cover. These areas most commonly include large-lot single-family housing units, parks, golf courses, and vegetation planted in developed settings for recreation, erosion control, or aesthetic purposes.\n",
       "</span></li><li><span class='ee-k'>3:</span><span class='ee-v'>Developed, low intensity: areas with a mixture of constructed materials and vegetation. Impervious surfaces account for 20% to 49% percent of total cover. These areas most commonly include single-family housing units.\n",
       "</span></li><li><span class='ee-k'>4:</span><span class='ee-v'>Developed, medium intensity: areas with a mixture of constructed materials and vegetation. Impervious surfaces account for 50% to 79% of the total cover. These areas most commonly include single-family housing units.\n",
       "</span></li><li><span class='ee-k'>5:</span><span class='ee-v'>Developed high intensity: highly developed areas where people reside or work in high numbers. Examples include apartment complexes, row houses, and commercial/industrial. Impervious surfaces account for 80% to 100% of the total cover.\n",
       "</span></li><li><span class='ee-k'>6:</span><span class='ee-v'>Barren land (rock/sand/clay): areas of bedrock, desert pavement, scarps, talus, slides, volcanic material, glacial debris, sand dunes, strip mines, gravel pits, and other accumulations of earthen material. Generally, vegetation accounts for less than 15% of total cover.\n",
       "</span></li><li><span class='ee-k'>7:</span><span class='ee-v'>Deciduous forest: areas dominated by trees generally greater than 5 meters tall, and greater than 20% of total vegetation cover. More than 75% of the tree species shed foliage simultaneously in response to seasonal change.\n",
       "</span></li><li><span class='ee-k'>8:</span><span class='ee-v'>Evergreen forest: areas dominated by trees generally greater than 5 meters tall, and greater than 20% of total vegetation cover. More than 75% of the tree species maintain their leaves all year. Canopy is never without green foliage.\n",
       "</span></li><li><span class='ee-k'>9:</span><span class='ee-v'>Mixed forest: areas dominated by trees generally greater than 5 meters tall, and greater than 20% of total vegetation cover. Neither deciduous nor evergreen species are greater than 75% of total tree cover.\n",
       "</span></li><li><span class='ee-k'>10:</span><span class='ee-v'>Dwarf scrub: Alaska only areas dominated by shrubs less than 20 centimeters tall with shrub canopy typically greater than 20% of total vegetation. This type is often co-associated with grasses, sedges, herbs, and non-vascular vegetation.\n",
       "</span></li><li><span class='ee-k'>11:</span><span class='ee-v'>Shrub/scrub: areas dominated by shrubs less than 5 meters tall with shrub canopy typically greater than 20% of total vegetation. This class includes true shrubs, young trees in an early successional stage, or trees stunted from environmental conditions.\n",
       "</span></li><li><span class='ee-k'>12:</span><span class='ee-v'>Grassland/herbaceous: areas dominated by gramanoid or herbaceous vegetation, generally greater than 80% of total vegetation. These areas are not subject to intensive management such as tilling, but can be utilized for grazing.\n",
       "</span></li><li><span class='ee-k'>13:</span><span class='ee-v'>Sedge/herbaceous: Alaska only areas dominated by sedges and forbs, generally greater than 80% of total vegetation. This type can occur with significant other grasses or other grass like plants, and includes sedge tundra and sedge tussock tundra.\n",
       "</span></li><li><span class='ee-k'>14:</span><span class='ee-v'>Lichens: Alaska only areas dominated by fruticose or foliose lichens generally greater than 80% of total vegetation.\n",
       "</span></li><li><span class='ee-k'>15:</span><span class='ee-v'>Moss: Alaska only areas dominated by mosses, generally greater than 80% of total vegetation.</span></li><li><span class='ee-k'>16:</span><span class='ee-v'>Pasture/hay: areas of grasses, legumes, or grass-legume mixtures planted for livestock grazing or the production of seed or hay crops, typically on a perennial cycle. Pasture/hay vegetation accounts for greater than 20% of total vegetation.\n",
       "</span></li><li><span class='ee-k'>17:</span><span class='ee-v'>Cultivated crops: areas used for the production of annual crops, such as corn, soybeans, vegetables, tobacco, and cotton, and also perennial woody crops such as orchards and vineyards. Crop vegetation accounts for greater than 20% of total vegetation. This class also includes all land being actively tilled.\n",
       "</span></li><li><span class='ee-k'>18:</span><span class='ee-v'>Woody wetlands: areas where forest or shrubland vegetation accounts for greater than 20% of vegetative cover and the soil or substrate is periodically saturated with or covered with water.\n",
       "</span></li><li><span class='ee-k'>19:</span><span class='ee-v'>Emergent herbaceous wetlands: areas where perennial herbaceous vegetation accounts for greater than 80% of vegetative cover and the soil or substrate is periodically saturated with or covered with water.\n",
       "</span></li></ul></li><li><label class='ee-shut'>landcover_class_palette: List (20 elements)<input type='checkbox' class='ee-toggle'></label><ul><li><span class='ee-k'>0:</span><span class='ee-v'>466b9f</span></li><li><span class='ee-k'>1:</span><span class='ee-v'>d1def8</span></li><li><span class='ee-k'>2:</span><span class='ee-v'>dec5c5</span></li><li><span class='ee-k'>3:</span><span class='ee-v'>d99282</span></li><li><span class='ee-k'>4:</span><span class='ee-v'>eb0000</span></li><li><span class='ee-k'>5:</span><span class='ee-v'>ab0000</span></li><li><span class='ee-k'>6:</span><span class='ee-v'>b3ac9f</span></li><li><span class='ee-k'>7:</span><span class='ee-v'>68ab5f</span></li><li><span class='ee-k'>8:</span><span class='ee-v'>1c5f2c</span></li><li><span class='ee-k'>9:</span><span class='ee-v'>b5c58f</span></li><li><span class='ee-k'>10:</span><span class='ee-v'>af963c</span></li><li><span class='ee-k'>11:</span><span class='ee-v'>ccb879</span></li><li><span class='ee-k'>12:</span><span class='ee-v'>dfdfc2</span></li><li><span class='ee-k'>13:</span><span class='ee-v'>d1d182</span></li><li><span class='ee-k'>14:</span><span class='ee-v'>a3cc51</span></li><li><span class='ee-k'>15:</span><span class='ee-v'>82ba9e</span></li><li><span class='ee-k'>16:</span><span class='ee-v'>dcd939</span></li><li><span class='ee-k'>17:</span><span class='ee-v'>ab6c28</span></li><li><span class='ee-k'>18:</span><span class='ee-v'>b8d9eb</span></li><li><span class='ee-k'>19:</span><span class='ee-v'>6c9fb8</span></li></ul></li><li><label class='ee-shut'>landcover_class_values: List (20 elements)<input type='checkbox' class='ee-toggle'></label><ul><li><span class='ee-k'>0:</span><span class='ee-v'>11</span></li><li><span class='ee-k'>1:</span><span class='ee-v'>12</span></li><li><span class='ee-k'>2:</span><span class='ee-v'>21</span></li><li><span class='ee-k'>3:</span><span class='ee-v'>22</span></li><li><span class='ee-k'>4:</span><span class='ee-v'>23</span></li><li><span class='ee-k'>5:</span><span class='ee-v'>24</span></li><li><span class='ee-k'>6:</span><span class='ee-v'>31</span></li><li><span class='ee-k'>7:</span><span class='ee-v'>41</span></li><li><span class='ee-k'>8:</span><span class='ee-v'>42</span></li><li><span class='ee-k'>9:</span><span class='ee-v'>43</span></li><li><span class='ee-k'>10:</span><span class='ee-v'>51</span></li><li><span class='ee-k'>11:</span><span class='ee-v'>52</span></li><li><span class='ee-k'>12:</span><span class='ee-v'>71</span></li><li><span class='ee-k'>13:</span><span class='ee-v'>72</span></li><li><span class='ee-k'>14:</span><span class='ee-v'>73</span></li><li><span class='ee-k'>15:</span><span class='ee-v'>74</span></li><li><span class='ee-k'>16:</span><span class='ee-v'>81</span></li><li><span class='ee-k'>17:</span><span class='ee-v'>82</span></li><li><span class='ee-k'>18:</span><span class='ee-v'>90</span></li><li><span class='ee-k'>19:</span><span class='ee-v'>95</span></li></ul></li><li><span class='ee-k'>system:asset_size:</span><span class='ee-v'>2839463926</span></li><li><label class='ee-shut'>system:footprint: LinearRing (19 vertices)<input type='checkbox' class='ee-toggle'></label><ul><li><span class='ee-k'>type:</span><span class='ee-v'>LinearRing</span></li><li><label class='ee-shut'>coordinates: List (19 elements)<input type='checkbox' class='ee-toggle'></label><ul><li><label class='ee-shut'>0: [-105.90095863308562, 24.139678035474713]<input type='checkbox' class='ee-toggle'></label><ul><li><span class='ee-k'>0:</span><span class='ee-v'>-105.90095863308562</span></li><li><span class='ee-k'>1:</span><span class='ee-v'>24.139678035474713</span></li></ul></li><li><label class='ee-shut'>1: [-100.0438470413017, 24.545648496919725]<input type='checkbox' class='ee-toggle'></label><ul><li><span class='ee-k'>0:</span><span class='ee-v'>-100.0438470413017</span></li><li><span class='ee-k'>1:</span><span class='ee-v'>24.545648496919725</span></li></ul></li><li><label class='ee-shut'>2: [-88.2820063266809, 24.331303349622537]<input type='checkbox' class='ee-toggle'></label><ul><li><span class='ee-k'>0:</span><span class='ee-v'>-88.2820063266809</span></li><li><span class='ee-k'>1:</span><span class='ee-v'>24.331303349622537</span></li></ul></li><li><label class='ee-shut'>3: [-82.46657845276867, 23.712666414026955]<input type='checkbox' class='ee-toggle'></label><ul><li><span class='ee-k'>0:</span><span class='ee-v'>-82.46657845276867</span></li><li><span class='ee-k'>1:</span><span class='ee-v'>23.712666414026955</span></li></ul></li><li><label class='ee-shut'>4: [-73.59448403264648, 22.076568413784006]<input type='checkbox' class='ee-toggle'></label><ul><li><span class='ee-k'>0:</span><span class='ee-v'>-73.59448403264648</span></li><li><span class='ee-k'>1:</span><span class='ee-v'>22.076568413784006</span></li></ul></li><li><label class='ee-shut'>5: [-70.93371173552747, 31.565622524806255]<input type='checkbox' class='ee-toggle'></label><ul><li><span class='ee-k'>0:</span><span class='ee-v'>-70.93371173552747</span></li><li><span class='ee-k'>1:</span><span class='ee-v'>31.565622524806255</span></li></ul></li><li><label class='ee-shut'>6: [-66.51394653274536, 43.28510939588516]<input type='checkbox' class='ee-toggle'></label><ul><li><span class='ee-k'>0:</span><span class='ee-v'>-66.51394653274536</span></li><li><span class='ee-k'>1:</span><span class='ee-v'>43.28510939588516</span></li></ul></li><li><label class='ee-shut'>7: [-63.63641644172879, 49.168185582273544]<input type='checkbox' class='ee-toggle'></label><ul><li><span class='ee-k'>0:</span><span class='ee-v'>-63.63641644172879</span></li><li><span class='ee-k'>1:</span><span class='ee-v'>49.168185582273544</span></li></ul></li><li><label class='ee-shut'>8: [-76.21612025463648, 51.525377730401935]<input type='checkbox' class='ee-toggle'></label><ul><li><span class='ee-k'>0:</span><span class='ee-v'>-76.21612025463648</span></li><li><span class='ee-k'>1:</span><span class='ee-v'>51.525377730401935</span></li></ul></li><li><label class='ee-shut'>9: [-84.65814556190182, 52.43721810664046]<input type='checkbox' class='ee-toggle'></label><ul><li><span class='ee-k'>0:</span><span class='ee-v'>-84.65814556190182</span></li><li><span class='ee-k'>1:</span><span class='ee-v'>52.43721810664046</span></li></ul></li><li><label class='ee-shut'>10: [-101.95361140752647, 52.756503694834855]<input type='checkbox' class='ee-toggle'></label><ul><li><span class='ee-k'>0:</span><span class='ee-v'>-101.95361140752647</span></li><li><span class='ee-k'>1:</span><span class='ee-v'>52.756503694834855</span></li></ul></li><li><label class='ee-shut'>11: [-110.52593139470122, 52.15325969742198]<input type='checkbox' class='ee-toggle'></label><ul><li><span class='ee-k'>0:</span><span class='ee-v'>-110.52593139470122</span></li><li><span class='ee-k'>1:</span><span class='ee-v'>52.15325969742198</span></li></ul></li><li><label class='ee-shut'>12: [-118.86704310316404, 51.062400754331556]<input type='checkbox' class='ee-toggle'></label><ul><li><span class='ee-k'>0:</span><span class='ee-v'>-118.86704310316404</span></li><li><span class='ee-k'>1:</span><span class='ee-v'>51.062400754331556</span></li></ul></li><li><label class='ee-shut'>13: [-130.24354289091747, 48.70471924476132]<input type='checkbox' class='ee-toggle'></label><ul><li><span class='ee-k'>0:</span><span class='ee-v'>-130.24354289091747</span></li><li><span class='ee-k'>1:</span><span class='ee-v'>48.70471924476132</span></li></ul></li><li><label class='ee-shut'>14: [-127.88519983847146, 44.17496136258756]<input type='checkbox' class='ee-toggle'></label><ul><li><span class='ee-k'>0:</span><span class='ee-v'>-127.88519983847146</span></li><li><span class='ee-k'>1:</span><span class='ee-v'>44.17496136258756</span></li></ul></li><li><label class='ee-shut'>15: [-122.88273959919394, 32.047491995457435]<input type='checkbox' class='ee-toggle'></label><ul><li><span class='ee-k'>0:</span><span class='ee-v'>-122.88273959919394</span></li><li><span class='ee-k'>1:</span><span class='ee-v'>32.047491995457435</span></li></ul></li><li><label class='ee-shut'>16: [-119.78621526695484, 21.742143957752265]<input type='checkbox' class='ee-toggle'></label><ul><li><span class='ee-k'>0:</span><span class='ee-v'>-119.78621526695484</span></li><li><span class='ee-k'>1:</span><span class='ee-v'>21.742143957752265</span></li></ul></li><li><label class='ee-shut'>17: [-111.68363084232533, 23.39493221857397]<input type='checkbox' class='ee-toggle'></label><ul><li><span class='ee-k'>0:</span><span class='ee-v'>-111.68363084232533</span></li><li><span class='ee-k'>1:</span><span class='ee-v'>23.39493221857397</span></li></ul></li><li><label class='ee-shut'>18: [-105.90095863308562, 24.139678035474713]<input type='checkbox' class='ee-toggle'></label><ul><li><span class='ee-k'>0:</span><span class='ee-v'>-105.90095863308562</span></li><li><span class='ee-k'>1:</span><span class='ee-v'>24.139678035474713</span></li></ul></li></ul></li></ul></li><li><span class='ee-k'>system:index:</span><span class='ee-v'>2001</span></li><li><span class='ee-k'>system:time_end:</span><span class='ee-v'>1009843200000</span></li><li><span class='ee-k'>system:time_start:</span><span class='ee-v'>978307200000</span></li></ul></li></ul></li></ul></div><script>function toggleHeader() {\n",
       "    const parent = this.parentElement;\n",
       "    parent.className = parent.className === \"ee-open\" ? \"ee-shut\" : \"ee-open\";\n",
       "}\n",
       "\n",
       "for (let c of document.getElementsByClassName(\"ee-toggle\")) {\n",
       "    c.onclick = toggleHeader;\n",
       "}</script></div>"
      ],
      "text/plain": [
       "<ee.image.Image at 0x1ec576facf0>"
      ]
     },
     "execution_count": 4,
     "metadata": {},
     "output_type": "execute_result"
    }
   ],
   "source": [
    "collection.first()"
   ]
  },
  {
   "cell_type": "code",
   "execution_count": 3,
   "metadata": {},
   "outputs": [
    {
     "data": {
      "text/html": [
       "\n",
       "            <style>\n",
       "                .geemap-dark {\n",
       "                    --jp-widgets-color: white;\n",
       "                    --jp-widgets-label-color: white;\n",
       "                    --jp-ui-font-color1: white;\n",
       "                    --jp-layout-color2: #454545;\n",
       "                    background-color: #383838;\n",
       "                }\n",
       "\n",
       "                .geemap-dark .jupyter-button {\n",
       "                    --jp-layout-color3: #383838;\n",
       "                }\n",
       "\n",
       "                .geemap-colab {\n",
       "                    background-color: var(--colab-primary-surface-color, white);\n",
       "                }\n",
       "\n",
       "                .geemap-colab .jupyter-button {\n",
       "                    --jp-layout-color3: var(--colab-primary-surface-color, white);\n",
       "                }\n",
       "            </style>\n",
       "            "
      ],
      "text/plain": [
       "<IPython.core.display.HTML object>"
      ]
     },
     "metadata": {},
     "output_type": "display_data"
    },
    {
     "data": {
      "application/vnd.jupyter.widget-view+json": {
       "model_id": "c157cb0639a243ba87d6559a797d684a",
       "version_major": 2,
       "version_minor": 0
      },
      "text/plain": [
       "Map(center=[40, -100], controls=(WidgetControl(options=['position', 'transparent_bg'], widget=Dropdown(layout=…"
      ]
     },
     "execution_count": 3,
     "metadata": {},
     "output_type": "execute_result"
    }
   ],
   "source": [
    "Map.ts_inspector(\n",
    "    left_ts=collection, \n",
    "    right_ts=collection, \n",
    "    left_names=years, \n",
    "    right_names=years, \n",
    "    left_vis=vis_params, \n",
    "    right_vis=vis_params,\n",
    "    width= '80px',\n",
    ")\n",
    "Map"
   ]
  },
  {
   "cell_type": "markdown",
   "metadata": {},
   "source": [
    "### Time slider"
   ]
  },
  {
   "cell_type": "code",
   "execution_count": 5,
   "metadata": {},
   "outputs": [
    {
     "data": {
      "text/html": [
       "\n",
       "            <style>\n",
       "                .geemap-dark {\n",
       "                    --jp-widgets-color: white;\n",
       "                    --jp-widgets-label-color: white;\n",
       "                    --jp-ui-font-color1: white;\n",
       "                    --jp-layout-color2: #454545;\n",
       "                    background-color: #383838;\n",
       "                }\n",
       "\n",
       "                .geemap-dark .jupyter-button {\n",
       "                    --jp-layout-color3: #383838;\n",
       "                }\n",
       "\n",
       "                .geemap-colab {\n",
       "                    background-color: var(--colab-primary-surface-color, white);\n",
       "                }\n",
       "\n",
       "                .geemap-colab .jupyter-button {\n",
       "                    --jp-layout-color3: var(--colab-primary-surface-color, white);\n",
       "                }\n",
       "            </style>\n",
       "            "
      ],
      "text/plain": [
       "<IPython.core.display.HTML object>"
      ]
     },
     "metadata": {},
     "output_type": "display_data"
    },
    {
     "data": {
      "application/vnd.jupyter.widget-view+json": {
       "model_id": "8a2e1aa4d2434cdfa55ed81f9b4a2f3e",
       "version_major": 2,
       "version_minor": 0
      },
      "text/plain": [
       "Map(center=[0, 0], controls=(WidgetControl(options=['position', 'transparent_bg'], widget=SearchDataGUI(childr…"
      ]
     },
     "execution_count": 5,
     "metadata": {},
     "output_type": "execute_result"
    }
   ],
   "source": [
    "Map= geemap.Map()\n",
    "Map"
   ]
  },
  {
   "cell_type": "code",
   "execution_count": 6,
   "metadata": {},
   "outputs": [
    {
     "data": {
      "text/html": [
       "\n",
       "            <style>\n",
       "                .geemap-dark {\n",
       "                    --jp-widgets-color: white;\n",
       "                    --jp-widgets-label-color: white;\n",
       "                    --jp-ui-font-color1: white;\n",
       "                    --jp-layout-color2: #454545;\n",
       "                    background-color: #383838;\n",
       "                }\n",
       "\n",
       "                .geemap-dark .jupyter-button {\n",
       "                    --jp-layout-color3: #383838;\n",
       "                }\n",
       "\n",
       "                .geemap-colab {\n",
       "                    background-color: var(--colab-primary-surface-color, white);\n",
       "                }\n",
       "\n",
       "                .geemap-colab .jupyter-button {\n",
       "                    --jp-layout-color3: var(--colab-primary-surface-color, white);\n",
       "                }\n",
       "            </style>\n",
       "            "
      ],
      "text/plain": [
       "<IPython.core.display.HTML object>"
      ]
     },
     "metadata": {},
     "output_type": "display_data"
    }
   ],
   "source": [
    "collection= (\n",
    "    ee.ImageCollection('MODIS/MCD43A4_006_NDVI')\n",
    "    .filter(ee.Filter.date('2018-06-01', '2018-09-01'))\n",
    "    .select('NDVI')\n",
    ")\n",
    "\n",
    "vis_params = {\n",
    "    'min': 0,\n",
    "    'max': 1.0,\n",
    "    'palette':'ndvi',\n",
    "}\n",
    "\n",
    "Map.add_time_slider(collection, vis_params, time_interval=2)\n"
   ]
  },
  {
   "cell_type": "code",
   "execution_count": 7,
   "metadata": {},
   "outputs": [
    {
     "data": {
      "text/html": [
       "\n",
       "            <style>\n",
       "                .geemap-dark {\n",
       "                    --jp-widgets-color: white;\n",
       "                    --jp-widgets-label-color: white;\n",
       "                    --jp-ui-font-color1: white;\n",
       "                    --jp-layout-color2: #454545;\n",
       "                    background-color: #383838;\n",
       "                }\n",
       "\n",
       "                .geemap-dark .jupyter-button {\n",
       "                    --jp-layout-color3: #383838;\n",
       "                }\n",
       "\n",
       "                .geemap-colab {\n",
       "                    background-color: var(--colab-primary-surface-color, white);\n",
       "                }\n",
       "\n",
       "                .geemap-colab .jupyter-button {\n",
       "                    --jp-layout-color3: var(--colab-primary-surface-color, white);\n",
       "                }\n",
       "            </style>\n",
       "            "
      ],
      "text/plain": [
       "<IPython.core.display.HTML object>"
      ]
     },
     "metadata": {},
     "output_type": "display_data"
    },
    {
     "data": {
      "application/vnd.jupyter.widget-view+json": {
       "model_id": "20b78f0a8ae3410793eb66ef54be441a",
       "version_major": 2,
       "version_minor": 0
      },
      "text/plain": [
       "Map(center=[0, 0], controls=(WidgetControl(options=['position', 'transparent_bg'], widget=SearchDataGUI(childr…"
      ]
     },
     "execution_count": 7,
     "metadata": {},
     "output_type": "execute_result"
    }
   ],
   "source": [
    "Map = geemap.Map()\n",
    "\n",
    "collection = (\n",
    "    ee.ImageCollection('NOAA/GFS0P25')\n",
    "    .filterDate('2018-12-22', '2018-12-23')\n",
    "    .limit(24)\n",
    "    .select('temperature_2m_above_ground')\n",
    ")\n",
    "\n",
    "vis_params = {\n",
    "    'min': -40.0,\n",
    "    'max': 35.0,\n",
    "    'palette': ['blue', 'purple', 'cyan', 'green', 'yellow', 'red'],\n",
    "}\n",
    "\n",
    "labels = [str(n).zfill(2) + \":00\" for n in range(0, 24)]\n",
    "Map.add_time_slider(collection, vis_params, labels=labels, time_interval=1, opacity=0.8)\n",
    "Map"
   ]
  },
  {
   "cell_type": "code",
   "execution_count": 8,
   "metadata": {},
   "outputs": [
    {
     "data": {
      "text/html": [
       "\n",
       "            <style>\n",
       "                .geemap-dark {\n",
       "                    --jp-widgets-color: white;\n",
       "                    --jp-widgets-label-color: white;\n",
       "                    --jp-ui-font-color1: white;\n",
       "                    --jp-layout-color2: #454545;\n",
       "                    background-color: #383838;\n",
       "                }\n",
       "\n",
       "                .geemap-dark .jupyter-button {\n",
       "                    --jp-layout-color3: #383838;\n",
       "                }\n",
       "\n",
       "                .geemap-colab {\n",
       "                    background-color: var(--colab-primary-surface-color, white);\n",
       "                }\n",
       "\n",
       "                .geemap-colab .jupyter-button {\n",
       "                    --jp-layout-color3: var(--colab-primary-surface-color, white);\n",
       "                }\n",
       "            </style>\n",
       "            "
      ],
      "text/plain": [
       "<IPython.core.display.HTML object>"
      ]
     },
     "metadata": {},
     "output_type": "display_data"
    },
    {
     "data": {
      "application/vnd.jupyter.widget-view+json": {
       "model_id": "892432bf453644b2903d5155cd491d27",
       "version_major": 2,
       "version_minor": 0
      },
      "text/plain": [
       "Map(center=[37.75, -122.45], controls=(WidgetControl(options=['position', 'transparent_bg'], widget=SearchData…"
      ]
     },
     "execution_count": 8,
     "metadata": {},
     "output_type": "execute_result"
    }
   ],
   "source": [
    "\n",
    "Map = geemap.Map(center=[37.75, -122.45], zoom=12)\n",
    "\n",
    "collection = (\n",
    "    ee.ImageCollection('COPERNICUS/S2_SR')\n",
    "    .filterBounds(ee.Geometry.Point([-122.45, 37.75]))\n",
    "    .filterMetadata('CLOUDY_PIXEL_PERCENTAGE', 'less_than', 10)\n",
    ")\n",
    "\n",
    "vis_params = {\"min\": 0, \"max\": 4000, \"bands\": [\"B8\", \"B4\", \"B3\"]}\n",
    "\n",
    "Map.add_time_slider(collection, vis_params)\n",
    "Map"
   ]
  },
  {
   "cell_type": "code",
   "execution_count": 10,
   "metadata": {},
   "outputs": [
    {
     "data": {
      "text/html": [
       "\n",
       "            <style>\n",
       "                .geemap-dark {\n",
       "                    --jp-widgets-color: white;\n",
       "                    --jp-widgets-label-color: white;\n",
       "                    --jp-ui-font-color1: white;\n",
       "                    --jp-layout-color2: #454545;\n",
       "                    background-color: #383838;\n",
       "                }\n",
       "\n",
       "                .geemap-dark .jupyter-button {\n",
       "                    --jp-layout-color3: #383838;\n",
       "                }\n",
       "\n",
       "                .geemap-colab {\n",
       "                    background-color: var(--colab-primary-surface-color, white);\n",
       "                }\n",
       "\n",
       "                .geemap-colab .jupyter-button {\n",
       "                    --jp-layout-color3: var(--colab-primary-surface-color, white);\n",
       "                }\n",
       "            </style>\n",
       "            "
      ],
      "text/plain": [
       "<IPython.core.display.HTML object>"
      ]
     },
     "metadata": {},
     "output_type": "display_data"
    },
    {
     "data": {
      "text/html": [
       "<div><style>:root {\n",
       "  --font-color-primary: var(--jp-content-font-color0, rgba(0, 0, 0, 1));\n",
       "  --font-color-secondary: var(--jp-content-font-color2, rgba(0, 0, 0, 0.6));\n",
       "  --font-color-accent: rgba(123, 31, 162, 1);\n",
       "  --border-color: var(--jp-border-color2, #e0e0e0);\n",
       "  --background-color: var(--jp-layout-color0, white);\n",
       "  --background-color-row-even: var(--jp-layout-color1, white);\n",
       "  --background-color-row-odd: var(--jp-layout-color2, #eeeeee);\n",
       "}\n",
       "\n",
       "html[theme=\"dark\"],\n",
       "body[data-theme=\"dark\"],\n",
       "body.vscode-dark {\n",
       "  --font-color-primary: rgba(255, 255, 255, 1);\n",
       "  --font-color-secondary: rgba(255, 255, 255, 0.6);\n",
       "  --font-color-accent: rgb(173, 132, 190);\n",
       "  --border-color: #2e2e2e;\n",
       "  --background-color: #111111;\n",
       "  --background-color-row-even: #111111;\n",
       "  --background-color-row-odd: #313131;\n",
       "}\n",
       "\n",
       ".ee {\n",
       "  padding: 1em;\n",
       "  line-height: 1.5em;\n",
       "  min-width: 300px;\n",
       "  max-width: 1200px;\n",
       "  overflow-y: scroll;\n",
       "  max-height: 600px;\n",
       "  border: 1px solid var(--border-color);\n",
       "  font-family: monospace;\n",
       "}\n",
       "\n",
       ".ee li {\n",
       "  list-style-type: none;\n",
       "}\n",
       "\n",
       ".ee ul {\n",
       "  padding-left: 1.5em !important;\n",
       "  margin: 0;\n",
       "}\n",
       "\n",
       ".ee > ul {\n",
       "  padding-left: 0 !important;\n",
       "}\n",
       "\n",
       ".ee-open,\n",
       ".ee-shut {\n",
       "  color: var(--font-color-secondary);\n",
       "  cursor: pointer;\n",
       "  margin: 0;\n",
       "}\n",
       "\n",
       ".ee-open:hover,\n",
       ".ee-shut:hover {\n",
       "  color: var(--font-color-primary);\n",
       "}\n",
       "\n",
       ".ee-k {\n",
       "  color: var(--font-color-accent);\n",
       "  margin-right: 6px;\n",
       "}\n",
       "\n",
       ".ee-v {\n",
       "  color: var(--font-color-primary);\n",
       "}\n",
       "\n",
       ".ee-toggle {\n",
       "  display: none;\n",
       "}\n",
       "\n",
       ".ee-shut + ul {\n",
       "  display: none;\n",
       "}\n",
       "\n",
       ".ee-open + ul {\n",
       "  display: block;\n",
       "}\n",
       "\n",
       ".ee-shut::before {\n",
       "  display: inline-block;\n",
       "  content: \"▼\";\n",
       "  margin-right: 6px;\n",
       "  transform: rotate(-90deg);\n",
       "  transition: transform 0.2s;\n",
       "}\n",
       "\n",
       ".ee-open::before {\n",
       "  transform: rotate(0deg);\n",
       "  display: inline-block;\n",
       "  content: \"▼\";\n",
       "  margin-right: 6px;\n",
       "  transition: transform 0.2s;\n",
       "}\n",
       "</style><div class='ee'><ul><li><span class='ee-v'>109</span></li></ul></div><script>function toggleHeader() {\n",
       "    const parent = this.parentElement;\n",
       "    parent.className = parent.className === \"ee-open\" ? \"ee-shut\" : \"ee-open\";\n",
       "}\n",
       "\n",
       "for (let c of document.getElementsByClassName(\"ee-toggle\")) {\n",
       "    c.onclick = toggleHeader;\n",
       "}</script></div>"
      ],
      "text/plain": [
       "<ee.ee_number.Number at 0x1ec592f67e0>"
      ]
     },
     "execution_count": 10,
     "metadata": {},
     "output_type": "execute_result"
    }
   ],
   "source": [
    "# get how many images\n",
    "collection.size()"
   ]
  },
  {
   "cell_type": "code",
   "execution_count": null,
   "metadata": {},
   "outputs": [],
   "source": []
  }
 ],
 "metadata": {
  "kernelspec": {
   "display_name": "geo",
   "language": "python",
   "name": "python3"
  },
  "language_info": {
   "codemirror_mode": {
    "name": "ipython",
    "version": 3
   },
   "file_extension": ".py",
   "mimetype": "text/x-python",
   "name": "python",
   "nbconvert_exporter": "python",
   "pygments_lexer": "ipython3",
   "version": "3.12.3"
  }
 },
 "nbformat": 4,
 "nbformat_minor": 2
}
