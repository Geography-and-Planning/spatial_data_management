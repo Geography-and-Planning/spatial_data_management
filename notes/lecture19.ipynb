{
 "cells": [
  {
   "cell_type": "code",
   "execution_count": 1,
   "metadata": {},
   "outputs": [],
   "source": [
    "import ee \n",
    "import geemap\n",
    "ee.Initialize()"
   ]
  },
  {
   "cell_type": "markdown",
   "metadata": {},
   "source": [
    "# Export image collection "
   ]
  },
  {
   "cell_type": "code",
   "execution_count": 2,
   "metadata": {},
   "outputs": [
    {
     "data": {
      "text/html": [
       "\n",
       "            <style>\n",
       "                .geemap-dark {\n",
       "                    --jp-widgets-color: white;\n",
       "                    --jp-widgets-label-color: white;\n",
       "                    --jp-ui-font-color1: white;\n",
       "                    --jp-layout-color2: #454545;\n",
       "                    background-color: #383838;\n",
       "                }\n",
       "\n",
       "                .geemap-dark .jupyter-button {\n",
       "                    --jp-layout-color3: #383838;\n",
       "                }\n",
       "\n",
       "                .geemap-colab {\n",
       "                    background-color: var(--colab-primary-surface-color, white);\n",
       "                }\n",
       "\n",
       "                .geemap-colab .jupyter-button {\n",
       "                    --jp-layout-color3: var(--colab-primary-surface-color, white);\n",
       "                }\n",
       "            </style>\n",
       "            "
      ],
      "text/plain": [
       "<IPython.core.display.HTML object>"
      ]
     },
     "metadata": {},
     "output_type": "display_data"
    }
   ],
   "source": [
    "point = ee.Geometry.Point(-99.2222, 46.7816)\n",
    "collection = (\n",
    "    ee.ImageCollection('USDA/NAIP/DOQQ')\n",
    "    .filterBounds(point)\n",
    "    .filterDate('2008-01-01', '2018-01-01')\n",
    "    .filter(ee.Filter.listContains(\"system:band_names\", \"N\"))\n",
    ")\n",
    "   "
   ]
  },
  {
   "cell_type": "code",
   "execution_count": 3,
   "metadata": {},
   "outputs": [
    {
     "data": {
      "text/html": [
       "\n",
       "            <style>\n",
       "                .geemap-dark {\n",
       "                    --jp-widgets-color: white;\n",
       "                    --jp-widgets-label-color: white;\n",
       "                    --jp-ui-font-color1: white;\n",
       "                    --jp-layout-color2: #454545;\n",
       "                    background-color: #383838;\n",
       "                }\n",
       "\n",
       "                .geemap-dark .jupyter-button {\n",
       "                    --jp-layout-color3: #383838;\n",
       "                }\n",
       "\n",
       "                .geemap-colab {\n",
       "                    background-color: var(--colab-primary-surface-color, white);\n",
       "                }\n",
       "\n",
       "                .geemap-colab .jupyter-button {\n",
       "                    --jp-layout-color3: var(--colab-primary-surface-color, white);\n",
       "                }\n",
       "            </style>\n",
       "            "
      ],
      "text/plain": [
       "<IPython.core.display.HTML object>"
      ]
     },
     "metadata": {},
     "output_type": "display_data"
    },
    {
     "data": {
      "text/plain": [
       "['m_4609915_sw_14_1_20090818',\n",
       " 'm_4609915_sw_14_1_20100629',\n",
       " 'm_4609915_sw_14_1_20120714',\n",
       " 'm_4609915_sw_14_1_20140901',\n",
       " 'm_4609915_sw_14_1_20150926',\n",
       " 'm_4609915_sw_14_h_20160704',\n",
       " 'm_4609915_sw_14_h_20170703']"
      ]
     },
     "execution_count": 3,
     "metadata": {},
     "output_type": "execute_result"
    }
   ],
   "source": [
    "\n",
    "collection.aggregate_array('system:index').getInfo()"
   ]
  },
  {
   "cell_type": "code",
   "execution_count": 4,
   "metadata": {},
   "outputs": [
    {
     "data": {
      "text/html": [
       "\n",
       "            <style>\n",
       "                .geemap-dark {\n",
       "                    --jp-widgets-color: white;\n",
       "                    --jp-widgets-label-color: white;\n",
       "                    --jp-ui-font-color1: white;\n",
       "                    --jp-layout-color2: #454545;\n",
       "                    background-color: #383838;\n",
       "                }\n",
       "\n",
       "                .geemap-dark .jupyter-button {\n",
       "                    --jp-layout-color3: #383838;\n",
       "                }\n",
       "\n",
       "                .geemap-colab {\n",
       "                    background-color: var(--colab-primary-surface-color, white);\n",
       "                }\n",
       "\n",
       "                .geemap-colab .jupyter-button {\n",
       "                    --jp-layout-color3: var(--colab-primary-surface-color, white);\n",
       "                }\n",
       "            </style>\n",
       "            "
      ],
      "text/plain": [
       "<IPython.core.display.HTML object>"
      ]
     },
     "metadata": {},
     "output_type": "display_data"
    },
    {
     "data": {
      "text/html": [
       "<div><style>:root {\n",
       "  --font-color-primary: var(--jp-content-font-color0, rgba(0, 0, 0, 1));\n",
       "  --font-color-secondary: var(--jp-content-font-color2, rgba(0, 0, 0, 0.6));\n",
       "  --font-color-accent: rgba(123, 31, 162, 1);\n",
       "  --border-color: var(--jp-border-color2, #e0e0e0);\n",
       "  --background-color: var(--jp-layout-color0, white);\n",
       "  --background-color-row-even: var(--jp-layout-color1, white);\n",
       "  --background-color-row-odd: var(--jp-layout-color2, #eeeeee);\n",
       "}\n",
       "\n",
       "html[theme=\"dark\"],\n",
       "body[data-theme=\"dark\"],\n",
       "body.vscode-dark {\n",
       "  --font-color-primary: rgba(255, 255, 255, 1);\n",
       "  --font-color-secondary: rgba(255, 255, 255, 0.6);\n",
       "  --font-color-accent: rgb(173, 132, 190);\n",
       "  --border-color: #2e2e2e;\n",
       "  --background-color: #111111;\n",
       "  --background-color-row-even: #111111;\n",
       "  --background-color-row-odd: #313131;\n",
       "}\n",
       "\n",
       ".ee {\n",
       "  padding: 1em;\n",
       "  line-height: 1.5em;\n",
       "  min-width: 300px;\n",
       "  max-width: 1200px;\n",
       "  overflow-y: scroll;\n",
       "  max-height: 600px;\n",
       "  border: 1px solid var(--border-color);\n",
       "  font-family: monospace;\n",
       "}\n",
       "\n",
       ".ee li {\n",
       "  list-style-type: none;\n",
       "}\n",
       "\n",
       ".ee ul {\n",
       "  padding-left: 1.5em !important;\n",
       "  margin: 0;\n",
       "}\n",
       "\n",
       ".ee > ul {\n",
       "  padding-left: 0 !important;\n",
       "}\n",
       "\n",
       ".ee-open,\n",
       ".ee-shut {\n",
       "  color: var(--font-color-secondary);\n",
       "  cursor: pointer;\n",
       "  margin: 0;\n",
       "}\n",
       "\n",
       ".ee-open:hover,\n",
       ".ee-shut:hover {\n",
       "  color: var(--font-color-primary);\n",
       "}\n",
       "\n",
       ".ee-k {\n",
       "  color: var(--font-color-accent);\n",
       "  margin-right: 6px;\n",
       "}\n",
       "\n",
       ".ee-v {\n",
       "  color: var(--font-color-primary);\n",
       "}\n",
       "\n",
       ".ee-toggle {\n",
       "  display: none;\n",
       "}\n",
       "\n",
       ".ee-shut + ul {\n",
       "  display: none;\n",
       "}\n",
       "\n",
       ".ee-open + ul {\n",
       "  display: block;\n",
       "}\n",
       "\n",
       ".ee-shut::before {\n",
       "  display: inline-block;\n",
       "  content: \"▼\";\n",
       "  margin-right: 6px;\n",
       "  transform: rotate(-90deg);\n",
       "  transition: transform 0.2s;\n",
       "}\n",
       "\n",
       ".ee-open::before {\n",
       "  transform: rotate(0deg);\n",
       "  display: inline-block;\n",
       "  content: \"▼\";\n",
       "  margin-right: 6px;\n",
       "  transition: transform 0.2s;\n",
       "}\n",
       "</style><div class='ee'><ul><li><label class='ee-shut'>ImageCollection USDA/NAIP/DOQQ  (7 elements)<input type='checkbox' class='ee-toggle'></label><ul><li><span class='ee-k'>type:</span><span class='ee-v'>ImageCollection</span></li><li><span class='ee-k'>id:</span><span class='ee-v'>USDA/NAIP/DOQQ</span></li><li><span class='ee-k'>version:</span><span class='ee-v'>1697630986557728</span></li><li><label class='ee-shut'>bands: []<input type='checkbox' class='ee-toggle'></label><ul></ul></li><li><label class='ee-shut'>properties: Object (22 properties)<input type='checkbox' class='ee-toggle'></label><ul><li><label class='ee-shut'>date_range: [1041379200000, 1546300800000]<input type='checkbox' class='ee-toggle'></label><ul><li><span class='ee-k'>0:</span><span class='ee-v'>1041379200000</span></li><li><span class='ee-k'>1:</span><span class='ee-v'>1546300800000</span></li></ul></li><li><span class='ee-k'>description:</span><span class='ee-v'><p>The National Agriculture Imagery Program (NAIP) acquires aerial imagery\n",
       "during the agricultural growing seasons in the continental U.S.</p><p>NAIP projects are contracted each year based upon available funding and the\n",
       "imagery acquisition cycle. Beginning in 2003, NAIP was acquired on\n",
       "a 5-year cycle. 2008 was a transition year, and a three-year cycle began\n",
       "in 2009.</p><p>NAIP imagery is acquired at a one-meter ground sample distance (GSD) with a\n",
       "horizontal accuracy that matches within six meters of photo-identifiable\n",
       "ground control points, which are used during image inspection.</p><p>Older images were collected using 3 bands (Red, Green, and Blue: RGB), but\n",
       "newer imagery is usually collected with an additional near-infrared band\n",
       "(RGBN). RGB asset ids begin with &#39;n<em>&#39;, NRG asset ids begin with &#39;c</em>&#39;, RGBN\n",
       "asset ids begin with &#39;m_&#39;.</p><p><b>Provider: <a href=\"https://www.fsa.usda.gov/programs-and-services/aerial-photography/imagery-programs/naip-imagery/\">USDA Farm Production and Conservation - Business Center, Geospatial Enterprise Operations</a></b><br><p><b>Resolution</b><br>1 meter\n",
       "</p><p><b>Bands</b><table class=\"eecat\"><tr><th scope=\"col\">Name</th><th scope=\"col\">Description</th></tr><tr><td>R</td><td><p>Red</p></td></tr><tr><td>G</td><td><p>Green</p></td></tr><tr><td>B</td><td><p>Blue</p></td></tr><tr><td>N</td><td><p>Near infrared</p></td></tr></table><p><b>Terms of Use</b><br><p>Most information presented on the FSA Web site is considered public domain\n",
       "information. Public domain information may be freely distributed or copied,\n",
       "but use of appropriate byline/photo/image credits is requested. For more\n",
       "information visit the <a href=\"https://www.fsa.usda.gov/help/policies-and-links\">FSA Policies and Links</a>\n",
       "website.</p><p>Users should acknowledge USDA Farm Production and Conservation -\n",
       "Business Center, Geospatial Enterprise Operations when using or\n",
       "distributing this data set.</p><p><b>Suggested citation(s)</b><ul><li><p>USDA Farm Production and Conservation - Business Center, Geospatial Enterprise Operations</p></li></ul><style>\n",
       "  table.eecat {\n",
       "  border: 1px solid black;\n",
       "  border-collapse: collapse;\n",
       "  font-size: 13px;\n",
       "  }\n",
       "  table.eecat td, tr, th {\n",
       "  text-align: left; vertical-align: top;\n",
       "  border: 1px solid gray; padding: 3px;\n",
       "  }\n",
       "  td.nobreak { white-space: nowrap; }\n",
       "</style></span></li><li><label class='ee-shut'>keywords: List (7 elements)<input type='checkbox' class='ee-toggle'></label><ul><li><span class='ee-k'>0:</span><span class='ee-v'>aerial</span></li><li><span class='ee-k'>1:</span><span class='ee-v'>agriculture</span></li><li><span class='ee-k'>2:</span><span class='ee-v'>fpac</span></li><li><span class='ee-k'>3:</span><span class='ee-v'>highres</span></li><li><span class='ee-k'>4:</span><span class='ee-v'>imagery</span></li><li><span class='ee-k'>5:</span><span class='ee-v'>naip</span></li><li><span class='ee-k'>6:</span><span class='ee-v'>usda</span></li></ul></li><li><span class='ee-k'>period:</span><span class='ee-v'>0</span></li><li><label class='ee-shut'>product_tags: List (5 elements)<input type='checkbox' class='ee-toggle'></label><ul><li><span class='ee-k'>0:</span><span class='ee-v'>naip</span></li><li><span class='ee-k'>1:</span><span class='ee-v'>agriculture</span></li><li><span class='ee-k'>2:</span><span class='ee-v'>aerial</span></li><li><span class='ee-k'>3:</span><span class='ee-v'>highres</span></li><li><span class='ee-k'>4:</span><span class='ee-v'>imagery</span></li></ul></li><li><span class='ee-k'>provider:</span><span class='ee-v'>USDA Farm Production and Conservation - Business Center, Geospatial Enterprise Operations</span></li><li><span class='ee-k'>provider_url:</span><span class='ee-v'>https://www.fsa.usda.gov/programs-and-services/aerial-photography/imagery-programs/naip-imagery/</span></li><li><span class='ee-k'>sample:</span><span class='ee-v'>https://mw1.google.com/ges/dd/images/USDA_NAIP_DOQQ_sample.png</span></li><li><label class='ee-shut'>source_tags: ['usda', 'fpac']<input type='checkbox' class='ee-toggle'></label><ul><li><span class='ee-k'>0:</span><span class='ee-v'>usda</span></li><li><span class='ee-k'>1:</span><span class='ee-v'>fpac</span></li></ul></li><li><span class='ee-k'>system:min_zoom_level:</span><span class='ee-v'>8</span></li><li><span class='ee-k'>system:visualization_0_bands:</span><span class='ee-v'>R,G,B</span></li><li><span class='ee-k'>system:visualization_0_max:</span><span class='ee-v'>255.0</span></li><li><span class='ee-k'>system:visualization_0_min:</span><span class='ee-v'>0.0</span></li><li><span class='ee-k'>system:visualization_0_name:</span><span class='ee-v'>True Color</span></li><li><label class='ee-shut'>tags: List (7 elements)<input type='checkbox' class='ee-toggle'></label><ul><li><span class='ee-k'>0:</span><span class='ee-v'>aerial</span></li><li><span class='ee-k'>1:</span><span class='ee-v'>agriculture</span></li><li><span class='ee-k'>2:</span><span class='ee-v'>fpac</span></li><li><span class='ee-k'>3:</span><span class='ee-v'>highres</span></li><li><span class='ee-k'>4:</span><span class='ee-v'>imagery</span></li><li><span class='ee-k'>5:</span><span class='ee-v'>naip</span></li><li><span class='ee-k'>6:</span><span class='ee-v'>usda</span></li></ul></li><li><span class='ee-k'>thumb:</span><span class='ee-v'>https://mw1.google.com/ges/dd/images/USDA_NAIP_DOQQ_thumb.png</span></li><li><span class='ee-k'>title:</span><span class='ee-v'>NAIP: National Agriculture Imagery Program</span></li><li><span class='ee-k'>type_name:</span><span class='ee-v'>ImageCollection</span></li><li><span class='ee-k'>visualization_0_bands:</span><span class='ee-v'>R,G,B</span></li><li><span class='ee-k'>visualization_0_max:</span><span class='ee-v'>255.0</span></li><li><span class='ee-k'>visualization_0_min:</span><span class='ee-v'>0.0</span></li><li><span class='ee-k'>visualization_0_name:</span><span class='ee-v'>True Color</span></li></ul></li><li><label class='ee-shut'>features: List (7 elements)<input type='checkbox' class='ee-toggle'></label><ul><li><label class='ee-shut'>0: Image USDA/NAIP/DOQQ/m_4609915_sw_14_1_20090818 (4 bands)<input type='checkbox' class='ee-toggle'></label><ul><li><span class='ee-k'>type:</span><span class='ee-v'>Image</span></li><li><span class='ee-k'>id:</span><span class='ee-v'>USDA/NAIP/DOQQ/m_4609915_sw_14_1_20090818</span></li><li><span class='ee-k'>version:</span><span class='ee-v'>1494356370803000.0</span></li><li><label class='ee-shut'>bands: List (4 elements)<input type='checkbox' class='ee-toggle'></label><ul><li><label class='ee-shut'>0: \"R\", unsigned int8, EPSG:26914, 5411x7889 px<input type='checkbox' class='ee-toggle'></label><ul><li><span class='ee-k'>id:</span><span class='ee-v'>R</span></li><li><span class='ee-k'>crs:</span><span class='ee-v'>EPSG:26914</span></li><li><label class='ee-shut'>crs_transform: [1, 0, 480595, 0, -1, 5184979]<input type='checkbox' class='ee-toggle'></label><ul><li><span class='ee-k'>0:</span><span class='ee-v'>1</span></li><li><span class='ee-k'>1:</span><span class='ee-v'>0</span></li><li><span class='ee-k'>2:</span><span class='ee-v'>480595</span></li><li><span class='ee-k'>3:</span><span class='ee-v'>0</span></li><li><span class='ee-k'>4:</span><span class='ee-v'>-1</span></li><li><span class='ee-k'>5:</span><span class='ee-v'>5184979</span></li></ul></li><li><label class='ee-shut'>data_type: unsigned int8<input type='checkbox' class='ee-toggle'></label><ul><li><span class='ee-k'>type:</span><span class='ee-v'>PixelType</span></li><li><span class='ee-k'>max:</span><span class='ee-v'>255</span></li><li><span class='ee-k'>min:</span><span class='ee-v'>0</span></li><li><span class='ee-k'>precision:</span><span class='ee-v'>int</span></li></ul></li><li><label class='ee-shut'>dimensions: [5411, 7889]<input type='checkbox' class='ee-toggle'></label><ul><li><span class='ee-k'>0:</span><span class='ee-v'>5411</span></li><li><span class='ee-k'>1:</span><span class='ee-v'>7889</span></li></ul></li></ul></li><li><label class='ee-shut'>1: \"G\", unsigned int8, EPSG:26914, 5411x7889 px<input type='checkbox' class='ee-toggle'></label><ul><li><span class='ee-k'>id:</span><span class='ee-v'>G</span></li><li><span class='ee-k'>crs:</span><span class='ee-v'>EPSG:26914</span></li><li><label class='ee-shut'>crs_transform: [1, 0, 480595, 0, -1, 5184979]<input type='checkbox' class='ee-toggle'></label><ul><li><span class='ee-k'>0:</span><span class='ee-v'>1</span></li><li><span class='ee-k'>1:</span><span class='ee-v'>0</span></li><li><span class='ee-k'>2:</span><span class='ee-v'>480595</span></li><li><span class='ee-k'>3:</span><span class='ee-v'>0</span></li><li><span class='ee-k'>4:</span><span class='ee-v'>-1</span></li><li><span class='ee-k'>5:</span><span class='ee-v'>5184979</span></li></ul></li><li><label class='ee-shut'>data_type: unsigned int8<input type='checkbox' class='ee-toggle'></label><ul><li><span class='ee-k'>type:</span><span class='ee-v'>PixelType</span></li><li><span class='ee-k'>max:</span><span class='ee-v'>255</span></li><li><span class='ee-k'>min:</span><span class='ee-v'>0</span></li><li><span class='ee-k'>precision:</span><span class='ee-v'>int</span></li></ul></li><li><label class='ee-shut'>dimensions: [5411, 7889]<input type='checkbox' class='ee-toggle'></label><ul><li><span class='ee-k'>0:</span><span class='ee-v'>5411</span></li><li><span class='ee-k'>1:</span><span class='ee-v'>7889</span></li></ul></li></ul></li><li><label class='ee-shut'>2: \"B\", unsigned int8, EPSG:26914, 5411x7889 px<input type='checkbox' class='ee-toggle'></label><ul><li><span class='ee-k'>id:</span><span class='ee-v'>B</span></li><li><span class='ee-k'>crs:</span><span class='ee-v'>EPSG:26914</span></li><li><label class='ee-shut'>crs_transform: [1, 0, 480595, 0, -1, 5184979]<input type='checkbox' class='ee-toggle'></label><ul><li><span class='ee-k'>0:</span><span class='ee-v'>1</span></li><li><span class='ee-k'>1:</span><span class='ee-v'>0</span></li><li><span class='ee-k'>2:</span><span class='ee-v'>480595</span></li><li><span class='ee-k'>3:</span><span class='ee-v'>0</span></li><li><span class='ee-k'>4:</span><span class='ee-v'>-1</span></li><li><span class='ee-k'>5:</span><span class='ee-v'>5184979</span></li></ul></li><li><label class='ee-shut'>data_type: unsigned int8<input type='checkbox' class='ee-toggle'></label><ul><li><span class='ee-k'>type:</span><span class='ee-v'>PixelType</span></li><li><span class='ee-k'>max:</span><span class='ee-v'>255</span></li><li><span class='ee-k'>min:</span><span class='ee-v'>0</span></li><li><span class='ee-k'>precision:</span><span class='ee-v'>int</span></li></ul></li><li><label class='ee-shut'>dimensions: [5411, 7889]<input type='checkbox' class='ee-toggle'></label><ul><li><span class='ee-k'>0:</span><span class='ee-v'>5411</span></li><li><span class='ee-k'>1:</span><span class='ee-v'>7889</span></li></ul></li></ul></li><li><label class='ee-shut'>3: \"N\", unsigned int8, EPSG:26914, 5411x7889 px<input type='checkbox' class='ee-toggle'></label><ul><li><span class='ee-k'>id:</span><span class='ee-v'>N</span></li><li><span class='ee-k'>crs:</span><span class='ee-v'>EPSG:26914</span></li><li><label class='ee-shut'>crs_transform: [1, 0, 480595, 0, -1, 5184979]<input type='checkbox' class='ee-toggle'></label><ul><li><span class='ee-k'>0:</span><span class='ee-v'>1</span></li><li><span class='ee-k'>1:</span><span class='ee-v'>0</span></li><li><span class='ee-k'>2:</span><span class='ee-v'>480595</span></li><li><span class='ee-k'>3:</span><span class='ee-v'>0</span></li><li><span class='ee-k'>4:</span><span class='ee-v'>-1</span></li><li><span class='ee-k'>5:</span><span class='ee-v'>5184979</span></li></ul></li><li><label class='ee-shut'>data_type: unsigned int8<input type='checkbox' class='ee-toggle'></label><ul><li><span class='ee-k'>type:</span><span class='ee-v'>PixelType</span></li><li><span class='ee-k'>max:</span><span class='ee-v'>255</span></li><li><span class='ee-k'>min:</span><span class='ee-v'>0</span></li><li><span class='ee-k'>precision:</span><span class='ee-v'>int</span></li></ul></li><li><label class='ee-shut'>dimensions: [5411, 7889]<input type='checkbox' class='ee-toggle'></label><ul><li><span class='ee-k'>0:</span><span class='ee-v'>5411</span></li><li><span class='ee-k'>1:</span><span class='ee-v'>7889</span></li></ul></li></ul></li></ul></li><li><label class='ee-shut'>properties: Object (5 properties)<input type='checkbox' class='ee-toggle'></label><ul><li><span class='ee-k'>system:asset_size:</span><span class='ee-v'>119274225</span></li><li><label class='ee-shut'>system:footprint: LinearRing (5 vertices)<input type='checkbox' class='ee-toggle'></label><ul><li><span class='ee-k'>type:</span><span class='ee-v'>LinearRing</span></li><li><label class='ee-shut'>coordinates: List (5 elements)<input type='checkbox' class='ee-toggle'></label><ul><li><label class='ee-shut'>0: [-99.2540467742843, 46.81820902795873]<input type='checkbox' class='ee-toggle'></label><ul><li><span class='ee-k'>0:</span><span class='ee-v'>-99.2540467742843</span></li><li><span class='ee-k'>1:</span><span class='ee-v'>46.81820902795873</span></li></ul></li><li><label class='ee-shut'>1: [-99.25404675973384, 46.74708010835285]<input type='checkbox' class='ee-toggle'></label><ul><li><span class='ee-k'>0:</span><span class='ee-v'>-99.25404675973384</span></li><li><span class='ee-k'>1:</span><span class='ee-v'>46.74708010835285</span></li></ul></li><li><label class='ee-shut'>2: [-99.18344832375718, 46.747080119312066]<input type='checkbox' class='ee-toggle'></label><ul><li><span class='ee-k'>0:</span><span class='ee-v'>-99.18344832375718</span></li><li><span class='ee-k'>1:</span><span class='ee-v'>46.747080119312066</span></li></ul></li><li><label class='ee-shut'>3: [-99.18344837148864, 46.81820905217768]<input type='checkbox' class='ee-toggle'></label><ul><li><span class='ee-k'>0:</span><span class='ee-v'>-99.18344837148864</span></li><li><span class='ee-k'>1:</span><span class='ee-v'>46.81820905217768</span></li></ul></li><li><label class='ee-shut'>4: [-99.2540467742843, 46.81820902795873]<input type='checkbox' class='ee-toggle'></label><ul><li><span class='ee-k'>0:</span><span class='ee-v'>-99.2540467742843</span></li><li><span class='ee-k'>1:</span><span class='ee-v'>46.81820902795873</span></li></ul></li></ul></li></ul></li><li><span class='ee-k'>system:index:</span><span class='ee-v'>m_4609915_sw_14_1_20090818</span></li><li><span class='ee-k'>system:time_end:</span><span class='ee-v'>1250640000000</span></li><li><span class='ee-k'>system:time_start:</span><span class='ee-v'>1250553600000</span></li></ul></li></ul></li><li><label class='ee-shut'>1: Image USDA/NAIP/DOQQ/m_4609915_sw_14_1_20100629 (4 bands)<input type='checkbox' class='ee-toggle'></label><ul><li><span class='ee-k'>type:</span><span class='ee-v'>Image</span></li><li><span class='ee-k'>id:</span><span class='ee-v'>USDA/NAIP/DOQQ/m_4609915_sw_14_1_20100629</span></li><li><span class='ee-k'>version:</span><span class='ee-v'>1494279812203000.0</span></li><li><label class='ee-shut'>bands: List (4 elements)<input type='checkbox' class='ee-toggle'></label><ul><li><label class='ee-shut'>0: \"R\", unsigned int8, EPSG:26914, 5420x7580 px<input type='checkbox' class='ee-toggle'></label><ul><li><span class='ee-k'>id:</span><span class='ee-v'>R</span></li><li><span class='ee-k'>crs:</span><span class='ee-v'>EPSG:26914</span></li><li><label class='ee-shut'>crs_transform: [1, 0, 480590, 0, -1, 5184670]<input type='checkbox' class='ee-toggle'></label><ul><li><span class='ee-k'>0:</span><span class='ee-v'>1</span></li><li><span class='ee-k'>1:</span><span class='ee-v'>0</span></li><li><span class='ee-k'>2:</span><span class='ee-v'>480590</span></li><li><span class='ee-k'>3:</span><span class='ee-v'>0</span></li><li><span class='ee-k'>4:</span><span class='ee-v'>-1</span></li><li><span class='ee-k'>5:</span><span class='ee-v'>5184670</span></li></ul></li><li><label class='ee-shut'>data_type: unsigned int8<input type='checkbox' class='ee-toggle'></label><ul><li><span class='ee-k'>type:</span><span class='ee-v'>PixelType</span></li><li><span class='ee-k'>max:</span><span class='ee-v'>255</span></li><li><span class='ee-k'>min:</span><span class='ee-v'>0</span></li><li><span class='ee-k'>precision:</span><span class='ee-v'>int</span></li></ul></li><li><label class='ee-shut'>dimensions: [5420, 7580]<input type='checkbox' class='ee-toggle'></label><ul><li><span class='ee-k'>0:</span><span class='ee-v'>5420</span></li><li><span class='ee-k'>1:</span><span class='ee-v'>7580</span></li></ul></li></ul></li><li><label class='ee-shut'>1: \"G\", unsigned int8, EPSG:26914, 5420x7580 px<input type='checkbox' class='ee-toggle'></label><ul><li><span class='ee-k'>id:</span><span class='ee-v'>G</span></li><li><span class='ee-k'>crs:</span><span class='ee-v'>EPSG:26914</span></li><li><label class='ee-shut'>crs_transform: [1, 0, 480590, 0, -1, 5184670]<input type='checkbox' class='ee-toggle'></label><ul><li><span class='ee-k'>0:</span><span class='ee-v'>1</span></li><li><span class='ee-k'>1:</span><span class='ee-v'>0</span></li><li><span class='ee-k'>2:</span><span class='ee-v'>480590</span></li><li><span class='ee-k'>3:</span><span class='ee-v'>0</span></li><li><span class='ee-k'>4:</span><span class='ee-v'>-1</span></li><li><span class='ee-k'>5:</span><span class='ee-v'>5184670</span></li></ul></li><li><label class='ee-shut'>data_type: unsigned int8<input type='checkbox' class='ee-toggle'></label><ul><li><span class='ee-k'>type:</span><span class='ee-v'>PixelType</span></li><li><span class='ee-k'>max:</span><span class='ee-v'>255</span></li><li><span class='ee-k'>min:</span><span class='ee-v'>0</span></li><li><span class='ee-k'>precision:</span><span class='ee-v'>int</span></li></ul></li><li><label class='ee-shut'>dimensions: [5420, 7580]<input type='checkbox' class='ee-toggle'></label><ul><li><span class='ee-k'>0:</span><span class='ee-v'>5420</span></li><li><span class='ee-k'>1:</span><span class='ee-v'>7580</span></li></ul></li></ul></li><li><label class='ee-shut'>2: \"B\", unsigned int8, EPSG:26914, 5420x7580 px<input type='checkbox' class='ee-toggle'></label><ul><li><span class='ee-k'>id:</span><span class='ee-v'>B</span></li><li><span class='ee-k'>crs:</span><span class='ee-v'>EPSG:26914</span></li><li><label class='ee-shut'>crs_transform: [1, 0, 480590, 0, -1, 5184670]<input type='checkbox' class='ee-toggle'></label><ul><li><span class='ee-k'>0:</span><span class='ee-v'>1</span></li><li><span class='ee-k'>1:</span><span class='ee-v'>0</span></li><li><span class='ee-k'>2:</span><span class='ee-v'>480590</span></li><li><span class='ee-k'>3:</span><span class='ee-v'>0</span></li><li><span class='ee-k'>4:</span><span class='ee-v'>-1</span></li><li><span class='ee-k'>5:</span><span class='ee-v'>5184670</span></li></ul></li><li><label class='ee-shut'>data_type: unsigned int8<input type='checkbox' class='ee-toggle'></label><ul><li><span class='ee-k'>type:</span><span class='ee-v'>PixelType</span></li><li><span class='ee-k'>max:</span><span class='ee-v'>255</span></li><li><span class='ee-k'>min:</span><span class='ee-v'>0</span></li><li><span class='ee-k'>precision:</span><span class='ee-v'>int</span></li></ul></li><li><label class='ee-shut'>dimensions: [5420, 7580]<input type='checkbox' class='ee-toggle'></label><ul><li><span class='ee-k'>0:</span><span class='ee-v'>5420</span></li><li><span class='ee-k'>1:</span><span class='ee-v'>7580</span></li></ul></li></ul></li><li><label class='ee-shut'>3: \"N\", unsigned int8, EPSG:26914, 5420x7580 px<input type='checkbox' class='ee-toggle'></label><ul><li><span class='ee-k'>id:</span><span class='ee-v'>N</span></li><li><span class='ee-k'>crs:</span><span class='ee-v'>EPSG:26914</span></li><li><label class='ee-shut'>crs_transform: [1, 0, 480590, 0, -1, 5184670]<input type='checkbox' class='ee-toggle'></label><ul><li><span class='ee-k'>0:</span><span class='ee-v'>1</span></li><li><span class='ee-k'>1:</span><span class='ee-v'>0</span></li><li><span class='ee-k'>2:</span><span class='ee-v'>480590</span></li><li><span class='ee-k'>3:</span><span class='ee-v'>0</span></li><li><span class='ee-k'>4:</span><span class='ee-v'>-1</span></li><li><span class='ee-k'>5:</span><span class='ee-v'>5184670</span></li></ul></li><li><label class='ee-shut'>data_type: unsigned int8<input type='checkbox' class='ee-toggle'></label><ul><li><span class='ee-k'>type:</span><span class='ee-v'>PixelType</span></li><li><span class='ee-k'>max:</span><span class='ee-v'>255</span></li><li><span class='ee-k'>min:</span><span class='ee-v'>0</span></li><li><span class='ee-k'>precision:</span><span class='ee-v'>int</span></li></ul></li><li><label class='ee-shut'>dimensions: [5420, 7580]<input type='checkbox' class='ee-toggle'></label><ul><li><span class='ee-k'>0:</span><span class='ee-v'>5420</span></li><li><span class='ee-k'>1:</span><span class='ee-v'>7580</span></li></ul></li></ul></li></ul></li><li><label class='ee-shut'>properties: Object (5 properties)<input type='checkbox' class='ee-toggle'></label><ul><li><span class='ee-k'>system:asset_size:</span><span class='ee-v'>152259435</span></li><li><label class='ee-shut'>system:footprint: LinearRing (5 vertices)<input type='checkbox' class='ee-toggle'></label><ul><li><span class='ee-k'>type:</span><span class='ee-v'>LinearRing</span></li><li><label class='ee-shut'>coordinates: List (5 elements)<input type='checkbox' class='ee-toggle'></label><ul><li><label class='ee-shut'>0: [-99.25411222013392, 46.8154284414004]<input type='checkbox' class='ee-toggle'></label><ul><li><span class='ee-k'>0:</span><span class='ee-v'>-99.25411222013392</span></li><li><span class='ee-k'>1:</span><span class='ee-v'>46.8154284414004</span></li></ul></li><li><label class='ee-shut'>1: [-99.25411222540929, 46.74707999315183]<input type='checkbox' class='ee-toggle'></label><ul><li><span class='ee-k'>0:</span><span class='ee-v'>-99.25411222540929</span></li><li><span class='ee-k'>1:</span><span class='ee-v'>46.74707999315183</span></li></ul></li><li><label class='ee-shut'>2: [-99.18338646318341, 46.747079977337044]<input type='checkbox' class='ee-toggle'></label><ul><li><span class='ee-k'>0:</span><span class='ee-v'>-99.18338646318341</span></li><li><span class='ee-k'>1:</span><span class='ee-v'>46.747079977337044</span></li></ul></li><li><label class='ee-shut'>3: [-99.18338649392648, 46.815428476551695]<input type='checkbox' class='ee-toggle'></label><ul><li><span class='ee-k'>0:</span><span class='ee-v'>-99.18338649392648</span></li><li><span class='ee-k'>1:</span><span class='ee-v'>46.815428476551695</span></li></ul></li><li><label class='ee-shut'>4: [-99.25411222013392, 46.8154284414004]<input type='checkbox' class='ee-toggle'></label><ul><li><span class='ee-k'>0:</span><span class='ee-v'>-99.25411222013392</span></li><li><span class='ee-k'>1:</span><span class='ee-v'>46.8154284414004</span></li></ul></li></ul></li></ul></li><li><span class='ee-k'>system:index:</span><span class='ee-v'>m_4609915_sw_14_1_20100629</span></li><li><span class='ee-k'>system:time_end:</span><span class='ee-v'>1277856000000</span></li><li><span class='ee-k'>system:time_start:</span><span class='ee-v'>1277769600000</span></li></ul></li></ul></li><li><label class='ee-shut'>2: Image USDA/NAIP/DOQQ/m_4609915_sw_14_1_20120714 (4 bands)<input type='checkbox' class='ee-toggle'></label><ul><li><span class='ee-k'>type:</span><span class='ee-v'>Image</span></li><li><span class='ee-k'>id:</span><span class='ee-v'>USDA/NAIP/DOQQ/m_4609915_sw_14_1_20120714</span></li><li><span class='ee-k'>version:</span><span class='ee-v'>1494279704600000.0</span></li><li><label class='ee-shut'>bands: List (4 elements)<input type='checkbox' class='ee-toggle'></label><ul><li><label class='ee-shut'>0: \"R\", unsigned int8, EPSG:26914, 5420x7580 px<input type='checkbox' class='ee-toggle'></label><ul><li><span class='ee-k'>id:</span><span class='ee-v'>R</span></li><li><span class='ee-k'>crs:</span><span class='ee-v'>EPSG:26914</span></li><li><label class='ee-shut'>crs_transform: [1, 0, 480590, 0, -1, 5184670]<input type='checkbox' class='ee-toggle'></label><ul><li><span class='ee-k'>0:</span><span class='ee-v'>1</span></li><li><span class='ee-k'>1:</span><span class='ee-v'>0</span></li><li><span class='ee-k'>2:</span><span class='ee-v'>480590</span></li><li><span class='ee-k'>3:</span><span class='ee-v'>0</span></li><li><span class='ee-k'>4:</span><span class='ee-v'>-1</span></li><li><span class='ee-k'>5:</span><span class='ee-v'>5184670</span></li></ul></li><li><label class='ee-shut'>data_type: unsigned int8<input type='checkbox' class='ee-toggle'></label><ul><li><span class='ee-k'>type:</span><span class='ee-v'>PixelType</span></li><li><span class='ee-k'>max:</span><span class='ee-v'>255</span></li><li><span class='ee-k'>min:</span><span class='ee-v'>0</span></li><li><span class='ee-k'>precision:</span><span class='ee-v'>int</span></li></ul></li><li><label class='ee-shut'>dimensions: [5420, 7580]<input type='checkbox' class='ee-toggle'></label><ul><li><span class='ee-k'>0:</span><span class='ee-v'>5420</span></li><li><span class='ee-k'>1:</span><span class='ee-v'>7580</span></li></ul></li></ul></li><li><label class='ee-shut'>1: \"G\", unsigned int8, EPSG:26914, 5420x7580 px<input type='checkbox' class='ee-toggle'></label><ul><li><span class='ee-k'>id:</span><span class='ee-v'>G</span></li><li><span class='ee-k'>crs:</span><span class='ee-v'>EPSG:26914</span></li><li><label class='ee-shut'>crs_transform: [1, 0, 480590, 0, -1, 5184670]<input type='checkbox' class='ee-toggle'></label><ul><li><span class='ee-k'>0:</span><span class='ee-v'>1</span></li><li><span class='ee-k'>1:</span><span class='ee-v'>0</span></li><li><span class='ee-k'>2:</span><span class='ee-v'>480590</span></li><li><span class='ee-k'>3:</span><span class='ee-v'>0</span></li><li><span class='ee-k'>4:</span><span class='ee-v'>-1</span></li><li><span class='ee-k'>5:</span><span class='ee-v'>5184670</span></li></ul></li><li><label class='ee-shut'>data_type: unsigned int8<input type='checkbox' class='ee-toggle'></label><ul><li><span class='ee-k'>type:</span><span class='ee-v'>PixelType</span></li><li><span class='ee-k'>max:</span><span class='ee-v'>255</span></li><li><span class='ee-k'>min:</span><span class='ee-v'>0</span></li><li><span class='ee-k'>precision:</span><span class='ee-v'>int</span></li></ul></li><li><label class='ee-shut'>dimensions: [5420, 7580]<input type='checkbox' class='ee-toggle'></label><ul><li><span class='ee-k'>0:</span><span class='ee-v'>5420</span></li><li><span class='ee-k'>1:</span><span class='ee-v'>7580</span></li></ul></li></ul></li><li><label class='ee-shut'>2: \"B\", unsigned int8, EPSG:26914, 5420x7580 px<input type='checkbox' class='ee-toggle'></label><ul><li><span class='ee-k'>id:</span><span class='ee-v'>B</span></li><li><span class='ee-k'>crs:</span><span class='ee-v'>EPSG:26914</span></li><li><label class='ee-shut'>crs_transform: [1, 0, 480590, 0, -1, 5184670]<input type='checkbox' class='ee-toggle'></label><ul><li><span class='ee-k'>0:</span><span class='ee-v'>1</span></li><li><span class='ee-k'>1:</span><span class='ee-v'>0</span></li><li><span class='ee-k'>2:</span><span class='ee-v'>480590</span></li><li><span class='ee-k'>3:</span><span class='ee-v'>0</span></li><li><span class='ee-k'>4:</span><span class='ee-v'>-1</span></li><li><span class='ee-k'>5:</span><span class='ee-v'>5184670</span></li></ul></li><li><label class='ee-shut'>data_type: unsigned int8<input type='checkbox' class='ee-toggle'></label><ul><li><span class='ee-k'>type:</span><span class='ee-v'>PixelType</span></li><li><span class='ee-k'>max:</span><span class='ee-v'>255</span></li><li><span class='ee-k'>min:</span><span class='ee-v'>0</span></li><li><span class='ee-k'>precision:</span><span class='ee-v'>int</span></li></ul></li><li><label class='ee-shut'>dimensions: [5420, 7580]<input type='checkbox' class='ee-toggle'></label><ul><li><span class='ee-k'>0:</span><span class='ee-v'>5420</span></li><li><span class='ee-k'>1:</span><span class='ee-v'>7580</span></li></ul></li></ul></li><li><label class='ee-shut'>3: \"N\", unsigned int8, EPSG:26914, 5420x7580 px<input type='checkbox' class='ee-toggle'></label><ul><li><span class='ee-k'>id:</span><span class='ee-v'>N</span></li><li><span class='ee-k'>crs:</span><span class='ee-v'>EPSG:26914</span></li><li><label class='ee-shut'>crs_transform: [1, 0, 480590, 0, -1, 5184670]<input type='checkbox' class='ee-toggle'></label><ul><li><span class='ee-k'>0:</span><span class='ee-v'>1</span></li><li><span class='ee-k'>1:</span><span class='ee-v'>0</span></li><li><span class='ee-k'>2:</span><span class='ee-v'>480590</span></li><li><span class='ee-k'>3:</span><span class='ee-v'>0</span></li><li><span class='ee-k'>4:</span><span class='ee-v'>-1</span></li><li><span class='ee-k'>5:</span><span class='ee-v'>5184670</span></li></ul></li><li><label class='ee-shut'>data_type: unsigned int8<input type='checkbox' class='ee-toggle'></label><ul><li><span class='ee-k'>type:</span><span class='ee-v'>PixelType</span></li><li><span class='ee-k'>max:</span><span class='ee-v'>255</span></li><li><span class='ee-k'>min:</span><span class='ee-v'>0</span></li><li><span class='ee-k'>precision:</span><span class='ee-v'>int</span></li></ul></li><li><label class='ee-shut'>dimensions: [5420, 7580]<input type='checkbox' class='ee-toggle'></label><ul><li><span class='ee-k'>0:</span><span class='ee-v'>5420</span></li><li><span class='ee-k'>1:</span><span class='ee-v'>7580</span></li></ul></li></ul></li></ul></li><li><label class='ee-shut'>properties: Object (5 properties)<input type='checkbox' class='ee-toggle'></label><ul><li><span class='ee-k'>system:asset_size:</span><span class='ee-v'>141168961</span></li><li><label class='ee-shut'>system:footprint: LinearRing (5 vertices)<input type='checkbox' class='ee-toggle'></label><ul><li><span class='ee-k'>type:</span><span class='ee-v'>LinearRing</span></li><li><label class='ee-shut'>coordinates: List (5 elements)<input type='checkbox' class='ee-toggle'></label><ul><li><label class='ee-shut'>0: [-99.25411222013392, 46.8154284414004]<input type='checkbox' class='ee-toggle'></label><ul><li><span class='ee-k'>0:</span><span class='ee-v'>-99.25411222013392</span></li><li><span class='ee-k'>1:</span><span class='ee-v'>46.8154284414004</span></li></ul></li><li><label class='ee-shut'>1: [-99.25411222540929, 46.74707999315183]<input type='checkbox' class='ee-toggle'></label><ul><li><span class='ee-k'>0:</span><span class='ee-v'>-99.25411222540929</span></li><li><span class='ee-k'>1:</span><span class='ee-v'>46.74707999315183</span></li></ul></li><li><label class='ee-shut'>2: [-99.18338646318341, 46.747079977337044]<input type='checkbox' class='ee-toggle'></label><ul><li><span class='ee-k'>0:</span><span class='ee-v'>-99.18338646318341</span></li><li><span class='ee-k'>1:</span><span class='ee-v'>46.747079977337044</span></li></ul></li><li><label class='ee-shut'>3: [-99.18338649392648, 46.815428476551695]<input type='checkbox' class='ee-toggle'></label><ul><li><span class='ee-k'>0:</span><span class='ee-v'>-99.18338649392648</span></li><li><span class='ee-k'>1:</span><span class='ee-v'>46.815428476551695</span></li></ul></li><li><label class='ee-shut'>4: [-99.25411222013392, 46.8154284414004]<input type='checkbox' class='ee-toggle'></label><ul><li><span class='ee-k'>0:</span><span class='ee-v'>-99.25411222013392</span></li><li><span class='ee-k'>1:</span><span class='ee-v'>46.8154284414004</span></li></ul></li></ul></li></ul></li><li><span class='ee-k'>system:index:</span><span class='ee-v'>m_4609915_sw_14_1_20120714</span></li><li><span class='ee-k'>system:time_end:</span><span class='ee-v'>1342310400000</span></li><li><span class='ee-k'>system:time_start:</span><span class='ee-v'>1342224000000</span></li></ul></li></ul></li><li><label class='ee-shut'>3: Image USDA/NAIP/DOQQ/m_4609915_sw_14_1_20140901 (4 bands)<input type='checkbox' class='ee-toggle'></label><ul><li><span class='ee-k'>type:</span><span class='ee-v'>Image</span></li><li><span class='ee-k'>id:</span><span class='ee-v'>USDA/NAIP/DOQQ/m_4609915_sw_14_1_20140901</span></li><li><span class='ee-k'>version:</span><span class='ee-v'>1494360790504000.0</span></li><li><label class='ee-shut'>bands: List (4 elements)<input type='checkbox' class='ee-toggle'></label><ul><li><label class='ee-shut'>0: \"R\", unsigned int8, EPSG:26914, 5420x7580 px<input type='checkbox' class='ee-toggle'></label><ul><li><span class='ee-k'>id:</span><span class='ee-v'>R</span></li><li><span class='ee-k'>crs:</span><span class='ee-v'>EPSG:26914</span></li><li><label class='ee-shut'>crs_transform: [1, 0, 480590, 0, -1, 5184670]<input type='checkbox' class='ee-toggle'></label><ul><li><span class='ee-k'>0:</span><span class='ee-v'>1</span></li><li><span class='ee-k'>1:</span><span class='ee-v'>0</span></li><li><span class='ee-k'>2:</span><span class='ee-v'>480590</span></li><li><span class='ee-k'>3:</span><span class='ee-v'>0</span></li><li><span class='ee-k'>4:</span><span class='ee-v'>-1</span></li><li><span class='ee-k'>5:</span><span class='ee-v'>5184670</span></li></ul></li><li><label class='ee-shut'>data_type: unsigned int8<input type='checkbox' class='ee-toggle'></label><ul><li><span class='ee-k'>type:</span><span class='ee-v'>PixelType</span></li><li><span class='ee-k'>max:</span><span class='ee-v'>255</span></li><li><span class='ee-k'>min:</span><span class='ee-v'>0</span></li><li><span class='ee-k'>precision:</span><span class='ee-v'>int</span></li></ul></li><li><label class='ee-shut'>dimensions: [5420, 7580]<input type='checkbox' class='ee-toggle'></label><ul><li><span class='ee-k'>0:</span><span class='ee-v'>5420</span></li><li><span class='ee-k'>1:</span><span class='ee-v'>7580</span></li></ul></li></ul></li><li><label class='ee-shut'>1: \"G\", unsigned int8, EPSG:26914, 5420x7580 px<input type='checkbox' class='ee-toggle'></label><ul><li><span class='ee-k'>id:</span><span class='ee-v'>G</span></li><li><span class='ee-k'>crs:</span><span class='ee-v'>EPSG:26914</span></li><li><label class='ee-shut'>crs_transform: [1, 0, 480590, 0, -1, 5184670]<input type='checkbox' class='ee-toggle'></label><ul><li><span class='ee-k'>0:</span><span class='ee-v'>1</span></li><li><span class='ee-k'>1:</span><span class='ee-v'>0</span></li><li><span class='ee-k'>2:</span><span class='ee-v'>480590</span></li><li><span class='ee-k'>3:</span><span class='ee-v'>0</span></li><li><span class='ee-k'>4:</span><span class='ee-v'>-1</span></li><li><span class='ee-k'>5:</span><span class='ee-v'>5184670</span></li></ul></li><li><label class='ee-shut'>data_type: unsigned int8<input type='checkbox' class='ee-toggle'></label><ul><li><span class='ee-k'>type:</span><span class='ee-v'>PixelType</span></li><li><span class='ee-k'>max:</span><span class='ee-v'>255</span></li><li><span class='ee-k'>min:</span><span class='ee-v'>0</span></li><li><span class='ee-k'>precision:</span><span class='ee-v'>int</span></li></ul></li><li><label class='ee-shut'>dimensions: [5420, 7580]<input type='checkbox' class='ee-toggle'></label><ul><li><span class='ee-k'>0:</span><span class='ee-v'>5420</span></li><li><span class='ee-k'>1:</span><span class='ee-v'>7580</span></li></ul></li></ul></li><li><label class='ee-shut'>2: \"B\", unsigned int8, EPSG:26914, 5420x7580 px<input type='checkbox' class='ee-toggle'></label><ul><li><span class='ee-k'>id:</span><span class='ee-v'>B</span></li><li><span class='ee-k'>crs:</span><span class='ee-v'>EPSG:26914</span></li><li><label class='ee-shut'>crs_transform: [1, 0, 480590, 0, -1, 5184670]<input type='checkbox' class='ee-toggle'></label><ul><li><span class='ee-k'>0:</span><span class='ee-v'>1</span></li><li><span class='ee-k'>1:</span><span class='ee-v'>0</span></li><li><span class='ee-k'>2:</span><span class='ee-v'>480590</span></li><li><span class='ee-k'>3:</span><span class='ee-v'>0</span></li><li><span class='ee-k'>4:</span><span class='ee-v'>-1</span></li><li><span class='ee-k'>5:</span><span class='ee-v'>5184670</span></li></ul></li><li><label class='ee-shut'>data_type: unsigned int8<input type='checkbox' class='ee-toggle'></label><ul><li><span class='ee-k'>type:</span><span class='ee-v'>PixelType</span></li><li><span class='ee-k'>max:</span><span class='ee-v'>255</span></li><li><span class='ee-k'>min:</span><span class='ee-v'>0</span></li><li><span class='ee-k'>precision:</span><span class='ee-v'>int</span></li></ul></li><li><label class='ee-shut'>dimensions: [5420, 7580]<input type='checkbox' class='ee-toggle'></label><ul><li><span class='ee-k'>0:</span><span class='ee-v'>5420</span></li><li><span class='ee-k'>1:</span><span class='ee-v'>7580</span></li></ul></li></ul></li><li><label class='ee-shut'>3: \"N\", unsigned int8, EPSG:26914, 5420x7580 px<input type='checkbox' class='ee-toggle'></label><ul><li><span class='ee-k'>id:</span><span class='ee-v'>N</span></li><li><span class='ee-k'>crs:</span><span class='ee-v'>EPSG:26914</span></li><li><label class='ee-shut'>crs_transform: [1, 0, 480590, 0, -1, 5184670]<input type='checkbox' class='ee-toggle'></label><ul><li><span class='ee-k'>0:</span><span class='ee-v'>1</span></li><li><span class='ee-k'>1:</span><span class='ee-v'>0</span></li><li><span class='ee-k'>2:</span><span class='ee-v'>480590</span></li><li><span class='ee-k'>3:</span><span class='ee-v'>0</span></li><li><span class='ee-k'>4:</span><span class='ee-v'>-1</span></li><li><span class='ee-k'>5:</span><span class='ee-v'>5184670</span></li></ul></li><li><label class='ee-shut'>data_type: unsigned int8<input type='checkbox' class='ee-toggle'></label><ul><li><span class='ee-k'>type:</span><span class='ee-v'>PixelType</span></li><li><span class='ee-k'>max:</span><span class='ee-v'>255</span></li><li><span class='ee-k'>min:</span><span class='ee-v'>0</span></li><li><span class='ee-k'>precision:</span><span class='ee-v'>int</span></li></ul></li><li><label class='ee-shut'>dimensions: [5420, 7580]<input type='checkbox' class='ee-toggle'></label><ul><li><span class='ee-k'>0:</span><span class='ee-v'>5420</span></li><li><span class='ee-k'>1:</span><span class='ee-v'>7580</span></li></ul></li></ul></li></ul></li><li><label class='ee-shut'>properties: Object (5 properties)<input type='checkbox' class='ee-toggle'></label><ul><li><span class='ee-k'>system:asset_size:</span><span class='ee-v'>147600428</span></li><li><label class='ee-shut'>system:footprint: LinearRing (5 vertices)<input type='checkbox' class='ee-toggle'></label><ul><li><span class='ee-k'>type:</span><span class='ee-v'>LinearRing</span></li><li><label class='ee-shut'>coordinates: List (5 elements)<input type='checkbox' class='ee-toggle'></label><ul><li><label class='ee-shut'>0: [-99.25411222013392, 46.8154284414004]<input type='checkbox' class='ee-toggle'></label><ul><li><span class='ee-k'>0:</span><span class='ee-v'>-99.25411222013392</span></li><li><span class='ee-k'>1:</span><span class='ee-v'>46.8154284414004</span></li></ul></li><li><label class='ee-shut'>1: [-99.25411222540929, 46.74707999315183]<input type='checkbox' class='ee-toggle'></label><ul><li><span class='ee-k'>0:</span><span class='ee-v'>-99.25411222540929</span></li><li><span class='ee-k'>1:</span><span class='ee-v'>46.74707999315183</span></li></ul></li><li><label class='ee-shut'>2: [-99.18338646318341, 46.747079977337044]<input type='checkbox' class='ee-toggle'></label><ul><li><span class='ee-k'>0:</span><span class='ee-v'>-99.18338646318341</span></li><li><span class='ee-k'>1:</span><span class='ee-v'>46.747079977337044</span></li></ul></li><li><label class='ee-shut'>3: [-99.18338649392648, 46.815428476551695]<input type='checkbox' class='ee-toggle'></label><ul><li><span class='ee-k'>0:</span><span class='ee-v'>-99.18338649392648</span></li><li><span class='ee-k'>1:</span><span class='ee-v'>46.815428476551695</span></li></ul></li><li><label class='ee-shut'>4: [-99.25411222013392, 46.8154284414004]<input type='checkbox' class='ee-toggle'></label><ul><li><span class='ee-k'>0:</span><span class='ee-v'>-99.25411222013392</span></li><li><span class='ee-k'>1:</span><span class='ee-v'>46.8154284414004</span></li></ul></li></ul></li></ul></li><li><span class='ee-k'>system:index:</span><span class='ee-v'>m_4609915_sw_14_1_20140901</span></li><li><span class='ee-k'>system:time_end:</span><span class='ee-v'>1409616000000</span></li><li><span class='ee-k'>system:time_start:</span><span class='ee-v'>1409529600000</span></li></ul></li></ul></li><li><label class='ee-shut'>4: Image USDA/NAIP/DOQQ/m_4609915_sw_14_1_20150926 (4 bands)<input type='checkbox' class='ee-toggle'></label><ul><li><span class='ee-k'>type:</span><span class='ee-v'>Image</span></li><li><span class='ee-k'>id:</span><span class='ee-v'>USDA/NAIP/DOQQ/m_4609915_sw_14_1_20150926</span></li><li><span class='ee-k'>version:</span><span class='ee-v'>1494279704708000.0</span></li><li><label class='ee-shut'>bands: List (4 elements)<input type='checkbox' class='ee-toggle'></label><ul><li><label class='ee-shut'>0: \"R\", unsigned int8, EPSG:26914, 5420x7580 px<input type='checkbox' class='ee-toggle'></label><ul><li><span class='ee-k'>id:</span><span class='ee-v'>R</span></li><li><span class='ee-k'>crs:</span><span class='ee-v'>EPSG:26914</span></li><li><label class='ee-shut'>crs_transform: [1, 0, 480590, 0, -1, 5184670]<input type='checkbox' class='ee-toggle'></label><ul><li><span class='ee-k'>0:</span><span class='ee-v'>1</span></li><li><span class='ee-k'>1:</span><span class='ee-v'>0</span></li><li><span class='ee-k'>2:</span><span class='ee-v'>480590</span></li><li><span class='ee-k'>3:</span><span class='ee-v'>0</span></li><li><span class='ee-k'>4:</span><span class='ee-v'>-1</span></li><li><span class='ee-k'>5:</span><span class='ee-v'>5184670</span></li></ul></li><li><label class='ee-shut'>data_type: unsigned int8<input type='checkbox' class='ee-toggle'></label><ul><li><span class='ee-k'>type:</span><span class='ee-v'>PixelType</span></li><li><span class='ee-k'>max:</span><span class='ee-v'>255</span></li><li><span class='ee-k'>min:</span><span class='ee-v'>0</span></li><li><span class='ee-k'>precision:</span><span class='ee-v'>int</span></li></ul></li><li><label class='ee-shut'>dimensions: [5420, 7580]<input type='checkbox' class='ee-toggle'></label><ul><li><span class='ee-k'>0:</span><span class='ee-v'>5420</span></li><li><span class='ee-k'>1:</span><span class='ee-v'>7580</span></li></ul></li></ul></li><li><label class='ee-shut'>1: \"G\", unsigned int8, EPSG:26914, 5420x7580 px<input type='checkbox' class='ee-toggle'></label><ul><li><span class='ee-k'>id:</span><span class='ee-v'>G</span></li><li><span class='ee-k'>crs:</span><span class='ee-v'>EPSG:26914</span></li><li><label class='ee-shut'>crs_transform: [1, 0, 480590, 0, -1, 5184670]<input type='checkbox' class='ee-toggle'></label><ul><li><span class='ee-k'>0:</span><span class='ee-v'>1</span></li><li><span class='ee-k'>1:</span><span class='ee-v'>0</span></li><li><span class='ee-k'>2:</span><span class='ee-v'>480590</span></li><li><span class='ee-k'>3:</span><span class='ee-v'>0</span></li><li><span class='ee-k'>4:</span><span class='ee-v'>-1</span></li><li><span class='ee-k'>5:</span><span class='ee-v'>5184670</span></li></ul></li><li><label class='ee-shut'>data_type: unsigned int8<input type='checkbox' class='ee-toggle'></label><ul><li><span class='ee-k'>type:</span><span class='ee-v'>PixelType</span></li><li><span class='ee-k'>max:</span><span class='ee-v'>255</span></li><li><span class='ee-k'>min:</span><span class='ee-v'>0</span></li><li><span class='ee-k'>precision:</span><span class='ee-v'>int</span></li></ul></li><li><label class='ee-shut'>dimensions: [5420, 7580]<input type='checkbox' class='ee-toggle'></label><ul><li><span class='ee-k'>0:</span><span class='ee-v'>5420</span></li><li><span class='ee-k'>1:</span><span class='ee-v'>7580</span></li></ul></li></ul></li><li><label class='ee-shut'>2: \"B\", unsigned int8, EPSG:26914, 5420x7580 px<input type='checkbox' class='ee-toggle'></label><ul><li><span class='ee-k'>id:</span><span class='ee-v'>B</span></li><li><span class='ee-k'>crs:</span><span class='ee-v'>EPSG:26914</span></li><li><label class='ee-shut'>crs_transform: [1, 0, 480590, 0, -1, 5184670]<input type='checkbox' class='ee-toggle'></label><ul><li><span class='ee-k'>0:</span><span class='ee-v'>1</span></li><li><span class='ee-k'>1:</span><span class='ee-v'>0</span></li><li><span class='ee-k'>2:</span><span class='ee-v'>480590</span></li><li><span class='ee-k'>3:</span><span class='ee-v'>0</span></li><li><span class='ee-k'>4:</span><span class='ee-v'>-1</span></li><li><span class='ee-k'>5:</span><span class='ee-v'>5184670</span></li></ul></li><li><label class='ee-shut'>data_type: unsigned int8<input type='checkbox' class='ee-toggle'></label><ul><li><span class='ee-k'>type:</span><span class='ee-v'>PixelType</span></li><li><span class='ee-k'>max:</span><span class='ee-v'>255</span></li><li><span class='ee-k'>min:</span><span class='ee-v'>0</span></li><li><span class='ee-k'>precision:</span><span class='ee-v'>int</span></li></ul></li><li><label class='ee-shut'>dimensions: [5420, 7580]<input type='checkbox' class='ee-toggle'></label><ul><li><span class='ee-k'>0:</span><span class='ee-v'>5420</span></li><li><span class='ee-k'>1:</span><span class='ee-v'>7580</span></li></ul></li></ul></li><li><label class='ee-shut'>3: \"N\", unsigned int8, EPSG:26914, 5420x7580 px<input type='checkbox' class='ee-toggle'></label><ul><li><span class='ee-k'>id:</span><span class='ee-v'>N</span></li><li><span class='ee-k'>crs:</span><span class='ee-v'>EPSG:26914</span></li><li><label class='ee-shut'>crs_transform: [1, 0, 480590, 0, -1, 5184670]<input type='checkbox' class='ee-toggle'></label><ul><li><span class='ee-k'>0:</span><span class='ee-v'>1</span></li><li><span class='ee-k'>1:</span><span class='ee-v'>0</span></li><li><span class='ee-k'>2:</span><span class='ee-v'>480590</span></li><li><span class='ee-k'>3:</span><span class='ee-v'>0</span></li><li><span class='ee-k'>4:</span><span class='ee-v'>-1</span></li><li><span class='ee-k'>5:</span><span class='ee-v'>5184670</span></li></ul></li><li><label class='ee-shut'>data_type: unsigned int8<input type='checkbox' class='ee-toggle'></label><ul><li><span class='ee-k'>type:</span><span class='ee-v'>PixelType</span></li><li><span class='ee-k'>max:</span><span class='ee-v'>255</span></li><li><span class='ee-k'>min:</span><span class='ee-v'>0</span></li><li><span class='ee-k'>precision:</span><span class='ee-v'>int</span></li></ul></li><li><label class='ee-shut'>dimensions: [5420, 7580]<input type='checkbox' class='ee-toggle'></label><ul><li><span class='ee-k'>0:</span><span class='ee-v'>5420</span></li><li><span class='ee-k'>1:</span><span class='ee-v'>7580</span></li></ul></li></ul></li></ul></li><li><label class='ee-shut'>properties: Object (5 properties)<input type='checkbox' class='ee-toggle'></label><ul><li><span class='ee-k'>system:asset_size:</span><span class='ee-v'>144505855</span></li><li><label class='ee-shut'>system:footprint: LinearRing (5 vertices)<input type='checkbox' class='ee-toggle'></label><ul><li><span class='ee-k'>type:</span><span class='ee-v'>LinearRing</span></li><li><label class='ee-shut'>coordinates: List (5 elements)<input type='checkbox' class='ee-toggle'></label><ul><li><label class='ee-shut'>0: [-99.25411222013392, 46.8154284414004]<input type='checkbox' class='ee-toggle'></label><ul><li><span class='ee-k'>0:</span><span class='ee-v'>-99.25411222013392</span></li><li><span class='ee-k'>1:</span><span class='ee-v'>46.8154284414004</span></li></ul></li><li><label class='ee-shut'>1: [-99.25411222540929, 46.74707999315183]<input type='checkbox' class='ee-toggle'></label><ul><li><span class='ee-k'>0:</span><span class='ee-v'>-99.25411222540929</span></li><li><span class='ee-k'>1:</span><span class='ee-v'>46.74707999315183</span></li></ul></li><li><label class='ee-shut'>2: [-99.18338646318341, 46.747079977337044]<input type='checkbox' class='ee-toggle'></label><ul><li><span class='ee-k'>0:</span><span class='ee-v'>-99.18338646318341</span></li><li><span class='ee-k'>1:</span><span class='ee-v'>46.747079977337044</span></li></ul></li><li><label class='ee-shut'>3: [-99.18338649392648, 46.815428476551695]<input type='checkbox' class='ee-toggle'></label><ul><li><span class='ee-k'>0:</span><span class='ee-v'>-99.18338649392648</span></li><li><span class='ee-k'>1:</span><span class='ee-v'>46.815428476551695</span></li></ul></li><li><label class='ee-shut'>4: [-99.25411222013392, 46.8154284414004]<input type='checkbox' class='ee-toggle'></label><ul><li><span class='ee-k'>0:</span><span class='ee-v'>-99.25411222013392</span></li><li><span class='ee-k'>1:</span><span class='ee-v'>46.8154284414004</span></li></ul></li></ul></li></ul></li><li><span class='ee-k'>system:index:</span><span class='ee-v'>m_4609915_sw_14_1_20150926</span></li><li><span class='ee-k'>system:time_end:</span><span class='ee-v'>1443312000000</span></li><li><span class='ee-k'>system:time_start:</span><span class='ee-v'>1443225600000</span></li></ul></li></ul></li><li><label class='ee-shut'>5: Image USDA/NAIP/DOQQ/m_4609915_sw_14_h_20160704 (4 bands)<input type='checkbox' class='ee-toggle'></label><ul><li><span class='ee-k'>type:</span><span class='ee-v'>Image</span></li><li><span class='ee-k'>id:</span><span class='ee-v'>USDA/NAIP/DOQQ/m_4609915_sw_14_h_20160704</span></li><li><span class='ee-k'>version:</span><span class='ee-v'>1625334001645061</span></li><li><label class='ee-shut'>bands: List (4 elements)<input type='checkbox' class='ee-toggle'></label><ul><li><label class='ee-shut'>0: \"R\", unsigned int8, EPSG:26914, 8984x12597 px<input type='checkbox' class='ee-toggle'></label><ul><li><span class='ee-k'>id:</span><span class='ee-v'>R</span></li><li><span class='ee-k'>crs:</span><span class='ee-v'>EPSG:26914</span></li><li><label class='ee-shut'>crs_transform: List (6 elements)<input type='checkbox' class='ee-toggle'></label><ul><li><span class='ee-k'>0:</span><span class='ee-v'>0.5999999999999961</span></li><li><span class='ee-k'>1:</span><span class='ee-v'>0</span></li><li><span class='ee-k'>2:</span><span class='ee-v'>480605.4</span></li><li><span class='ee-k'>3:</span><span class='ee-v'>0</span></li><li><span class='ee-k'>4:</span><span class='ee-v'>-0.6000000000000147</span></li><li><span class='ee-k'>5:</span><span class='ee-v'>5184658.2</span></li></ul></li><li><label class='ee-shut'>data_type: unsigned int8<input type='checkbox' class='ee-toggle'></label><ul><li><span class='ee-k'>type:</span><span class='ee-v'>PixelType</span></li><li><span class='ee-k'>max:</span><span class='ee-v'>255</span></li><li><span class='ee-k'>min:</span><span class='ee-v'>0</span></li><li><span class='ee-k'>precision:</span><span class='ee-v'>int</span></li></ul></li><li><label class='ee-shut'>dimensions: [8984, 12597]<input type='checkbox' class='ee-toggle'></label><ul><li><span class='ee-k'>0:</span><span class='ee-v'>8984</span></li><li><span class='ee-k'>1:</span><span class='ee-v'>12597</span></li></ul></li></ul></li><li><label class='ee-shut'>1: \"G\", unsigned int8, EPSG:26914, 8984x12597 px<input type='checkbox' class='ee-toggle'></label><ul><li><span class='ee-k'>id:</span><span class='ee-v'>G</span></li><li><span class='ee-k'>crs:</span><span class='ee-v'>EPSG:26914</span></li><li><label class='ee-shut'>crs_transform: List (6 elements)<input type='checkbox' class='ee-toggle'></label><ul><li><span class='ee-k'>0:</span><span class='ee-v'>0.5999999999999961</span></li><li><span class='ee-k'>1:</span><span class='ee-v'>0</span></li><li><span class='ee-k'>2:</span><span class='ee-v'>480605.4</span></li><li><span class='ee-k'>3:</span><span class='ee-v'>0</span></li><li><span class='ee-k'>4:</span><span class='ee-v'>-0.6000000000000147</span></li><li><span class='ee-k'>5:</span><span class='ee-v'>5184658.2</span></li></ul></li><li><label class='ee-shut'>data_type: unsigned int8<input type='checkbox' class='ee-toggle'></label><ul><li><span class='ee-k'>type:</span><span class='ee-v'>PixelType</span></li><li><span class='ee-k'>max:</span><span class='ee-v'>255</span></li><li><span class='ee-k'>min:</span><span class='ee-v'>0</span></li><li><span class='ee-k'>precision:</span><span class='ee-v'>int</span></li></ul></li><li><label class='ee-shut'>dimensions: [8984, 12597]<input type='checkbox' class='ee-toggle'></label><ul><li><span class='ee-k'>0:</span><span class='ee-v'>8984</span></li><li><span class='ee-k'>1:</span><span class='ee-v'>12597</span></li></ul></li></ul></li><li><label class='ee-shut'>2: \"B\", unsigned int8, EPSG:26914, 8984x12597 px<input type='checkbox' class='ee-toggle'></label><ul><li><span class='ee-k'>id:</span><span class='ee-v'>B</span></li><li><span class='ee-k'>crs:</span><span class='ee-v'>EPSG:26914</span></li><li><label class='ee-shut'>crs_transform: List (6 elements)<input type='checkbox' class='ee-toggle'></label><ul><li><span class='ee-k'>0:</span><span class='ee-v'>0.5999999999999961</span></li><li><span class='ee-k'>1:</span><span class='ee-v'>0</span></li><li><span class='ee-k'>2:</span><span class='ee-v'>480605.4</span></li><li><span class='ee-k'>3:</span><span class='ee-v'>0</span></li><li><span class='ee-k'>4:</span><span class='ee-v'>-0.6000000000000147</span></li><li><span class='ee-k'>5:</span><span class='ee-v'>5184658.2</span></li></ul></li><li><label class='ee-shut'>data_type: unsigned int8<input type='checkbox' class='ee-toggle'></label><ul><li><span class='ee-k'>type:</span><span class='ee-v'>PixelType</span></li><li><span class='ee-k'>max:</span><span class='ee-v'>255</span></li><li><span class='ee-k'>min:</span><span class='ee-v'>0</span></li><li><span class='ee-k'>precision:</span><span class='ee-v'>int</span></li></ul></li><li><label class='ee-shut'>dimensions: [8984, 12597]<input type='checkbox' class='ee-toggle'></label><ul><li><span class='ee-k'>0:</span><span class='ee-v'>8984</span></li><li><span class='ee-k'>1:</span><span class='ee-v'>12597</span></li></ul></li></ul></li><li><label class='ee-shut'>3: \"N\", unsigned int8, EPSG:26914, 8984x12597 px<input type='checkbox' class='ee-toggle'></label><ul><li><span class='ee-k'>id:</span><span class='ee-v'>N</span></li><li><span class='ee-k'>crs:</span><span class='ee-v'>EPSG:26914</span></li><li><label class='ee-shut'>crs_transform: List (6 elements)<input type='checkbox' class='ee-toggle'></label><ul><li><span class='ee-k'>0:</span><span class='ee-v'>0.5999999999999961</span></li><li><span class='ee-k'>1:</span><span class='ee-v'>0</span></li><li><span class='ee-k'>2:</span><span class='ee-v'>480605.4</span></li><li><span class='ee-k'>3:</span><span class='ee-v'>0</span></li><li><span class='ee-k'>4:</span><span class='ee-v'>-0.6000000000000147</span></li><li><span class='ee-k'>5:</span><span class='ee-v'>5184658.2</span></li></ul></li><li><label class='ee-shut'>data_type: unsigned int8<input type='checkbox' class='ee-toggle'></label><ul><li><span class='ee-k'>type:</span><span class='ee-v'>PixelType</span></li><li><span class='ee-k'>max:</span><span class='ee-v'>255</span></li><li><span class='ee-k'>min:</span><span class='ee-v'>0</span></li><li><span class='ee-k'>precision:</span><span class='ee-v'>int</span></li></ul></li><li><label class='ee-shut'>dimensions: [8984, 12597]<input type='checkbox' class='ee-toggle'></label><ul><li><span class='ee-k'>0:</span><span class='ee-v'>8984</span></li><li><span class='ee-k'>1:</span><span class='ee-v'>12597</span></li></ul></li></ul></li></ul></li><li><label class='ee-shut'>properties: Object (5 properties)<input type='checkbox' class='ee-toggle'></label><ul><li><span class='ee-k'>system:asset_size:</span><span class='ee-v'>427897424</span></li><li><label class='ee-shut'>system:footprint: LinearRing (19 vertices)<input type='checkbox' class='ee-toggle'></label><ul><li><span class='ee-k'>type:</span><span class='ee-v'>LinearRing</span></li><li><label class='ee-shut'>coordinates: List (19 elements)<input type='checkbox' class='ee-toggle'></label><ul><li><label class='ee-shut'>0: [-99.25391208979275, 46.74718123456603]<input type='checkbox' class='ee-toggle'></label><ul><li><span class='ee-k'>0:</span><span class='ee-v'>-99.25391208979275</span></li><li><span class='ee-k'>1:</span><span class='ee-v'>46.74718123456603</span></li></ul></li><li><label class='ee-shut'>1: [-99.25391107614081, 46.74718124258749]<input type='checkbox' class='ee-toggle'></label><ul><li><span class='ee-k'>0:</span><span class='ee-v'>-99.25391107614081</span></li><li><span class='ee-k'>1:</span><span class='ee-v'>46.74718124258749</span></li></ul></li><li><label class='ee-shut'>2: [-99.18338052562748, 46.74731598468897]<input type='checkbox' class='ee-toggle'></label><ul><li><span class='ee-k'>0:</span><span class='ee-v'>-99.18338052562748</span></li><li><span class='ee-k'>1:</span><span class='ee-v'>46.74731598468897</span></li></ul></li><li><label class='ee-shut'>3: [-99.18337691040674, 46.74731821059946]<input type='checkbox' class='ee-toggle'></label><ul><li><span class='ee-k'>0:</span><span class='ee-v'>-99.18337691040674</span></li><li><span class='ee-k'>1:</span><span class='ee-v'>46.74731821059946</span></li></ul></li><li><label class='ee-shut'>4: [-99.18337288454308, 46.7473200232827]<input type='checkbox' class='ee-toggle'></label><ul><li><span class='ee-k'>0:</span><span class='ee-v'>-99.18337288454308</span></li><li><span class='ee-k'>1:</span><span class='ee-v'>46.7473200232827</span></li></ul></li><li><label class='ee-shut'>5: [-99.18337262689384, 46.747320936789]<input type='checkbox' class='ee-toggle'></label><ul><li><span class='ee-k'>0:</span><span class='ee-v'>-99.18337262689384</span></li><li><span class='ee-k'>1:</span><span class='ee-v'>46.747320936789</span></li></ul></li><li><label class='ee-shut'>6: [-99.18360370837972, 46.815321932777664]<input type='checkbox' class='ee-toggle'></label><ul><li><span class='ee-k'>0:</span><span class='ee-v'>-99.18360370837972</span></li><li><span class='ee-k'>1:</span><span class='ee-v'>46.815321932777664</span></li></ul></li><li><label class='ee-shut'>7: [-99.18360689752801, 46.81532435728816]<input type='checkbox' class='ee-toggle'></label><ul><li><span class='ee-k'>0:</span><span class='ee-v'>-99.18360689752801</span></li><li><span class='ee-k'>1:</span><span class='ee-v'>46.81532435728816</span></li></ul></li><li><label class='ee-shut'>8: [-99.18360964020582, 46.815327115793615]<input type='checkbox' class='ee-toggle'></label><ul><li><span class='ee-k'>0:</span><span class='ee-v'>-99.18360964020582</span></li><li><span class='ee-k'>1:</span><span class='ee-v'>46.815327115793615</span></li></ul></li><li><label class='ee-shut'>9: [-99.18361061169178, 46.815327260903096]<input type='checkbox' class='ee-toggle'></label><ul><li><span class='ee-k'>0:</span><span class='ee-v'>-99.18361061169178</span></li><li><span class='ee-k'>1:</span><span class='ee-v'>46.815327260903096</span></li></ul></li><li><label class='ee-shut'>10: [-99.18361155965697, 46.815327333415915]<input type='checkbox' class='ee-toggle'></label><ul><li><span class='ee-k'>0:</span><span class='ee-v'>-99.18361155965697</span></li><li><span class='ee-k'>1:</span><span class='ee-v'>46.815327333415915</span></li></ul></li><li><label class='ee-shut'>11: [-99.25423097615506, 46.81519222075765]<input type='checkbox' class='ee-toggle'></label><ul><li><span class='ee-k'>0:</span><span class='ee-v'>-99.25423097615506</span></li><li><span class='ee-k'>1:</span><span class='ee-v'>46.81519222075765</span></li></ul></li><li><label class='ee-shut'>12: [-99.25423462217569, 46.81519006173482]<input type='checkbox' class='ee-toggle'></label><ul><li><span class='ee-k'>0:</span><span class='ee-v'>-99.25423462217569</span></li><li><span class='ee-k'>1:</span><span class='ee-v'>46.81519006173482</span></li></ul></li><li><label class='ee-shut'>13: [-99.25423863353026, 46.81518817102209]<input type='checkbox' class='ee-toggle'></label><ul><li><span class='ee-k'>0:</span><span class='ee-v'>-99.25423863353026</span></li><li><span class='ee-k'>1:</span><span class='ee-v'>46.81518817102209</span></li></ul></li><li><label class='ee-shut'>14: [-99.25423889023313, 46.81518725611041]<input type='checkbox' class='ee-toggle'></label><ul><li><span class='ee-k'>0:</span><span class='ee-v'>-99.25423889023313</span></li><li><span class='ee-k'>1:</span><span class='ee-v'>46.81518725611041</span></li></ul></li><li><label class='ee-shut'>15: [-99.2539190226919, 46.74718662301701]<input type='checkbox' class='ee-toggle'></label><ul><li><span class='ee-k'>0:</span><span class='ee-v'>-99.2539190226919</span></li><li><span class='ee-k'>1:</span><span class='ee-v'>46.74718662301701</span></li></ul></li><li><label class='ee-shut'>16: [-99.25391580722578, 46.747184131590245]<input type='checkbox' class='ee-toggle'></label><ul><li><span class='ee-k'>0:</span><span class='ee-v'>-99.25391580722578</span></li><li><span class='ee-k'>1:</span><span class='ee-v'>46.747184131590245</span></li></ul></li><li><label class='ee-shut'>17: [-99.25391306076932, 46.74718137881943]<input type='checkbox' class='ee-toggle'></label><ul><li><span class='ee-k'>0:</span><span class='ee-v'>-99.25391306076932</span></li><li><span class='ee-k'>1:</span><span class='ee-v'>46.74718137881943</span></li></ul></li><li><label class='ee-shut'>18: [-99.25391208979275, 46.74718123456603]<input type='checkbox' class='ee-toggle'></label><ul><li><span class='ee-k'>0:</span><span class='ee-v'>-99.25391208979275</span></li><li><span class='ee-k'>1:</span><span class='ee-v'>46.74718123456603</span></li></ul></li></ul></li></ul></li><li><span class='ee-k'>system:index:</span><span class='ee-v'>m_4609915_sw_14_h_20160704</span></li><li><span class='ee-k'>system:time_end:</span><span class='ee-v'>1467590400000</span></li><li><span class='ee-k'>system:time_start:</span><span class='ee-v'>1467590400000</span></li></ul></li></ul></li><li><label class='ee-shut'>6: Image USDA/NAIP/DOQQ/m_4609915_sw_14_h_20170703 (4 bands)<input type='checkbox' class='ee-toggle'></label><ul><li><span class='ee-k'>type:</span><span class='ee-v'>Image</span></li><li><span class='ee-k'>id:</span><span class='ee-v'>USDA/NAIP/DOQQ/m_4609915_sw_14_h_20170703</span></li><li><span class='ee-k'>version:</span><span class='ee-v'>1526755763143829</span></li><li><label class='ee-shut'>bands: List (4 elements)<input type='checkbox' class='ee-toggle'></label><ul><li><label class='ee-shut'>0: \"R\", unsigned int8, EPSG:26914, 8500x12100 px<input type='checkbox' class='ee-toggle'></label><ul><li><span class='ee-k'>id:</span><span class='ee-v'>R</span></li><li><span class='ee-k'>crs:</span><span class='ee-v'>EPSG:26914</span></li><li><label class='ee-shut'>crs_transform: [0.6, 0, 480750, 0, -0.6, 5184510]<input type='checkbox' class='ee-toggle'></label><ul><li><span class='ee-k'>0:</span><span class='ee-v'>0.6</span></li><li><span class='ee-k'>1:</span><span class='ee-v'>0</span></li><li><span class='ee-k'>2:</span><span class='ee-v'>480750</span></li><li><span class='ee-k'>3:</span><span class='ee-v'>0</span></li><li><span class='ee-k'>4:</span><span class='ee-v'>-0.6</span></li><li><span class='ee-k'>5:</span><span class='ee-v'>5184510</span></li></ul></li><li><label class='ee-shut'>data_type: unsigned int8<input type='checkbox' class='ee-toggle'></label><ul><li><span class='ee-k'>type:</span><span class='ee-v'>PixelType</span></li><li><span class='ee-k'>max:</span><span class='ee-v'>255</span></li><li><span class='ee-k'>min:</span><span class='ee-v'>0</span></li><li><span class='ee-k'>precision:</span><span class='ee-v'>int</span></li></ul></li><li><label class='ee-shut'>dimensions: [8500, 12100]<input type='checkbox' class='ee-toggle'></label><ul><li><span class='ee-k'>0:</span><span class='ee-v'>8500</span></li><li><span class='ee-k'>1:</span><span class='ee-v'>12100</span></li></ul></li></ul></li><li><label class='ee-shut'>1: \"G\", unsigned int8, EPSG:26914, 8500x12100 px<input type='checkbox' class='ee-toggle'></label><ul><li><span class='ee-k'>id:</span><span class='ee-v'>G</span></li><li><span class='ee-k'>crs:</span><span class='ee-v'>EPSG:26914</span></li><li><label class='ee-shut'>crs_transform: [0.6, 0, 480750, 0, -0.6, 5184510]<input type='checkbox' class='ee-toggle'></label><ul><li><span class='ee-k'>0:</span><span class='ee-v'>0.6</span></li><li><span class='ee-k'>1:</span><span class='ee-v'>0</span></li><li><span class='ee-k'>2:</span><span class='ee-v'>480750</span></li><li><span class='ee-k'>3:</span><span class='ee-v'>0</span></li><li><span class='ee-k'>4:</span><span class='ee-v'>-0.6</span></li><li><span class='ee-k'>5:</span><span class='ee-v'>5184510</span></li></ul></li><li><label class='ee-shut'>data_type: unsigned int8<input type='checkbox' class='ee-toggle'></label><ul><li><span class='ee-k'>type:</span><span class='ee-v'>PixelType</span></li><li><span class='ee-k'>max:</span><span class='ee-v'>255</span></li><li><span class='ee-k'>min:</span><span class='ee-v'>0</span></li><li><span class='ee-k'>precision:</span><span class='ee-v'>int</span></li></ul></li><li><label class='ee-shut'>dimensions: [8500, 12100]<input type='checkbox' class='ee-toggle'></label><ul><li><span class='ee-k'>0:</span><span class='ee-v'>8500</span></li><li><span class='ee-k'>1:</span><span class='ee-v'>12100</span></li></ul></li></ul></li><li><label class='ee-shut'>2: \"B\", unsigned int8, EPSG:26914, 8500x12100 px<input type='checkbox' class='ee-toggle'></label><ul><li><span class='ee-k'>id:</span><span class='ee-v'>B</span></li><li><span class='ee-k'>crs:</span><span class='ee-v'>EPSG:26914</span></li><li><label class='ee-shut'>crs_transform: [0.6, 0, 480750, 0, -0.6, 5184510]<input type='checkbox' class='ee-toggle'></label><ul><li><span class='ee-k'>0:</span><span class='ee-v'>0.6</span></li><li><span class='ee-k'>1:</span><span class='ee-v'>0</span></li><li><span class='ee-k'>2:</span><span class='ee-v'>480750</span></li><li><span class='ee-k'>3:</span><span class='ee-v'>0</span></li><li><span class='ee-k'>4:</span><span class='ee-v'>-0.6</span></li><li><span class='ee-k'>5:</span><span class='ee-v'>5184510</span></li></ul></li><li><label class='ee-shut'>data_type: unsigned int8<input type='checkbox' class='ee-toggle'></label><ul><li><span class='ee-k'>type:</span><span class='ee-v'>PixelType</span></li><li><span class='ee-k'>max:</span><span class='ee-v'>255</span></li><li><span class='ee-k'>min:</span><span class='ee-v'>0</span></li><li><span class='ee-k'>precision:</span><span class='ee-v'>int</span></li></ul></li><li><label class='ee-shut'>dimensions: [8500, 12100]<input type='checkbox' class='ee-toggle'></label><ul><li><span class='ee-k'>0:</span><span class='ee-v'>8500</span></li><li><span class='ee-k'>1:</span><span class='ee-v'>12100</span></li></ul></li></ul></li><li><label class='ee-shut'>3: \"N\", unsigned int8, EPSG:26914, 8500x12100 px<input type='checkbox' class='ee-toggle'></label><ul><li><span class='ee-k'>id:</span><span class='ee-v'>N</span></li><li><span class='ee-k'>crs:</span><span class='ee-v'>EPSG:26914</span></li><li><label class='ee-shut'>crs_transform: [0.6, 0, 480750, 0, -0.6, 5184510]<input type='checkbox' class='ee-toggle'></label><ul><li><span class='ee-k'>0:</span><span class='ee-v'>0.6</span></li><li><span class='ee-k'>1:</span><span class='ee-v'>0</span></li><li><span class='ee-k'>2:</span><span class='ee-v'>480750</span></li><li><span class='ee-k'>3:</span><span class='ee-v'>0</span></li><li><span class='ee-k'>4:</span><span class='ee-v'>-0.6</span></li><li><span class='ee-k'>5:</span><span class='ee-v'>5184510</span></li></ul></li><li><label class='ee-shut'>data_type: unsigned int8<input type='checkbox' class='ee-toggle'></label><ul><li><span class='ee-k'>type:</span><span class='ee-v'>PixelType</span></li><li><span class='ee-k'>max:</span><span class='ee-v'>255</span></li><li><span class='ee-k'>min:</span><span class='ee-v'>0</span></li><li><span class='ee-k'>precision:</span><span class='ee-v'>int</span></li></ul></li><li><label class='ee-shut'>dimensions: [8500, 12100]<input type='checkbox' class='ee-toggle'></label><ul><li><span class='ee-k'>0:</span><span class='ee-v'>8500</span></li><li><span class='ee-k'>1:</span><span class='ee-v'>12100</span></li></ul></li></ul></li></ul></li><li><label class='ee-shut'>properties: Object (5 properties)<input type='checkbox' class='ee-toggle'></label><ul><li><span class='ee-k'>system:asset_size:</span><span class='ee-v'>360076022</span></li><li><label class='ee-shut'>system:footprint: LinearRing (19 vertices)<input type='checkbox' class='ee-toggle'></label><ul><li><span class='ee-k'>type:</span><span class='ee-v'>LinearRing</span></li><li><label class='ee-shut'>coordinates: List (19 elements)<input type='checkbox' class='ee-toggle'></label><ul><li><label class='ee-shut'>0: [-99.2520252826305, 46.74854071881755]<input type='checkbox' class='ee-toggle'></label><ul><li><span class='ee-k'>0:</span><span class='ee-v'>-99.2520252826305</span></li><li><span class='ee-k'>1:</span><span class='ee-v'>46.74854071881755</span></li></ul></li><li><label class='ee-shut'>1: [-99.2520243353113, 46.74854064702312]<input type='checkbox' class='ee-toggle'></label><ul><li><span class='ee-k'>0:</span><span class='ee-v'>-99.2520243353113</span></li><li><span class='ee-k'>1:</span><span class='ee-v'>46.74854064702312</span></li></ul></li><li><label class='ee-shut'>2: [-99.1852860703896, 46.748668187523364]<input type='checkbox' class='ee-toggle'></label><ul><li><span class='ee-k'>0:</span><span class='ee-v'>-99.1852860703896</span></li><li><span class='ee-k'>1:</span><span class='ee-v'>46.748668187523364</span></li></ul></li><li><label class='ee-shut'>3: [-99.18528245503045, 46.74867041356458]<input type='checkbox' class='ee-toggle'></label><ul><li><span class='ee-k'>0:</span><span class='ee-v'>-99.18528245503045</span></li><li><span class='ee-k'>1:</span><span class='ee-v'>46.74867041356458</span></li></ul></li><li><label class='ee-shut'>4: [-99.1852784289775, 46.74867222637596]<input type='checkbox' class='ee-toggle'></label><ul><li><span class='ee-k'>0:</span><span class='ee-v'>-99.1852784289775</span></li><li><span class='ee-k'>1:</span><span class='ee-v'>46.74867222637596</span></li></ul></li><li><label class='ee-shut'>5: [-99.18527826127543, 46.74867313265501]<input type='checkbox' class='ee-toggle'></label><ul><li><span class='ee-k'>0:</span><span class='ee-v'>-99.18527826127543</span></li><li><span class='ee-k'>1:</span><span class='ee-v'>46.74867313265501</span></li></ul></li><li><label class='ee-shut'>6: [-99.1855024525826, 46.813985189207415]<input type='checkbox' class='ee-toggle'></label><ul><li><span class='ee-k'>0:</span><span class='ee-v'>-99.1855024525826</span></li><li><span class='ee-k'>1:</span><span class='ee-v'>46.813985189207415</span></li></ul></li><li><label class='ee-shut'>7: [-99.18550566537193, 46.8139876861856]<input type='checkbox' class='ee-toggle'></label><ul><li><span class='ee-k'>0:</span><span class='ee-v'>-99.18550566537193</span></li><li><span class='ee-k'>1:</span><span class='ee-v'>46.8139876861856</span></li></ul></li><li><label class='ee-shut'>8: [-99.1855083846645, 46.81399037196922]<input type='checkbox' class='ee-toggle'></label><ul><li><span class='ee-k'>0:</span><span class='ee-v'>-99.1855083846645</span></li><li><span class='ee-k'>1:</span><span class='ee-v'>46.81399037196922</span></li></ul></li><li><label class='ee-shut'>9: [-99.1855093561509, 46.813990517056766]<input type='checkbox' class='ee-toggle'></label><ul><li><span class='ee-k'>0:</span><span class='ee-v'>-99.1855093561509</span></li><li><span class='ee-k'>1:</span><span class='ee-v'>46.813990517056766</span></li></ul></li><li><label class='ee-shut'>10: [-99.18551030411246, 46.81399058955011]<input type='checkbox' class='ee-toggle'></label><ul><li><span class='ee-k'>0:</span><span class='ee-v'>-99.18551030411246</span></li><li><span class='ee-k'>1:</span><span class='ee-v'>46.81399058955011</span></li></ul></li><li><label class='ee-shut'>11: [-99.25232931239213, 46.81386280807813]<input type='checkbox' class='ee-toggle'></label><ul><li><span class='ee-k'>0:</span><span class='ee-v'>-99.25232931239213</span></li><li><span class='ee-k'>1:</span><span class='ee-v'>46.81386280807813</span></li></ul></li><li><label class='ee-shut'>12: [-99.2523329345789, 46.813860576608306]<input type='checkbox' class='ee-toggle'></label><ul><li><span class='ee-k'>0:</span><span class='ee-v'>-99.2523329345789</span></li><li><span class='ee-k'>1:</span><span class='ee-v'>46.813860576608306</span></li></ul></li><li><label class='ee-shut'>13: [-99.25233694575275, 46.81385868602426]<input type='checkbox' class='ee-toggle'></label><ul><li><span class='ee-k'>0:</span><span class='ee-v'>-99.25233694575275</span></li><li><span class='ee-k'>1:</span><span class='ee-v'>46.81385868602426</span></li></ul></li><li><label class='ee-shut'>14: [-99.25233722617862, 46.813857843716356]<input type='checkbox' class='ee-toggle'></label><ul><li><span class='ee-k'>0:</span><span class='ee-v'>-99.25233722617862</span></li><li><span class='ee-k'>1:</span><span class='ee-v'>46.813857843716356</span></li></ul></li><li><label class='ee-shut'>15: [-99.25203228162044, 46.74854602775144]<input type='checkbox' class='ee-toggle'></label><ul><li><span class='ee-k'>0:</span><span class='ee-v'>-99.25203228162044</span></li><li><span class='ee-k'>1:</span><span class='ee-v'>46.74854602775144</span></li></ul></li><li><label class='ee-shut'>16: [-99.25202897627025, 46.74854354351154]<input type='checkbox' class='ee-toggle'></label><ul><li><span class='ee-k'>0:</span><span class='ee-v'>-99.25202897627025</span></li><li><span class='ee-k'>1:</span><span class='ee-v'>46.74854354351154</span></li></ul></li><li><label class='ee-shut'>17: [-99.2520263436079, 46.7485408557761]<input type='checkbox' class='ee-toggle'></label><ul><li><span class='ee-k'>0:</span><span class='ee-v'>-99.2520263436079</span></li><li><span class='ee-k'>1:</span><span class='ee-v'>46.7485408557761</span></li></ul></li><li><label class='ee-shut'>18: [-99.2520252826305, 46.74854071881755]<input type='checkbox' class='ee-toggle'></label><ul><li><span class='ee-k'>0:</span><span class='ee-v'>-99.2520252826305</span></li><li><span class='ee-k'>1:</span><span class='ee-v'>46.74854071881755</span></li></ul></li></ul></li></ul></li><li><span class='ee-k'>system:index:</span><span class='ee-v'>m_4609915_sw_14_h_20170703</span></li><li><span class='ee-k'>system:time_end:</span><span class='ee-v'>1499126400000</span></li><li><span class='ee-k'>system:time_start:</span><span class='ee-v'>1499040000000</span></li></ul></li></ul></li></ul></li></ul></li></ul></div><script>function toggleHeader() {\n",
       "    const parent = this.parentElement;\n",
       "    parent.className = parent.className === \"ee-open\" ? \"ee-shut\" : \"ee-open\";\n",
       "}\n",
       "\n",
       "for (let c of document.getElementsByClassName(\"ee-toggle\")) {\n",
       "    c.onclick = toggleHeader;\n",
       "}</script></div>"
      ],
      "text/plain": [
       "<ee.imagecollection.ImageCollection at 0x1301227bda0>"
      ]
     },
     "execution_count": 4,
     "metadata": {},
     "output_type": "execute_result"
    }
   ],
   "source": [
    "collection"
   ]
  },
  {
   "cell_type": "code",
   "execution_count": 5,
   "metadata": {},
   "outputs": [
    {
     "data": {
      "text/html": [
       "\n",
       "            <style>\n",
       "                .geemap-dark {\n",
       "                    --jp-widgets-color: white;\n",
       "                    --jp-widgets-label-color: white;\n",
       "                    --jp-ui-font-color1: white;\n",
       "                    --jp-layout-color2: #454545;\n",
       "                    background-color: #383838;\n",
       "                }\n",
       "\n",
       "                .geemap-dark .jupyter-button {\n",
       "                    --jp-layout-color3: #383838;\n",
       "                }\n",
       "\n",
       "                .geemap-colab {\n",
       "                    background-color: var(--colab-primary-surface-color, white);\n",
       "                }\n",
       "\n",
       "                .geemap-colab .jupyter-button {\n",
       "                    --jp-layout-color3: var(--colab-primary-surface-color, white);\n",
       "                }\n",
       "            </style>\n",
       "            "
      ],
      "text/plain": [
       "<IPython.core.display.HTML object>"
      ]
     },
     "metadata": {},
     "output_type": "display_data"
    },
    {
     "name": "stdout",
     "output_type": "stream",
     "text": [
      "Total number of images: 7\n",
      "\n",
      "Exporting 1/7: naip\\m_4609915_sw_14_1_20090818.tif\n",
      "Generating URL ...\n",
      "Downloading data from https://earthengine.googleapis.com/v1/projects/earthengine-legacy/thumbnails/20ac4aa56b447ab13a0a61b99c33ca74-ee686de68ee4520a71d9bc02fed191ed:getPixels\n",
      "Please wait ...\n",
      "Data downloaded to c:\\Users\\zyang\\spatial_data_management\\notes\\naip\\m_4609915_sw_14_1_20090818.tif\n",
      "\n",
      "\n",
      "Exporting 2/7: naip\\m_4609915_sw_14_1_20100629.tif\n",
      "Generating URL ...\n",
      "Downloading data from https://earthengine.googleapis.com/v1/projects/earthengine-legacy/thumbnails/da9e0881035b74e9d850fcf2f92823f7-5a7d8a5fc3422a8248516bb5c8d59e32:getPixels\n",
      "Please wait ...\n",
      "Data downloaded to c:\\Users\\zyang\\spatial_data_management\\notes\\naip\\m_4609915_sw_14_1_20100629.tif\n",
      "\n",
      "\n",
      "Exporting 3/7: naip\\m_4609915_sw_14_1_20120714.tif\n",
      "Generating URL ...\n",
      "Downloading data from https://earthengine.googleapis.com/v1/projects/earthengine-legacy/thumbnails/4e4a040917f098f64b0766b284a862be-3ea140059d4d43970e05d22d303c4dbd:getPixels\n",
      "Please wait ...\n",
      "Data downloaded to c:\\Users\\zyang\\spatial_data_management\\notes\\naip\\m_4609915_sw_14_1_20120714.tif\n",
      "\n",
      "\n",
      "Exporting 4/7: naip\\m_4609915_sw_14_1_20140901.tif\n",
      "Generating URL ...\n",
      "Downloading data from https://earthengine.googleapis.com/v1/projects/earthengine-legacy/thumbnails/a02e11c5894f15f229c60e1f682b9fad-874fb88c886ee294347c796f83f48096:getPixels\n",
      "Please wait ...\n",
      "Data downloaded to c:\\Users\\zyang\\spatial_data_management\\notes\\naip\\m_4609915_sw_14_1_20140901.tif\n",
      "\n",
      "\n",
      "Exporting 5/7: naip\\m_4609915_sw_14_1_20150926.tif\n",
      "Generating URL ...\n",
      "Downloading data from https://earthengine.googleapis.com/v1/projects/earthengine-legacy/thumbnails/1964e95e2a01786e847ef16f75b72d35-cd0b83f36fdef83153955942cbfa2ac3:getPixels\n",
      "Please wait ...\n",
      "Data downloaded to c:\\Users\\zyang\\spatial_data_management\\notes\\naip\\m_4609915_sw_14_1_20150926.tif\n",
      "\n",
      "\n",
      "Exporting 6/7: naip\\m_4609915_sw_14_h_20160704.tif\n",
      "Generating URL ...\n",
      "Downloading data from https://earthengine.googleapis.com/v1/projects/earthengine-legacy/thumbnails/8f6abb2388029bddb186afff89233403-5c6f3794aeb54ece27e2905a1807f5ae:getPixels\n",
      "Please wait ...\n",
      "Data downloaded to c:\\Users\\zyang\\spatial_data_management\\notes\\naip\\m_4609915_sw_14_h_20160704.tif\n",
      "\n",
      "\n",
      "Exporting 7/7: naip\\m_4609915_sw_14_h_20170703.tif\n",
      "Generating URL ...\n",
      "Downloading data from https://earthengine.googleapis.com/v1/projects/earthengine-legacy/thumbnails/1528b907003d24896f9b27b854b5d376-3f015a6cb7140f7a51878d2cc8ed494c:getPixels\n",
      "Please wait ...\n",
      "Data downloaded to c:\\Users\\zyang\\spatial_data_management\\notes\\naip\\m_4609915_sw_14_h_20170703.tif\n",
      "\n",
      "\n"
     ]
    }
   ],
   "source": [
    "out_dir='naip'\n",
    "geemap.ee_export_image_collection(collection, out_dir=out_dir, scale= 10)"
   ]
  },
  {
   "cell_type": "markdown",
   "metadata": {},
   "source": [
    "### To drive"
   ]
  },
  {
   "cell_type": "code",
   "execution_count": 6,
   "metadata": {},
   "outputs": [
    {
     "data": {
      "text/html": [
       "\n",
       "            <style>\n",
       "                .geemap-dark {\n",
       "                    --jp-widgets-color: white;\n",
       "                    --jp-widgets-label-color: white;\n",
       "                    --jp-ui-font-color1: white;\n",
       "                    --jp-layout-color2: #454545;\n",
       "                    background-color: #383838;\n",
       "                }\n",
       "\n",
       "                .geemap-dark .jupyter-button {\n",
       "                    --jp-layout-color3: #383838;\n",
       "                }\n",
       "\n",
       "                .geemap-colab {\n",
       "                    background-color: var(--colab-primary-surface-color, white);\n",
       "                }\n",
       "\n",
       "                .geemap-colab .jupyter-button {\n",
       "                    --jp-layout-color3: var(--colab-primary-surface-color, white);\n",
       "                }\n",
       "            </style>\n",
       "            "
      ],
      "text/plain": [
       "<IPython.core.display.HTML object>"
      ]
     },
     "metadata": {},
     "output_type": "display_data"
    }
   ],
   "source": [
    "geemap.ee_export_image_collection_to_drive(collection, folder='export', scale=10)"
   ]
  },
  {
   "cell_type": "code",
   "execution_count": 3,
   "metadata": {},
   "outputs": [
    {
     "data": {
      "text/html": [
       "\n",
       "            <style>\n",
       "                .geemap-dark {\n",
       "                    --jp-widgets-color: white;\n",
       "                    --jp-widgets-label-color: white;\n",
       "                    --jp-ui-font-color1: white;\n",
       "                    --jp-layout-color2: #454545;\n",
       "                    background-color: #383838;\n",
       "                }\n",
       "\n",
       "                .geemap-dark .jupyter-button {\n",
       "                    --jp-layout-color3: #383838;\n",
       "                }\n",
       "\n",
       "                .geemap-colab {\n",
       "                    background-color: var(--colab-primary-surface-color, white);\n",
       "                }\n",
       "\n",
       "                .geemap-colab .jupyter-button {\n",
       "                    --jp-layout-color3: var(--colab-primary-surface-color, white);\n",
       "                }\n",
       "            </style>\n",
       "            "
      ],
      "text/plain": [
       "<IPython.core.display.HTML object>"
      ]
     },
     "metadata": {},
     "output_type": "display_data"
    },
    {
     "data": {
      "text/html": [
       "<div><style>:root {\n",
       "  --font-color-primary: var(--jp-content-font-color0, rgba(0, 0, 0, 1));\n",
       "  --font-color-secondary: var(--jp-content-font-color2, rgba(0, 0, 0, 0.6));\n",
       "  --font-color-accent: rgba(123, 31, 162, 1);\n",
       "  --border-color: var(--jp-border-color2, #e0e0e0);\n",
       "  --background-color: var(--jp-layout-color0, white);\n",
       "  --background-color-row-even: var(--jp-layout-color1, white);\n",
       "  --background-color-row-odd: var(--jp-layout-color2, #eeeeee);\n",
       "}\n",
       "\n",
       "html[theme=\"dark\"],\n",
       "body[data-theme=\"dark\"],\n",
       "body.vscode-dark {\n",
       "  --font-color-primary: rgba(255, 255, 255, 1);\n",
       "  --font-color-secondary: rgba(255, 255, 255, 0.6);\n",
       "  --font-color-accent: rgb(173, 132, 190);\n",
       "  --border-color: #2e2e2e;\n",
       "  --background-color: #111111;\n",
       "  --background-color-row-even: #111111;\n",
       "  --background-color-row-odd: #313131;\n",
       "}\n",
       "\n",
       ".ee {\n",
       "  padding: 1em;\n",
       "  line-height: 1.5em;\n",
       "  min-width: 300px;\n",
       "  max-width: 1200px;\n",
       "  overflow-y: scroll;\n",
       "  max-height: 600px;\n",
       "  border: 1px solid var(--border-color);\n",
       "  font-family: monospace;\n",
       "}\n",
       "\n",
       ".ee li {\n",
       "  list-style-type: none;\n",
       "}\n",
       "\n",
       ".ee ul {\n",
       "  padding-left: 1.5em !important;\n",
       "  margin: 0;\n",
       "}\n",
       "\n",
       ".ee > ul {\n",
       "  padding-left: 0 !important;\n",
       "}\n",
       "\n",
       ".ee-open,\n",
       ".ee-shut {\n",
       "  color: var(--font-color-secondary);\n",
       "  cursor: pointer;\n",
       "  margin: 0;\n",
       "}\n",
       "\n",
       ".ee-open:hover,\n",
       ".ee-shut:hover {\n",
       "  color: var(--font-color-primary);\n",
       "}\n",
       "\n",
       ".ee-k {\n",
       "  color: var(--font-color-accent);\n",
       "  margin-right: 6px;\n",
       "}\n",
       "\n",
       ".ee-v {\n",
       "  color: var(--font-color-primary);\n",
       "}\n",
       "\n",
       ".ee-toggle {\n",
       "  display: none;\n",
       "}\n",
       "\n",
       ".ee-shut + ul {\n",
       "  display: none;\n",
       "}\n",
       "\n",
       ".ee-open + ul {\n",
       "  display: block;\n",
       "}\n",
       "\n",
       ".ee-shut::before {\n",
       "  display: inline-block;\n",
       "  content: \"▼\";\n",
       "  margin-right: 6px;\n",
       "  transform: rotate(-90deg);\n",
       "  transition: transform 0.2s;\n",
       "}\n",
       "\n",
       ".ee-open::before {\n",
       "  transform: rotate(0deg);\n",
       "  display: inline-block;\n",
       "  content: \"▼\";\n",
       "  margin-right: 6px;\n",
       "  transition: transform 0.2s;\n",
       "}\n",
       "</style><div class='ee'><ul><li><label class='ee-shut'>List (7 elements)<input type='checkbox' class='ee-toggle'></label><ul><li><span class='ee-k'>0:</span><span class='ee-v'>2009-08-18</span></li><li><span class='ee-k'>1:</span><span class='ee-v'>2010-06-29</span></li><li><span class='ee-k'>2:</span><span class='ee-v'>2012-07-14</span></li><li><span class='ee-k'>3:</span><span class='ee-v'>2014-09-01</span></li><li><span class='ee-k'>4:</span><span class='ee-v'>2015-09-26</span></li><li><span class='ee-k'>5:</span><span class='ee-v'>2016-07-04</span></li><li><span class='ee-k'>6:</span><span class='ee-v'>2017-07-03</span></li></ul></li></ul></div><script>function toggleHeader() {\n",
       "    const parent = this.parentElement;\n",
       "    parent.className = parent.className === \"ee-open\" ? \"ee-shut\" : \"ee-open\";\n",
       "}\n",
       "\n",
       "for (let c of document.getElementsByClassName(\"ee-toggle\")) {\n",
       "    c.onclick = toggleHeader;\n",
       "}</script></div>"
      ],
      "text/plain": [
       "<ee.ee_list.List at 0x1e928dcf8f0>"
      ]
     },
     "execution_count": 3,
     "metadata": {},
     "output_type": "execute_result"
    }
   ],
   "source": [
    "geemap.image_dates(collection).sort()"
   ]
  },
  {
   "cell_type": "code",
   "execution_count": 4,
   "metadata": {},
   "outputs": [
    {
     "data": {
      "text/html": [
       "\n",
       "            <style>\n",
       "                .geemap-dark {\n",
       "                    --jp-widgets-color: white;\n",
       "                    --jp-widgets-label-color: white;\n",
       "                    --jp-ui-font-color1: white;\n",
       "                    --jp-layout-color2: #454545;\n",
       "                    background-color: #383838;\n",
       "                }\n",
       "\n",
       "                .geemap-dark .jupyter-button {\n",
       "                    --jp-layout-color3: #383838;\n",
       "                }\n",
       "\n",
       "                .geemap-colab {\n",
       "                    background-color: var(--colab-primary-surface-color, white);\n",
       "                }\n",
       "\n",
       "                .geemap-colab .jupyter-button {\n",
       "                    --jp-layout-color3: var(--colab-primary-surface-color, white);\n",
       "                }\n",
       "            </style>\n",
       "            "
      ],
      "text/plain": [
       "<IPython.core.display.HTML object>"
      ]
     },
     "metadata": {},
     "output_type": "display_data"
    },
    {
     "data": {
      "text/html": [
       "<div><style>:root {\n",
       "  --font-color-primary: var(--jp-content-font-color0, rgba(0, 0, 0, 1));\n",
       "  --font-color-secondary: var(--jp-content-font-color2, rgba(0, 0, 0, 0.6));\n",
       "  --font-color-accent: rgba(123, 31, 162, 1);\n",
       "  --border-color: var(--jp-border-color2, #e0e0e0);\n",
       "  --background-color: var(--jp-layout-color0, white);\n",
       "  --background-color-row-even: var(--jp-layout-color1, white);\n",
       "  --background-color-row-odd: var(--jp-layout-color2, #eeeeee);\n",
       "}\n",
       "\n",
       "html[theme=\"dark\"],\n",
       "body[data-theme=\"dark\"],\n",
       "body.vscode-dark {\n",
       "  --font-color-primary: rgba(255, 255, 255, 1);\n",
       "  --font-color-secondary: rgba(255, 255, 255, 0.6);\n",
       "  --font-color-accent: rgb(173, 132, 190);\n",
       "  --border-color: #2e2e2e;\n",
       "  --background-color: #111111;\n",
       "  --background-color-row-even: #111111;\n",
       "  --background-color-row-odd: #313131;\n",
       "}\n",
       "\n",
       ".ee {\n",
       "  padding: 1em;\n",
       "  line-height: 1.5em;\n",
       "  min-width: 300px;\n",
       "  max-width: 1200px;\n",
       "  overflow-y: scroll;\n",
       "  max-height: 600px;\n",
       "  border: 1px solid var(--border-color);\n",
       "  font-family: monospace;\n",
       "}\n",
       "\n",
       ".ee li {\n",
       "  list-style-type: none;\n",
       "}\n",
       "\n",
       ".ee ul {\n",
       "  padding-left: 1.5em !important;\n",
       "  margin: 0;\n",
       "}\n",
       "\n",
       ".ee > ul {\n",
       "  padding-left: 0 !important;\n",
       "}\n",
       "\n",
       ".ee-open,\n",
       ".ee-shut {\n",
       "  color: var(--font-color-secondary);\n",
       "  cursor: pointer;\n",
       "  margin: 0;\n",
       "}\n",
       "\n",
       ".ee-open:hover,\n",
       ".ee-shut:hover {\n",
       "  color: var(--font-color-primary);\n",
       "}\n",
       "\n",
       ".ee-k {\n",
       "  color: var(--font-color-accent);\n",
       "  margin-right: 6px;\n",
       "}\n",
       "\n",
       ".ee-v {\n",
       "  color: var(--font-color-primary);\n",
       "}\n",
       "\n",
       ".ee-toggle {\n",
       "  display: none;\n",
       "}\n",
       "\n",
       ".ee-shut + ul {\n",
       "  display: none;\n",
       "}\n",
       "\n",
       ".ee-open + ul {\n",
       "  display: block;\n",
       "}\n",
       "\n",
       ".ee-shut::before {\n",
       "  display: inline-block;\n",
       "  content: \"▼\";\n",
       "  margin-right: 6px;\n",
       "  transform: rotate(-90deg);\n",
       "  transition: transform 0.2s;\n",
       "}\n",
       "\n",
       ".ee-open::before {\n",
       "  transform: rotate(0deg);\n",
       "  display: inline-block;\n",
       "  content: \"▼\";\n",
       "  margin-right: 6px;\n",
       "  transition: transform 0.2s;\n",
       "}\n",
       "</style><div class='ee'><ul><li><label class='ee-shut'>ImageCollection USDA/NAIP/DOQQ  (7 elements)<input type='checkbox' class='ee-toggle'></label><ul><li><span class='ee-k'>type:</span><span class='ee-v'>ImageCollection</span></li><li><span class='ee-k'>id:</span><span class='ee-v'>USDA/NAIP/DOQQ</span></li><li><span class='ee-k'>version:</span><span class='ee-v'>1697630986557728</span></li><li><label class='ee-shut'>bands: []<input type='checkbox' class='ee-toggle'></label><ul></ul></li><li><label class='ee-shut'>properties: Object (22 properties)<input type='checkbox' class='ee-toggle'></label><ul><li><label class='ee-shut'>date_range: [1041379200000, 1546300800000]<input type='checkbox' class='ee-toggle'></label><ul><li><span class='ee-k'>0:</span><span class='ee-v'>1041379200000</span></li><li><span class='ee-k'>1:</span><span class='ee-v'>1546300800000</span></li></ul></li><li><span class='ee-k'>description:</span><span class='ee-v'><p>The National Agriculture Imagery Program (NAIP) acquires aerial imagery\n",
       "during the agricultural growing seasons in the continental U.S.</p><p>NAIP projects are contracted each year based upon available funding and the\n",
       "imagery acquisition cycle. Beginning in 2003, NAIP was acquired on\n",
       "a 5-year cycle. 2008 was a transition year, and a three-year cycle began\n",
       "in 2009.</p><p>NAIP imagery is acquired at a one-meter ground sample distance (GSD) with a\n",
       "horizontal accuracy that matches within six meters of photo-identifiable\n",
       "ground control points, which are used during image inspection.</p><p>Older images were collected using 3 bands (Red, Green, and Blue: RGB), but\n",
       "newer imagery is usually collected with an additional near-infrared band\n",
       "(RGBN). RGB asset ids begin with &#39;n<em>&#39;, NRG asset ids begin with &#39;c</em>&#39;, RGBN\n",
       "asset ids begin with &#39;m_&#39;.</p><p><b>Provider: <a href=\"https://www.fsa.usda.gov/programs-and-services/aerial-photography/imagery-programs/naip-imagery/\">USDA Farm Production and Conservation - Business Center, Geospatial Enterprise Operations</a></b><br><p><b>Resolution</b><br>1 meter\n",
       "</p><p><b>Bands</b><table class=\"eecat\"><tr><th scope=\"col\">Name</th><th scope=\"col\">Description</th></tr><tr><td>R</td><td><p>Red</p></td></tr><tr><td>G</td><td><p>Green</p></td></tr><tr><td>B</td><td><p>Blue</p></td></tr><tr><td>N</td><td><p>Near infrared</p></td></tr></table><p><b>Terms of Use</b><br><p>Most information presented on the FSA Web site is considered public domain\n",
       "information. Public domain information may be freely distributed or copied,\n",
       "but use of appropriate byline/photo/image credits is requested. For more\n",
       "information visit the <a href=\"https://www.fsa.usda.gov/help/policies-and-links\">FSA Policies and Links</a>\n",
       "website.</p><p>Users should acknowledge USDA Farm Production and Conservation -\n",
       "Business Center, Geospatial Enterprise Operations when using or\n",
       "distributing this data set.</p><p><b>Suggested citation(s)</b><ul><li><p>USDA Farm Production and Conservation - Business Center, Geospatial Enterprise Operations</p></li></ul><style>\n",
       "  table.eecat {\n",
       "  border: 1px solid black;\n",
       "  border-collapse: collapse;\n",
       "  font-size: 13px;\n",
       "  }\n",
       "  table.eecat td, tr, th {\n",
       "  text-align: left; vertical-align: top;\n",
       "  border: 1px solid gray; padding: 3px;\n",
       "  }\n",
       "  td.nobreak { white-space: nowrap; }\n",
       "</style></span></li><li><label class='ee-shut'>keywords: List (7 elements)<input type='checkbox' class='ee-toggle'></label><ul><li><span class='ee-k'>0:</span><span class='ee-v'>aerial</span></li><li><span class='ee-k'>1:</span><span class='ee-v'>agriculture</span></li><li><span class='ee-k'>2:</span><span class='ee-v'>fpac</span></li><li><span class='ee-k'>3:</span><span class='ee-v'>highres</span></li><li><span class='ee-k'>4:</span><span class='ee-v'>imagery</span></li><li><span class='ee-k'>5:</span><span class='ee-v'>naip</span></li><li><span class='ee-k'>6:</span><span class='ee-v'>usda</span></li></ul></li><li><span class='ee-k'>period:</span><span class='ee-v'>0</span></li><li><label class='ee-shut'>product_tags: List (5 elements)<input type='checkbox' class='ee-toggle'></label><ul><li><span class='ee-k'>0:</span><span class='ee-v'>naip</span></li><li><span class='ee-k'>1:</span><span class='ee-v'>agriculture</span></li><li><span class='ee-k'>2:</span><span class='ee-v'>aerial</span></li><li><span class='ee-k'>3:</span><span class='ee-v'>highres</span></li><li><span class='ee-k'>4:</span><span class='ee-v'>imagery</span></li></ul></li><li><span class='ee-k'>provider:</span><span class='ee-v'>USDA Farm Production and Conservation - Business Center, Geospatial Enterprise Operations</span></li><li><span class='ee-k'>provider_url:</span><span class='ee-v'>https://www.fsa.usda.gov/programs-and-services/aerial-photography/imagery-programs/naip-imagery/</span></li><li><span class='ee-k'>sample:</span><span class='ee-v'>https://mw1.google.com/ges/dd/images/USDA_NAIP_DOQQ_sample.png</span></li><li><label class='ee-shut'>source_tags: ['usda', 'fpac']<input type='checkbox' class='ee-toggle'></label><ul><li><span class='ee-k'>0:</span><span class='ee-v'>usda</span></li><li><span class='ee-k'>1:</span><span class='ee-v'>fpac</span></li></ul></li><li><span class='ee-k'>system:min_zoom_level:</span><span class='ee-v'>8</span></li><li><span class='ee-k'>system:visualization_0_bands:</span><span class='ee-v'>R,G,B</span></li><li><span class='ee-k'>system:visualization_0_max:</span><span class='ee-v'>255.0</span></li><li><span class='ee-k'>system:visualization_0_min:</span><span class='ee-v'>0.0</span></li><li><span class='ee-k'>system:visualization_0_name:</span><span class='ee-v'>True Color</span></li><li><label class='ee-shut'>tags: List (7 elements)<input type='checkbox' class='ee-toggle'></label><ul><li><span class='ee-k'>0:</span><span class='ee-v'>aerial</span></li><li><span class='ee-k'>1:</span><span class='ee-v'>agriculture</span></li><li><span class='ee-k'>2:</span><span class='ee-v'>fpac</span></li><li><span class='ee-k'>3:</span><span class='ee-v'>highres</span></li><li><span class='ee-k'>4:</span><span class='ee-v'>imagery</span></li><li><span class='ee-k'>5:</span><span class='ee-v'>naip</span></li><li><span class='ee-k'>6:</span><span class='ee-v'>usda</span></li></ul></li><li><span class='ee-k'>thumb:</span><span class='ee-v'>https://mw1.google.com/ges/dd/images/USDA_NAIP_DOQQ_thumb.png</span></li><li><span class='ee-k'>title:</span><span class='ee-v'>NAIP: National Agriculture Imagery Program</span></li><li><span class='ee-k'>type_name:</span><span class='ee-v'>ImageCollection</span></li><li><span class='ee-k'>visualization_0_bands:</span><span class='ee-v'>R,G,B</span></li><li><span class='ee-k'>visualization_0_max:</span><span class='ee-v'>255.0</span></li><li><span class='ee-k'>visualization_0_min:</span><span class='ee-v'>0.0</span></li><li><span class='ee-k'>visualization_0_name:</span><span class='ee-v'>True Color</span></li></ul></li><li><label class='ee-shut'>features: List (7 elements)<input type='checkbox' class='ee-toggle'></label><ul><li><label class='ee-shut'>0: Image USDA/NAIP/DOQQ/m_4609915_sw_14_1_20090818 (4 bands)<input type='checkbox' class='ee-toggle'></label><ul><li><span class='ee-k'>type:</span><span class='ee-v'>Image</span></li><li><span class='ee-k'>id:</span><span class='ee-v'>USDA/NAIP/DOQQ/m_4609915_sw_14_1_20090818</span></li><li><span class='ee-k'>version:</span><span class='ee-v'>1494356370803000.0</span></li><li><label class='ee-shut'>bands: List (4 elements)<input type='checkbox' class='ee-toggle'></label><ul><li><label class='ee-shut'>0: \"R\", unsigned int8, EPSG:26914, 5411x7889 px<input type='checkbox' class='ee-toggle'></label><ul><li><span class='ee-k'>id:</span><span class='ee-v'>R</span></li><li><span class='ee-k'>crs:</span><span class='ee-v'>EPSG:26914</span></li><li><label class='ee-shut'>crs_transform: [1, 0, 480595, 0, -1, 5184979]<input type='checkbox' class='ee-toggle'></label><ul><li><span class='ee-k'>0:</span><span class='ee-v'>1</span></li><li><span class='ee-k'>1:</span><span class='ee-v'>0</span></li><li><span class='ee-k'>2:</span><span class='ee-v'>480595</span></li><li><span class='ee-k'>3:</span><span class='ee-v'>0</span></li><li><span class='ee-k'>4:</span><span class='ee-v'>-1</span></li><li><span class='ee-k'>5:</span><span class='ee-v'>5184979</span></li></ul></li><li><label class='ee-shut'>data_type: unsigned int8<input type='checkbox' class='ee-toggle'></label><ul><li><span class='ee-k'>type:</span><span class='ee-v'>PixelType</span></li><li><span class='ee-k'>max:</span><span class='ee-v'>255</span></li><li><span class='ee-k'>min:</span><span class='ee-v'>0</span></li><li><span class='ee-k'>precision:</span><span class='ee-v'>int</span></li></ul></li><li><label class='ee-shut'>dimensions: [5411, 7889]<input type='checkbox' class='ee-toggle'></label><ul><li><span class='ee-k'>0:</span><span class='ee-v'>5411</span></li><li><span class='ee-k'>1:</span><span class='ee-v'>7889</span></li></ul></li></ul></li><li><label class='ee-shut'>1: \"G\", unsigned int8, EPSG:26914, 5411x7889 px<input type='checkbox' class='ee-toggle'></label><ul><li><span class='ee-k'>id:</span><span class='ee-v'>G</span></li><li><span class='ee-k'>crs:</span><span class='ee-v'>EPSG:26914</span></li><li><label class='ee-shut'>crs_transform: [1, 0, 480595, 0, -1, 5184979]<input type='checkbox' class='ee-toggle'></label><ul><li><span class='ee-k'>0:</span><span class='ee-v'>1</span></li><li><span class='ee-k'>1:</span><span class='ee-v'>0</span></li><li><span class='ee-k'>2:</span><span class='ee-v'>480595</span></li><li><span class='ee-k'>3:</span><span class='ee-v'>0</span></li><li><span class='ee-k'>4:</span><span class='ee-v'>-1</span></li><li><span class='ee-k'>5:</span><span class='ee-v'>5184979</span></li></ul></li><li><label class='ee-shut'>data_type: unsigned int8<input type='checkbox' class='ee-toggle'></label><ul><li><span class='ee-k'>type:</span><span class='ee-v'>PixelType</span></li><li><span class='ee-k'>max:</span><span class='ee-v'>255</span></li><li><span class='ee-k'>min:</span><span class='ee-v'>0</span></li><li><span class='ee-k'>precision:</span><span class='ee-v'>int</span></li></ul></li><li><label class='ee-shut'>dimensions: [5411, 7889]<input type='checkbox' class='ee-toggle'></label><ul><li><span class='ee-k'>0:</span><span class='ee-v'>5411</span></li><li><span class='ee-k'>1:</span><span class='ee-v'>7889</span></li></ul></li></ul></li><li><label class='ee-shut'>2: \"B\", unsigned int8, EPSG:26914, 5411x7889 px<input type='checkbox' class='ee-toggle'></label><ul><li><span class='ee-k'>id:</span><span class='ee-v'>B</span></li><li><span class='ee-k'>crs:</span><span class='ee-v'>EPSG:26914</span></li><li><label class='ee-shut'>crs_transform: [1, 0, 480595, 0, -1, 5184979]<input type='checkbox' class='ee-toggle'></label><ul><li><span class='ee-k'>0:</span><span class='ee-v'>1</span></li><li><span class='ee-k'>1:</span><span class='ee-v'>0</span></li><li><span class='ee-k'>2:</span><span class='ee-v'>480595</span></li><li><span class='ee-k'>3:</span><span class='ee-v'>0</span></li><li><span class='ee-k'>4:</span><span class='ee-v'>-1</span></li><li><span class='ee-k'>5:</span><span class='ee-v'>5184979</span></li></ul></li><li><label class='ee-shut'>data_type: unsigned int8<input type='checkbox' class='ee-toggle'></label><ul><li><span class='ee-k'>type:</span><span class='ee-v'>PixelType</span></li><li><span class='ee-k'>max:</span><span class='ee-v'>255</span></li><li><span class='ee-k'>min:</span><span class='ee-v'>0</span></li><li><span class='ee-k'>precision:</span><span class='ee-v'>int</span></li></ul></li><li><label class='ee-shut'>dimensions: [5411, 7889]<input type='checkbox' class='ee-toggle'></label><ul><li><span class='ee-k'>0:</span><span class='ee-v'>5411</span></li><li><span class='ee-k'>1:</span><span class='ee-v'>7889</span></li></ul></li></ul></li><li><label class='ee-shut'>3: \"N\", unsigned int8, EPSG:26914, 5411x7889 px<input type='checkbox' class='ee-toggle'></label><ul><li><span class='ee-k'>id:</span><span class='ee-v'>N</span></li><li><span class='ee-k'>crs:</span><span class='ee-v'>EPSG:26914</span></li><li><label class='ee-shut'>crs_transform: [1, 0, 480595, 0, -1, 5184979]<input type='checkbox' class='ee-toggle'></label><ul><li><span class='ee-k'>0:</span><span class='ee-v'>1</span></li><li><span class='ee-k'>1:</span><span class='ee-v'>0</span></li><li><span class='ee-k'>2:</span><span class='ee-v'>480595</span></li><li><span class='ee-k'>3:</span><span class='ee-v'>0</span></li><li><span class='ee-k'>4:</span><span class='ee-v'>-1</span></li><li><span class='ee-k'>5:</span><span class='ee-v'>5184979</span></li></ul></li><li><label class='ee-shut'>data_type: unsigned int8<input type='checkbox' class='ee-toggle'></label><ul><li><span class='ee-k'>type:</span><span class='ee-v'>PixelType</span></li><li><span class='ee-k'>max:</span><span class='ee-v'>255</span></li><li><span class='ee-k'>min:</span><span class='ee-v'>0</span></li><li><span class='ee-k'>precision:</span><span class='ee-v'>int</span></li></ul></li><li><label class='ee-shut'>dimensions: [5411, 7889]<input type='checkbox' class='ee-toggle'></label><ul><li><span class='ee-k'>0:</span><span class='ee-v'>5411</span></li><li><span class='ee-k'>1:</span><span class='ee-v'>7889</span></li></ul></li></ul></li></ul></li><li><label class='ee-shut'>properties: Object (5 properties)<input type='checkbox' class='ee-toggle'></label><ul><li><span class='ee-k'>system:asset_size:</span><span class='ee-v'>119274225</span></li><li><label class='ee-shut'>system:footprint: LinearRing (5 vertices)<input type='checkbox' class='ee-toggle'></label><ul><li><span class='ee-k'>type:</span><span class='ee-v'>LinearRing</span></li><li><label class='ee-shut'>coordinates: List (5 elements)<input type='checkbox' class='ee-toggle'></label><ul><li><label class='ee-shut'>0: [-99.2540467742843, 46.81820902795873]<input type='checkbox' class='ee-toggle'></label><ul><li><span class='ee-k'>0:</span><span class='ee-v'>-99.2540467742843</span></li><li><span class='ee-k'>1:</span><span class='ee-v'>46.81820902795873</span></li></ul></li><li><label class='ee-shut'>1: [-99.25404675973384, 46.74708010835285]<input type='checkbox' class='ee-toggle'></label><ul><li><span class='ee-k'>0:</span><span class='ee-v'>-99.25404675973384</span></li><li><span class='ee-k'>1:</span><span class='ee-v'>46.74708010835285</span></li></ul></li><li><label class='ee-shut'>2: [-99.18344832375718, 46.747080119312066]<input type='checkbox' class='ee-toggle'></label><ul><li><span class='ee-k'>0:</span><span class='ee-v'>-99.18344832375718</span></li><li><span class='ee-k'>1:</span><span class='ee-v'>46.747080119312066</span></li></ul></li><li><label class='ee-shut'>3: [-99.18344837148864, 46.81820905217768]<input type='checkbox' class='ee-toggle'></label><ul><li><span class='ee-k'>0:</span><span class='ee-v'>-99.18344837148864</span></li><li><span class='ee-k'>1:</span><span class='ee-v'>46.81820905217768</span></li></ul></li><li><label class='ee-shut'>4: [-99.2540467742843, 46.81820902795873]<input type='checkbox' class='ee-toggle'></label><ul><li><span class='ee-k'>0:</span><span class='ee-v'>-99.2540467742843</span></li><li><span class='ee-k'>1:</span><span class='ee-v'>46.81820902795873</span></li></ul></li></ul></li></ul></li><li><span class='ee-k'>system:index:</span><span class='ee-v'>m_4609915_sw_14_1_20090818</span></li><li><span class='ee-k'>system:time_end:</span><span class='ee-v'>1250640000000</span></li><li><span class='ee-k'>system:time_start:</span><span class='ee-v'>1250553600000</span></li></ul></li></ul></li><li><label class='ee-shut'>1: Image USDA/NAIP/DOQQ/m_4609915_sw_14_1_20100629 (4 bands)<input type='checkbox' class='ee-toggle'></label><ul><li><span class='ee-k'>type:</span><span class='ee-v'>Image</span></li><li><span class='ee-k'>id:</span><span class='ee-v'>USDA/NAIP/DOQQ/m_4609915_sw_14_1_20100629</span></li><li><span class='ee-k'>version:</span><span class='ee-v'>1494279812203000.0</span></li><li><label class='ee-shut'>bands: List (4 elements)<input type='checkbox' class='ee-toggle'></label><ul><li><label class='ee-shut'>0: \"R\", unsigned int8, EPSG:26914, 5420x7580 px<input type='checkbox' class='ee-toggle'></label><ul><li><span class='ee-k'>id:</span><span class='ee-v'>R</span></li><li><span class='ee-k'>crs:</span><span class='ee-v'>EPSG:26914</span></li><li><label class='ee-shut'>crs_transform: [1, 0, 480590, 0, -1, 5184670]<input type='checkbox' class='ee-toggle'></label><ul><li><span class='ee-k'>0:</span><span class='ee-v'>1</span></li><li><span class='ee-k'>1:</span><span class='ee-v'>0</span></li><li><span class='ee-k'>2:</span><span class='ee-v'>480590</span></li><li><span class='ee-k'>3:</span><span class='ee-v'>0</span></li><li><span class='ee-k'>4:</span><span class='ee-v'>-1</span></li><li><span class='ee-k'>5:</span><span class='ee-v'>5184670</span></li></ul></li><li><label class='ee-shut'>data_type: unsigned int8<input type='checkbox' class='ee-toggle'></label><ul><li><span class='ee-k'>type:</span><span class='ee-v'>PixelType</span></li><li><span class='ee-k'>max:</span><span class='ee-v'>255</span></li><li><span class='ee-k'>min:</span><span class='ee-v'>0</span></li><li><span class='ee-k'>precision:</span><span class='ee-v'>int</span></li></ul></li><li><label class='ee-shut'>dimensions: [5420, 7580]<input type='checkbox' class='ee-toggle'></label><ul><li><span class='ee-k'>0:</span><span class='ee-v'>5420</span></li><li><span class='ee-k'>1:</span><span class='ee-v'>7580</span></li></ul></li></ul></li><li><label class='ee-shut'>1: \"G\", unsigned int8, EPSG:26914, 5420x7580 px<input type='checkbox' class='ee-toggle'></label><ul><li><span class='ee-k'>id:</span><span class='ee-v'>G</span></li><li><span class='ee-k'>crs:</span><span class='ee-v'>EPSG:26914</span></li><li><label class='ee-shut'>crs_transform: [1, 0, 480590, 0, -1, 5184670]<input type='checkbox' class='ee-toggle'></label><ul><li><span class='ee-k'>0:</span><span class='ee-v'>1</span></li><li><span class='ee-k'>1:</span><span class='ee-v'>0</span></li><li><span class='ee-k'>2:</span><span class='ee-v'>480590</span></li><li><span class='ee-k'>3:</span><span class='ee-v'>0</span></li><li><span class='ee-k'>4:</span><span class='ee-v'>-1</span></li><li><span class='ee-k'>5:</span><span class='ee-v'>5184670</span></li></ul></li><li><label class='ee-shut'>data_type: unsigned int8<input type='checkbox' class='ee-toggle'></label><ul><li><span class='ee-k'>type:</span><span class='ee-v'>PixelType</span></li><li><span class='ee-k'>max:</span><span class='ee-v'>255</span></li><li><span class='ee-k'>min:</span><span class='ee-v'>0</span></li><li><span class='ee-k'>precision:</span><span class='ee-v'>int</span></li></ul></li><li><label class='ee-shut'>dimensions: [5420, 7580]<input type='checkbox' class='ee-toggle'></label><ul><li><span class='ee-k'>0:</span><span class='ee-v'>5420</span></li><li><span class='ee-k'>1:</span><span class='ee-v'>7580</span></li></ul></li></ul></li><li><label class='ee-shut'>2: \"B\", unsigned int8, EPSG:26914, 5420x7580 px<input type='checkbox' class='ee-toggle'></label><ul><li><span class='ee-k'>id:</span><span class='ee-v'>B</span></li><li><span class='ee-k'>crs:</span><span class='ee-v'>EPSG:26914</span></li><li><label class='ee-shut'>crs_transform: [1, 0, 480590, 0, -1, 5184670]<input type='checkbox' class='ee-toggle'></label><ul><li><span class='ee-k'>0:</span><span class='ee-v'>1</span></li><li><span class='ee-k'>1:</span><span class='ee-v'>0</span></li><li><span class='ee-k'>2:</span><span class='ee-v'>480590</span></li><li><span class='ee-k'>3:</span><span class='ee-v'>0</span></li><li><span class='ee-k'>4:</span><span class='ee-v'>-1</span></li><li><span class='ee-k'>5:</span><span class='ee-v'>5184670</span></li></ul></li><li><label class='ee-shut'>data_type: unsigned int8<input type='checkbox' class='ee-toggle'></label><ul><li><span class='ee-k'>type:</span><span class='ee-v'>PixelType</span></li><li><span class='ee-k'>max:</span><span class='ee-v'>255</span></li><li><span class='ee-k'>min:</span><span class='ee-v'>0</span></li><li><span class='ee-k'>precision:</span><span class='ee-v'>int</span></li></ul></li><li><label class='ee-shut'>dimensions: [5420, 7580]<input type='checkbox' class='ee-toggle'></label><ul><li><span class='ee-k'>0:</span><span class='ee-v'>5420</span></li><li><span class='ee-k'>1:</span><span class='ee-v'>7580</span></li></ul></li></ul></li><li><label class='ee-shut'>3: \"N\", unsigned int8, EPSG:26914, 5420x7580 px<input type='checkbox' class='ee-toggle'></label><ul><li><span class='ee-k'>id:</span><span class='ee-v'>N</span></li><li><span class='ee-k'>crs:</span><span class='ee-v'>EPSG:26914</span></li><li><label class='ee-shut'>crs_transform: [1, 0, 480590, 0, -1, 5184670]<input type='checkbox' class='ee-toggle'></label><ul><li><span class='ee-k'>0:</span><span class='ee-v'>1</span></li><li><span class='ee-k'>1:</span><span class='ee-v'>0</span></li><li><span class='ee-k'>2:</span><span class='ee-v'>480590</span></li><li><span class='ee-k'>3:</span><span class='ee-v'>0</span></li><li><span class='ee-k'>4:</span><span class='ee-v'>-1</span></li><li><span class='ee-k'>5:</span><span class='ee-v'>5184670</span></li></ul></li><li><label class='ee-shut'>data_type: unsigned int8<input type='checkbox' class='ee-toggle'></label><ul><li><span class='ee-k'>type:</span><span class='ee-v'>PixelType</span></li><li><span class='ee-k'>max:</span><span class='ee-v'>255</span></li><li><span class='ee-k'>min:</span><span class='ee-v'>0</span></li><li><span class='ee-k'>precision:</span><span class='ee-v'>int</span></li></ul></li><li><label class='ee-shut'>dimensions: [5420, 7580]<input type='checkbox' class='ee-toggle'></label><ul><li><span class='ee-k'>0:</span><span class='ee-v'>5420</span></li><li><span class='ee-k'>1:</span><span class='ee-v'>7580</span></li></ul></li></ul></li></ul></li><li><label class='ee-shut'>properties: Object (5 properties)<input type='checkbox' class='ee-toggle'></label><ul><li><span class='ee-k'>system:asset_size:</span><span class='ee-v'>152259435</span></li><li><label class='ee-shut'>system:footprint: LinearRing (5 vertices)<input type='checkbox' class='ee-toggle'></label><ul><li><span class='ee-k'>type:</span><span class='ee-v'>LinearRing</span></li><li><label class='ee-shut'>coordinates: List (5 elements)<input type='checkbox' class='ee-toggle'></label><ul><li><label class='ee-shut'>0: [-99.25411222013392, 46.8154284414004]<input type='checkbox' class='ee-toggle'></label><ul><li><span class='ee-k'>0:</span><span class='ee-v'>-99.25411222013392</span></li><li><span class='ee-k'>1:</span><span class='ee-v'>46.8154284414004</span></li></ul></li><li><label class='ee-shut'>1: [-99.25411222540929, 46.74707999315183]<input type='checkbox' class='ee-toggle'></label><ul><li><span class='ee-k'>0:</span><span class='ee-v'>-99.25411222540929</span></li><li><span class='ee-k'>1:</span><span class='ee-v'>46.74707999315183</span></li></ul></li><li><label class='ee-shut'>2: [-99.18338646318341, 46.747079977337044]<input type='checkbox' class='ee-toggle'></label><ul><li><span class='ee-k'>0:</span><span class='ee-v'>-99.18338646318341</span></li><li><span class='ee-k'>1:</span><span class='ee-v'>46.747079977337044</span></li></ul></li><li><label class='ee-shut'>3: [-99.18338649392648, 46.815428476551695]<input type='checkbox' class='ee-toggle'></label><ul><li><span class='ee-k'>0:</span><span class='ee-v'>-99.18338649392648</span></li><li><span class='ee-k'>1:</span><span class='ee-v'>46.815428476551695</span></li></ul></li><li><label class='ee-shut'>4: [-99.25411222013392, 46.8154284414004]<input type='checkbox' class='ee-toggle'></label><ul><li><span class='ee-k'>0:</span><span class='ee-v'>-99.25411222013392</span></li><li><span class='ee-k'>1:</span><span class='ee-v'>46.8154284414004</span></li></ul></li></ul></li></ul></li><li><span class='ee-k'>system:index:</span><span class='ee-v'>m_4609915_sw_14_1_20100629</span></li><li><span class='ee-k'>system:time_end:</span><span class='ee-v'>1277856000000</span></li><li><span class='ee-k'>system:time_start:</span><span class='ee-v'>1277769600000</span></li></ul></li></ul></li><li><label class='ee-shut'>2: Image USDA/NAIP/DOQQ/m_4609915_sw_14_1_20120714 (4 bands)<input type='checkbox' class='ee-toggle'></label><ul><li><span class='ee-k'>type:</span><span class='ee-v'>Image</span></li><li><span class='ee-k'>id:</span><span class='ee-v'>USDA/NAIP/DOQQ/m_4609915_sw_14_1_20120714</span></li><li><span class='ee-k'>version:</span><span class='ee-v'>1494279704600000.0</span></li><li><label class='ee-shut'>bands: List (4 elements)<input type='checkbox' class='ee-toggle'></label><ul><li><label class='ee-shut'>0: \"R\", unsigned int8, EPSG:26914, 5420x7580 px<input type='checkbox' class='ee-toggle'></label><ul><li><span class='ee-k'>id:</span><span class='ee-v'>R</span></li><li><span class='ee-k'>crs:</span><span class='ee-v'>EPSG:26914</span></li><li><label class='ee-shut'>crs_transform: [1, 0, 480590, 0, -1, 5184670]<input type='checkbox' class='ee-toggle'></label><ul><li><span class='ee-k'>0:</span><span class='ee-v'>1</span></li><li><span class='ee-k'>1:</span><span class='ee-v'>0</span></li><li><span class='ee-k'>2:</span><span class='ee-v'>480590</span></li><li><span class='ee-k'>3:</span><span class='ee-v'>0</span></li><li><span class='ee-k'>4:</span><span class='ee-v'>-1</span></li><li><span class='ee-k'>5:</span><span class='ee-v'>5184670</span></li></ul></li><li><label class='ee-shut'>data_type: unsigned int8<input type='checkbox' class='ee-toggle'></label><ul><li><span class='ee-k'>type:</span><span class='ee-v'>PixelType</span></li><li><span class='ee-k'>max:</span><span class='ee-v'>255</span></li><li><span class='ee-k'>min:</span><span class='ee-v'>0</span></li><li><span class='ee-k'>precision:</span><span class='ee-v'>int</span></li></ul></li><li><label class='ee-shut'>dimensions: [5420, 7580]<input type='checkbox' class='ee-toggle'></label><ul><li><span class='ee-k'>0:</span><span class='ee-v'>5420</span></li><li><span class='ee-k'>1:</span><span class='ee-v'>7580</span></li></ul></li></ul></li><li><label class='ee-shut'>1: \"G\", unsigned int8, EPSG:26914, 5420x7580 px<input type='checkbox' class='ee-toggle'></label><ul><li><span class='ee-k'>id:</span><span class='ee-v'>G</span></li><li><span class='ee-k'>crs:</span><span class='ee-v'>EPSG:26914</span></li><li><label class='ee-shut'>crs_transform: [1, 0, 480590, 0, -1, 5184670]<input type='checkbox' class='ee-toggle'></label><ul><li><span class='ee-k'>0:</span><span class='ee-v'>1</span></li><li><span class='ee-k'>1:</span><span class='ee-v'>0</span></li><li><span class='ee-k'>2:</span><span class='ee-v'>480590</span></li><li><span class='ee-k'>3:</span><span class='ee-v'>0</span></li><li><span class='ee-k'>4:</span><span class='ee-v'>-1</span></li><li><span class='ee-k'>5:</span><span class='ee-v'>5184670</span></li></ul></li><li><label class='ee-shut'>data_type: unsigned int8<input type='checkbox' class='ee-toggle'></label><ul><li><span class='ee-k'>type:</span><span class='ee-v'>PixelType</span></li><li><span class='ee-k'>max:</span><span class='ee-v'>255</span></li><li><span class='ee-k'>min:</span><span class='ee-v'>0</span></li><li><span class='ee-k'>precision:</span><span class='ee-v'>int</span></li></ul></li><li><label class='ee-shut'>dimensions: [5420, 7580]<input type='checkbox' class='ee-toggle'></label><ul><li><span class='ee-k'>0:</span><span class='ee-v'>5420</span></li><li><span class='ee-k'>1:</span><span class='ee-v'>7580</span></li></ul></li></ul></li><li><label class='ee-shut'>2: \"B\", unsigned int8, EPSG:26914, 5420x7580 px<input type='checkbox' class='ee-toggle'></label><ul><li><span class='ee-k'>id:</span><span class='ee-v'>B</span></li><li><span class='ee-k'>crs:</span><span class='ee-v'>EPSG:26914</span></li><li><label class='ee-shut'>crs_transform: [1, 0, 480590, 0, -1, 5184670]<input type='checkbox' class='ee-toggle'></label><ul><li><span class='ee-k'>0:</span><span class='ee-v'>1</span></li><li><span class='ee-k'>1:</span><span class='ee-v'>0</span></li><li><span class='ee-k'>2:</span><span class='ee-v'>480590</span></li><li><span class='ee-k'>3:</span><span class='ee-v'>0</span></li><li><span class='ee-k'>4:</span><span class='ee-v'>-1</span></li><li><span class='ee-k'>5:</span><span class='ee-v'>5184670</span></li></ul></li><li><label class='ee-shut'>data_type: unsigned int8<input type='checkbox' class='ee-toggle'></label><ul><li><span class='ee-k'>type:</span><span class='ee-v'>PixelType</span></li><li><span class='ee-k'>max:</span><span class='ee-v'>255</span></li><li><span class='ee-k'>min:</span><span class='ee-v'>0</span></li><li><span class='ee-k'>precision:</span><span class='ee-v'>int</span></li></ul></li><li><label class='ee-shut'>dimensions: [5420, 7580]<input type='checkbox' class='ee-toggle'></label><ul><li><span class='ee-k'>0:</span><span class='ee-v'>5420</span></li><li><span class='ee-k'>1:</span><span class='ee-v'>7580</span></li></ul></li></ul></li><li><label class='ee-shut'>3: \"N\", unsigned int8, EPSG:26914, 5420x7580 px<input type='checkbox' class='ee-toggle'></label><ul><li><span class='ee-k'>id:</span><span class='ee-v'>N</span></li><li><span class='ee-k'>crs:</span><span class='ee-v'>EPSG:26914</span></li><li><label class='ee-shut'>crs_transform: [1, 0, 480590, 0, -1, 5184670]<input type='checkbox' class='ee-toggle'></label><ul><li><span class='ee-k'>0:</span><span class='ee-v'>1</span></li><li><span class='ee-k'>1:</span><span class='ee-v'>0</span></li><li><span class='ee-k'>2:</span><span class='ee-v'>480590</span></li><li><span class='ee-k'>3:</span><span class='ee-v'>0</span></li><li><span class='ee-k'>4:</span><span class='ee-v'>-1</span></li><li><span class='ee-k'>5:</span><span class='ee-v'>5184670</span></li></ul></li><li><label class='ee-shut'>data_type: unsigned int8<input type='checkbox' class='ee-toggle'></label><ul><li><span class='ee-k'>type:</span><span class='ee-v'>PixelType</span></li><li><span class='ee-k'>max:</span><span class='ee-v'>255</span></li><li><span class='ee-k'>min:</span><span class='ee-v'>0</span></li><li><span class='ee-k'>precision:</span><span class='ee-v'>int</span></li></ul></li><li><label class='ee-shut'>dimensions: [5420, 7580]<input type='checkbox' class='ee-toggle'></label><ul><li><span class='ee-k'>0:</span><span class='ee-v'>5420</span></li><li><span class='ee-k'>1:</span><span class='ee-v'>7580</span></li></ul></li></ul></li></ul></li><li><label class='ee-shut'>properties: Object (5 properties)<input type='checkbox' class='ee-toggle'></label><ul><li><span class='ee-k'>system:asset_size:</span><span class='ee-v'>141168961</span></li><li><label class='ee-shut'>system:footprint: LinearRing (5 vertices)<input type='checkbox' class='ee-toggle'></label><ul><li><span class='ee-k'>type:</span><span class='ee-v'>LinearRing</span></li><li><label class='ee-shut'>coordinates: List (5 elements)<input type='checkbox' class='ee-toggle'></label><ul><li><label class='ee-shut'>0: [-99.25411222013392, 46.8154284414004]<input type='checkbox' class='ee-toggle'></label><ul><li><span class='ee-k'>0:</span><span class='ee-v'>-99.25411222013392</span></li><li><span class='ee-k'>1:</span><span class='ee-v'>46.8154284414004</span></li></ul></li><li><label class='ee-shut'>1: [-99.25411222540929, 46.74707999315183]<input type='checkbox' class='ee-toggle'></label><ul><li><span class='ee-k'>0:</span><span class='ee-v'>-99.25411222540929</span></li><li><span class='ee-k'>1:</span><span class='ee-v'>46.74707999315183</span></li></ul></li><li><label class='ee-shut'>2: [-99.18338646318341, 46.747079977337044]<input type='checkbox' class='ee-toggle'></label><ul><li><span class='ee-k'>0:</span><span class='ee-v'>-99.18338646318341</span></li><li><span class='ee-k'>1:</span><span class='ee-v'>46.747079977337044</span></li></ul></li><li><label class='ee-shut'>3: [-99.18338649392648, 46.815428476551695]<input type='checkbox' class='ee-toggle'></label><ul><li><span class='ee-k'>0:</span><span class='ee-v'>-99.18338649392648</span></li><li><span class='ee-k'>1:</span><span class='ee-v'>46.815428476551695</span></li></ul></li><li><label class='ee-shut'>4: [-99.25411222013392, 46.8154284414004]<input type='checkbox' class='ee-toggle'></label><ul><li><span class='ee-k'>0:</span><span class='ee-v'>-99.25411222013392</span></li><li><span class='ee-k'>1:</span><span class='ee-v'>46.8154284414004</span></li></ul></li></ul></li></ul></li><li><span class='ee-k'>system:index:</span><span class='ee-v'>m_4609915_sw_14_1_20120714</span></li><li><span class='ee-k'>system:time_end:</span><span class='ee-v'>1342310400000</span></li><li><span class='ee-k'>system:time_start:</span><span class='ee-v'>1342224000000</span></li></ul></li></ul></li><li><label class='ee-shut'>3: Image USDA/NAIP/DOQQ/m_4609915_sw_14_1_20140901 (4 bands)<input type='checkbox' class='ee-toggle'></label><ul><li><span class='ee-k'>type:</span><span class='ee-v'>Image</span></li><li><span class='ee-k'>id:</span><span class='ee-v'>USDA/NAIP/DOQQ/m_4609915_sw_14_1_20140901</span></li><li><span class='ee-k'>version:</span><span class='ee-v'>1494360790504000.0</span></li><li><label class='ee-shut'>bands: List (4 elements)<input type='checkbox' class='ee-toggle'></label><ul><li><label class='ee-shut'>0: \"R\", unsigned int8, EPSG:26914, 5420x7580 px<input type='checkbox' class='ee-toggle'></label><ul><li><span class='ee-k'>id:</span><span class='ee-v'>R</span></li><li><span class='ee-k'>crs:</span><span class='ee-v'>EPSG:26914</span></li><li><label class='ee-shut'>crs_transform: [1, 0, 480590, 0, -1, 5184670]<input type='checkbox' class='ee-toggle'></label><ul><li><span class='ee-k'>0:</span><span class='ee-v'>1</span></li><li><span class='ee-k'>1:</span><span class='ee-v'>0</span></li><li><span class='ee-k'>2:</span><span class='ee-v'>480590</span></li><li><span class='ee-k'>3:</span><span class='ee-v'>0</span></li><li><span class='ee-k'>4:</span><span class='ee-v'>-1</span></li><li><span class='ee-k'>5:</span><span class='ee-v'>5184670</span></li></ul></li><li><label class='ee-shut'>data_type: unsigned int8<input type='checkbox' class='ee-toggle'></label><ul><li><span class='ee-k'>type:</span><span class='ee-v'>PixelType</span></li><li><span class='ee-k'>max:</span><span class='ee-v'>255</span></li><li><span class='ee-k'>min:</span><span class='ee-v'>0</span></li><li><span class='ee-k'>precision:</span><span class='ee-v'>int</span></li></ul></li><li><label class='ee-shut'>dimensions: [5420, 7580]<input type='checkbox' class='ee-toggle'></label><ul><li><span class='ee-k'>0:</span><span class='ee-v'>5420</span></li><li><span class='ee-k'>1:</span><span class='ee-v'>7580</span></li></ul></li></ul></li><li><label class='ee-shut'>1: \"G\", unsigned int8, EPSG:26914, 5420x7580 px<input type='checkbox' class='ee-toggle'></label><ul><li><span class='ee-k'>id:</span><span class='ee-v'>G</span></li><li><span class='ee-k'>crs:</span><span class='ee-v'>EPSG:26914</span></li><li><label class='ee-shut'>crs_transform: [1, 0, 480590, 0, -1, 5184670]<input type='checkbox' class='ee-toggle'></label><ul><li><span class='ee-k'>0:</span><span class='ee-v'>1</span></li><li><span class='ee-k'>1:</span><span class='ee-v'>0</span></li><li><span class='ee-k'>2:</span><span class='ee-v'>480590</span></li><li><span class='ee-k'>3:</span><span class='ee-v'>0</span></li><li><span class='ee-k'>4:</span><span class='ee-v'>-1</span></li><li><span class='ee-k'>5:</span><span class='ee-v'>5184670</span></li></ul></li><li><label class='ee-shut'>data_type: unsigned int8<input type='checkbox' class='ee-toggle'></label><ul><li><span class='ee-k'>type:</span><span class='ee-v'>PixelType</span></li><li><span class='ee-k'>max:</span><span class='ee-v'>255</span></li><li><span class='ee-k'>min:</span><span class='ee-v'>0</span></li><li><span class='ee-k'>precision:</span><span class='ee-v'>int</span></li></ul></li><li><label class='ee-shut'>dimensions: [5420, 7580]<input type='checkbox' class='ee-toggle'></label><ul><li><span class='ee-k'>0:</span><span class='ee-v'>5420</span></li><li><span class='ee-k'>1:</span><span class='ee-v'>7580</span></li></ul></li></ul></li><li><label class='ee-shut'>2: \"B\", unsigned int8, EPSG:26914, 5420x7580 px<input type='checkbox' class='ee-toggle'></label><ul><li><span class='ee-k'>id:</span><span class='ee-v'>B</span></li><li><span class='ee-k'>crs:</span><span class='ee-v'>EPSG:26914</span></li><li><label class='ee-shut'>crs_transform: [1, 0, 480590, 0, -1, 5184670]<input type='checkbox' class='ee-toggle'></label><ul><li><span class='ee-k'>0:</span><span class='ee-v'>1</span></li><li><span class='ee-k'>1:</span><span class='ee-v'>0</span></li><li><span class='ee-k'>2:</span><span class='ee-v'>480590</span></li><li><span class='ee-k'>3:</span><span class='ee-v'>0</span></li><li><span class='ee-k'>4:</span><span class='ee-v'>-1</span></li><li><span class='ee-k'>5:</span><span class='ee-v'>5184670</span></li></ul></li><li><label class='ee-shut'>data_type: unsigned int8<input type='checkbox' class='ee-toggle'></label><ul><li><span class='ee-k'>type:</span><span class='ee-v'>PixelType</span></li><li><span class='ee-k'>max:</span><span class='ee-v'>255</span></li><li><span class='ee-k'>min:</span><span class='ee-v'>0</span></li><li><span class='ee-k'>precision:</span><span class='ee-v'>int</span></li></ul></li><li><label class='ee-shut'>dimensions: [5420, 7580]<input type='checkbox' class='ee-toggle'></label><ul><li><span class='ee-k'>0:</span><span class='ee-v'>5420</span></li><li><span class='ee-k'>1:</span><span class='ee-v'>7580</span></li></ul></li></ul></li><li><label class='ee-shut'>3: \"N\", unsigned int8, EPSG:26914, 5420x7580 px<input type='checkbox' class='ee-toggle'></label><ul><li><span class='ee-k'>id:</span><span class='ee-v'>N</span></li><li><span class='ee-k'>crs:</span><span class='ee-v'>EPSG:26914</span></li><li><label class='ee-shut'>crs_transform: [1, 0, 480590, 0, -1, 5184670]<input type='checkbox' class='ee-toggle'></label><ul><li><span class='ee-k'>0:</span><span class='ee-v'>1</span></li><li><span class='ee-k'>1:</span><span class='ee-v'>0</span></li><li><span class='ee-k'>2:</span><span class='ee-v'>480590</span></li><li><span class='ee-k'>3:</span><span class='ee-v'>0</span></li><li><span class='ee-k'>4:</span><span class='ee-v'>-1</span></li><li><span class='ee-k'>5:</span><span class='ee-v'>5184670</span></li></ul></li><li><label class='ee-shut'>data_type: unsigned int8<input type='checkbox' class='ee-toggle'></label><ul><li><span class='ee-k'>type:</span><span class='ee-v'>PixelType</span></li><li><span class='ee-k'>max:</span><span class='ee-v'>255</span></li><li><span class='ee-k'>min:</span><span class='ee-v'>0</span></li><li><span class='ee-k'>precision:</span><span class='ee-v'>int</span></li></ul></li><li><label class='ee-shut'>dimensions: [5420, 7580]<input type='checkbox' class='ee-toggle'></label><ul><li><span class='ee-k'>0:</span><span class='ee-v'>5420</span></li><li><span class='ee-k'>1:</span><span class='ee-v'>7580</span></li></ul></li></ul></li></ul></li><li><label class='ee-shut'>properties: Object (5 properties)<input type='checkbox' class='ee-toggle'></label><ul><li><span class='ee-k'>system:asset_size:</span><span class='ee-v'>147600428</span></li><li><label class='ee-shut'>system:footprint: LinearRing (5 vertices)<input type='checkbox' class='ee-toggle'></label><ul><li><span class='ee-k'>type:</span><span class='ee-v'>LinearRing</span></li><li><label class='ee-shut'>coordinates: List (5 elements)<input type='checkbox' class='ee-toggle'></label><ul><li><label class='ee-shut'>0: [-99.25411222013392, 46.8154284414004]<input type='checkbox' class='ee-toggle'></label><ul><li><span class='ee-k'>0:</span><span class='ee-v'>-99.25411222013392</span></li><li><span class='ee-k'>1:</span><span class='ee-v'>46.8154284414004</span></li></ul></li><li><label class='ee-shut'>1: [-99.25411222540929, 46.74707999315183]<input type='checkbox' class='ee-toggle'></label><ul><li><span class='ee-k'>0:</span><span class='ee-v'>-99.25411222540929</span></li><li><span class='ee-k'>1:</span><span class='ee-v'>46.74707999315183</span></li></ul></li><li><label class='ee-shut'>2: [-99.18338646318341, 46.747079977337044]<input type='checkbox' class='ee-toggle'></label><ul><li><span class='ee-k'>0:</span><span class='ee-v'>-99.18338646318341</span></li><li><span class='ee-k'>1:</span><span class='ee-v'>46.747079977337044</span></li></ul></li><li><label class='ee-shut'>3: [-99.18338649392648, 46.815428476551695]<input type='checkbox' class='ee-toggle'></label><ul><li><span class='ee-k'>0:</span><span class='ee-v'>-99.18338649392648</span></li><li><span class='ee-k'>1:</span><span class='ee-v'>46.815428476551695</span></li></ul></li><li><label class='ee-shut'>4: [-99.25411222013392, 46.8154284414004]<input type='checkbox' class='ee-toggle'></label><ul><li><span class='ee-k'>0:</span><span class='ee-v'>-99.25411222013392</span></li><li><span class='ee-k'>1:</span><span class='ee-v'>46.8154284414004</span></li></ul></li></ul></li></ul></li><li><span class='ee-k'>system:index:</span><span class='ee-v'>m_4609915_sw_14_1_20140901</span></li><li><span class='ee-k'>system:time_end:</span><span class='ee-v'>1409616000000</span></li><li><span class='ee-k'>system:time_start:</span><span class='ee-v'>1409529600000</span></li></ul></li></ul></li><li><label class='ee-shut'>4: Image USDA/NAIP/DOQQ/m_4609915_sw_14_1_20150926 (4 bands)<input type='checkbox' class='ee-toggle'></label><ul><li><span class='ee-k'>type:</span><span class='ee-v'>Image</span></li><li><span class='ee-k'>id:</span><span class='ee-v'>USDA/NAIP/DOQQ/m_4609915_sw_14_1_20150926</span></li><li><span class='ee-k'>version:</span><span class='ee-v'>1494279704708000.0</span></li><li><label class='ee-shut'>bands: List (4 elements)<input type='checkbox' class='ee-toggle'></label><ul><li><label class='ee-shut'>0: \"R\", unsigned int8, EPSG:26914, 5420x7580 px<input type='checkbox' class='ee-toggle'></label><ul><li><span class='ee-k'>id:</span><span class='ee-v'>R</span></li><li><span class='ee-k'>crs:</span><span class='ee-v'>EPSG:26914</span></li><li><label class='ee-shut'>crs_transform: [1, 0, 480590, 0, -1, 5184670]<input type='checkbox' class='ee-toggle'></label><ul><li><span class='ee-k'>0:</span><span class='ee-v'>1</span></li><li><span class='ee-k'>1:</span><span class='ee-v'>0</span></li><li><span class='ee-k'>2:</span><span class='ee-v'>480590</span></li><li><span class='ee-k'>3:</span><span class='ee-v'>0</span></li><li><span class='ee-k'>4:</span><span class='ee-v'>-1</span></li><li><span class='ee-k'>5:</span><span class='ee-v'>5184670</span></li></ul></li><li><label class='ee-shut'>data_type: unsigned int8<input type='checkbox' class='ee-toggle'></label><ul><li><span class='ee-k'>type:</span><span class='ee-v'>PixelType</span></li><li><span class='ee-k'>max:</span><span class='ee-v'>255</span></li><li><span class='ee-k'>min:</span><span class='ee-v'>0</span></li><li><span class='ee-k'>precision:</span><span class='ee-v'>int</span></li></ul></li><li><label class='ee-shut'>dimensions: [5420, 7580]<input type='checkbox' class='ee-toggle'></label><ul><li><span class='ee-k'>0:</span><span class='ee-v'>5420</span></li><li><span class='ee-k'>1:</span><span class='ee-v'>7580</span></li></ul></li></ul></li><li><label class='ee-shut'>1: \"G\", unsigned int8, EPSG:26914, 5420x7580 px<input type='checkbox' class='ee-toggle'></label><ul><li><span class='ee-k'>id:</span><span class='ee-v'>G</span></li><li><span class='ee-k'>crs:</span><span class='ee-v'>EPSG:26914</span></li><li><label class='ee-shut'>crs_transform: [1, 0, 480590, 0, -1, 5184670]<input type='checkbox' class='ee-toggle'></label><ul><li><span class='ee-k'>0:</span><span class='ee-v'>1</span></li><li><span class='ee-k'>1:</span><span class='ee-v'>0</span></li><li><span class='ee-k'>2:</span><span class='ee-v'>480590</span></li><li><span class='ee-k'>3:</span><span class='ee-v'>0</span></li><li><span class='ee-k'>4:</span><span class='ee-v'>-1</span></li><li><span class='ee-k'>5:</span><span class='ee-v'>5184670</span></li></ul></li><li><label class='ee-shut'>data_type: unsigned int8<input type='checkbox' class='ee-toggle'></label><ul><li><span class='ee-k'>type:</span><span class='ee-v'>PixelType</span></li><li><span class='ee-k'>max:</span><span class='ee-v'>255</span></li><li><span class='ee-k'>min:</span><span class='ee-v'>0</span></li><li><span class='ee-k'>precision:</span><span class='ee-v'>int</span></li></ul></li><li><label class='ee-shut'>dimensions: [5420, 7580]<input type='checkbox' class='ee-toggle'></label><ul><li><span class='ee-k'>0:</span><span class='ee-v'>5420</span></li><li><span class='ee-k'>1:</span><span class='ee-v'>7580</span></li></ul></li></ul></li><li><label class='ee-shut'>2: \"B\", unsigned int8, EPSG:26914, 5420x7580 px<input type='checkbox' class='ee-toggle'></label><ul><li><span class='ee-k'>id:</span><span class='ee-v'>B</span></li><li><span class='ee-k'>crs:</span><span class='ee-v'>EPSG:26914</span></li><li><label class='ee-shut'>crs_transform: [1, 0, 480590, 0, -1, 5184670]<input type='checkbox' class='ee-toggle'></label><ul><li><span class='ee-k'>0:</span><span class='ee-v'>1</span></li><li><span class='ee-k'>1:</span><span class='ee-v'>0</span></li><li><span class='ee-k'>2:</span><span class='ee-v'>480590</span></li><li><span class='ee-k'>3:</span><span class='ee-v'>0</span></li><li><span class='ee-k'>4:</span><span class='ee-v'>-1</span></li><li><span class='ee-k'>5:</span><span class='ee-v'>5184670</span></li></ul></li><li><label class='ee-shut'>data_type: unsigned int8<input type='checkbox' class='ee-toggle'></label><ul><li><span class='ee-k'>type:</span><span class='ee-v'>PixelType</span></li><li><span class='ee-k'>max:</span><span class='ee-v'>255</span></li><li><span class='ee-k'>min:</span><span class='ee-v'>0</span></li><li><span class='ee-k'>precision:</span><span class='ee-v'>int</span></li></ul></li><li><label class='ee-shut'>dimensions: [5420, 7580]<input type='checkbox' class='ee-toggle'></label><ul><li><span class='ee-k'>0:</span><span class='ee-v'>5420</span></li><li><span class='ee-k'>1:</span><span class='ee-v'>7580</span></li></ul></li></ul></li><li><label class='ee-shut'>3: \"N\", unsigned int8, EPSG:26914, 5420x7580 px<input type='checkbox' class='ee-toggle'></label><ul><li><span class='ee-k'>id:</span><span class='ee-v'>N</span></li><li><span class='ee-k'>crs:</span><span class='ee-v'>EPSG:26914</span></li><li><label class='ee-shut'>crs_transform: [1, 0, 480590, 0, -1, 5184670]<input type='checkbox' class='ee-toggle'></label><ul><li><span class='ee-k'>0:</span><span class='ee-v'>1</span></li><li><span class='ee-k'>1:</span><span class='ee-v'>0</span></li><li><span class='ee-k'>2:</span><span class='ee-v'>480590</span></li><li><span class='ee-k'>3:</span><span class='ee-v'>0</span></li><li><span class='ee-k'>4:</span><span class='ee-v'>-1</span></li><li><span class='ee-k'>5:</span><span class='ee-v'>5184670</span></li></ul></li><li><label class='ee-shut'>data_type: unsigned int8<input type='checkbox' class='ee-toggle'></label><ul><li><span class='ee-k'>type:</span><span class='ee-v'>PixelType</span></li><li><span class='ee-k'>max:</span><span class='ee-v'>255</span></li><li><span class='ee-k'>min:</span><span class='ee-v'>0</span></li><li><span class='ee-k'>precision:</span><span class='ee-v'>int</span></li></ul></li><li><label class='ee-shut'>dimensions: [5420, 7580]<input type='checkbox' class='ee-toggle'></label><ul><li><span class='ee-k'>0:</span><span class='ee-v'>5420</span></li><li><span class='ee-k'>1:</span><span class='ee-v'>7580</span></li></ul></li></ul></li></ul></li><li><label class='ee-shut'>properties: Object (5 properties)<input type='checkbox' class='ee-toggle'></label><ul><li><span class='ee-k'>system:asset_size:</span><span class='ee-v'>144505855</span></li><li><label class='ee-shut'>system:footprint: LinearRing (5 vertices)<input type='checkbox' class='ee-toggle'></label><ul><li><span class='ee-k'>type:</span><span class='ee-v'>LinearRing</span></li><li><label class='ee-shut'>coordinates: List (5 elements)<input type='checkbox' class='ee-toggle'></label><ul><li><label class='ee-shut'>0: [-99.25411222013392, 46.8154284414004]<input type='checkbox' class='ee-toggle'></label><ul><li><span class='ee-k'>0:</span><span class='ee-v'>-99.25411222013392</span></li><li><span class='ee-k'>1:</span><span class='ee-v'>46.8154284414004</span></li></ul></li><li><label class='ee-shut'>1: [-99.25411222540929, 46.74707999315183]<input type='checkbox' class='ee-toggle'></label><ul><li><span class='ee-k'>0:</span><span class='ee-v'>-99.25411222540929</span></li><li><span class='ee-k'>1:</span><span class='ee-v'>46.74707999315183</span></li></ul></li><li><label class='ee-shut'>2: [-99.18338646318341, 46.747079977337044]<input type='checkbox' class='ee-toggle'></label><ul><li><span class='ee-k'>0:</span><span class='ee-v'>-99.18338646318341</span></li><li><span class='ee-k'>1:</span><span class='ee-v'>46.747079977337044</span></li></ul></li><li><label class='ee-shut'>3: [-99.18338649392648, 46.815428476551695]<input type='checkbox' class='ee-toggle'></label><ul><li><span class='ee-k'>0:</span><span class='ee-v'>-99.18338649392648</span></li><li><span class='ee-k'>1:</span><span class='ee-v'>46.815428476551695</span></li></ul></li><li><label class='ee-shut'>4: [-99.25411222013392, 46.8154284414004]<input type='checkbox' class='ee-toggle'></label><ul><li><span class='ee-k'>0:</span><span class='ee-v'>-99.25411222013392</span></li><li><span class='ee-k'>1:</span><span class='ee-v'>46.8154284414004</span></li></ul></li></ul></li></ul></li><li><span class='ee-k'>system:index:</span><span class='ee-v'>m_4609915_sw_14_1_20150926</span></li><li><span class='ee-k'>system:time_end:</span><span class='ee-v'>1443312000000</span></li><li><span class='ee-k'>system:time_start:</span><span class='ee-v'>1443225600000</span></li></ul></li></ul></li><li><label class='ee-shut'>5: Image USDA/NAIP/DOQQ/m_4609915_sw_14_h_20160704 (4 bands)<input type='checkbox' class='ee-toggle'></label><ul><li><span class='ee-k'>type:</span><span class='ee-v'>Image</span></li><li><span class='ee-k'>id:</span><span class='ee-v'>USDA/NAIP/DOQQ/m_4609915_sw_14_h_20160704</span></li><li><span class='ee-k'>version:</span><span class='ee-v'>1625334001645061</span></li><li><label class='ee-shut'>bands: List (4 elements)<input type='checkbox' class='ee-toggle'></label><ul><li><label class='ee-shut'>0: \"R\", unsigned int8, EPSG:26914, 8984x12597 px<input type='checkbox' class='ee-toggle'></label><ul><li><span class='ee-k'>id:</span><span class='ee-v'>R</span></li><li><span class='ee-k'>crs:</span><span class='ee-v'>EPSG:26914</span></li><li><label class='ee-shut'>crs_transform: List (6 elements)<input type='checkbox' class='ee-toggle'></label><ul><li><span class='ee-k'>0:</span><span class='ee-v'>0.5999999999999961</span></li><li><span class='ee-k'>1:</span><span class='ee-v'>0</span></li><li><span class='ee-k'>2:</span><span class='ee-v'>480605.4</span></li><li><span class='ee-k'>3:</span><span class='ee-v'>0</span></li><li><span class='ee-k'>4:</span><span class='ee-v'>-0.6000000000000147</span></li><li><span class='ee-k'>5:</span><span class='ee-v'>5184658.2</span></li></ul></li><li><label class='ee-shut'>data_type: unsigned int8<input type='checkbox' class='ee-toggle'></label><ul><li><span class='ee-k'>type:</span><span class='ee-v'>PixelType</span></li><li><span class='ee-k'>max:</span><span class='ee-v'>255</span></li><li><span class='ee-k'>min:</span><span class='ee-v'>0</span></li><li><span class='ee-k'>precision:</span><span class='ee-v'>int</span></li></ul></li><li><label class='ee-shut'>dimensions: [8984, 12597]<input type='checkbox' class='ee-toggle'></label><ul><li><span class='ee-k'>0:</span><span class='ee-v'>8984</span></li><li><span class='ee-k'>1:</span><span class='ee-v'>12597</span></li></ul></li></ul></li><li><label class='ee-shut'>1: \"G\", unsigned int8, EPSG:26914, 8984x12597 px<input type='checkbox' class='ee-toggle'></label><ul><li><span class='ee-k'>id:</span><span class='ee-v'>G</span></li><li><span class='ee-k'>crs:</span><span class='ee-v'>EPSG:26914</span></li><li><label class='ee-shut'>crs_transform: List (6 elements)<input type='checkbox' class='ee-toggle'></label><ul><li><span class='ee-k'>0:</span><span class='ee-v'>0.5999999999999961</span></li><li><span class='ee-k'>1:</span><span class='ee-v'>0</span></li><li><span class='ee-k'>2:</span><span class='ee-v'>480605.4</span></li><li><span class='ee-k'>3:</span><span class='ee-v'>0</span></li><li><span class='ee-k'>4:</span><span class='ee-v'>-0.6000000000000147</span></li><li><span class='ee-k'>5:</span><span class='ee-v'>5184658.2</span></li></ul></li><li><label class='ee-shut'>data_type: unsigned int8<input type='checkbox' class='ee-toggle'></label><ul><li><span class='ee-k'>type:</span><span class='ee-v'>PixelType</span></li><li><span class='ee-k'>max:</span><span class='ee-v'>255</span></li><li><span class='ee-k'>min:</span><span class='ee-v'>0</span></li><li><span class='ee-k'>precision:</span><span class='ee-v'>int</span></li></ul></li><li><label class='ee-shut'>dimensions: [8984, 12597]<input type='checkbox' class='ee-toggle'></label><ul><li><span class='ee-k'>0:</span><span class='ee-v'>8984</span></li><li><span class='ee-k'>1:</span><span class='ee-v'>12597</span></li></ul></li></ul></li><li><label class='ee-shut'>2: \"B\", unsigned int8, EPSG:26914, 8984x12597 px<input type='checkbox' class='ee-toggle'></label><ul><li><span class='ee-k'>id:</span><span class='ee-v'>B</span></li><li><span class='ee-k'>crs:</span><span class='ee-v'>EPSG:26914</span></li><li><label class='ee-shut'>crs_transform: List (6 elements)<input type='checkbox' class='ee-toggle'></label><ul><li><span class='ee-k'>0:</span><span class='ee-v'>0.5999999999999961</span></li><li><span class='ee-k'>1:</span><span class='ee-v'>0</span></li><li><span class='ee-k'>2:</span><span class='ee-v'>480605.4</span></li><li><span class='ee-k'>3:</span><span class='ee-v'>0</span></li><li><span class='ee-k'>4:</span><span class='ee-v'>-0.6000000000000147</span></li><li><span class='ee-k'>5:</span><span class='ee-v'>5184658.2</span></li></ul></li><li><label class='ee-shut'>data_type: unsigned int8<input type='checkbox' class='ee-toggle'></label><ul><li><span class='ee-k'>type:</span><span class='ee-v'>PixelType</span></li><li><span class='ee-k'>max:</span><span class='ee-v'>255</span></li><li><span class='ee-k'>min:</span><span class='ee-v'>0</span></li><li><span class='ee-k'>precision:</span><span class='ee-v'>int</span></li></ul></li><li><label class='ee-shut'>dimensions: [8984, 12597]<input type='checkbox' class='ee-toggle'></label><ul><li><span class='ee-k'>0:</span><span class='ee-v'>8984</span></li><li><span class='ee-k'>1:</span><span class='ee-v'>12597</span></li></ul></li></ul></li><li><label class='ee-shut'>3: \"N\", unsigned int8, EPSG:26914, 8984x12597 px<input type='checkbox' class='ee-toggle'></label><ul><li><span class='ee-k'>id:</span><span class='ee-v'>N</span></li><li><span class='ee-k'>crs:</span><span class='ee-v'>EPSG:26914</span></li><li><label class='ee-shut'>crs_transform: List (6 elements)<input type='checkbox' class='ee-toggle'></label><ul><li><span class='ee-k'>0:</span><span class='ee-v'>0.5999999999999961</span></li><li><span class='ee-k'>1:</span><span class='ee-v'>0</span></li><li><span class='ee-k'>2:</span><span class='ee-v'>480605.4</span></li><li><span class='ee-k'>3:</span><span class='ee-v'>0</span></li><li><span class='ee-k'>4:</span><span class='ee-v'>-0.6000000000000147</span></li><li><span class='ee-k'>5:</span><span class='ee-v'>5184658.2</span></li></ul></li><li><label class='ee-shut'>data_type: unsigned int8<input type='checkbox' class='ee-toggle'></label><ul><li><span class='ee-k'>type:</span><span class='ee-v'>PixelType</span></li><li><span class='ee-k'>max:</span><span class='ee-v'>255</span></li><li><span class='ee-k'>min:</span><span class='ee-v'>0</span></li><li><span class='ee-k'>precision:</span><span class='ee-v'>int</span></li></ul></li><li><label class='ee-shut'>dimensions: [8984, 12597]<input type='checkbox' class='ee-toggle'></label><ul><li><span class='ee-k'>0:</span><span class='ee-v'>8984</span></li><li><span class='ee-k'>1:</span><span class='ee-v'>12597</span></li></ul></li></ul></li></ul></li><li><label class='ee-shut'>properties: Object (5 properties)<input type='checkbox' class='ee-toggle'></label><ul><li><span class='ee-k'>system:asset_size:</span><span class='ee-v'>427897424</span></li><li><label class='ee-shut'>system:footprint: LinearRing (19 vertices)<input type='checkbox' class='ee-toggle'></label><ul><li><span class='ee-k'>type:</span><span class='ee-v'>LinearRing</span></li><li><label class='ee-shut'>coordinates: List (19 elements)<input type='checkbox' class='ee-toggle'></label><ul><li><label class='ee-shut'>0: [-99.25391208979275, 46.74718123456603]<input type='checkbox' class='ee-toggle'></label><ul><li><span class='ee-k'>0:</span><span class='ee-v'>-99.25391208979275</span></li><li><span class='ee-k'>1:</span><span class='ee-v'>46.74718123456603</span></li></ul></li><li><label class='ee-shut'>1: [-99.25391107614081, 46.74718124258749]<input type='checkbox' class='ee-toggle'></label><ul><li><span class='ee-k'>0:</span><span class='ee-v'>-99.25391107614081</span></li><li><span class='ee-k'>1:</span><span class='ee-v'>46.74718124258749</span></li></ul></li><li><label class='ee-shut'>2: [-99.18338052562748, 46.74731598468897]<input type='checkbox' class='ee-toggle'></label><ul><li><span class='ee-k'>0:</span><span class='ee-v'>-99.18338052562748</span></li><li><span class='ee-k'>1:</span><span class='ee-v'>46.74731598468897</span></li></ul></li><li><label class='ee-shut'>3: [-99.18337691040674, 46.74731821059946]<input type='checkbox' class='ee-toggle'></label><ul><li><span class='ee-k'>0:</span><span class='ee-v'>-99.18337691040674</span></li><li><span class='ee-k'>1:</span><span class='ee-v'>46.74731821059946</span></li></ul></li><li><label class='ee-shut'>4: [-99.18337288454308, 46.7473200232827]<input type='checkbox' class='ee-toggle'></label><ul><li><span class='ee-k'>0:</span><span class='ee-v'>-99.18337288454308</span></li><li><span class='ee-k'>1:</span><span class='ee-v'>46.7473200232827</span></li></ul></li><li><label class='ee-shut'>5: [-99.18337262689384, 46.747320936789]<input type='checkbox' class='ee-toggle'></label><ul><li><span class='ee-k'>0:</span><span class='ee-v'>-99.18337262689384</span></li><li><span class='ee-k'>1:</span><span class='ee-v'>46.747320936789</span></li></ul></li><li><label class='ee-shut'>6: [-99.18360370837972, 46.815321932777664]<input type='checkbox' class='ee-toggle'></label><ul><li><span class='ee-k'>0:</span><span class='ee-v'>-99.18360370837972</span></li><li><span class='ee-k'>1:</span><span class='ee-v'>46.815321932777664</span></li></ul></li><li><label class='ee-shut'>7: [-99.18360689752801, 46.81532435728816]<input type='checkbox' class='ee-toggle'></label><ul><li><span class='ee-k'>0:</span><span class='ee-v'>-99.18360689752801</span></li><li><span class='ee-k'>1:</span><span class='ee-v'>46.81532435728816</span></li></ul></li><li><label class='ee-shut'>8: [-99.18360964020582, 46.815327115793615]<input type='checkbox' class='ee-toggle'></label><ul><li><span class='ee-k'>0:</span><span class='ee-v'>-99.18360964020582</span></li><li><span class='ee-k'>1:</span><span class='ee-v'>46.815327115793615</span></li></ul></li><li><label class='ee-shut'>9: [-99.18361061169178, 46.815327260903096]<input type='checkbox' class='ee-toggle'></label><ul><li><span class='ee-k'>0:</span><span class='ee-v'>-99.18361061169178</span></li><li><span class='ee-k'>1:</span><span class='ee-v'>46.815327260903096</span></li></ul></li><li><label class='ee-shut'>10: [-99.18361155965697, 46.815327333415915]<input type='checkbox' class='ee-toggle'></label><ul><li><span class='ee-k'>0:</span><span class='ee-v'>-99.18361155965697</span></li><li><span class='ee-k'>1:</span><span class='ee-v'>46.815327333415915</span></li></ul></li><li><label class='ee-shut'>11: [-99.25423097615506, 46.81519222075765]<input type='checkbox' class='ee-toggle'></label><ul><li><span class='ee-k'>0:</span><span class='ee-v'>-99.25423097615506</span></li><li><span class='ee-k'>1:</span><span class='ee-v'>46.81519222075765</span></li></ul></li><li><label class='ee-shut'>12: [-99.25423462217569, 46.81519006173482]<input type='checkbox' class='ee-toggle'></label><ul><li><span class='ee-k'>0:</span><span class='ee-v'>-99.25423462217569</span></li><li><span class='ee-k'>1:</span><span class='ee-v'>46.81519006173482</span></li></ul></li><li><label class='ee-shut'>13: [-99.25423863353026, 46.81518817102209]<input type='checkbox' class='ee-toggle'></label><ul><li><span class='ee-k'>0:</span><span class='ee-v'>-99.25423863353026</span></li><li><span class='ee-k'>1:</span><span class='ee-v'>46.81518817102209</span></li></ul></li><li><label class='ee-shut'>14: [-99.25423889023313, 46.81518725611041]<input type='checkbox' class='ee-toggle'></label><ul><li><span class='ee-k'>0:</span><span class='ee-v'>-99.25423889023313</span></li><li><span class='ee-k'>1:</span><span class='ee-v'>46.81518725611041</span></li></ul></li><li><label class='ee-shut'>15: [-99.2539190226919, 46.74718662301701]<input type='checkbox' class='ee-toggle'></label><ul><li><span class='ee-k'>0:</span><span class='ee-v'>-99.2539190226919</span></li><li><span class='ee-k'>1:</span><span class='ee-v'>46.74718662301701</span></li></ul></li><li><label class='ee-shut'>16: [-99.25391580722578, 46.747184131590245]<input type='checkbox' class='ee-toggle'></label><ul><li><span class='ee-k'>0:</span><span class='ee-v'>-99.25391580722578</span></li><li><span class='ee-k'>1:</span><span class='ee-v'>46.747184131590245</span></li></ul></li><li><label class='ee-shut'>17: [-99.25391306076932, 46.74718137881943]<input type='checkbox' class='ee-toggle'></label><ul><li><span class='ee-k'>0:</span><span class='ee-v'>-99.25391306076932</span></li><li><span class='ee-k'>1:</span><span class='ee-v'>46.74718137881943</span></li></ul></li><li><label class='ee-shut'>18: [-99.25391208979275, 46.74718123456603]<input type='checkbox' class='ee-toggle'></label><ul><li><span class='ee-k'>0:</span><span class='ee-v'>-99.25391208979275</span></li><li><span class='ee-k'>1:</span><span class='ee-v'>46.74718123456603</span></li></ul></li></ul></li></ul></li><li><span class='ee-k'>system:index:</span><span class='ee-v'>m_4609915_sw_14_h_20160704</span></li><li><span class='ee-k'>system:time_end:</span><span class='ee-v'>1467590400000</span></li><li><span class='ee-k'>system:time_start:</span><span class='ee-v'>1467590400000</span></li></ul></li></ul></li><li><label class='ee-shut'>6: Image USDA/NAIP/DOQQ/m_4609915_sw_14_h_20170703 (4 bands)<input type='checkbox' class='ee-toggle'></label><ul><li><span class='ee-k'>type:</span><span class='ee-v'>Image</span></li><li><span class='ee-k'>id:</span><span class='ee-v'>USDA/NAIP/DOQQ/m_4609915_sw_14_h_20170703</span></li><li><span class='ee-k'>version:</span><span class='ee-v'>1526755763143829</span></li><li><label class='ee-shut'>bands: List (4 elements)<input type='checkbox' class='ee-toggle'></label><ul><li><label class='ee-shut'>0: \"R\", unsigned int8, EPSG:26914, 8500x12100 px<input type='checkbox' class='ee-toggle'></label><ul><li><span class='ee-k'>id:</span><span class='ee-v'>R</span></li><li><span class='ee-k'>crs:</span><span class='ee-v'>EPSG:26914</span></li><li><label class='ee-shut'>crs_transform: [0.6, 0, 480750, 0, -0.6, 5184510]<input type='checkbox' class='ee-toggle'></label><ul><li><span class='ee-k'>0:</span><span class='ee-v'>0.6</span></li><li><span class='ee-k'>1:</span><span class='ee-v'>0</span></li><li><span class='ee-k'>2:</span><span class='ee-v'>480750</span></li><li><span class='ee-k'>3:</span><span class='ee-v'>0</span></li><li><span class='ee-k'>4:</span><span class='ee-v'>-0.6</span></li><li><span class='ee-k'>5:</span><span class='ee-v'>5184510</span></li></ul></li><li><label class='ee-shut'>data_type: unsigned int8<input type='checkbox' class='ee-toggle'></label><ul><li><span class='ee-k'>type:</span><span class='ee-v'>PixelType</span></li><li><span class='ee-k'>max:</span><span class='ee-v'>255</span></li><li><span class='ee-k'>min:</span><span class='ee-v'>0</span></li><li><span class='ee-k'>precision:</span><span class='ee-v'>int</span></li></ul></li><li><label class='ee-shut'>dimensions: [8500, 12100]<input type='checkbox' class='ee-toggle'></label><ul><li><span class='ee-k'>0:</span><span class='ee-v'>8500</span></li><li><span class='ee-k'>1:</span><span class='ee-v'>12100</span></li></ul></li></ul></li><li><label class='ee-shut'>1: \"G\", unsigned int8, EPSG:26914, 8500x12100 px<input type='checkbox' class='ee-toggle'></label><ul><li><span class='ee-k'>id:</span><span class='ee-v'>G</span></li><li><span class='ee-k'>crs:</span><span class='ee-v'>EPSG:26914</span></li><li><label class='ee-shut'>crs_transform: [0.6, 0, 480750, 0, -0.6, 5184510]<input type='checkbox' class='ee-toggle'></label><ul><li><span class='ee-k'>0:</span><span class='ee-v'>0.6</span></li><li><span class='ee-k'>1:</span><span class='ee-v'>0</span></li><li><span class='ee-k'>2:</span><span class='ee-v'>480750</span></li><li><span class='ee-k'>3:</span><span class='ee-v'>0</span></li><li><span class='ee-k'>4:</span><span class='ee-v'>-0.6</span></li><li><span class='ee-k'>5:</span><span class='ee-v'>5184510</span></li></ul></li><li><label class='ee-shut'>data_type: unsigned int8<input type='checkbox' class='ee-toggle'></label><ul><li><span class='ee-k'>type:</span><span class='ee-v'>PixelType</span></li><li><span class='ee-k'>max:</span><span class='ee-v'>255</span></li><li><span class='ee-k'>min:</span><span class='ee-v'>0</span></li><li><span class='ee-k'>precision:</span><span class='ee-v'>int</span></li></ul></li><li><label class='ee-shut'>dimensions: [8500, 12100]<input type='checkbox' class='ee-toggle'></label><ul><li><span class='ee-k'>0:</span><span class='ee-v'>8500</span></li><li><span class='ee-k'>1:</span><span class='ee-v'>12100</span></li></ul></li></ul></li><li><label class='ee-shut'>2: \"B\", unsigned int8, EPSG:26914, 8500x12100 px<input type='checkbox' class='ee-toggle'></label><ul><li><span class='ee-k'>id:</span><span class='ee-v'>B</span></li><li><span class='ee-k'>crs:</span><span class='ee-v'>EPSG:26914</span></li><li><label class='ee-shut'>crs_transform: [0.6, 0, 480750, 0, -0.6, 5184510]<input type='checkbox' class='ee-toggle'></label><ul><li><span class='ee-k'>0:</span><span class='ee-v'>0.6</span></li><li><span class='ee-k'>1:</span><span class='ee-v'>0</span></li><li><span class='ee-k'>2:</span><span class='ee-v'>480750</span></li><li><span class='ee-k'>3:</span><span class='ee-v'>0</span></li><li><span class='ee-k'>4:</span><span class='ee-v'>-0.6</span></li><li><span class='ee-k'>5:</span><span class='ee-v'>5184510</span></li></ul></li><li><label class='ee-shut'>data_type: unsigned int8<input type='checkbox' class='ee-toggle'></label><ul><li><span class='ee-k'>type:</span><span class='ee-v'>PixelType</span></li><li><span class='ee-k'>max:</span><span class='ee-v'>255</span></li><li><span class='ee-k'>min:</span><span class='ee-v'>0</span></li><li><span class='ee-k'>precision:</span><span class='ee-v'>int</span></li></ul></li><li><label class='ee-shut'>dimensions: [8500, 12100]<input type='checkbox' class='ee-toggle'></label><ul><li><span class='ee-k'>0:</span><span class='ee-v'>8500</span></li><li><span class='ee-k'>1:</span><span class='ee-v'>12100</span></li></ul></li></ul></li><li><label class='ee-shut'>3: \"N\", unsigned int8, EPSG:26914, 8500x12100 px<input type='checkbox' class='ee-toggle'></label><ul><li><span class='ee-k'>id:</span><span class='ee-v'>N</span></li><li><span class='ee-k'>crs:</span><span class='ee-v'>EPSG:26914</span></li><li><label class='ee-shut'>crs_transform: [0.6, 0, 480750, 0, -0.6, 5184510]<input type='checkbox' class='ee-toggle'></label><ul><li><span class='ee-k'>0:</span><span class='ee-v'>0.6</span></li><li><span class='ee-k'>1:</span><span class='ee-v'>0</span></li><li><span class='ee-k'>2:</span><span class='ee-v'>480750</span></li><li><span class='ee-k'>3:</span><span class='ee-v'>0</span></li><li><span class='ee-k'>4:</span><span class='ee-v'>-0.6</span></li><li><span class='ee-k'>5:</span><span class='ee-v'>5184510</span></li></ul></li><li><label class='ee-shut'>data_type: unsigned int8<input type='checkbox' class='ee-toggle'></label><ul><li><span class='ee-k'>type:</span><span class='ee-v'>PixelType</span></li><li><span class='ee-k'>max:</span><span class='ee-v'>255</span></li><li><span class='ee-k'>min:</span><span class='ee-v'>0</span></li><li><span class='ee-k'>precision:</span><span class='ee-v'>int</span></li></ul></li><li><label class='ee-shut'>dimensions: [8500, 12100]<input type='checkbox' class='ee-toggle'></label><ul><li><span class='ee-k'>0:</span><span class='ee-v'>8500</span></li><li><span class='ee-k'>1:</span><span class='ee-v'>12100</span></li></ul></li></ul></li></ul></li><li><label class='ee-shut'>properties: Object (5 properties)<input type='checkbox' class='ee-toggle'></label><ul><li><span class='ee-k'>system:asset_size:</span><span class='ee-v'>360076022</span></li><li><label class='ee-shut'>system:footprint: LinearRing (19 vertices)<input type='checkbox' class='ee-toggle'></label><ul><li><span class='ee-k'>type:</span><span class='ee-v'>LinearRing</span></li><li><label class='ee-shut'>coordinates: List (19 elements)<input type='checkbox' class='ee-toggle'></label><ul><li><label class='ee-shut'>0: [-99.2520252826305, 46.74854071881755]<input type='checkbox' class='ee-toggle'></label><ul><li><span class='ee-k'>0:</span><span class='ee-v'>-99.2520252826305</span></li><li><span class='ee-k'>1:</span><span class='ee-v'>46.74854071881755</span></li></ul></li><li><label class='ee-shut'>1: [-99.2520243353113, 46.74854064702312]<input type='checkbox' class='ee-toggle'></label><ul><li><span class='ee-k'>0:</span><span class='ee-v'>-99.2520243353113</span></li><li><span class='ee-k'>1:</span><span class='ee-v'>46.74854064702312</span></li></ul></li><li><label class='ee-shut'>2: [-99.1852860703896, 46.748668187523364]<input type='checkbox' class='ee-toggle'></label><ul><li><span class='ee-k'>0:</span><span class='ee-v'>-99.1852860703896</span></li><li><span class='ee-k'>1:</span><span class='ee-v'>46.748668187523364</span></li></ul></li><li><label class='ee-shut'>3: [-99.18528245503045, 46.74867041356458]<input type='checkbox' class='ee-toggle'></label><ul><li><span class='ee-k'>0:</span><span class='ee-v'>-99.18528245503045</span></li><li><span class='ee-k'>1:</span><span class='ee-v'>46.74867041356458</span></li></ul></li><li><label class='ee-shut'>4: [-99.1852784289775, 46.74867222637596]<input type='checkbox' class='ee-toggle'></label><ul><li><span class='ee-k'>0:</span><span class='ee-v'>-99.1852784289775</span></li><li><span class='ee-k'>1:</span><span class='ee-v'>46.74867222637596</span></li></ul></li><li><label class='ee-shut'>5: [-99.18527826127543, 46.74867313265501]<input type='checkbox' class='ee-toggle'></label><ul><li><span class='ee-k'>0:</span><span class='ee-v'>-99.18527826127543</span></li><li><span class='ee-k'>1:</span><span class='ee-v'>46.74867313265501</span></li></ul></li><li><label class='ee-shut'>6: [-99.1855024525826, 46.813985189207415]<input type='checkbox' class='ee-toggle'></label><ul><li><span class='ee-k'>0:</span><span class='ee-v'>-99.1855024525826</span></li><li><span class='ee-k'>1:</span><span class='ee-v'>46.813985189207415</span></li></ul></li><li><label class='ee-shut'>7: [-99.18550566537193, 46.8139876861856]<input type='checkbox' class='ee-toggle'></label><ul><li><span class='ee-k'>0:</span><span class='ee-v'>-99.18550566537193</span></li><li><span class='ee-k'>1:</span><span class='ee-v'>46.8139876861856</span></li></ul></li><li><label class='ee-shut'>8: [-99.1855083846645, 46.81399037196922]<input type='checkbox' class='ee-toggle'></label><ul><li><span class='ee-k'>0:</span><span class='ee-v'>-99.1855083846645</span></li><li><span class='ee-k'>1:</span><span class='ee-v'>46.81399037196922</span></li></ul></li><li><label class='ee-shut'>9: [-99.1855093561509, 46.813990517056766]<input type='checkbox' class='ee-toggle'></label><ul><li><span class='ee-k'>0:</span><span class='ee-v'>-99.1855093561509</span></li><li><span class='ee-k'>1:</span><span class='ee-v'>46.813990517056766</span></li></ul></li><li><label class='ee-shut'>10: [-99.18551030411246, 46.81399058955011]<input type='checkbox' class='ee-toggle'></label><ul><li><span class='ee-k'>0:</span><span class='ee-v'>-99.18551030411246</span></li><li><span class='ee-k'>1:</span><span class='ee-v'>46.81399058955011</span></li></ul></li><li><label class='ee-shut'>11: [-99.25232931239213, 46.81386280807813]<input type='checkbox' class='ee-toggle'></label><ul><li><span class='ee-k'>0:</span><span class='ee-v'>-99.25232931239213</span></li><li><span class='ee-k'>1:</span><span class='ee-v'>46.81386280807813</span></li></ul></li><li><label class='ee-shut'>12: [-99.2523329345789, 46.813860576608306]<input type='checkbox' class='ee-toggle'></label><ul><li><span class='ee-k'>0:</span><span class='ee-v'>-99.2523329345789</span></li><li><span class='ee-k'>1:</span><span class='ee-v'>46.813860576608306</span></li></ul></li><li><label class='ee-shut'>13: [-99.25233694575275, 46.81385868602426]<input type='checkbox' class='ee-toggle'></label><ul><li><span class='ee-k'>0:</span><span class='ee-v'>-99.25233694575275</span></li><li><span class='ee-k'>1:</span><span class='ee-v'>46.81385868602426</span></li></ul></li><li><label class='ee-shut'>14: [-99.25233722617862, 46.813857843716356]<input type='checkbox' class='ee-toggle'></label><ul><li><span class='ee-k'>0:</span><span class='ee-v'>-99.25233722617862</span></li><li><span class='ee-k'>1:</span><span class='ee-v'>46.813857843716356</span></li></ul></li><li><label class='ee-shut'>15: [-99.25203228162044, 46.74854602775144]<input type='checkbox' class='ee-toggle'></label><ul><li><span class='ee-k'>0:</span><span class='ee-v'>-99.25203228162044</span></li><li><span class='ee-k'>1:</span><span class='ee-v'>46.74854602775144</span></li></ul></li><li><label class='ee-shut'>16: [-99.25202897627025, 46.74854354351154]<input type='checkbox' class='ee-toggle'></label><ul><li><span class='ee-k'>0:</span><span class='ee-v'>-99.25202897627025</span></li><li><span class='ee-k'>1:</span><span class='ee-v'>46.74854354351154</span></li></ul></li><li><label class='ee-shut'>17: [-99.2520263436079, 46.7485408557761]<input type='checkbox' class='ee-toggle'></label><ul><li><span class='ee-k'>0:</span><span class='ee-v'>-99.2520263436079</span></li><li><span class='ee-k'>1:</span><span class='ee-v'>46.7485408557761</span></li></ul></li><li><label class='ee-shut'>18: [-99.2520252826305, 46.74854071881755]<input type='checkbox' class='ee-toggle'></label><ul><li><span class='ee-k'>0:</span><span class='ee-v'>-99.2520252826305</span></li><li><span class='ee-k'>1:</span><span class='ee-v'>46.74854071881755</span></li></ul></li></ul></li></ul></li><li><span class='ee-k'>system:index:</span><span class='ee-v'>m_4609915_sw_14_h_20170703</span></li><li><span class='ee-k'>system:time_end:</span><span class='ee-v'>1499126400000</span></li><li><span class='ee-k'>system:time_start:</span><span class='ee-v'>1499040000000</span></li></ul></li></ul></li></ul></li></ul></li></ul></div><script>function toggleHeader() {\n",
       "    const parent = this.parentElement;\n",
       "    parent.className = parent.className === \"ee-open\" ? \"ee-shut\" : \"ee-open\";\n",
       "}\n",
       "\n",
       "for (let c of document.getElementsByClassName(\"ee-toggle\")) {\n",
       "    c.onclick = toggleHeader;\n",
       "}</script></div>"
      ],
      "text/plain": [
       "<ee.imagecollection.ImageCollection at 0x1e928bebd40>"
      ]
     },
     "execution_count": 4,
     "metadata": {},
     "output_type": "execute_result"
    }
   ],
   "source": [
    "collection"
   ]
  },
  {
   "cell_type": "code",
   "execution_count": 5,
   "metadata": {},
   "outputs": [
    {
     "data": {
      "text/html": [
       "\n",
       "            <style>\n",
       "                .geemap-dark {\n",
       "                    --jp-widgets-color: white;\n",
       "                    --jp-widgets-label-color: white;\n",
       "                    --jp-ui-font-color1: white;\n",
       "                    --jp-layout-color2: #454545;\n",
       "                    background-color: #383838;\n",
       "                }\n",
       "\n",
       "                .geemap-dark .jupyter-button {\n",
       "                    --jp-layout-color3: #383838;\n",
       "                }\n",
       "\n",
       "                .geemap-colab {\n",
       "                    background-color: var(--colab-primary-surface-color, white);\n",
       "                }\n",
       "\n",
       "                .geemap-colab .jupyter-button {\n",
       "                    --jp-layout-color3: var(--colab-primary-surface-color, white);\n",
       "                }\n",
       "            </style>\n",
       "            "
      ],
      "text/plain": [
       "<IPython.core.display.HTML object>"
      ]
     },
     "metadata": {},
     "output_type": "display_data"
    },
    {
     "data": {
      "application/vnd.jupyter.widget-view+json": {
       "model_id": "c0e3a3bef8224353938efb21b89e63e4",
       "version_major": 2,
       "version_minor": 0
      },
      "text/plain": [
       "Map(center=[46.7816, -99.22220000000002], controls=(WidgetControl(options=['position', 'transparent_bg'], widg…"
      ]
     },
     "execution_count": 5,
     "metadata": {},
     "output_type": "execute_result"
    }
   ],
   "source": [
    "m= geemap.Map()\n",
    "m.addLayer(collection.first(), {}, 'First image')\n",
    "m.centerObject(point, 12)\n",
    "m"
   ]
  },
  {
   "cell_type": "code",
   "execution_count": 6,
   "metadata": {},
   "outputs": [
    {
     "data": {
      "text/html": [
       "\n",
       "            <style>\n",
       "                .geemap-dark {\n",
       "                    --jp-widgets-color: white;\n",
       "                    --jp-widgets-label-color: white;\n",
       "                    --jp-ui-font-color1: white;\n",
       "                    --jp-layout-color2: #454545;\n",
       "                    background-color: #383838;\n",
       "                }\n",
       "\n",
       "                .geemap-dark .jupyter-button {\n",
       "                    --jp-layout-color3: #383838;\n",
       "                }\n",
       "\n",
       "                .geemap-colab {\n",
       "                    background-color: var(--colab-primary-surface-color, white);\n",
       "                }\n",
       "\n",
       "                .geemap-colab .jupyter-button {\n",
       "                    --jp-layout-color3: var(--colab-primary-surface-color, white);\n",
       "                }\n",
       "            </style>\n",
       "            "
      ],
      "text/plain": [
       "<IPython.core.display.HTML object>"
      ]
     },
     "metadata": {},
     "output_type": "display_data"
    },
    {
     "data": {
      "text/html": [
       "<div><style>:root {\n",
       "  --font-color-primary: var(--jp-content-font-color0, rgba(0, 0, 0, 1));\n",
       "  --font-color-secondary: var(--jp-content-font-color2, rgba(0, 0, 0, 0.6));\n",
       "  --font-color-accent: rgba(123, 31, 162, 1);\n",
       "  --border-color: var(--jp-border-color2, #e0e0e0);\n",
       "  --background-color: var(--jp-layout-color0, white);\n",
       "  --background-color-row-even: var(--jp-layout-color1, white);\n",
       "  --background-color-row-odd: var(--jp-layout-color2, #eeeeee);\n",
       "}\n",
       "\n",
       "html[theme=\"dark\"],\n",
       "body[data-theme=\"dark\"],\n",
       "body.vscode-dark {\n",
       "  --font-color-primary: rgba(255, 255, 255, 1);\n",
       "  --font-color-secondary: rgba(255, 255, 255, 0.6);\n",
       "  --font-color-accent: rgb(173, 132, 190);\n",
       "  --border-color: #2e2e2e;\n",
       "  --background-color: #111111;\n",
       "  --background-color-row-even: #111111;\n",
       "  --background-color-row-odd: #313131;\n",
       "}\n",
       "\n",
       ".ee {\n",
       "  padding: 1em;\n",
       "  line-height: 1.5em;\n",
       "  min-width: 300px;\n",
       "  max-width: 1200px;\n",
       "  overflow-y: scroll;\n",
       "  max-height: 600px;\n",
       "  border: 1px solid var(--border-color);\n",
       "  font-family: monospace;\n",
       "}\n",
       "\n",
       ".ee li {\n",
       "  list-style-type: none;\n",
       "}\n",
       "\n",
       ".ee ul {\n",
       "  padding-left: 1.5em !important;\n",
       "  margin: 0;\n",
       "}\n",
       "\n",
       ".ee > ul {\n",
       "  padding-left: 0 !important;\n",
       "}\n",
       "\n",
       ".ee-open,\n",
       ".ee-shut {\n",
       "  color: var(--font-color-secondary);\n",
       "  cursor: pointer;\n",
       "  margin: 0;\n",
       "}\n",
       "\n",
       ".ee-open:hover,\n",
       ".ee-shut:hover {\n",
       "  color: var(--font-color-primary);\n",
       "}\n",
       "\n",
       ".ee-k {\n",
       "  color: var(--font-color-accent);\n",
       "  margin-right: 6px;\n",
       "}\n",
       "\n",
       ".ee-v {\n",
       "  color: var(--font-color-primary);\n",
       "}\n",
       "\n",
       ".ee-toggle {\n",
       "  display: none;\n",
       "}\n",
       "\n",
       ".ee-shut + ul {\n",
       "  display: none;\n",
       "}\n",
       "\n",
       ".ee-open + ul {\n",
       "  display: block;\n",
       "}\n",
       "\n",
       ".ee-shut::before {\n",
       "  display: inline-block;\n",
       "  content: \"▼\";\n",
       "  margin-right: 6px;\n",
       "  transform: rotate(-90deg);\n",
       "  transition: transform 0.2s;\n",
       "}\n",
       "\n",
       ".ee-open::before {\n",
       "  transform: rotate(0deg);\n",
       "  display: inline-block;\n",
       "  content: \"▼\";\n",
       "  margin-right: 6px;\n",
       "  transition: transform 0.2s;\n",
       "}\n",
       "</style><div class='ee'><ul><li><label class='ee-shut'>Polygon (5 vertices)<input type='checkbox' class='ee-toggle'></label><ul><li><span class='ee-k'>type:</span><span class='ee-v'>Polygon</span></li><li><label class='ee-shut'>coordinates: List (1 element)<input type='checkbox' class='ee-toggle'></label><ul><li><label class='ee-shut'>0: List (5 elements)<input type='checkbox' class='ee-toggle'></label><ul><li><label class='ee-shut'>0: [-99.321213, 46.618318]<input type='checkbox' class='ee-toggle'></label><ul><li><span class='ee-k'>0:</span><span class='ee-v'>-99.321213</span></li><li><span class='ee-k'>1:</span><span class='ee-v'>46.618318</span></li></ul></li><li><label class='ee-shut'>1: [-99.321213, 46.714915]<input type='checkbox' class='ee-toggle'></label><ul><li><span class='ee-k'>0:</span><span class='ee-v'>-99.321213</span></li><li><span class='ee-k'>1:</span><span class='ee-v'>46.714915</span></li></ul></li><li><label class='ee-shut'>2: [-99.026642, 46.714915]<input type='checkbox' class='ee-toggle'></label><ul><li><span class='ee-k'>0:</span><span class='ee-v'>-99.026642</span></li><li><span class='ee-k'>1:</span><span class='ee-v'>46.714915</span></li></ul></li><li><label class='ee-shut'>3: [-99.026642, 46.618318]<input type='checkbox' class='ee-toggle'></label><ul><li><span class='ee-k'>0:</span><span class='ee-v'>-99.026642</span></li><li><span class='ee-k'>1:</span><span class='ee-v'>46.618318</span></li></ul></li><li><label class='ee-shut'>4: [-99.321213, 46.618318]<input type='checkbox' class='ee-toggle'></label><ul><li><span class='ee-k'>0:</span><span class='ee-v'>-99.321213</span></li><li><span class='ee-k'>1:</span><span class='ee-v'>46.618318</span></li></ul></li></ul></li></ul></li><li><span class='ee-k'>geodesic:</span><span class='ee-v'>False</span></li></ul></li></ul></div><script>function toggleHeader() {\n",
       "    const parent = this.parentElement;\n",
       "    parent.className = parent.className === \"ee-open\" ? \"ee-shut\" : \"ee-open\";\n",
       "}\n",
       "\n",
       "for (let c of document.getElementsByClassName(\"ee-toggle\")) {\n",
       "    c.onclick = toggleHeader;\n",
       "}</script></div>"
      ],
      "text/plain": [
       "ee.Geometry({\n",
       "  \"functionInvocationValue\": {\n",
       "    \"functionName\": \"GeometryConstructors.Polygon\",\n",
       "    \"arguments\": {\n",
       "      \"coordinates\": {\n",
       "        \"constantValue\": [\n",
       "          [\n",
       "            [\n",
       "              -99.321213,\n",
       "              46.618318\n",
       "            ],\n",
       "            [\n",
       "              -99.321213,\n",
       "              46.714915\n",
       "            ],\n",
       "            [\n",
       "              -99.026642,\n",
       "              46.714915\n",
       "            ],\n",
       "            [\n",
       "              -99.026642,\n",
       "              46.618318\n",
       "            ],\n",
       "            [\n",
       "              -99.321213,\n",
       "              46.618318\n",
       "            ]\n",
       "          ]\n",
       "        ]\n",
       "      },\n",
       "      \"geodesic\": {\n",
       "        \"constantValue\": false\n",
       "      }\n",
       "    }\n",
       "  }\n",
       "})"
      ]
     },
     "execution_count": 6,
     "metadata": {},
     "output_type": "execute_result"
    }
   ],
   "source": [
    "m.user_roi"
   ]
  },
  {
   "cell_type": "code",
   "execution_count": 7,
   "metadata": {},
   "outputs": [
    {
     "data": {
      "text/html": [
       "\n",
       "            <style>\n",
       "                .geemap-dark {\n",
       "                    --jp-widgets-color: white;\n",
       "                    --jp-widgets-label-color: white;\n",
       "                    --jp-ui-font-color1: white;\n",
       "                    --jp-layout-color2: #454545;\n",
       "                    background-color: #383838;\n",
       "                }\n",
       "\n",
       "                .geemap-dark .jupyter-button {\n",
       "                    --jp-layout-color3: #383838;\n",
       "                }\n",
       "\n",
       "                .geemap-colab {\n",
       "                    background-color: var(--colab-primary-surface-color, white);\n",
       "                }\n",
       "\n",
       "                .geemap-colab .jupyter-button {\n",
       "                    --jp-layout-color3: var(--colab-primary-surface-color, white);\n",
       "                }\n",
       "            </style>\n",
       "            "
      ],
      "text/plain": [
       "<IPython.core.display.HTML object>"
      ]
     },
     "metadata": {},
     "output_type": "display_data"
    }
   ],
   "source": [
    "ts= geemap.naip_timeseries(roi=m.user_roi, start_year=2009, end_year=2010, RGBN=True)"
   ]
  },
  {
   "cell_type": "markdown",
   "metadata": {},
   "source": [
    "### Create a time series for satellite images\n",
    "`geemap.create_timeseries()` or `geemap.naip_timeseries()`"
   ]
  },
  {
   "cell_type": "code",
   "execution_count": 8,
   "metadata": {},
   "outputs": [
    {
     "data": {
      "text/html": [
       "\n",
       "            <style>\n",
       "                .geemap-dark {\n",
       "                    --jp-widgets-color: white;\n",
       "                    --jp-widgets-label-color: white;\n",
       "                    --jp-ui-font-color1: white;\n",
       "                    --jp-layout-color2: #454545;\n",
       "                    background-color: #383838;\n",
       "                }\n",
       "\n",
       "                .geemap-dark .jupyter-button {\n",
       "                    --jp-layout-color3: #383838;\n",
       "                }\n",
       "\n",
       "                .geemap-colab {\n",
       "                    background-color: var(--colab-primary-surface-color, white);\n",
       "                }\n",
       "\n",
       "                .geemap-colab .jupyter-button {\n",
       "                    --jp-layout-color3: var(--colab-primary-surface-color, white);\n",
       "                }\n",
       "            </style>\n",
       "            "
      ],
      "text/plain": [
       "<IPython.core.display.HTML object>"
      ]
     },
     "metadata": {},
     "output_type": "display_data"
    },
    {
     "data": {
      "text/html": [
       "<div><style>:root {\n",
       "  --font-color-primary: var(--jp-content-font-color0, rgba(0, 0, 0, 1));\n",
       "  --font-color-secondary: var(--jp-content-font-color2, rgba(0, 0, 0, 0.6));\n",
       "  --font-color-accent: rgba(123, 31, 162, 1);\n",
       "  --border-color: var(--jp-border-color2, #e0e0e0);\n",
       "  --background-color: var(--jp-layout-color0, white);\n",
       "  --background-color-row-even: var(--jp-layout-color1, white);\n",
       "  --background-color-row-odd: var(--jp-layout-color2, #eeeeee);\n",
       "}\n",
       "\n",
       "html[theme=\"dark\"],\n",
       "body[data-theme=\"dark\"],\n",
       "body.vscode-dark {\n",
       "  --font-color-primary: rgba(255, 255, 255, 1);\n",
       "  --font-color-secondary: rgba(255, 255, 255, 0.6);\n",
       "  --font-color-accent: rgb(173, 132, 190);\n",
       "  --border-color: #2e2e2e;\n",
       "  --background-color: #111111;\n",
       "  --background-color-row-even: #111111;\n",
       "  --background-color-row-odd: #313131;\n",
       "}\n",
       "\n",
       ".ee {\n",
       "  padding: 1em;\n",
       "  line-height: 1.5em;\n",
       "  min-width: 300px;\n",
       "  max-width: 1200px;\n",
       "  overflow-y: scroll;\n",
       "  max-height: 600px;\n",
       "  border: 1px solid var(--border-color);\n",
       "  font-family: monospace;\n",
       "}\n",
       "\n",
       ".ee li {\n",
       "  list-style-type: none;\n",
       "}\n",
       "\n",
       ".ee ul {\n",
       "  padding-left: 1.5em !important;\n",
       "  margin: 0;\n",
       "}\n",
       "\n",
       ".ee > ul {\n",
       "  padding-left: 0 !important;\n",
       "}\n",
       "\n",
       ".ee-open,\n",
       ".ee-shut {\n",
       "  color: var(--font-color-secondary);\n",
       "  cursor: pointer;\n",
       "  margin: 0;\n",
       "}\n",
       "\n",
       ".ee-open:hover,\n",
       ".ee-shut:hover {\n",
       "  color: var(--font-color-primary);\n",
       "}\n",
       "\n",
       ".ee-k {\n",
       "  color: var(--font-color-accent);\n",
       "  margin-right: 6px;\n",
       "}\n",
       "\n",
       ".ee-v {\n",
       "  color: var(--font-color-primary);\n",
       "}\n",
       "\n",
       ".ee-toggle {\n",
       "  display: none;\n",
       "}\n",
       "\n",
       ".ee-shut + ul {\n",
       "  display: none;\n",
       "}\n",
       "\n",
       ".ee-open + ul {\n",
       "  display: block;\n",
       "}\n",
       "\n",
       ".ee-shut::before {\n",
       "  display: inline-block;\n",
       "  content: \"▼\";\n",
       "  margin-right: 6px;\n",
       "  transform: rotate(-90deg);\n",
       "  transition: transform 0.2s;\n",
       "}\n",
       "\n",
       ".ee-open::before {\n",
       "  transform: rotate(0deg);\n",
       "  display: inline-block;\n",
       "  content: \"▼\";\n",
       "  margin-right: 6px;\n",
       "  transition: transform 0.2s;\n",
       "}\n",
       "</style><div class='ee'><ul><li><label class='ee-shut'>ImageCollection (2 elements)<input type='checkbox' class='ee-toggle'></label><ul><li><span class='ee-k'>type:</span><span class='ee-v'>ImageCollection</span></li><li><label class='ee-shut'>bands: []<input type='checkbox' class='ee-toggle'></label><ul></ul></li><li><label class='ee-shut'>features: List (2 elements)<input type='checkbox' class='ee-toggle'></label><ul><li><label class='ee-shut'>0: Image (4 bands)<input type='checkbox' class='ee-toggle'></label><ul><li><span class='ee-k'>type:</span><span class='ee-v'>Image</span></li><li><label class='ee-shut'>bands: List (4 elements)<input type='checkbox' class='ee-toggle'></label><ul><li><label class='ee-shut'>0: \"R\", unsigned int8, EPSG:4326, 1x1 px<input type='checkbox' class='ee-toggle'></label><ul><li><span class='ee-k'>id:</span><span class='ee-v'>R</span></li><li><span class='ee-k'>crs:</span><span class='ee-v'>EPSG:4326</span></li><li><label class='ee-shut'>crs_transform: [1, 0, 0, 0, 1, 0]<input type='checkbox' class='ee-toggle'></label><ul><li><span class='ee-k'>0:</span><span class='ee-v'>1</span></li><li><span class='ee-k'>1:</span><span class='ee-v'>0</span></li><li><span class='ee-k'>2:</span><span class='ee-v'>0</span></li><li><span class='ee-k'>3:</span><span class='ee-v'>0</span></li><li><span class='ee-k'>4:</span><span class='ee-v'>1</span></li><li><span class='ee-k'>5:</span><span class='ee-v'>0</span></li></ul></li><li><label class='ee-shut'>data_type: unsigned int8<input type='checkbox' class='ee-toggle'></label><ul><li><span class='ee-k'>type:</span><span class='ee-v'>PixelType</span></li><li><span class='ee-k'>max:</span><span class='ee-v'>255</span></li><li><span class='ee-k'>min:</span><span class='ee-v'>0</span></li><li><span class='ee-k'>precision:</span><span class='ee-v'>int</span></li></ul></li><li><label class='ee-shut'>dimensions: [1, 1]<input type='checkbox' class='ee-toggle'></label><ul><li><span class='ee-k'>0:</span><span class='ee-v'>1</span></li><li><span class='ee-k'>1:</span><span class='ee-v'>1</span></li></ul></li><li><label class='ee-shut'>origin: [-100, 46]<input type='checkbox' class='ee-toggle'></label><ul><li><span class='ee-k'>0:</span><span class='ee-v'>-100</span></li><li><span class='ee-k'>1:</span><span class='ee-v'>46</span></li></ul></li></ul></li><li><label class='ee-shut'>1: \"G\", unsigned int8, EPSG:4326, 1x1 px<input type='checkbox' class='ee-toggle'></label><ul><li><span class='ee-k'>id:</span><span class='ee-v'>G</span></li><li><span class='ee-k'>crs:</span><span class='ee-v'>EPSG:4326</span></li><li><label class='ee-shut'>crs_transform: [1, 0, 0, 0, 1, 0]<input type='checkbox' class='ee-toggle'></label><ul><li><span class='ee-k'>0:</span><span class='ee-v'>1</span></li><li><span class='ee-k'>1:</span><span class='ee-v'>0</span></li><li><span class='ee-k'>2:</span><span class='ee-v'>0</span></li><li><span class='ee-k'>3:</span><span class='ee-v'>0</span></li><li><span class='ee-k'>4:</span><span class='ee-v'>1</span></li><li><span class='ee-k'>5:</span><span class='ee-v'>0</span></li></ul></li><li><label class='ee-shut'>data_type: unsigned int8<input type='checkbox' class='ee-toggle'></label><ul><li><span class='ee-k'>type:</span><span class='ee-v'>PixelType</span></li><li><span class='ee-k'>max:</span><span class='ee-v'>255</span></li><li><span class='ee-k'>min:</span><span class='ee-v'>0</span></li><li><span class='ee-k'>precision:</span><span class='ee-v'>int</span></li></ul></li><li><label class='ee-shut'>dimensions: [1, 1]<input type='checkbox' class='ee-toggle'></label><ul><li><span class='ee-k'>0:</span><span class='ee-v'>1</span></li><li><span class='ee-k'>1:</span><span class='ee-v'>1</span></li></ul></li><li><label class='ee-shut'>origin: [-100, 46]<input type='checkbox' class='ee-toggle'></label><ul><li><span class='ee-k'>0:</span><span class='ee-v'>-100</span></li><li><span class='ee-k'>1:</span><span class='ee-v'>46</span></li></ul></li></ul></li><li><label class='ee-shut'>2: \"B\", unsigned int8, EPSG:4326, 1x1 px<input type='checkbox' class='ee-toggle'></label><ul><li><span class='ee-k'>id:</span><span class='ee-v'>B</span></li><li><span class='ee-k'>crs:</span><span class='ee-v'>EPSG:4326</span></li><li><label class='ee-shut'>crs_transform: [1, 0, 0, 0, 1, 0]<input type='checkbox' class='ee-toggle'></label><ul><li><span class='ee-k'>0:</span><span class='ee-v'>1</span></li><li><span class='ee-k'>1:</span><span class='ee-v'>0</span></li><li><span class='ee-k'>2:</span><span class='ee-v'>0</span></li><li><span class='ee-k'>3:</span><span class='ee-v'>0</span></li><li><span class='ee-k'>4:</span><span class='ee-v'>1</span></li><li><span class='ee-k'>5:</span><span class='ee-v'>0</span></li></ul></li><li><label class='ee-shut'>data_type: unsigned int8<input type='checkbox' class='ee-toggle'></label><ul><li><span class='ee-k'>type:</span><span class='ee-v'>PixelType</span></li><li><span class='ee-k'>max:</span><span class='ee-v'>255</span></li><li><span class='ee-k'>min:</span><span class='ee-v'>0</span></li><li><span class='ee-k'>precision:</span><span class='ee-v'>int</span></li></ul></li><li><label class='ee-shut'>dimensions: [1, 1]<input type='checkbox' class='ee-toggle'></label><ul><li><span class='ee-k'>0:</span><span class='ee-v'>1</span></li><li><span class='ee-k'>1:</span><span class='ee-v'>1</span></li></ul></li><li><label class='ee-shut'>origin: [-100, 46]<input type='checkbox' class='ee-toggle'></label><ul><li><span class='ee-k'>0:</span><span class='ee-v'>-100</span></li><li><span class='ee-k'>1:</span><span class='ee-v'>46</span></li></ul></li></ul></li><li><label class='ee-shut'>3: \"N\", unsigned int8, EPSG:4326, 1x1 px<input type='checkbox' class='ee-toggle'></label><ul><li><span class='ee-k'>id:</span><span class='ee-v'>N</span></li><li><span class='ee-k'>crs:</span><span class='ee-v'>EPSG:4326</span></li><li><label class='ee-shut'>crs_transform: [1, 0, 0, 0, 1, 0]<input type='checkbox' class='ee-toggle'></label><ul><li><span class='ee-k'>0:</span><span class='ee-v'>1</span></li><li><span class='ee-k'>1:</span><span class='ee-v'>0</span></li><li><span class='ee-k'>2:</span><span class='ee-v'>0</span></li><li><span class='ee-k'>3:</span><span class='ee-v'>0</span></li><li><span class='ee-k'>4:</span><span class='ee-v'>1</span></li><li><span class='ee-k'>5:</span><span class='ee-v'>0</span></li></ul></li><li><label class='ee-shut'>data_type: unsigned int8<input type='checkbox' class='ee-toggle'></label><ul><li><span class='ee-k'>type:</span><span class='ee-v'>PixelType</span></li><li><span class='ee-k'>max:</span><span class='ee-v'>255</span></li><li><span class='ee-k'>min:</span><span class='ee-v'>0</span></li><li><span class='ee-k'>precision:</span><span class='ee-v'>int</span></li></ul></li><li><label class='ee-shut'>dimensions: [1, 1]<input type='checkbox' class='ee-toggle'></label><ul><li><span class='ee-k'>0:</span><span class='ee-v'>1</span></li><li><span class='ee-k'>1:</span><span class='ee-v'>1</span></li></ul></li><li><label class='ee-shut'>origin: [-100, 46]<input type='checkbox' class='ee-toggle'></label><ul><li><span class='ee-k'>0:</span><span class='ee-v'>-100</span></li><li><span class='ee-k'>1:</span><span class='ee-v'>46</span></li></ul></li></ul></li></ul></li><li><label class='ee-shut'>properties: Object (5 properties)<input type='checkbox' class='ee-toggle'></label><ul><li><span class='ee-k'>empty:</span><span class='ee-v'>0</span></li><li><label class='ee-shut'>system:footprint: Polygon (5 vertices)<input type='checkbox' class='ee-toggle'></label><ul><li><span class='ee-k'>type:</span><span class='ee-v'>Polygon</span></li><li><label class='ee-shut'>coordinates: List (1 element)<input type='checkbox' class='ee-toggle'></label><ul><li><label class='ee-shut'>0: List (5 elements)<input type='checkbox' class='ee-toggle'></label><ul><li><label class='ee-shut'>0: [-99.321213, 46.618318]<input type='checkbox' class='ee-toggle'></label><ul><li><span class='ee-k'>0:</span><span class='ee-v'>-99.321213</span></li><li><span class='ee-k'>1:</span><span class='ee-v'>46.618318</span></li></ul></li><li><label class='ee-shut'>1: [-99.321213, 46.714915]<input type='checkbox' class='ee-toggle'></label><ul><li><span class='ee-k'>0:</span><span class='ee-v'>-99.321213</span></li><li><span class='ee-k'>1:</span><span class='ee-v'>46.714915</span></li></ul></li><li><label class='ee-shut'>2: [-99.026642, 46.714915]<input type='checkbox' class='ee-toggle'></label><ul><li><span class='ee-k'>0:</span><span class='ee-v'>-99.026642</span></li><li><span class='ee-k'>1:</span><span class='ee-v'>46.714915</span></li></ul></li><li><label class='ee-shut'>3: [-99.026642, 46.618318]<input type='checkbox' class='ee-toggle'></label><ul><li><span class='ee-k'>0:</span><span class='ee-v'>-99.026642</span></li><li><span class='ee-k'>1:</span><span class='ee-v'>46.618318</span></li></ul></li><li><label class='ee-shut'>4: [-99.321213, 46.618318]<input type='checkbox' class='ee-toggle'></label><ul><li><span class='ee-k'>0:</span><span class='ee-v'>-99.321213</span></li><li><span class='ee-k'>1:</span><span class='ee-v'>46.618318</span></li></ul></li></ul></li></ul></li><li><span class='ee-k'>geodesic:</span><span class='ee-v'>False</span></li></ul></li><li><span class='ee-k'>system:index:</span><span class='ee-v'>0</span></li><li><span class='ee-k'>system:time_end:</span><span class='ee-v'>1262217600000</span></li><li><span class='ee-k'>system:time_start:</span><span class='ee-v'>1230768000000</span></li></ul></li></ul></li><li><label class='ee-shut'>1: Image (4 bands)<input type='checkbox' class='ee-toggle'></label><ul><li><span class='ee-k'>type:</span><span class='ee-v'>Image</span></li><li><label class='ee-shut'>bands: List (4 elements)<input type='checkbox' class='ee-toggle'></label><ul><li><label class='ee-shut'>0: \"R\", unsigned int8, EPSG:4326, 1x1 px<input type='checkbox' class='ee-toggle'></label><ul><li><span class='ee-k'>id:</span><span class='ee-v'>R</span></li><li><span class='ee-k'>crs:</span><span class='ee-v'>EPSG:4326</span></li><li><label class='ee-shut'>crs_transform: [1, 0, 0, 0, 1, 0]<input type='checkbox' class='ee-toggle'></label><ul><li><span class='ee-k'>0:</span><span class='ee-v'>1</span></li><li><span class='ee-k'>1:</span><span class='ee-v'>0</span></li><li><span class='ee-k'>2:</span><span class='ee-v'>0</span></li><li><span class='ee-k'>3:</span><span class='ee-v'>0</span></li><li><span class='ee-k'>4:</span><span class='ee-v'>1</span></li><li><span class='ee-k'>5:</span><span class='ee-v'>0</span></li></ul></li><li><label class='ee-shut'>data_type: unsigned int8<input type='checkbox' class='ee-toggle'></label><ul><li><span class='ee-k'>type:</span><span class='ee-v'>PixelType</span></li><li><span class='ee-k'>max:</span><span class='ee-v'>255</span></li><li><span class='ee-k'>min:</span><span class='ee-v'>0</span></li><li><span class='ee-k'>precision:</span><span class='ee-v'>int</span></li></ul></li><li><label class='ee-shut'>dimensions: [1, 1]<input type='checkbox' class='ee-toggle'></label><ul><li><span class='ee-k'>0:</span><span class='ee-v'>1</span></li><li><span class='ee-k'>1:</span><span class='ee-v'>1</span></li></ul></li><li><label class='ee-shut'>origin: [-100, 46]<input type='checkbox' class='ee-toggle'></label><ul><li><span class='ee-k'>0:</span><span class='ee-v'>-100</span></li><li><span class='ee-k'>1:</span><span class='ee-v'>46</span></li></ul></li></ul></li><li><label class='ee-shut'>1: \"G\", unsigned int8, EPSG:4326, 1x1 px<input type='checkbox' class='ee-toggle'></label><ul><li><span class='ee-k'>id:</span><span class='ee-v'>G</span></li><li><span class='ee-k'>crs:</span><span class='ee-v'>EPSG:4326</span></li><li><label class='ee-shut'>crs_transform: [1, 0, 0, 0, 1, 0]<input type='checkbox' class='ee-toggle'></label><ul><li><span class='ee-k'>0:</span><span class='ee-v'>1</span></li><li><span class='ee-k'>1:</span><span class='ee-v'>0</span></li><li><span class='ee-k'>2:</span><span class='ee-v'>0</span></li><li><span class='ee-k'>3:</span><span class='ee-v'>0</span></li><li><span class='ee-k'>4:</span><span class='ee-v'>1</span></li><li><span class='ee-k'>5:</span><span class='ee-v'>0</span></li></ul></li><li><label class='ee-shut'>data_type: unsigned int8<input type='checkbox' class='ee-toggle'></label><ul><li><span class='ee-k'>type:</span><span class='ee-v'>PixelType</span></li><li><span class='ee-k'>max:</span><span class='ee-v'>255</span></li><li><span class='ee-k'>min:</span><span class='ee-v'>0</span></li><li><span class='ee-k'>precision:</span><span class='ee-v'>int</span></li></ul></li><li><label class='ee-shut'>dimensions: [1, 1]<input type='checkbox' class='ee-toggle'></label><ul><li><span class='ee-k'>0:</span><span class='ee-v'>1</span></li><li><span class='ee-k'>1:</span><span class='ee-v'>1</span></li></ul></li><li><label class='ee-shut'>origin: [-100, 46]<input type='checkbox' class='ee-toggle'></label><ul><li><span class='ee-k'>0:</span><span class='ee-v'>-100</span></li><li><span class='ee-k'>1:</span><span class='ee-v'>46</span></li></ul></li></ul></li><li><label class='ee-shut'>2: \"B\", unsigned int8, EPSG:4326, 1x1 px<input type='checkbox' class='ee-toggle'></label><ul><li><span class='ee-k'>id:</span><span class='ee-v'>B</span></li><li><span class='ee-k'>crs:</span><span class='ee-v'>EPSG:4326</span></li><li><label class='ee-shut'>crs_transform: [1, 0, 0, 0, 1, 0]<input type='checkbox' class='ee-toggle'></label><ul><li><span class='ee-k'>0:</span><span class='ee-v'>1</span></li><li><span class='ee-k'>1:</span><span class='ee-v'>0</span></li><li><span class='ee-k'>2:</span><span class='ee-v'>0</span></li><li><span class='ee-k'>3:</span><span class='ee-v'>0</span></li><li><span class='ee-k'>4:</span><span class='ee-v'>1</span></li><li><span class='ee-k'>5:</span><span class='ee-v'>0</span></li></ul></li><li><label class='ee-shut'>data_type: unsigned int8<input type='checkbox' class='ee-toggle'></label><ul><li><span class='ee-k'>type:</span><span class='ee-v'>PixelType</span></li><li><span class='ee-k'>max:</span><span class='ee-v'>255</span></li><li><span class='ee-k'>min:</span><span class='ee-v'>0</span></li><li><span class='ee-k'>precision:</span><span class='ee-v'>int</span></li></ul></li><li><label class='ee-shut'>dimensions: [1, 1]<input type='checkbox' class='ee-toggle'></label><ul><li><span class='ee-k'>0:</span><span class='ee-v'>1</span></li><li><span class='ee-k'>1:</span><span class='ee-v'>1</span></li></ul></li><li><label class='ee-shut'>origin: [-100, 46]<input type='checkbox' class='ee-toggle'></label><ul><li><span class='ee-k'>0:</span><span class='ee-v'>-100</span></li><li><span class='ee-k'>1:</span><span class='ee-v'>46</span></li></ul></li></ul></li><li><label class='ee-shut'>3: \"N\", unsigned int8, EPSG:4326, 1x1 px<input type='checkbox' class='ee-toggle'></label><ul><li><span class='ee-k'>id:</span><span class='ee-v'>N</span></li><li><span class='ee-k'>crs:</span><span class='ee-v'>EPSG:4326</span></li><li><label class='ee-shut'>crs_transform: [1, 0, 0, 0, 1, 0]<input type='checkbox' class='ee-toggle'></label><ul><li><span class='ee-k'>0:</span><span class='ee-v'>1</span></li><li><span class='ee-k'>1:</span><span class='ee-v'>0</span></li><li><span class='ee-k'>2:</span><span class='ee-v'>0</span></li><li><span class='ee-k'>3:</span><span class='ee-v'>0</span></li><li><span class='ee-k'>4:</span><span class='ee-v'>1</span></li><li><span class='ee-k'>5:</span><span class='ee-v'>0</span></li></ul></li><li><label class='ee-shut'>data_type: unsigned int8<input type='checkbox' class='ee-toggle'></label><ul><li><span class='ee-k'>type:</span><span class='ee-v'>PixelType</span></li><li><span class='ee-k'>max:</span><span class='ee-v'>255</span></li><li><span class='ee-k'>min:</span><span class='ee-v'>0</span></li><li><span class='ee-k'>precision:</span><span class='ee-v'>int</span></li></ul></li><li><label class='ee-shut'>dimensions: [1, 1]<input type='checkbox' class='ee-toggle'></label><ul><li><span class='ee-k'>0:</span><span class='ee-v'>1</span></li><li><span class='ee-k'>1:</span><span class='ee-v'>1</span></li></ul></li><li><label class='ee-shut'>origin: [-100, 46]<input type='checkbox' class='ee-toggle'></label><ul><li><span class='ee-k'>0:</span><span class='ee-v'>-100</span></li><li><span class='ee-k'>1:</span><span class='ee-v'>46</span></li></ul></li></ul></li></ul></li><li><label class='ee-shut'>properties: Object (5 properties)<input type='checkbox' class='ee-toggle'></label><ul><li><span class='ee-k'>empty:</span><span class='ee-v'>0</span></li><li><label class='ee-shut'>system:footprint: Polygon (5 vertices)<input type='checkbox' class='ee-toggle'></label><ul><li><span class='ee-k'>type:</span><span class='ee-v'>Polygon</span></li><li><label class='ee-shut'>coordinates: List (1 element)<input type='checkbox' class='ee-toggle'></label><ul><li><label class='ee-shut'>0: List (5 elements)<input type='checkbox' class='ee-toggle'></label><ul><li><label class='ee-shut'>0: [-99.321213, 46.618318]<input type='checkbox' class='ee-toggle'></label><ul><li><span class='ee-k'>0:</span><span class='ee-v'>-99.321213</span></li><li><span class='ee-k'>1:</span><span class='ee-v'>46.618318</span></li></ul></li><li><label class='ee-shut'>1: [-99.321213, 46.714915]<input type='checkbox' class='ee-toggle'></label><ul><li><span class='ee-k'>0:</span><span class='ee-v'>-99.321213</span></li><li><span class='ee-k'>1:</span><span class='ee-v'>46.714915</span></li></ul></li><li><label class='ee-shut'>2: [-99.026642, 46.714915]<input type='checkbox' class='ee-toggle'></label><ul><li><span class='ee-k'>0:</span><span class='ee-v'>-99.026642</span></li><li><span class='ee-k'>1:</span><span class='ee-v'>46.714915</span></li></ul></li><li><label class='ee-shut'>3: [-99.026642, 46.618318]<input type='checkbox' class='ee-toggle'></label><ul><li><span class='ee-k'>0:</span><span class='ee-v'>-99.026642</span></li><li><span class='ee-k'>1:</span><span class='ee-v'>46.618318</span></li></ul></li><li><label class='ee-shut'>4: [-99.321213, 46.618318]<input type='checkbox' class='ee-toggle'></label><ul><li><span class='ee-k'>0:</span><span class='ee-v'>-99.321213</span></li><li><span class='ee-k'>1:</span><span class='ee-v'>46.618318</span></li></ul></li></ul></li></ul></li><li><span class='ee-k'>geodesic:</span><span class='ee-v'>False</span></li></ul></li><li><span class='ee-k'>system:index:</span><span class='ee-v'>1</span></li><li><span class='ee-k'>system:time_end:</span><span class='ee-v'>1293753600000</span></li><li><span class='ee-k'>system:time_start:</span><span class='ee-v'>1262304000000</span></li></ul></li></ul></li></ul></li></ul></li></ul></div><script>function toggleHeader() {\n",
       "    const parent = this.parentElement;\n",
       "    parent.className = parent.className === \"ee-open\" ? \"ee-shut\" : \"ee-open\";\n",
       "}\n",
       "\n",
       "for (let c of document.getElementsByClassName(\"ee-toggle\")) {\n",
       "    c.onclick = toggleHeader;\n",
       "}</script></div>"
      ],
      "text/plain": [
       "<ee.imagecollection.ImageCollection at 0x1e928c5dd90>"
      ]
     },
     "execution_count": 8,
     "metadata": {},
     "output_type": "execute_result"
    }
   ],
   "source": [
    "ts"
   ]
  },
  {
   "cell_type": "code",
   "execution_count": 9,
   "metadata": {},
   "outputs": [
    {
     "data": {
      "text/html": [
       "\n",
       "            <style>\n",
       "                .geemap-dark {\n",
       "                    --jp-widgets-color: white;\n",
       "                    --jp-widgets-label-color: white;\n",
       "                    --jp-ui-font-color1: white;\n",
       "                    --jp-layout-color2: #454545;\n",
       "                    background-color: #383838;\n",
       "                }\n",
       "\n",
       "                .geemap-dark .jupyter-button {\n",
       "                    --jp-layout-color3: #383838;\n",
       "                }\n",
       "\n",
       "                .geemap-colab {\n",
       "                    background-color: var(--colab-primary-surface-color, white);\n",
       "                }\n",
       "\n",
       "                .geemap-colab .jupyter-button {\n",
       "                    --jp-layout-color3: var(--colab-primary-surface-color, white);\n",
       "                }\n",
       "            </style>\n",
       "            "
      ],
      "text/plain": [
       "<IPython.core.display.HTML object>"
      ]
     },
     "metadata": {},
     "output_type": "display_data"
    },
    {
     "data": {
      "application/vnd.jupyter.widget-view+json": {
       "model_id": "69cdd28c5244448b8db03f2cf4654bf8",
       "version_major": 2,
       "version_minor": 0
      },
      "text/plain": [
       "Map(center=[46.66663361403033, -99.17392750000012], controls=(WidgetControl(options=['position', 'transparent_…"
      ]
     },
     "execution_count": 9,
     "metadata": {},
     "output_type": "execute_result"
    }
   ],
   "source": [
    "m= geemap.Map()\n",
    "image= ts.first()\n",
    "m.addLayer(image, {}, 'First image')\n",
    "m.center_object(ts, 12)\n",
    "m"
   ]
  },
  {
   "cell_type": "code",
   "execution_count": 11,
   "metadata": {},
   "outputs": [
    {
     "data": {
      "text/html": [
       "\n",
       "            <style>\n",
       "                .geemap-dark {\n",
       "                    --jp-widgets-color: white;\n",
       "                    --jp-widgets-label-color: white;\n",
       "                    --jp-ui-font-color1: white;\n",
       "                    --jp-layout-color2: #454545;\n",
       "                    background-color: #383838;\n",
       "                }\n",
       "\n",
       "                .geemap-dark .jupyter-button {\n",
       "                    --jp-layout-color3: #383838;\n",
       "                }\n",
       "\n",
       "                .geemap-colab {\n",
       "                    background-color: var(--colab-primary-surface-color, white);\n",
       "                }\n",
       "\n",
       "                .geemap-colab .jupyter-button {\n",
       "                    --jp-layout-color3: var(--colab-primary-surface-color, white);\n",
       "                }\n",
       "            </style>\n",
       "            "
      ],
      "text/plain": [
       "<IPython.core.display.HTML object>"
      ]
     },
     "metadata": {},
     "output_type": "display_data"
    },
    {
     "data": {
      "application/vnd.jupyter.widget-view+json": {
       "model_id": "e4d9f073ef954210a851f9ac402aa290",
       "version_major": 2,
       "version_minor": 0
      },
      "text/plain": [
       "Map(center=[37.75, -122.44], controls=(WidgetControl(options=['position', 'transparent_bg'], widget=SearchData…"
      ]
     },
     "execution_count": 11,
     "metadata": {},
     "output_type": "execute_result"
    }
   ],
   "source": [
    "roi = ee.Geometry.Point([-122.44, 37.75])\n",
    "collection = (\n",
    "    ee.ImageCollection('LANDSAT/LC08/C02/T1_TOA')\n",
    "    .filterBounds(roi)\n",
    "    .sort(\"CLOUD_COVER\")\n",
    "    .limit(10)\n",
    ")\n",
    "\n",
    "image = collection.first()\n",
    "\n",
    "Map = geemap.Map()\n",
    "\n",
    "vis_params = {\n",
    "    'bands': ['B5', 'B4', 'B3'],\n",
    "    'min': 0,\n",
    "    'max': 0.3,\n",
    "    'gamma': [0.95, 1.1, 1],\n",
    "}\n",
    "\n",
    "Map.addLayer(image, vis_params, \"LANDSAT 8\")\n",
    "Map.setCenter(-122.44, 37.75, 8)\n",
    "Map"
   ]
  },
  {
   "cell_type": "markdown",
   "metadata": {},
   "source": [
    "## Exporting image thumbnails"
   ]
  },
  {
   "cell_type": "code",
   "execution_count": 12,
   "metadata": {},
   "outputs": [
    {
     "data": {
      "text/html": [
       "\n",
       "            <style>\n",
       "                .geemap-dark {\n",
       "                    --jp-widgets-color: white;\n",
       "                    --jp-widgets-label-color: white;\n",
       "                    --jp-ui-font-color1: white;\n",
       "                    --jp-layout-color2: #454545;\n",
       "                    background-color: #383838;\n",
       "                }\n",
       "\n",
       "                .geemap-dark .jupyter-button {\n",
       "                    --jp-layout-color3: #383838;\n",
       "                }\n",
       "\n",
       "                .geemap-colab {\n",
       "                    background-color: var(--colab-primary-surface-color, white);\n",
       "                }\n",
       "\n",
       "                .geemap-colab .jupyter-button {\n",
       "                    --jp-layout-color3: var(--colab-primary-surface-color, white);\n",
       "                }\n",
       "            </style>\n",
       "            "
      ],
      "text/plain": [
       "<IPython.core.display.HTML object>"
      ]
     },
     "metadata": {},
     "output_type": "display_data"
    }
   ],
   "source": [
    "out_img = 'landsat.jpg'\n",
    "region = ee.Geometry.BBox(-122.5955, 37.5339, -122.0982, 37.8252)\n",
    "geemap.get_image_thumbnail(image, out_img, vis_params, dimensions=1000, region=region)"
   ]
  },
  {
   "cell_type": "code",
   "execution_count": 13,
   "metadata": {},
   "outputs": [
    {
     "data": {
      "text/html": [
       "\n",
       "            <style>\n",
       "                .geemap-dark {\n",
       "                    --jp-widgets-color: white;\n",
       "                    --jp-widgets-label-color: white;\n",
       "                    --jp-ui-font-color1: white;\n",
       "                    --jp-layout-color2: #454545;\n",
       "                    background-color: #383838;\n",
       "                }\n",
       "\n",
       "                .geemap-dark .jupyter-button {\n",
       "                    --jp-layout-color3: #383838;\n",
       "                }\n",
       "\n",
       "                .geemap-colab {\n",
       "                    background-color: var(--colab-primary-surface-color, white);\n",
       "                }\n",
       "\n",
       "                .geemap-colab .jupyter-button {\n",
       "                    --jp-layout-color3: var(--colab-primary-surface-color, white);\n",
       "                }\n",
       "            </style>\n",
       "            "
      ],
      "text/plain": [
       "<IPython.core.display.HTML object>"
      ]
     },
     "metadata": {},
     "output_type": "display_data"
    },
    {
     "data": {
      "application/vnd.jupyter.widget-view+json": {
       "model_id": "874ca61382bd46efa33a1ce1a0822867",
       "version_major": 2,
       "version_minor": 0
      },
      "text/plain": [
       "Output()"
      ]
     },
     "metadata": {},
     "output_type": "display_data"
    }
   ],
   "source": [
    "geemap.show_image(out_img)"
   ]
  },
  {
   "cell_type": "markdown",
   "metadata": {},
   "source": [
    "### Downloading several thumbnails images at onece\n",
    "\n",
    "`geemap.get_image_collection_thumbnails()`\n",
    "\n",
    "\n",
    "Download thumbnails one by one"
   ]
  },
  {
   "cell_type": "markdown",
   "metadata": {},
   "source": [
    "```python\n",
    "geemap.get_image_collection_thumbnails(collection, out_dir, vis_params, dimensions=512, region=region)\n",
    "\n",
    "```"
   ]
  },
  {
   "cell_type": "code",
   "execution_count": 14,
   "metadata": {},
   "outputs": [
    {
     "data": {
      "text/html": [
       "\n",
       "            <style>\n",
       "                .geemap-dark {\n",
       "                    --jp-widgets-color: white;\n",
       "                    --jp-widgets-label-color: white;\n",
       "                    --jp-ui-font-color1: white;\n",
       "                    --jp-layout-color2: #454545;\n",
       "                    background-color: #383838;\n",
       "                }\n",
       "\n",
       "                .geemap-dark .jupyter-button {\n",
       "                    --jp-layout-color3: #383838;\n",
       "                }\n",
       "\n",
       "                .geemap-colab {\n",
       "                    background-color: var(--colab-primary-surface-color, white);\n",
       "                }\n",
       "\n",
       "                .geemap-colab .jupyter-button {\n",
       "                    --jp-layout-color3: var(--colab-primary-surface-color, white);\n",
       "                }\n",
       "            </style>\n",
       "            "
      ],
      "text/plain": [
       "<IPython.core.display.HTML object>"
      ]
     },
     "metadata": {},
     "output_type": "display_data"
    },
    {
     "name": "stdout",
     "output_type": "stream",
     "text": [
      "Total number of images: 10\n",
      "\n",
      "Downloading 1/10: LC08_044034_20151116.jpg ...\n",
      "Downloading 2/10: LC08_044034_20150305.jpg ...\n",
      "Downloading 3/10: LC08_044034_20180225.jpg ...\n",
      "Downloading 4/10: LC08_044034_20190924.jpg ...\n",
      "Downloading 5/10: LC08_044034_20210321.jpg ...\n",
      "Downloading 6/10: LC08_044034_20231005.jpg ...\n",
      "Downloading 7/10: LC08_044034_20130923.jpg ...\n",
      "Downloading 8/10: LC08_044034_20220308.jpg ...\n",
      "Downloading 9/10: LC08_044034_20240210.jpg ...\n",
      "Downloading 10/10: LC08_044034_20130409.jpg ...\n"
     ]
    }
   ],
   "source": [
    "out_dir= 'thumbnails'\n",
    "geemap.get_image_collection_thumbnails(collection, out_dir, vis_params, dimensions=1000, region=region)"
   ]
  },
  {
   "cell_type": "markdown",
   "metadata": {},
   "source": [
    "### Make GIF file based on export thumbnails"
   ]
  },
  {
   "cell_type": "code",
   "execution_count": 15,
   "metadata": {},
   "outputs": [
    {
     "data": {
      "text/html": [
       "\n",
       "            <style>\n",
       "                .geemap-dark {\n",
       "                    --jp-widgets-color: white;\n",
       "                    --jp-widgets-label-color: white;\n",
       "                    --jp-ui-font-color1: white;\n",
       "                    --jp-layout-color2: #454545;\n",
       "                    background-color: #383838;\n",
       "                }\n",
       "\n",
       "                .geemap-dark .jupyter-button {\n",
       "                    --jp-layout-color3: #383838;\n",
       "                }\n",
       "\n",
       "                .geemap-colab {\n",
       "                    background-color: var(--colab-primary-surface-color, white);\n",
       "                }\n",
       "\n",
       "                .geemap-colab .jupyter-button {\n",
       "                    --jp-layout-color3: var(--colab-primary-surface-color, white);\n",
       "                }\n",
       "            </style>\n",
       "            "
      ],
      "text/plain": [
       "<IPython.core.display.HTML object>"
      ]
     },
     "metadata": {},
     "output_type": "display_data"
    }
   ],
   "source": [
    "geemap.make_gif('thumbnails', 'landsat.gif',fps=3)"
   ]
  },
  {
   "cell_type": "markdown",
   "metadata": {},
   "source": [
    "# Download feature collections (vector data)"
   ]
  },
  {
   "cell_type": "code",
   "execution_count": 16,
   "metadata": {},
   "outputs": [
    {
     "data": {
      "text/html": [
       "\n",
       "            <style>\n",
       "                .geemap-dark {\n",
       "                    --jp-widgets-color: white;\n",
       "                    --jp-widgets-label-color: white;\n",
       "                    --jp-ui-font-color1: white;\n",
       "                    --jp-layout-color2: #454545;\n",
       "                    background-color: #383838;\n",
       "                }\n",
       "\n",
       "                .geemap-dark .jupyter-button {\n",
       "                    --jp-layout-color3: #383838;\n",
       "                }\n",
       "\n",
       "                .geemap-colab {\n",
       "                    background-color: var(--colab-primary-surface-color, white);\n",
       "                }\n",
       "\n",
       "                .geemap-colab .jupyter-button {\n",
       "                    --jp-layout-color3: var(--colab-primary-surface-color, white);\n",
       "                }\n",
       "            </style>\n",
       "            "
      ],
      "text/plain": [
       "<IPython.core.display.HTML object>"
      ]
     },
     "metadata": {},
     "output_type": "display_data"
    },
    {
     "data": {
      "application/vnd.jupyter.widget-view+json": {
       "model_id": "d9bca209654b4a508610ab6ad06f5606",
       "version_major": 2,
       "version_minor": 0
      },
      "text/plain": [
       "Map(center=[42.58077111456963, 20.889411432780253], controls=(WidgetControl(options=['position', 'transparent_…"
      ]
     },
     "execution_count": 16,
     "metadata": {},
     "output_type": "execute_result"
    }
   ],
   "source": [
    "Map = geemap.Map()\n",
    "fc = ee.FeatureCollection('USDOS/LSIB_SIMPLE/2017').filter(\n",
    "    ee.Filter.eq('country_co', 'KV')\n",
    ")\n",
    "\n",
    "Map.addLayer(fc, {}, \"Europe\")\n",
    "Map.centerObject(fc, 10)\n",
    "Map"
   ]
  },
  {
   "cell_type": "code",
   "execution_count": 18,
   "metadata": {},
   "outputs": [
    {
     "data": {
      "text/html": [
       "\n",
       "            <style>\n",
       "                .geemap-dark {\n",
       "                    --jp-widgets-color: white;\n",
       "                    --jp-widgets-label-color: white;\n",
       "                    --jp-ui-font-color1: white;\n",
       "                    --jp-layout-color2: #454545;\n",
       "                    background-color: #383838;\n",
       "                }\n",
       "\n",
       "                .geemap-dark .jupyter-button {\n",
       "                    --jp-layout-color3: #383838;\n",
       "                }\n",
       "\n",
       "                .geemap-colab {\n",
       "                    background-color: var(--colab-primary-surface-color, white);\n",
       "                }\n",
       "\n",
       "                .geemap-colab .jupyter-button {\n",
       "                    --jp-layout-color3: var(--colab-primary-surface-color, white);\n",
       "                }\n",
       "            </style>\n",
       "            "
      ],
      "text/plain": [
       "<IPython.core.display.HTML object>"
      ]
     },
     "metadata": {},
     "output_type": "display_data"
    }
   ],
   "source": [
    "geemap.ee_to_shp(fc, filename='kv.shp')"
   ]
  },
  {
   "cell_type": "markdown",
   "metadata": {},
   "source": [
    "### exporting functions ```geemap.ee_to_vector(fc, filname='.shp,.geojson,.csv')```"
   ]
  },
  {
   "cell_type": "code",
   "execution_count": 19,
   "metadata": {},
   "outputs": [
    {
     "data": {
      "text/html": [
       "\n",
       "            <style>\n",
       "                .geemap-dark {\n",
       "                    --jp-widgets-color: white;\n",
       "                    --jp-widgets-label-color: white;\n",
       "                    --jp-ui-font-color1: white;\n",
       "                    --jp-layout-color2: #454545;\n",
       "                    background-color: #383838;\n",
       "                }\n",
       "\n",
       "                .geemap-dark .jupyter-button {\n",
       "                    --jp-layout-color3: #383838;\n",
       "                }\n",
       "\n",
       "                .geemap-colab {\n",
       "                    background-color: var(--colab-primary-surface-color, white);\n",
       "                }\n",
       "\n",
       "                .geemap-colab .jupyter-button {\n",
       "                    --jp-layout-color3: var(--colab-primary-surface-color, white);\n",
       "                }\n",
       "            </style>\n",
       "            "
      ],
      "text/plain": [
       "<IPython.core.display.HTML object>"
      ]
     },
     "metadata": {},
     "output_type": "display_data"
    },
    {
     "name": "stdout",
     "output_type": "stream",
     "text": [
      "Generating URL ...\n",
      "Downloading data from https://earthengine.googleapis.com/v1/projects/earthengine-legacy/tables/73eb6ee389438bf6178e8b35470572d8-796bd8649c970d3b5cf7c6b0bc7fc5b5:getFeatures\n",
      "Please wait ...\n",
      "Data downloaded to c:\\Users\\zyang\\spatial_data_management\\notes\\kv.geojson\n"
     ]
    }
   ],
   "source": [
    "geemap.ee_export_vector(fc, filename='kv.geojson')"
   ]
  },
  {
   "cell_type": "code",
   "execution_count": 20,
   "metadata": {},
   "outputs": [
    {
     "data": {
      "text/html": [
       "\n",
       "            <style>\n",
       "                .geemap-dark {\n",
       "                    --jp-widgets-color: white;\n",
       "                    --jp-widgets-label-color: white;\n",
       "                    --jp-ui-font-color1: white;\n",
       "                    --jp-layout-color2: #454545;\n",
       "                    background-color: #383838;\n",
       "                }\n",
       "\n",
       "                .geemap-dark .jupyter-button {\n",
       "                    --jp-layout-color3: #383838;\n",
       "                }\n",
       "\n",
       "                .geemap-colab {\n",
       "                    background-color: var(--colab-primary-surface-color, white);\n",
       "                }\n",
       "\n",
       "                .geemap-colab .jupyter-button {\n",
       "                    --jp-layout-color3: var(--colab-primary-surface-color, white);\n",
       "                }\n",
       "            </style>\n",
       "            "
      ],
      "text/plain": [
       "<IPython.core.display.HTML object>"
      ]
     },
     "metadata": {},
     "output_type": "display_data"
    },
    {
     "data": {
      "text/html": [
       "<div>\n",
       "<style scoped>\n",
       "    .dataframe tbody tr th:only-of-type {\n",
       "        vertical-align: middle;\n",
       "    }\n",
       "\n",
       "    .dataframe tbody tr th {\n",
       "        vertical-align: top;\n",
       "    }\n",
       "\n",
       "    .dataframe thead th {\n",
       "        text-align: right;\n",
       "    }\n",
       "</style>\n",
       "<table border=\"1\" class=\"dataframe\">\n",
       "  <thead>\n",
       "    <tr style=\"text-align: right;\">\n",
       "      <th></th>\n",
       "      <th>geometry</th>\n",
       "      <th>abbreviati</th>\n",
       "      <th>country_co</th>\n",
       "      <th>country_na</th>\n",
       "      <th>wld_rgn</th>\n",
       "    </tr>\n",
       "  </thead>\n",
       "  <tbody>\n",
       "    <tr>\n",
       "      <th>0</th>\n",
       "      <td>POLYGON ((20.01428 42.74082, 20.01628 42.73519...</td>\n",
       "      <td>Kos.</td>\n",
       "      <td>KV</td>\n",
       "      <td>Kosovo</td>\n",
       "      <td>Europe</td>\n",
       "    </tr>\n",
       "  </tbody>\n",
       "</table>\n",
       "</div>"
      ],
      "text/plain": [
       "                                            geometry abbreviati country_co  \\\n",
       "0  POLYGON ((20.01428 42.74082, 20.01628 42.73519...       Kos.         KV   \n",
       "\n",
       "  country_na wld_rgn  \n",
       "0     Kosovo  Europe  "
      ]
     },
     "execution_count": 20,
     "metadata": {},
     "output_type": "execute_result"
    }
   ],
   "source": [
    "gdf= geemap.ee_to_gdf(fc)\n",
    "gdf"
   ]
  },
  {
   "cell_type": "code",
   "execution_count": 21,
   "metadata": {},
   "outputs": [
    {
     "data": {
      "text/html": [
       "\n",
       "            <style>\n",
       "                .geemap-dark {\n",
       "                    --jp-widgets-color: white;\n",
       "                    --jp-widgets-label-color: white;\n",
       "                    --jp-ui-font-color1: white;\n",
       "                    --jp-layout-color2: #454545;\n",
       "                    background-color: #383838;\n",
       "                }\n",
       "\n",
       "                .geemap-dark .jupyter-button {\n",
       "                    --jp-layout-color3: #383838;\n",
       "                }\n",
       "\n",
       "                .geemap-colab {\n",
       "                    background-color: var(--colab-primary-surface-color, white);\n",
       "                }\n",
       "\n",
       "                .geemap-colab .jupyter-button {\n",
       "                    --jp-layout-color3: var(--colab-primary-surface-color, white);\n",
       "                }\n",
       "            </style>\n",
       "            "
      ],
      "text/plain": [
       "<IPython.core.display.HTML object>"
      ]
     },
     "metadata": {},
     "output_type": "display_data"
    },
    {
     "data": {
      "text/html": [
       "<div>\n",
       "<style scoped>\n",
       "    .dataframe tbody tr th:only-of-type {\n",
       "        vertical-align: middle;\n",
       "    }\n",
       "\n",
       "    .dataframe tbody tr th {\n",
       "        vertical-align: top;\n",
       "    }\n",
       "\n",
       "    .dataframe thead th {\n",
       "        text-align: right;\n",
       "    }\n",
       "</style>\n",
       "<table border=\"1\" class=\"dataframe\">\n",
       "  <thead>\n",
       "    <tr style=\"text-align: right;\">\n",
       "      <th></th>\n",
       "      <th>abbreviati</th>\n",
       "      <th>country_co</th>\n",
       "      <th>country_na</th>\n",
       "      <th>wld_rgn</th>\n",
       "    </tr>\n",
       "  </thead>\n",
       "  <tbody>\n",
       "    <tr>\n",
       "      <th>0</th>\n",
       "      <td>Kos.</td>\n",
       "      <td>KV</td>\n",
       "      <td>Kosovo</td>\n",
       "      <td>Europe</td>\n",
       "    </tr>\n",
       "  </tbody>\n",
       "</table>\n",
       "</div>"
      ],
      "text/plain": [
       "  abbreviati country_co country_na wld_rgn\n",
       "0       Kos.         KV     Kosovo  Europe"
      ]
     },
     "execution_count": 21,
     "metadata": {},
     "output_type": "execute_result"
    }
   ],
   "source": [
    "df= geemap.ee_to_df(fc)\n",
    "df"
   ]
  },
  {
   "cell_type": "code",
   "execution_count": 22,
   "metadata": {},
   "outputs": [
    {
     "data": {
      "text/html": [
       "\n",
       "            <style>\n",
       "                .geemap-dark {\n",
       "                    --jp-widgets-color: white;\n",
       "                    --jp-widgets-label-color: white;\n",
       "                    --jp-ui-font-color1: white;\n",
       "                    --jp-layout-color2: #454545;\n",
       "                    background-color: #383838;\n",
       "                }\n",
       "\n",
       "                .geemap-dark .jupyter-button {\n",
       "                    --jp-layout-color3: #383838;\n",
       "                }\n",
       "\n",
       "                .geemap-colab {\n",
       "                    background-color: var(--colab-primary-surface-color, white);\n",
       "                }\n",
       "\n",
       "                .geemap-colab .jupyter-button {\n",
       "                    --jp-layout-color3: var(--colab-primary-surface-color, white);\n",
       "                }\n",
       "            </style>\n",
       "            "
      ],
      "text/plain": [
       "<IPython.core.display.HTML object>"
      ]
     },
     "metadata": {},
     "output_type": "display_data"
    },
    {
     "data": {
      "text/html": [
       "<div style=\"width:100%;\"><div style=\"position:relative;width:100%;height:0;padding-bottom:60%;\"><span style=\"color:#565656\">Make this Notebook Trusted to load map: File -> Trust Notebook</span><iframe srcdoc=\"&lt;!DOCTYPE html&gt;\n",
       "&lt;html&gt;\n",
       "&lt;head&gt;\n",
       "    \n",
       "    &lt;meta http-equiv=&quot;content-type&quot; content=&quot;text/html; charset=UTF-8&quot; /&gt;\n",
       "    \n",
       "        &lt;script&gt;\n",
       "            L_NO_TOUCH = false;\n",
       "            L_DISABLE_3D = false;\n",
       "        &lt;/script&gt;\n",
       "    \n",
       "    &lt;style&gt;html, body {width: 100%;height: 100%;margin: 0;padding: 0;}&lt;/style&gt;\n",
       "    &lt;style&gt;#map {position:absolute;top:0;bottom:0;right:0;left:0;}&lt;/style&gt;\n",
       "    &lt;script src=&quot;https://cdn.jsdelivr.net/npm/leaflet@1.9.3/dist/leaflet.js&quot;&gt;&lt;/script&gt;\n",
       "    &lt;script src=&quot;https://code.jquery.com/jquery-3.7.1.min.js&quot;&gt;&lt;/script&gt;\n",
       "    &lt;script src=&quot;https://cdn.jsdelivr.net/npm/bootstrap@5.2.2/dist/js/bootstrap.bundle.min.js&quot;&gt;&lt;/script&gt;\n",
       "    &lt;script src=&quot;https://cdnjs.cloudflare.com/ajax/libs/Leaflet.awesome-markers/2.0.2/leaflet.awesome-markers.js&quot;&gt;&lt;/script&gt;\n",
       "    &lt;link rel=&quot;stylesheet&quot; href=&quot;https://cdn.jsdelivr.net/npm/leaflet@1.9.3/dist/leaflet.css&quot;/&gt;\n",
       "    &lt;link rel=&quot;stylesheet&quot; href=&quot;https://cdn.jsdelivr.net/npm/bootstrap@5.2.2/dist/css/bootstrap.min.css&quot;/&gt;\n",
       "    &lt;link rel=&quot;stylesheet&quot; href=&quot;https://netdna.bootstrapcdn.com/bootstrap/3.0.0/css/bootstrap.min.css&quot;/&gt;\n",
       "    &lt;link rel=&quot;stylesheet&quot; href=&quot;https://cdn.jsdelivr.net/npm/@fortawesome/fontawesome-free@6.2.0/css/all.min.css&quot;/&gt;\n",
       "    &lt;link rel=&quot;stylesheet&quot; href=&quot;https://cdnjs.cloudflare.com/ajax/libs/Leaflet.awesome-markers/2.0.2/leaflet.awesome-markers.css&quot;/&gt;\n",
       "    &lt;link rel=&quot;stylesheet&quot; href=&quot;https://cdn.jsdelivr.net/gh/python-visualization/folium/folium/templates/leaflet.awesome.rotate.min.css&quot;/&gt;\n",
       "    \n",
       "            &lt;meta name=&quot;viewport&quot; content=&quot;width=device-width,\n",
       "                initial-scale=1.0, maximum-scale=1.0, user-scalable=no&quot; /&gt;\n",
       "            &lt;style&gt;\n",
       "                #map_7fe1988eff75389f1b85a007de2411f6 {\n",
       "                    position: relative;\n",
       "                    width: 100.0%;\n",
       "                    height: 100.0%;\n",
       "                    left: 0.0%;\n",
       "                    top: 0.0%;\n",
       "                }\n",
       "                .leaflet-container { font-size: 1rem; }\n",
       "            &lt;/style&gt;\n",
       "        \n",
       "    \n",
       "                    &lt;style&gt;\n",
       "                        .foliumtooltip {\n",
       "                            \n",
       "                        }\n",
       "                       .foliumtooltip table{\n",
       "                            margin: auto;\n",
       "                        }\n",
       "                        .foliumtooltip tr{\n",
       "                            text-align: left;\n",
       "                        }\n",
       "                        .foliumtooltip th{\n",
       "                            padding: 2px; padding-right: 8px;\n",
       "                        }\n",
       "                    &lt;/style&gt;\n",
       "            \n",
       "&lt;/head&gt;\n",
       "&lt;body&gt;\n",
       "    \n",
       "    \n",
       "            &lt;div class=&quot;folium-map&quot; id=&quot;map_7fe1988eff75389f1b85a007de2411f6&quot; &gt;&lt;/div&gt;\n",
       "        \n",
       "&lt;/body&gt;\n",
       "&lt;script&gt;\n",
       "    \n",
       "    \n",
       "            var map_7fe1988eff75389f1b85a007de2411f6 = L.map(\n",
       "                &quot;map_7fe1988eff75389f1b85a007de2411f6&quot;,\n",
       "                {\n",
       "                    center: [42.563310688233045, 20.902083332926964],\n",
       "                    crs: L.CRS.EPSG3857,\n",
       "                    zoom: 10,\n",
       "                    zoomControl: true,\n",
       "                    preferCanvas: false,\n",
       "                }\n",
       "            );\n",
       "            L.control.scale().addTo(map_7fe1988eff75389f1b85a007de2411f6);\n",
       "\n",
       "            \n",
       "\n",
       "        \n",
       "    \n",
       "            var tile_layer_3ced2b0fffbdaa7c86b04c8f0c2f4cc2 = L.tileLayer(\n",
       "                &quot;https://tile.openstreetmap.org/{z}/{x}/{y}.png&quot;,\n",
       "                {&quot;attribution&quot;: &quot;\\u0026copy; \\u003ca href=\\&quot;https://www.openstreetmap.org/copyright\\&quot;\\u003eOpenStreetMap\\u003c/a\\u003e contributors&quot;, &quot;detectRetina&quot;: false, &quot;maxNativeZoom&quot;: 19, &quot;maxZoom&quot;: 19, &quot;minZoom&quot;: 0, &quot;noWrap&quot;: false, &quot;opacity&quot;: 1, &quot;subdomains&quot;: &quot;abc&quot;, &quot;tms&quot;: false}\n",
       "            );\n",
       "        \n",
       "    \n",
       "            tile_layer_3ced2b0fffbdaa7c86b04c8f0c2f4cc2.addTo(map_7fe1988eff75389f1b85a007de2411f6);\n",
       "        \n",
       "    \n",
       "            map_7fe1988eff75389f1b85a007de2411f6.fitBounds(\n",
       "                [[41.8577379058812, 20.014282217922478], [43.26888347058488, 21.789884447931453]],\n",
       "                {}\n",
       "            );\n",
       "        \n",
       "    \n",
       "        function geo_json_b4467fc1041a53b62ba2903a6e3e65ec_styler(feature) {\n",
       "            switch(feature.id) {\n",
       "                default:\n",
       "                    return {&quot;fillOpacity&quot;: 0.5, &quot;weight&quot;: 2};\n",
       "            }\n",
       "        }\n",
       "        function geo_json_b4467fc1041a53b62ba2903a6e3e65ec_highlighter(feature) {\n",
       "            switch(feature.id) {\n",
       "                default:\n",
       "                    return {&quot;fillOpacity&quot;: 0.75};\n",
       "            }\n",
       "        }\n",
       "        function geo_json_b4467fc1041a53b62ba2903a6e3e65ec_pointToLayer(feature, latlng) {\n",
       "            var opts = {&quot;bubblingMouseEvents&quot;: true, &quot;color&quot;: &quot;#3388ff&quot;, &quot;dashArray&quot;: null, &quot;dashOffset&quot;: null, &quot;fill&quot;: true, &quot;fillColor&quot;: &quot;#3388ff&quot;, &quot;fillOpacity&quot;: 0.2, &quot;fillRule&quot;: &quot;evenodd&quot;, &quot;lineCap&quot;: &quot;round&quot;, &quot;lineJoin&quot;: &quot;round&quot;, &quot;opacity&quot;: 1.0, &quot;radius&quot;: 2, &quot;stroke&quot;: true, &quot;weight&quot;: 3};\n",
       "            \n",
       "            let style = geo_json_b4467fc1041a53b62ba2903a6e3e65ec_styler(feature)\n",
       "            Object.assign(opts, style)\n",
       "            \n",
       "            return new L.CircleMarker(latlng, opts)\n",
       "        }\n",
       "\n",
       "        function geo_json_b4467fc1041a53b62ba2903a6e3e65ec_onEachFeature(feature, layer) {\n",
       "            layer.on({\n",
       "                mouseout: function(e) {\n",
       "                    if(typeof e.target.setStyle === &quot;function&quot;){\n",
       "                            geo_json_b4467fc1041a53b62ba2903a6e3e65ec.resetStyle(e.target);\n",
       "                    }\n",
       "                },\n",
       "                mouseover: function(e) {\n",
       "                    if(typeof e.target.setStyle === &quot;function&quot;){\n",
       "                        const highlightStyle = geo_json_b4467fc1041a53b62ba2903a6e3e65ec_highlighter(e.target.feature)\n",
       "                        e.target.setStyle(highlightStyle);\n",
       "                    }\n",
       "                },\n",
       "            });\n",
       "        };\n",
       "        var geo_json_b4467fc1041a53b62ba2903a6e3e65ec = L.geoJson(null, {\n",
       "                onEachFeature: geo_json_b4467fc1041a53b62ba2903a6e3e65ec_onEachFeature,\n",
       "            \n",
       "                style: geo_json_b4467fc1041a53b62ba2903a6e3e65ec_styler,\n",
       "                pointToLayer: geo_json_b4467fc1041a53b62ba2903a6e3e65ec_pointToLayer,\n",
       "        });\n",
       "\n",
       "        function geo_json_b4467fc1041a53b62ba2903a6e3e65ec_add (data) {\n",
       "            geo_json_b4467fc1041a53b62ba2903a6e3e65ec\n",
       "                .addData(data);\n",
       "        }\n",
       "            geo_json_b4467fc1041a53b62ba2903a6e3e65ec_add({&quot;bbox&quot;: [20.014282217922478, 41.8577379058812, 21.789884447931453, 43.26888347058488], &quot;features&quot;: [{&quot;bbox&quot;: [20.014282217922478, 41.8577379058812, 21.789884447931453, 43.26888347058488], &quot;geometry&quot;: {&quot;coordinates&quot;: [[[20.014282217922478, 42.74081919757123], [20.016280421017147, 42.73518647895626], [20.014557822390135, 42.72938149538694], [20.018623023935483, 42.72440336630055], [20.021674326152006, 42.723443019139076], [20.032196737731983, 42.72013142555045], [20.022619370225154, 42.713275652068546], [20.017107237168965, 42.71324123143858], [20.01593584642624, 42.709796178921124], [20.02685681833634, 42.70984782948976], [20.033712557538536, 42.71143258963143], [20.03147322368762, 42.70602376808805], [20.03323021370443, 42.69742822804218], [20.040233319184384, 42.69627806779542], [20.045081356551012, 42.695481746851364], [20.052763951412935, 42.68847098670111], [20.054210842535525, 42.6848191889512], [20.06368486296523, 42.68497424138521], [20.06826688688903, 42.68028891247036], [20.083390837304204, 42.68003053642323], [20.088558515371187, 42.66871338697328], [20.0942457849184, 42.666425409098196], [20.09455295563717, 42.666301820839735], [20.111674838754112, 42.65579952150591], [20.113087586314126, 42.654932989371126], [20.110538190112457, 42.65265922299656], [20.110641521738554, 42.65009265191396], [20.10878119126521, 42.64781885233766], [20.09703340941065, 42.64265123149335], [20.093795025759853, 42.639533446498774], [20.09214139636676, 42.63415904413009], [20.088145110668453, 42.62906035419758], [20.08225396038267, 42.626614318844204], [20.075777158783396, 42.6207749074584], [20.07622499860592, 42.61434977471747], [20.072848849448913, 42.60663278103668], [20.075191550481243, 42.60139618034038], [20.077731189209246, 42.59829657007859], [20.080738127290033, 42.59462659586214], [20.081323740128678, 42.59123315427964], [20.086319189712906, 42.58713354031494], [20.085767924623905, 42.582465446162715], [20.08838621036994, 42.577762878002645], [20.088355130044516, 42.577272120628436], [20.088145110668453, 42.57395599439241], [20.084183198869745, 42.570958800310564], [20.084458830753984, 42.56827159710052], [20.079222297404378, 42.56007232350076], [20.07891222515419, 42.55580039097025], [20.08835176755159, 42.55063273708591], [20.089902059578353, 42.54825560547927], [20.089523096984298, 42.54537892831593], [20.09579318146839, 42.541485998929424], [20.099169347369994, 42.53540541435096], [20.09796355904808, 42.53425132346279], [20.10023736414902, 42.53258045053951], [20.10395807712613, 42.530909534784556], [20.10678299985762, 42.53094403933513], [20.114086644504273, 42.52713720616531], [20.12187258338904, 42.52565579704436], [20.12125240263266, 42.523468148589764], [20.122871653517798, 42.52221068113279], [20.149605572194506, 42.51442475771701], [20.154049715151636, 42.51204765826107], [20.15615128095411, 42.50932604646748], [20.159493003471425, 42.509067677831446], [20.16166338600083, 42.50688002037573], [20.16517736483969, 42.506656092339206], [20.167520087027345, 42.501057773028194], [20.16596981417063, 42.49921467164911], [20.16632518510988, 42.49847132576772], [20.169724939117945, 42.49135984505254], [20.180266945002423, 42.486588386854024], [20.180129156696974, 42.48019771243636], [20.182919647300068, 42.475236834812286], [20.18247174297851, 42.472997510411645], [20.189293041473398, 42.47027587851375], [20.193668338607164, 42.46443645986957], [20.195804279351282, 42.46404027682304], [20.19680335628927, 42.46245553636346], [20.19204911767186, 42.45677108622368], [20.19297929447434, 42.45246477458334], [20.200145165278414, 42.448055000315584], [20.20303898150686, 42.44740047969677], [20.20548498173611, 42.44488549859144], [20.20768985149657, 42.44459269171847], [20.211594607661933, 42.439140619123854], [20.21234074915439, 42.438098670636904], [20.217370610241698, 42.436789536935684], [20.22064342753006, 42.433706228239664], [20.223089482610437, 42.42569631830703], [20.226503755854875, 42.423542432834765], [20.226775713081633, 42.42337092642683], [20.22763703277791, 42.41925403149015], [20.22608673071697, 42.414396431979526], [20.214063357968296, 42.409676621304364], [20.211927367223947, 42.406972261503086], [20.21130720385895, 42.403441032360746], [20.208137770397787, 42.40140840684847], [20.20986027908547, 42.398221695352824], [20.212409646163756, 42.39794609105584], [20.217887341252503, 42.394139239344796], [20.221332496052142, 42.39334687688992], [20.227120204488543, 42.38821370520608], [20.233769281516523, 42.385044195450995], [20.235526295599197, 42.38128902015311], [20.240039376259375, 42.38008327812138], [20.240372965837764, 42.3793394887058], [20.241692963889793, 42.37639701025332], [20.24079727016815, 42.3733997923212], [20.246033829452116, 42.3686627538723], [20.245034690215967, 42.36545887469123], [20.246860629021036, 42.360170606600846], [20.24645959112837, 42.35960027506638], [20.245310289635093, 42.357965747108125], [20.244931340461864, 42.352901496400705], [20.240762820423793, 42.351506221055], [20.236077487987547, 42.34733766204801], [20.24224416052717, 42.34203218353036], [20.247136229068982, 42.335055879457585], [20.247859679638385, 42.33283378944228], [20.242554208801323, 42.327338882417095], [20.246791729029262, 42.323652647130935], [20.248789831314987, 42.32255022712231], [20.255094402796573, 42.322808599037195], [20.256393791097484, 42.32036447211871], [20.25726477783403, 42.31872611627733], [20.260537667472704, 42.31865725774281], [20.271837536875953, 42.31967355099203], [20.28585914675646, 42.32329086620009], [20.292680418912745, 42.323514794946284], [20.294230666257306, 42.32091374656799], [20.300604127525805, 42.318450508557774], [20.30549618035608, 42.314919271869584], [20.308837893503966, 42.315263837189875], [20.310491528727127, 42.3180543586501], [20.31393662007876, 42.320397003106535], [20.321136922624955, 42.32189560405064], [20.324220252880547, 42.32480674746039], [20.327303594293213, 42.32771784468776], [20.339223624923466, 42.32764892948751], [20.340257149279175, 42.326443123998786], [20.34607941718915, 42.32477222774626], [20.348490934445355, 42.32055205755277], [20.354003076933854, 42.317158635346935], [20.354760983338196, 42.314436977604515], [20.35338298870395, 42.309562204542466], [20.353491533657884, 42.30954829323198], [20.361995718048718, 42.30845971466288], [20.364614008178535, 42.30644437034715], [20.36905814642849, 42.305428050211354], [20.37398467959076, 42.305824207431314], [20.38265488433318, 42.30252525021023], [20.38652482111541, 42.301052818456974], [20.390211040528346, 42.298245011021166], [20.39472412753961, 42.29864118669252], [20.401373158052827, 42.28728962558678], [20.404818243457612, 42.284688587682844], [20.4084356244493, 42.284791956014104], [20.420665676547976, 42.28201863819887], [20.423387326672685, 42.28251820016779], [20.426143351074288, 42.27771226390104], [20.4419564195716, 42.27735050736844], [20.444299004649395, 42.27480113404686], [20.45642578950423, 42.27232066742747], [20.4615245387525, 42.26897893641209], [20.463798255126843, 42.265482189515154], [20.475408221600727, 42.25871260567472], [20.476855226701563, 42.253183167194415], [20.47939583285224, 42.251865354033804], [20.487913999268947, 42.24744709677719], [20.490256605834443, 42.2437608228994], [20.496802295585695, 42.24086699095942], [20.502211123758634, 42.22818904521117], [20.50899793203108, 42.22474391071345], [20.5140966837048, 42.22434774054877], [20.515856798798783, 42.22086821103206], [20.517817405898626, 42.216992486350556], [20.523880736930685, 42.21151478721041], [20.53149439014595, 42.185934928627624], [20.53697214596081, 42.17682264216484], [20.542622055797068, 42.17179279979842], [20.542794362307486, 42.16624619679475], [20.54455134478743, 42.16634954416832], [20.545171467674336, 42.1647648423363], [20.547100670525246, 42.16471313494922], [20.543069961852375, 42.16066516554342], [20.548616520757736, 42.15408504007051], [20.558538388717512, 42.146574730716395], [20.555403367154682, 42.14004627308673], [20.562121334014492, 42.13293210656156], [20.568253578288477, 42.12166669102594], [20.567495684056308, 42.11784260072544], [20.564842922164427, 42.11601672491023], [20.560932170166755, 42.10834108926089], [20.560226474170122, 42.10695611661233], [20.56780575230001, 42.09813665406355], [20.55784942513662, 42.08809417921002], [20.55457655885414, 42.082599267127314], [20.55898630167188, 42.07886138584494], [20.55841754500089, 42.077130813852314], [20.557780501528136, 42.07519234122311], [20.566599941987338, 42.065149862677494], [20.56994167939872, 42.060688476863916], [20.569803830591738, 42.059052066342254], [20.576211727968168, 42.057966874709244], [20.592179673323766, 42.04488327096096], [20.594711928385223, 42.042808444563946], [20.59560760319733, 42.041223699280415], [20.594539704304218, 42.03602157344537], [20.597248554118845, 42.01976802839133], [20.597261284548978, 42.01969186841306], [20.600051798005214, 42.018847779410045], [20.601533170007773, 42.017021879942206], [20.60714868945136, 42.00014094563673], [20.608974614718818, 41.99722979530097], [20.608698998016106, 41.9913386881972], [20.614038936249422, 41.98303601947842], [20.615485863565134, 41.9811756479341], [20.618012444013853, 41.98007410902006], [20.619792193126866, 41.979298107518574], [20.624029702539083, 41.97402709916398], [20.625304323074886, 41.960108894023456], [20.620619051795945, 41.942935134914634], [20.619088822697822, 41.9405662183833], [20.617036092988304, 41.93738849948179], [20.610559389386246, 41.93428792350412], [20.60632184092426, 41.928879156722054], [20.59881157901916, 41.92998158505805], [20.595504305033476, 41.92908585194529], [20.59009544127827, 41.92521011508263], [20.58892415939339, 41.92154104582001], [20.582860811526903, 41.91668346715929], [20.57462700389386, 41.91682129274482], [20.582309591533324, 41.90138726598314], [20.58346095240541, 41.89961946016048], [20.593506087574745, 41.884196260352745], [20.594298463324684, 41.8773232422447], [20.604048078924485, 41.8678664664052], [20.61924095436748, 41.85778961860427], [20.632022271240753, 41.861114115063636], [20.63639759345548, 41.86352565653842], [20.648420973642203, 41.87453271508916], [20.663338183819565, 41.87527341416541], [20.670538507628883, 41.8734130445884], [20.67849666367763, 41.86852103465269], [20.681287196366796, 41.85959826787643], [20.68349200013702, 41.8577379058812], [20.705919574591487, 41.86466254910861], [20.727968246126988, 41.86428359662958], [20.728031814536703, 41.864387797797924], [20.735823015797322, 41.87715099261561], [20.73633975117394, 41.88646999041741], [20.74047391467685, 41.89280900669364], [20.74970673785701, 41.89485881394997], [20.755666734011072, 41.90607260967528], [20.76480781322145, 41.911118854640975], [20.76658769064083, 41.912101519978556], [20.769722739988552, 41.915339895418754], [20.77650961292173, 41.91847490173717], [20.772168796730814, 41.921075980577335], [20.770940947698932, 41.92373179733407], [20.770584079564546, 41.9245038482785], [20.77017064377112, 41.92552016519833], [20.77296111056886, 41.92676041093621], [20.768723710472628, 41.92918920376551], [20.767725682120105, 41.93071870498571], [20.762384688348366, 41.93890436142832], [20.754736559894553, 41.946776392909555], [20.75904294070517, 41.95106553609192], [20.76603647495917, 41.95361493523108], [20.76661315515724, 41.95855365161472], [20.767104529449472, 41.96276165561889], [20.764796263258447, 41.964466962053976], [20.754357596896256, 41.97965981997084], [20.74877656808834, 41.98238146357378], [20.74825982760929, 41.99542112394822], [20.751911664903037, 42.01528211423164], [20.750636908308405, 42.015884986770146], [20.74815642497137, 42.02570356951977], [20.74936751865352, 42.026750243675124], [20.75297961670692, 42.029872109859774], [20.754633247672068, 42.03333444263055], [20.758059379953863, 42.03621156227705], [20.763556052752488, 42.040827489104764], [20.765071916280046, 42.04530610089545], [20.7630048383644, 42.04497883586091], [20.759387437250446, 42.048148360510055], [20.758181699764194, 42.05343654808444], [20.768136388795767, 42.05812568037637], [20.771273078889404, 42.05960326832461], [20.776302894072803, 42.06413353745723], [20.778611089701158, 42.064788164867764], [20.778576621343706, 42.06682075673814], [20.782435173075655, 42.070265824158646], [20.785983610040155, 42.071747240412215], [20.78391659001194, 42.074572222109126], [20.78443980187345, 42.07769929953752], [20.78464006484484, 42.07889578670298], [20.792804944494605, 42.083649996116165], [20.79599844399291, 42.083456525234766], [20.79605373961056, 42.083453167862245], [20.79962622281333, 42.083236590164766], [20.80258900552685, 42.08163466931758], [20.820744637245948, 42.08421849777341], [20.82563666816631, 42.08402897726043], [20.829012869838827, 42.085613756051124], [20.834146036204647, 42.08597547851961], [20.843043993318368, 42.09834505565464], [20.84324108159863, 42.09861896866648], [20.84816756989005, 42.09941137784273], [20.853886435772957, 42.098067731236604], [20.860638799430422, 42.099652479843904], [20.86139678472481, 42.098722340429305], [20.862061454662417, 42.09861614510883], [20.877140848172374, 42.09620743248277], [20.883686492873114, 42.096086844498544], [20.891541340553147, 42.09744766808766], [20.898431487593296, 42.10494075501302], [20.902042426370823, 42.10694239246583], [20.904770486639837, 42.10845469860198], [20.90845675001632, 42.11253715053166], [20.91448563628967, 42.11520710079717], [20.91669054910638, 42.118755536872335], [20.91658722501715, 42.12294133416336], [20.919205437766085, 42.12499118947058], [20.919997833171163, 42.128591291583376], [20.92444196724395, 42.126851570420264], [20.926637889415876, 42.12714506506138], [20.92792153616975, 42.12731663383037], [20.941529637322613, 42.13713514682581], [20.941544099282407, 42.13713932608496], [20.944836972627296, 42.138099752738356], [20.948626563865936, 42.137204084663615], [20.954242113061728, 42.13789302659511], [20.956515843324024, 42.13644610869374], [20.9693660519605, 42.1364460905837], [20.97270782440618, 42.13885768770912], [20.979563571962707, 42.13975343152082], [20.982595197642947, 42.139064423913496], [20.984879607948706, 42.14107426461979], [20.986178125782104, 42.142216675882125], [20.994825263988904, 42.14388752825196], [20.995824353332626, 42.14505884140719], [21.001129796402758, 42.145300021588746], [21.009225793883324, 42.15050214071338], [21.010211429284798, 42.15049756818976], [21.016632716912923, 42.150467677943446], [21.026451295296738, 42.152259116375106], [21.02824275667137, 42.15611760244919], [21.03199787268943, 42.15725452381038], [21.041609686661765, 42.163662398818765], [21.043166028293992, 42.165948183654706], [21.043263356541928, 42.16609116000042], [21.046742890011224, 42.1652816049678], [21.04932673398994, 42.16624621985451], [21.050823229300985, 42.16855907807157], [21.05463214799059, 42.174445527105156], [21.055141350607276, 42.17476837112595], [21.057973894924114, 42.17656425762862], [21.061487929242926, 42.181421857777046], [21.064760738626113, 42.182403720586706], [21.06934268079424, 42.18646890986106], [21.080711531118485, 42.18881159230725], [21.0884630231874, 42.193669147351265], [21.091287973335476, 42.19420317157808], [21.096760233562854, 42.201484262474416], [21.097489123431302, 42.20245416583304], [21.103759242222058, 42.205882011866834], [21.104061605588615, 42.205900700220376], [21.115228976981903, 42.20659082673328], [21.119089864252743, 42.20682945172888], [21.121260274593986, 42.20398725080121], [21.12535995448605, 42.20219578095546], [21.13203249090988, 42.201257441413524], [21.161740172210195, 42.19707978854532], [21.171179735718002, 42.18689956092368], [21.171145259455376, 42.185917702479834], [21.168251438564674, 42.1855559451657], [21.171903191479668, 42.18045724300712], [21.174073651021644, 42.17952703772804], [21.18058485910241, 42.1667457351829], [21.185201242921075, 42.165143805909516], [21.186579300805697, 42.16398965139368], [21.184512259747926, 42.16300779499799], [21.186165947037438, 42.16338674384782], [21.186854930668726, 42.16181923160215], [21.19095463269528, 42.15971771094002], [21.192160401901045, 42.155531934516866], [21.195019773712144, 42.15410223669966], [21.195364266691108, 42.152224700110956], [21.197569131986942, 42.15101888886404], [21.200152969407956, 42.151156666245974], [21.20001515376677, 42.14786659228507], [21.2029779642562, 42.14760823769869], [21.20325359586196, 42.14488660406705], [21.20511397347889, 42.14505886594916], [21.205906301339642, 42.142044371842076], [21.208696825548714, 42.1405802579853], [21.208076698700232, 42.13842705172922], [21.210970564587548, 42.13651505043921], [21.21059159278576, 42.13498198111969], [21.21276208490963, 42.13489580083866], [21.214484561761022, 42.132828792461595], [21.21693059903679, 42.12404379886316], [21.214519038607552, 42.11594781593531], [21.215208029658925, 42.114156346386004], [21.212555314982495, 42.11095240267895], [21.21651724050746, 42.10413113798766], [21.21821270223348, 42.103208327846616], [21.22041012699043, 42.102012418486524], [21.22216717656554, 42.09393361028689], [21.226990312928937, 42.09589735938817], [21.227679307097464, 42.09717201480555], [21.229711904555355, 42.096069635499596], [21.230469853467973, 42.09736153063831], [21.23346708309616, 42.09824001849613], [21.233432606016066, 42.09531167803502], [21.23364820144171, 42.095258459367216], [21.23915143941589, 42.09389921648062], [21.25078681577065, 42.0923125588725], [21.250899253546915, 42.092297232230344], [21.256893757799897, 42.09277952099772], [21.257513804321025, 42.093916438792604], [21.265850967933492, 42.0943125926888], [21.27260337003885, 42.09593181333664], [21.278873464098986, 42.10104777178149], [21.280664843825743, 42.10078939146736], [21.281284986017447, 42.102064082790406], [21.283386483871354, 42.10128894052749], [21.291344642174874, 42.10509573022784], [21.292894957414102, 42.10637043417221], [21.292550452963653, 42.10862698834085], [21.29534096733617, 42.11060790014191], [21.29475957586969, 42.11174173587993], [21.29465195796815, 42.111951469483934], [21.29737360947626, 42.11253712581002], [21.299371775012368, 42.11091795407545], [21.303505839026858, 42.10447565466418], [21.32075199036405, 42.10793149435819], [21.32138587640231, 42.10805852335283], [21.31508140799342, 42.11456978734474], [21.31470242339064, 42.11570663165743], [21.316666120820823, 42.11753252069584], [21.315219228853817, 42.11999576763531], [21.31201523627841, 42.121236035489716], [21.310361569686076, 42.127919491852104], [21.305228367154086, 42.13208810254816], [21.30460831151506, 42.13375891806909], [21.3066064812463, 42.134000087587644], [21.302334502192036, 42.13851316263335], [21.303574794723165, 42.1399084066548], [21.30240345786139, 42.141303677589775], [21.3040761335687, 42.1420332595293], [21.31049939036681, 42.144834939808085], [21.31032718274294, 42.148969052053125], [21.321006982107168, 42.16076848081119], [21.317286269534296, 42.17017362296141], [21.31783527908837, 42.17034256725738], [21.32042131077023, 42.1711382641418], [21.318216447324925, 42.17298133332527], [21.321833726771054, 42.17375651265267], [21.322867339808447, 42.1754446081754], [21.327001430952063, 42.17615081887075], [21.32941298622497, 42.18319606560527], [21.33203122978612, 42.1849358593882], [21.335200761531958, 42.19032741432366], [21.335269626848763, 42.19258396880671], [21.331066661405192, 42.19907798484872], [21.333498414902007, 42.20397088284096], [21.333926071089262, 42.20483125949484], [21.335751957019497, 42.20510684738858], [21.335028461785857, 42.20748402330013], [21.338335817706877, 42.20367716129439], [21.341367441815063, 42.20505521042043], [21.345811675043894, 42.204796778354364], [21.346087228047068, 42.20732899216518], [21.350875885425946, 42.21061902158761], [21.35239174742637, 42.21466702774349], [21.356146881069375, 42.21508040508354], [21.358386244331133, 42.22076484388658], [21.361383496003974, 42.22216009393572], [21.366757849109046, 42.22116102638513], [21.368239238413153, 42.22310746155525], [21.371270884440236, 42.22426157711116], [21.371615396005343, 42.22607028985827], [21.36968614977479, 42.22729329559635], [21.37495716868458, 42.23097952472905], [21.37406145618815, 42.2332533106869], [21.375336068037242, 42.23595769185011], [21.377265316720194, 42.23807641903184], [21.37984920306346, 42.23721515228227], [21.385671344867934, 42.241452667282005], [21.38215735358741, 42.24460489645139], [21.385085755277686, 42.24648246037583], [21.39080455881751, 42.24555231874239], [21.391080205622767, 42.24651692796073], [21.40066853978055, 42.24899497000022], [21.401277693204776, 42.249152416516324], [21.403585854050366, 42.24689588352098], [21.409201424922504, 42.247102612053745], [21.411578546827343, 42.244501564762416], [21.413817845769724, 42.24391584709038], [21.416091624424265, 42.244122610477774], [21.41722842313847, 42.24577623728372], [21.419950063615275, 42.24405366674703], [21.419846718218004, 42.242262210241265], [21.421982675167733, 42.24238282680989], [21.420329057416804, 42.24103925117067], [21.42435980272297, 42.23979896169381], [21.426909143516554, 42.236216121293104], [21.42976861317215, 42.23666396004663], [21.430836547943976, 42.23397677068861], [21.433937189741208, 42.231685756948046], [21.435556332567998, 42.23313272814646], [21.4365554925732, 42.23254702695851], [21.43765790747939, 42.23375283595065], [21.444306880123133, 42.23494139672341], [21.44213652700457, 42.2393855574582], [21.443548980393278, 42.24128034970435], [21.441744795496554, 42.24301994734012], [21.434901779609834, 42.24961751505056], [21.432490259757497, 42.25929822864636], [21.440413945652164, 42.26232994954802], [21.44103411127193, 42.26756645761903], [21.439966083677188, 42.26935788349224], [21.44124080283004, 42.27197617383765], [21.440000562589844, 42.27426720272381], [21.444169146327454, 42.275352336181925], [21.444858088258947, 42.27790173603974], [21.44875111649607, 42.27900415157475], [21.4502324383367, 42.27673044729173], [21.456640344157293, 42.276506492602195], [21.470799675140285, 42.280037675490284], [21.4728724226381, 42.27968726726687], [21.475588355929258, 42.279228114771335], [21.47988059510135, 42.277162252141515], [21.486647146992958, 42.27390542078686], [21.492021528466825, 42.27328533216169], [21.496224530804206, 42.27459441871034], [21.50149029515349, 42.27131216898574], [21.503907023833104, 42.26980579070638], [21.507214390605775, 42.27187281469616], [21.511141747988425, 42.27052927358818], [21.51217530644418, 42.26925452973166], [21.511107268752376, 42.266016204633054], [21.519272210556572, 42.26215766414801], [21.52013346446024, 42.260641830687064], [21.517687438054086, 42.25948772311718], [21.520305678857408, 42.252459690070815], [21.519272210556572, 42.24972086816436], [21.52137371750143, 42.24489773747831], [21.52127037065787, 42.241469893241145], [21.523509613159106, 42.24117700291468], [21.532019084431834, 42.24062577745037], [21.533569379629647, 42.241590435698754], [21.532397992902393, 42.2426756412826], [21.53880586903367, 42.25047881615171], [21.542767716800462, 42.25244250705114], [21.542388808024477, 42.25149507123152], [21.54431801328287, 42.25113333491101], [21.543766798760032, 42.25325210923633], [21.544903707167517, 42.25363102406696], [21.549554597827463, 42.25357935094163], [21.553723142793785, 42.25042711182789], [21.55768499458503, 42.25077159044279], [21.558546251021948, 42.253010911995766], [21.563059319132662, 42.25073717655918], [21.569053819406108, 42.25075436473517], [21.575255015899916, 42.25407889904056], [21.580319303375386, 42.25943602293459], [21.581731776428214, 42.26010780436717], [21.583592118004738, 42.25933267819309], [21.58693389186077, 42.262812243929865], [21.589379838029405, 42.26472427728075], [21.59000001268622, 42.26715302666752], [21.589276490754653, 42.26963352180842], [21.585280244591203, 42.27220011374092], [21.583557638598005, 42.2755246415964], [21.58214516543738, 42.279658769391276], [21.58445337551065, 42.283034939380215], [21.58330618452828, 42.283836421424056], [21.561819153228054, 42.29884795670949], [21.565746527499034, 42.29962309981682], [21.563162666299615, 42.30156954064633], [21.56519531223958, 42.3038950089552], [21.565505353767385, 42.30796017605914], [21.564437402655205, 42.30770181652304], [21.565781006887796, 42.309803315418996], [21.55913194545457, 42.315384382117855], [21.558442903890928, 42.31374794677574], [21.55472222548997, 42.313903029545855], [21.55275853951331, 42.312111546297245], [21.550657027340257, 42.313558469929866], [21.5485210361198, 42.310940249697964], [21.546522871598793, 42.31011339552046], [21.545110401258878, 42.31068179607232], [21.541837593573504, 42.308907628776076], [21.53890921602994, 42.31068181766782], [21.53932260402401, 42.31307619833827], [21.53753122579744, 42.31476427945202], [21.538564695715245, 42.31893285437716], [21.536635491292284, 42.31803711379041], [21.53281138068985, 42.31984579815076], [21.536876664574777, 42.32093099005326], [21.533707114925512, 42.32244681096475], [21.53139891182317, 42.32213674617956], [21.527368200051114, 42.325237321034336], [21.524853213466063, 42.32546132596664], [21.524129785345558, 42.32697715980488], [21.526644680796526, 42.33006051344362], [21.526954721479914, 42.332782092206166], [21.52589086711662, 42.33649402899329], [21.525404427153465, 42.33819091198884], [21.526610201506575, 42.34001682831806], [21.525266691965395, 42.34196328289179], [21.526403507720644, 42.34456431479498], [21.53019313698497, 42.34754438707735], [21.529469708523106, 42.349094613212685], [21.530985524089612, 42.35293590394221], [21.53350042101382, 42.35352156806567], [21.5319846051329, 42.35650157102505], [21.53542971593306, 42.35970555633309], [21.53191564651707, 42.36640628314817], [21.53611866542837, 42.367388099362216], [21.536187624062162, 42.369644656118], [21.53946043035515, 42.37085040588422], [21.540425032737307, 42.373348144115134], [21.544662533741295, 42.36795655313028], [21.546901871463948, 42.36788763352828], [21.547246391985258, 42.36499375022263], [21.55203501885735, 42.36244441380384], [21.55303410145472, 42.36564830720525], [21.5581673418507, 42.3674569871908], [21.561061152806037, 42.36661295825813], [21.561198979334804, 42.36788764980575], [21.56829590966902, 42.36571719354263], [21.571396507574562, 42.36270277826271], [21.572877847911506, 42.365234934994575], [21.57601292587955, 42.365579433273595], [21.579492434438563, 42.36787044492109], [21.575840619854223, 42.37336536356149], [21.57415258487795, 42.373847639581776], [21.57429032052416, 42.375587426088345], [21.57555450451384, 42.37636708169386], [21.584177813129063, 42.38168525640685], [21.58751949608457, 42.38025556740211], [21.594409739585814, 42.38389013237467], [21.59525007319077, 42.383410965540364], [21.60030080873576, 42.38053112457347], [21.605916316105994, 42.375294610375946], [21.615907073268772, 42.37591474240771], [21.620661323573266, 42.37798179887159], [21.621901582570285, 42.38283933223925], [21.627620438401042, 42.39071143291772], [21.627551570506075, 42.39227891431524], [21.637163327309626, 42.398721223895436], [21.635681985265883, 42.40363052274423], [21.637817890706213, 42.4034065909258], [21.64370905203229, 42.40850528748788], [21.644914831389016, 42.40836753027312], [21.64550070877253, 42.41018896285923], [21.646499611509217, 42.413294026137336], [21.644225788621632, 42.41703194917341], [21.637094459414655, 42.42071820512083], [21.636439896009083, 42.42271636061377], [21.638713628193774, 42.424456118949166], [21.637680154925256, 42.42952041883037], [21.631961299372975, 42.43492921834705], [21.631972853171785, 42.43498787144503], [21.632753598604417, 42.43894271615248], [21.630410998390012, 42.442336156746826], [21.6251743998317, 42.44619469910935], [21.62493832031128, 42.44678940484801], [21.622418319249462, 42.45313656597824], [21.624692142586206, 42.45516915276415], [21.62861952328912, 42.45510023499471], [21.62824052241785, 42.45770128127993], [21.62881411832226, 42.45856892927501], [21.629584128743517, 42.459733866098524], [21.631237777064115, 42.45987170674881], [21.64129749325595, 42.46822605618369], [21.64553491528006, 42.469138995286045], [21.646868514112953, 42.47038065004044], [21.64953125389812, 42.47285971546764], [21.653148591420333, 42.4734281414598], [21.65477057990333, 42.47432023631482], [21.657971707571637, 42.47608089638973], [21.65690375530063, 42.47802736431243], [21.66027991812101, 42.480283920583126], [21.65783397184458, 42.483660039808264], [21.66079674546715, 42.484194087472126], [21.661175655150434, 42.485227598694465], [21.663759518811236, 42.484280188710386], [21.671235364056933, 42.484331885955484], [21.672131100718044, 42.48657116034691], [21.66985727960014, 42.4880525947734], [21.667307986911343, 42.492875677246865], [21.671132016827098, 42.494064267142996], [21.675369434997435, 42.497629937208245], [21.682647588564492, 42.49989204712454], [21.690665726678844, 42.502384153816934], [21.692009239337178, 42.50472680661871], [21.69380071068311, 42.50534695757798], [21.69152698307983, 42.50760350376957], [21.69197485094775, 42.51561329785546], [21.693525148705767, 42.514683181644344], [21.69662574376365, 42.51614729962439], [21.707546689092602, 42.51315007866495], [21.70937254687862, 42.515096577345965], [21.70868350620431, 42.516250686892135], [21.710578322480387, 42.51657794782138], [21.707029863031057, 42.522951386452334], [21.70348140264748, 42.52438110880254], [21.70062198248007, 42.52801565862051], [21.69827938814963, 42.52882523520371], [21.69662574376365, 42.53116796860235], [21.69790038819464, 42.53495752669315], [21.693352842860104, 42.53938447837509], [21.69738365275514, 42.53967731558417], [21.6975558675835, 42.541072574841046], [21.70131102355862, 42.54086589516765], [21.703205840849797, 42.54446602163377], [21.701448849961622, 42.545516780509566], [21.705824087105892, 42.54775606202463], [21.7069609953427, 42.54987483449941], [21.707601364755927, 42.549710266570926], [21.709441505521397, 42.54923745446386], [21.717089545131827, 42.549960940597565], [21.7222916430652, 42.547859413880786], [21.728389471865558, 42.54717044842241], [21.74137750426399, 42.553095945334945], [21.74587645072369, 42.557120700944296], [21.74775088222273, 42.5587975889418], [21.748922265248925, 42.56162257257907], [21.744788126728164, 42.565084885425215], [21.748061013079006, 42.57028702168072], [21.746751804098967, 42.576057559557086], [21.747682014794883, 42.58072563962372], [21.74496043181026, 42.58268933947935], [21.744443607518395, 42.586754593162915], [21.743100009771638, 42.586823472700054], [21.738724786946513, 42.59447156212207], [21.73490068429417, 42.5971242908212], [21.733832737296275, 42.600362676124895], [21.735043059020168, 42.60231263428095], [21.73631324166287, 42.604358961886085], [21.74061959809321, 42.6037561281548], [21.742824448935153, 42.608889316520354], [21.747819840622963, 42.60725289143701], [21.750920420912546, 42.60739071119247], [21.75195397776032, 42.61371244697284], [21.757603922585957, 42.61920733526815], [21.75708709903071, 42.62172231298683], [21.753228615822252, 42.62420273956831], [21.752022845161214, 42.62856076832448], [21.753710960437893, 42.62900861805542], [21.754193214045213, 42.63195423838357], [21.755295637871672, 42.631282414550505], [21.75812065513288, 42.63312557853318], [21.757776136444136, 42.63503758235644], [21.759636464402195, 42.63791421873627], [21.764839630881603, 42.635260596366145], [21.76824924328007, 42.633521722934184], [21.77097090964632, 42.634365749207845], [21.77972141011177, 42.64339190622527], [21.779342413327832, 42.6467164547959], [21.78399335572175, 42.64669924719832], [21.789884447931453, 42.651229503368256], [21.787472918000017, 42.655725358338785], [21.78199520848433, 42.659928375974474], [21.780927176532757, 42.662202147873685], [21.771349815889057, 42.667300877368], [21.772521195555555, 42.67122826319132], [21.77172881308622, 42.67691267160435], [21.768559282400393, 42.679599884201785], [21.7597054227126, 42.6838201376152], [21.756294715025255, 42.69089980767463], [21.756535887247736, 42.693207987878914], [21.75343530895241, 42.695464571988396], [21.753400920751634, 42.70094224108888], [21.748543267000734, 42.700959486047395], [21.740102773567784, 42.69605022787431], [21.73719960380212, 42.69517337702543], [21.73331600338391, 42.69400039371343], [21.72997424450279, 42.69534396742127], [21.725220016871774, 42.69537841395864], [21.723394070493907, 42.692002263283484], [21.72036244028616, 42.69248452922467], [21.71913683322465, 42.69185472893992], [21.715401514718994, 42.68993515456461], [21.71274879105043, 42.690865314712326], [21.706513127923934, 42.689900713273396], [21.70330918789997, 42.69272568541223], [21.697280305669036, 42.69086535448074], [21.689390990700545, 42.691382087081564], [21.674577136655326, 42.68723075255149], [21.671614273587505, 42.68273489765283], [21.673061225768585, 42.67687823972748], [21.670167412297964, 42.67574138461704], [21.669541688424243, 42.672271643476044], [21.669409411238146, 42.67153836663999], [21.662484781224954, 42.66945408728921], [21.661483513574467, 42.66755818184178], [21.66038326539576, 42.665474978502026], [21.646726866429447, 42.67783567544912], [21.644225788621632, 42.680099437528916], [21.644087961877272, 42.68607667771622], [21.641883097749247, 42.69067590188938], [21.639885019179044, 42.69124427830351], [21.638093544230866, 42.69827231069411], [21.634269511099145, 42.69704925972586], [21.633270426238017, 42.69927136476997], [21.631168909169144, 42.700322094163056], [21.62844730805652, 42.69978813761532], [21.626690312380326, 42.69729045530453], [21.620695803006946, 42.696808107068684], [21.61866315379711, 42.69518897645898], [21.614908079380033, 42.69737654788304], [21.61115291411633, 42.69668751680273], [21.60862672700394, 42.69725878561242], [21.605744100900342, 42.69791053621317], [21.602781326172845, 42.69916801660589], [21.6000596346897, 42.70249254163168], [21.59527099737919, 42.70424955082751], [21.586486023364024, 42.70416342692476], [21.586589370638777, 42.70712619207621], [21.590723443672353, 42.71174262804208], [21.593376175677285, 42.71801273044756], [21.59230822336136, 42.726177587702324], [21.5905512285206, 42.72698717203799], [21.583075381711836, 42.72757284165914], [21.581283908012317, 42.725316325785684], [21.57804548210477, 42.728709689924415], [21.571465375388684, 42.72783122637502], [21.56767582653256, 42.731259056176256], [21.564506270442376, 42.73155192639842], [21.561853541635447, 42.73322282681913], [21.559476466245375, 42.73771861234091], [21.554171010580863, 42.733911794163966], [21.55289636597021, 42.73127629321162], [21.541389726172703, 42.7282101808483], [21.540838784683814, 42.72491581656055], [21.540528470723935, 42.72305972100597], [21.519168863730982, 42.72750390668697], [21.517790784870694, 42.729329851079555], [21.512967692237286, 42.729726004050484], [21.511314053214253, 42.73248206322587], [21.501150961567514, 42.733653453510456], [21.501564439087687, 42.73465252654975], [21.49846376755622, 42.73623726250877], [21.497843687959126, 42.737787556520814], [21.4933995125818, 42.740199085562914], [21.485406898614023, 42.74238675485842], [21.479343576089008, 42.74767494454385], [21.475243837905268, 42.7467965016018], [21.472556652472882, 42.7433858514785], [21.46895227028302, 42.73834701431707], [21.46749241413526, 42.73630612492402], [21.452368406245874, 42.74455715574939], [21.450198050342532, 42.75067216871926], [21.44310111818474, 42.747140979282456], [21.441102978133838, 42.748966872704635], [21.43448839693379, 42.747606072390866], [21.431766749414194, 42.7481572964089], [21.426633585770272, 42.74579735488268], [21.421190299543557, 42.746469183988864], [21.417951931604296, 42.74417816409484], [21.414989122758787, 42.74619358699519], [21.412208625320336, 42.74512679987504], [21.40803005825463, 42.74352366177471], [21.402862438560177, 42.744384895708826], [21.399486258357395, 42.74369585633708], [21.39297498223823, 42.74516006344796], [21.39238930077728, 42.74772666769636], [21.389529851711067, 42.74994872123108], [21.389499375915896, 42.75068235397067], [21.389185338789503, 42.758234225920575], [21.393870698390803, 42.75959498133655], [21.394904238224484, 42.761765405754396], [21.40296578362507, 42.767208648897906], [21.407547720178727, 42.76682967940479], [21.408305706030067, 42.77196285663124], [21.411302898881225, 42.77613144038682], [21.40772002275452, 42.78190197753555], [21.409683672187718, 42.78365896849559], [21.408374572487734, 42.78772419769108], [21.413301028403872, 42.79032525438777], [21.412026406538565, 42.79263345661874], [21.407134339559825, 42.792977968102996], [21.406410832585205, 42.79463164117218], [21.41002818652862, 42.80524249436225], [21.413817845769724, 42.8067928142278], [21.422844008518403, 42.80581092463038], [21.422706184262374, 42.8105479867948], [21.424738796820943, 42.81063411017654], [21.417917452826387, 42.817248645670304], [21.418916518733063, 42.82091772876698], [21.41726290191638, 42.82618867456289], [21.418365313067614, 42.82863473086498], [21.422086020600936, 42.83027111051154], [21.424290936058693, 42.83273439602467], [21.424164847294723, 42.83536915812167], [21.42360190557128, 42.84713488566558], [21.42704696788038, 42.84758271740326], [21.428666199748182, 42.84989097549148], [21.433385982611505, 42.85009765149077], [21.437141087921646, 42.85156182820267], [21.43559081146269, 42.85829698370561], [21.43641766797581, 42.864412026831914], [21.43428170560026, 42.86732310139479], [21.43510847096133, 42.87228408739162], [21.42298174182001, 42.87435111533399], [21.421569293425936, 42.87352433454885], [21.413369985905792, 42.87485066267834], [21.41195744905461, 42.873593228153595], [21.40685869184727, 42.87311088108556], [21.402483446025272, 42.87442001563119], [21.394525246300436, 42.87159504088724], [21.39290611599616, 42.867116400817594], [21.389564330291346, 42.86766766366081], [21.38543026789382, 42.86654795622133], [21.38253634452331, 42.8699242016418], [21.38019371528434, 42.87047536625424], [21.38019371528434, 42.872318530748956], [21.376920804714914, 42.873041971733336], [21.374902312423952, 42.873149291502], [21.369789494112048, 42.873420941181536], [21.365207503524726, 42.870906007776746], [21.36107337264863, 42.87231852510754], [21.358145077875836, 42.8778134631246], [21.35666369209312, 42.87876084238629], [21.35459663034715, 42.87878667065751], [21.35252956963424, 42.87881252382105], [21.350014656270865, 42.880965697845575], [21.351254873621986, 42.88747697655189], [21.349291158423128, 42.8894062258457], [21.344054649893973, 42.89093922629139], [21.345329343642472, 42.89405704865589], [21.341953116376953, 42.899638162507316], [21.339851583982824, 42.90043047462958], [21.33613094376925, 42.898983533911], [21.330963227083693, 42.90260091925054], [21.323521876641852, 42.902230526898705], [21.31608045017559, 42.90186023256205], [21.31167072992353, 42.90401340687404], [21.307674385852696, 42.90397892478135], [21.304504968920533, 42.90611488231498], [21.30068084017213, 42.90136066016369], [21.292447110737434, 42.903221008522486], [21.286969431198525, 42.900895576855895], [21.28269747698268, 42.895314547275426], [21.276082872731862, 42.89421208657312], [21.27301673646437, 42.895469590834075], [21.271156406008995, 42.897140444398666], [21.27051652536911, 42.9063574064301], [21.270260718692338, 42.91004232317807], [21.26557533029105, 42.9126261772808], [21.26175133810454, 42.91827606476697], [21.258039788724858, 42.92221139746458], [21.255737265849724, 42.92465277186419], [21.254895527737805, 42.92554525992079], [21.25348304934, 42.92575195523386], [21.251243753460873, 42.931074606862765], [21.245249260553614, 42.93388240837868], [21.24490476133136, 42.93839543904761], [21.241444397694632, 42.94193602995574], [21.239702709867835, 42.943718150666015], [21.237773445688944, 42.94955756967851], [21.235671888258768, 42.950384404191894], [21.234397236488544, 42.95923827140757], [21.238290238746387, 42.96340680540546], [21.240805160113748, 42.971313306941965], [21.239737187019795, 42.974723996914534], [21.24383678673722, 42.98090792878572], [21.23970271968642, 42.98838375960447], [21.23770451584615, 42.989761865189635], [21.23863469776903, 42.991449932532205], [21.237532303577993, 42.99501560032471], [21.238772467137995, 42.99685870001496], [21.237601211277312, 43.005161420359926], [21.235120679997188, 43.00998455566331], [21.232261229251126, 43.009433316778164], [21.229884200330904, 43.013808603078246], [21.225818950393315, 43.01659910440723], [21.225198868451617, 43.02033707933897], [21.221684899467277, 43.019613600436706], [21.21300321475858, 43.0213533165423], [21.206758535609886, 43.024150122059304], [21.205734072758077, 43.02460899537642], [21.199877394539786, 43.02264523222549], [21.19725905676333, 43.023351495364494], [21.19198812422655, 43.01511772341254], [21.19371068635501, 43.01013954980564], [21.19302164259948, 43.007969165776046], [21.189952170231567, 43.00653112711041], [21.175520585353198, 42.99976985181498], [21.170869715390438, 43.00045886296167], [21.17224772531401, 43.00300821508301], [21.1689749319388, 43.00447239901736], [21.169353867709162, 43.00745239496089], [21.16556425498282, 43.01022569453134], [21.163428268757, 43.01468706912497], [21.167148995684947, 43.019337997828565], [21.166356603055664, 43.02467787006265], [21.167734702361606, 43.026262627329714], [21.16573645872597, 43.028415786909335], [21.159190794882132, 43.02824357854884], [21.155780169983522, 43.02958714555525], [21.155780169687077, 43.03141300313465], [21.155780161009353, 43.033238943260244], [21.15233507007993, 43.040266933007814], [21.15405762992667, 43.04498667854614], [21.152128370041723, 43.0494653067221], [21.152417616433084, 43.053195082442784], [21.15295517462324, 43.060127890475776], [21.151506676953595, 43.06345150656819], [21.149854606559728, 43.0672420476405], [21.146616210584046, 43.06896454673417], [21.14492810876413, 43.072978121686916], [21.142516543007883, 43.07344318439634], [21.14365348079028, 43.076113153373754], [21.140173913939588, 43.08145305635718], [21.13831355120774, 43.08222816677482], [21.141758616157887, 43.08336506256097], [21.143791213319336, 43.08706853960764], [21.146926287541405, 43.08732689736508], [21.149854661922898, 43.091013200321335], [21.14337780654149, 43.10365667324751], [21.14131073711492, 43.105258639270964], [21.141310723541377, 43.109461672429546], [21.137245525337764, 43.113475219318914], [21.135454071419147, 43.11381968679471], [21.1300108416246, 43.111614839303485], [21.124085266145414, 43.11316514050205], [21.122569485954564, 43.11194214100726], [21.113405510906436, 43.111184187594084], [21.111993023947687, 43.11388859961443], [21.107307709540628, 43.11762654608754], [21.10265676871876, 43.11733369321185], [21.102482223786318, 43.117754394067255], [21.09903942960653, 43.12604983058443], [21.092562623380935, 43.130459499255224], [21.09115020865572, 43.13418021894275], [21.088669748746746, 43.135920024763095], [21.078988968585783, 43.12913316657127], [21.07926457877571, 43.11824670075685], [21.075853938201497, 43.115042700653554], [21.064278481434517, 43.1141986989578], [21.063641094886172, 43.112079910385205], [21.063003769072928, 43.10996122629566], [21.052200854610867, 43.10787327040093], [21.050704736493426, 43.10758410085146], [21.046363908840007, 43.11233830792004], [21.04312557329399, 43.11245890274943], [21.03737224818052, 43.1192112900775], [21.033134785570525, 43.12043432032162], [21.030413148237827, 43.12405161338621], [21.02786374227147, 43.12489571392359], [21.025417755813397, 43.12956379106172], [21.015633626033082, 43.131338008421075], [21.01404895249799, 43.134352471275776], [21.003231375203857, 43.13528265375561], [20.99523874129348, 43.1383660129639], [20.99244818565236, 43.1365401180056], [20.985971440125926, 43.135368808695155], [20.97691084900381, 43.13571330034461], [20.972535576106594, 43.1340079658282], [20.968056891749995, 43.13089015271634], [20.969297105570742, 43.12637710036208], [20.96812579735624, 43.1254038547945], [20.966954467061154, 43.12443063326583], [20.95706707075565, 43.12598089048288], [20.946283928392653, 43.12990833846062], [20.942769918499035, 43.13345677978195], [20.94108187336282, 43.13312948899271], [20.93808457625319, 43.135041526062615], [20.933605943073616, 43.13423190477026], [20.92905845127867, 43.14417098719074], [20.926233472815696, 43.14592799283824], [20.923201735627583, 43.14620362760607], [20.92158258629699, 43.147719469439316], [20.915519198787845, 43.1475472109169], [20.91117840350971, 43.14873574058998], [20.910288550643028, 43.14853068991253], [20.90676865354138, 43.14771948643544], [20.90638972281955, 43.15050995644017], [20.90449834214129, 43.152063220983216], [20.89974072106141, 43.155970481660574], [20.89457307012355, 43.154575208731345], [20.889336477979207, 43.15598768753339], [20.885753608455122, 43.158537033240755], [20.88558126911128, 43.16270560095242], [20.879621321609974, 43.16730479772696], [20.872903325761534, 43.16659856244471], [20.86901038914359, 43.16451430127583], [20.863188203429466, 43.164807108085924], [20.85612580261899, 43.17435003727496], [20.84820201567284, 43.1744878633366], [20.838762500862703, 43.17286863956262], [20.831114338838848, 43.179155946466494], [20.834180498480503, 43.1840307762302], [20.84231093305715, 43.18399632281173], [20.842896621911233, 43.18492648784628], [20.848443184814098, 43.18559826983583], [20.85505777192506, 43.18914676248689], [20.85157818729671, 43.1926607257849], [20.84951114880812, 43.19303969746092], [20.849683431081992, 43.19477943864748], [20.843482295601756, 43.198121183999966], [20.84127746398376, 43.20273765197281], [20.843551107028624, 43.2070784259429], [20.84923560019771, 43.2049425084921], [20.856849242758955, 43.20545928111287], [20.86339493685805, 43.20756078885723], [20.865668683236123, 43.205579867686744], [20.869630506353147, 43.20628608599083], [20.873006708914996, 43.20477023150931], [20.880861534532404, 43.205872670759845], [20.883135271011042, 43.2038744946326], [20.885615755291308, 43.20406403107271], [20.88806178209272, 43.20289268481456], [20.889370944818506, 43.20373668961849], [20.889267572938902, 43.205907136404385], [20.87996584952442, 43.21078192444135], [20.879449069303902, 43.22285697001891], [20.8770030221826, 43.223356564138534], [20.87700309204458, 43.22631933183222], [20.873041191914986, 43.23097021374257], [20.864876328389983, 43.23679238432907], [20.861672339425798, 43.237877591988024], [20.856883721051773, 43.245250101942496], [20.852542846281718, 43.248057879141015], [20.852163901995326, 43.25110677707058], [20.846445046263383, 43.25196806040306], [20.843034393247507, 43.25479300428089], [20.836971035939726, 43.25686011260451], [20.835971937532, 43.26170042946331], [20.83063203756692, 43.261717659186395], [20.829990267320838, 43.2628063193854], [20.828702800382402, 43.26499050477169], [20.823087332232618, 43.26888347058488], [20.80885904116954, 43.267729385140505], [20.80286455914088, 43.26623074299966], [20.79390730294168, 43.25889268858368], [20.794424084725264, 43.24540513588019], [20.775893020782195, 43.24617192301146], [20.77444256688729, 43.24623198230523], [20.764038313986504, 43.243424188784324], [20.754357651998916, 43.24566350753456], [20.751360421463435, 43.24394099736466], [20.73472061561452, 43.24829902279707], [20.727864892510134, 43.248626299258184], [20.72018228247567, 43.23985854406055], [20.71845978280707, 43.23991023156792], [20.71901098312754, 43.23701630517907], [20.718235788519795, 43.23554355309557], [20.717460696293042, 43.234070766462864], [20.71063941654599, 43.23157309645001], [20.709467983429736, 43.22721501787327], [20.699580603410688, 43.22519966964089], [20.697169067730037, 43.222236854722766], [20.688694170986643, 43.218826235923714], [20.687522775905055, 43.21364137152228], [20.67534041131341, 43.20979983958612], [20.671571985065583, 43.208611522149006], [20.668850339719913, 43.20964507495436], [20.656172375151957, 43.2088354555844], [20.65252056248103, 43.21109198093508], [20.65072917049227, 43.20928333769062], [20.646836252649116, 43.209300563191626], [20.64470022855032, 43.207422946158786], [20.637258879644598, 43.206716712951646], [20.633228133817408, 43.20967950150422], [20.625345250157533, 43.20732673718475], [20.61527912626481, 43.20432237656814], [20.613246524387208, 43.20545923382556], [20.60976702327523, 43.205063064208844], [20.60652860184129, 43.2073884820863], [20.60408255887919, 43.20699231302655], [20.600878673760253, 43.210850815270305], [20.59481525926572, 43.20664784962911], [20.593850647630912, 43.20508030057946], [20.60935360450488, 43.19223008637343], [20.611489511274712, 43.18771704178061], [20.613901064885738, 43.18017224520442], [20.60863006254088, 43.17717501887305], [20.607803308741126, 43.17519410740437], [20.611351762549035, 43.169595809697846], [20.6152633254649, 43.16902135578556], [20.62179033159673, 43.16806276135399], [20.62854280016844, 43.16379085062558], [20.633296997319615, 43.16391142988717], [20.640910672049532, 43.16229218671856], [20.646526123337942, 43.158468141962636], [20.64855875555165, 43.159019340935636], [20.652141687095423, 43.15774469133035], [20.651934957017556, 43.155987668722666], [20.654484294020246, 43.15443739009877], [20.658584037611845, 43.15378284315033], [20.657515967203395, 43.15013099999957], [20.662029088925564, 43.144274337636546], [20.657826053871545, 43.140191940872405], [20.6575849187405, 43.13693629149405], [20.66568085090456, 43.1353515536845], [20.67295006555182, 43.131338020701044], [20.67343233978446, 43.12670439443017], [20.679220082284974, 43.12577423254871], [20.68511118599311, 43.12296646424351], [20.687005963623665, 43.11728201805632], [20.69265601904988, 43.109444450288244], [20.69313829943598, 43.10568929867893], [20.687419470878076, 43.1025370510312], [20.693276115741916, 43.09480275919367], [20.692656007057373, 43.090703127990295], [20.68728159864303, 43.08365790545639], [20.67908230578339, 43.07985107192724], [20.670056174844053, 43.077801217114086], [20.664475078869103, 43.07730170454352], [20.662132450645224, 43.07840411909937], [20.65624129961384, 43.07370157997285], [20.65768828128661, 43.06996367496596], [20.661891285977575, 43.066759722617114], [20.666128771180198, 43.065622849621214], [20.667679070088056, 43.06670800451313], [20.6690915098583, 43.065278344173635], [20.668850343744367, 43.05907718001019], [20.670400646281415, 43.05821587575595], [20.670436202866988, 43.05753236341271], [20.670538507628883, 43.05556316002849], [20.665439740010065, 43.049637579671455], [20.67046957695066, 43.04746713929953], [20.67136531234515, 43.03909561121977], [20.669229371062038, 43.0351337474989], [20.663407114075582, 43.034203576328856], [20.65503557387755, 43.03485809757649], [20.6521760838302, 43.03351455734886], [20.6521760838302, 43.03086180169129], [20.650488037777695, 43.028880856365106], [20.651004736197624, 43.022111292610994], [20.645251500789914, 43.023799392849874], [20.64118623332619, 43.02255914667181], [20.64029052151248, 43.018511125541025], [20.63687991205591, 43.01637519934063], [20.638120082883287, 43.01268895350824], [20.641117395345123, 43.010346298236094], [20.64049721717589, 43.00683225776382], [20.62985184860157, 43.009123266491784], [20.62802597972136, 43.00839977349495], [20.627302507628325, 43.006022694781116], [20.623755900747657, 43.00402205005652], [20.621928132271982, 43.00299101915454], [20.616726101487675, 43.002543135736786], [20.61674401534073, 43.002650388473164], [20.619103190181796, 43.01671966840644], [20.618241959831956, 43.01770152445178], [20.615416936246607, 43.017253695534805], [20.613625463840663, 43.015445039803765], [20.60962914784218, 43.01561727913816], [20.606700847185422, 43.0173398382393], [20.599741720392085, 43.01563447251541], [20.59085344257165, 43.01702973559911], [20.590474441862078, 43.01458375515077], [20.580001326779605, 43.01182764724177], [20.58196505644134, 43.008692650831776], [20.58194114176134, 43.00847027611712], [20.581241614953907, 43.00197471029261], [20.575040461336684, 42.99963204624391], [20.571629783221876, 42.99947702373279], [20.567840214432138, 42.99649698076245], [20.564980770324627, 42.99014077189051], [20.564842922164427, 42.98455973479114], [20.56084660643544, 42.98108021817424], [20.556953691332147, 42.98114908754245], [20.55188936822051, 42.97565413834136], [20.55341859187925, 42.97157627906654], [20.554473173760318, 42.96876397157421], [20.55261288040536, 42.96919458791694], [20.54654946934239, 42.961236449322456], [20.54024495634113, 42.96442312784993], [20.536730918222446, 42.97317372554004], [20.534836195937093, 42.97436222856909], [20.530185239610304, 42.975206312532556], [20.517541813216866, 42.9702280956089], [20.514647867262706, 42.97077938151187], [20.515267971859917, 42.96902235061273], [20.513683250776996, 42.96557725699735], [20.507447681021393, 42.96369965433755], [20.49959281006601, 42.95679227365767], [20.49618220254082, 42.95233083101667], [20.49628549073337, 42.9463880549827], [20.49290935426956, 42.940428082095], [20.489533138502477, 42.937689188152646], [20.48915417530655, 42.935777209212716], [20.484606628435895, 42.93374460247523], [20.486466977693013, 42.93240101608318], [20.48626031245554, 42.92905924047543], [20.499868397780087, 42.917707655717045], [20.505518372007582, 42.905322540620176], [20.51523360241596, 42.899827595317774], [20.520607888416883, 42.898173987592045], [20.520470137139988, 42.89357474574903], [20.526981292202187, 42.891266553327654], [20.532459023681685, 42.890749807395835], [20.532459023681685, 42.8893028346613], [20.533320275168887, 42.89018132836715], [20.535284007660312, 42.88909612790369], [20.53566298837339, 42.885048161642004], [20.538866872207734, 42.88537546913093], [20.53828121430061, 42.88317059305531], [20.534112696283746, 42.881206886776724], [20.529186238319447, 42.88127573555554], [20.526016754804154, 42.879759932493585], [20.51623268079125, 42.878829737015124], [20.514441196123304, 42.87679712504944], [20.50210774401877, 42.87104385936851], [20.48581243184052, 42.867598775580696], [20.477130808001668, 42.85933050863623], [20.46472054469418, 42.8536148323026], [20.463591594749257, 42.85309490437634], [20.44222989966734, 42.8346717253231], [20.441301813280457, 42.8338712681492], [20.434859511722216, 42.83321665047641], [20.431584236804934, 42.83431146827634], [20.428727188225807, 42.83526652030939], [20.426763489511032, 42.83807425190942], [20.42011445609626, 42.84191553001762], [20.41560142495122, 42.8464803017874], [20.405817297030417, 42.8468764909784], [20.403595270283464, 42.846549216277985], [20.401373158052827, 42.8462218968235], [20.39858266120644, 42.844172095217566], [20.393518350518505, 42.84451659862597], [20.389039725324952, 42.84203611226161], [20.388821353943385, 42.84209414888174], [20.38573243182786, 42.84291463242285], [20.382115050943973, 42.8422256132542], [20.365281468400195, 42.833096825943386], [20.363787183654416, 42.83228651324471], [20.359549708854285, 42.83397463790878], [20.357758251899362, 42.83273439238649], [20.34411562691808, 42.83311331036123], [20.34001597227766, 42.836213897325294], [20.33508953986145, 42.83588664952044], [20.331506639794643, 42.833716253633085], [20.32747586102623, 42.83314782119103], [20.32523657799301, 42.82942705112598], [20.319621078734567, 42.828117974764226], [20.316623761071487, 42.82913428970776], [20.31555581240272, 42.83604168701546], [20.29802030321121, 42.83621394569059], [20.29378279046624, 42.82789402698273], [20.293886146400748, 42.82556860172112], [20.29079474606692, 42.82577934184249], [20.285549082007204, 42.82613698009359], [20.284825598020475, 42.82448334247192], [20.277625335287613, 42.82353595159501], [20.277143017199222, 42.82160672755285], [20.274249114588777, 42.81967743846367], [20.26994273078677, 42.81792044712634], [20.265774172857757, 42.81783435692837], [20.265395214099506, 42.8160428748835], [20.260675469818825, 42.81433756305853], [20.25864288765026, 42.81530216422796], [20.254956601402668, 42.814371985089856], [20.252166037344335, 42.81075465033446], [20.254336495422056, 42.80765407335966], [20.258539536144447, 42.80462242346084], [20.262776958420083, 42.80417452183423], [20.26177788938727, 42.79683645296436], [20.265658549062604, 42.77999953389795], [20.26604977933764, 42.77830188715475], [20.260572118052497, 42.77478786931104], [20.2576781832644, 42.77065377787098], [20.255059952450342, 42.769241245978506], [20.252889583323803, 42.76956854480767], [20.2541986941629, 42.764021916318804], [20.249857875474664, 42.76179983477462], [20.250374627559946, 42.75883708120245], [20.248305712364964, 42.75853589961456], [20.23676647901197, 42.75685611530484], [20.234320472683162, 42.752739263604084], [20.221676985087502, 42.752601444324725], [20.21323650162585, 42.748742946806104], [20.21289201628257, 42.74619357709575], [20.20569176185912, 42.749414747058395], [20.195700936038104, 42.75043103815166], [20.191228737931084, 42.745365867847866], [20.191153389562707, 42.74528063956544], [20.18285075291378, 42.75377279113085], [20.18174835258725, 42.75329045911857], [20.179233442448826, 42.75473740504737], [20.173755656818884, 42.7554953726719], [20.17372202803588, 42.75556296734869], [20.17223981798601, 42.758544248709526], [20.15894177456656, 42.76562391323533], [20.15501438248199, 42.7691034306158], [20.147710789138127, 42.763660243006136], [20.148227564202312, 42.75673558432771], [20.146883913428006, 42.75458241900785], [20.133078914042464, 42.75987205815194], [20.125799982839798, 42.76266112821314], [20.11987444719191, 42.76223049984197], [20.116325964808592, 42.76372908237061], [20.111261693529748, 42.762557758498474], [20.104853792012083, 42.76794932508509], [20.105577289796937, 42.76877617893022], [20.103716881358807, 42.77008530496881], [20.104784904812316, 42.77301361713299], [20.09820475290199, 42.77669988350086], [20.0893164397598, 42.77609701257932], [20.087318211090093, 42.77468453066012], [20.087213974016088, 42.774685847015405], [20.069954994062904, 42.774908448985855], [20.063346717113756, 42.77778470111132], [20.060377565380804, 42.77907700144412], [20.054383139281253, 42.77788845215184], [20.047355174875158, 42.77349593870684], [20.042910958310074, 42.774339992316236], [20.037295433997617, 42.770274768061476], [20.031611074767344, 42.76796659060604], [20.031886686152028, 42.76588231838788], [20.029809471368235, 42.765538574954206], [20.022412641719338, 42.764314812313636], [20.024307458417628, 42.76221329429255], [20.022033715354336, 42.75752794931583], [20.023652922787964, 42.75287708924352], [20.02010446541374, 42.74827785374261], [20.01958769158923, 42.74478110978316], [20.016556026293287, 42.744643263347726], [20.014282217922478, 42.74081919757123]]], &quot;type&quot;: &quot;Polygon&quot;}, &quot;id&quot;: &quot;0&quot;, &quot;properties&quot;: {&quot;abbreviati&quot;: &quot;Kos.&quot;, &quot;country_co&quot;: &quot;KV&quot;, &quot;country_na&quot;: &quot;Kosovo&quot;, &quot;wld_rgn&quot;: &quot;Europe&quot;}, &quot;type&quot;: &quot;Feature&quot;}], &quot;type&quot;: &quot;FeatureCollection&quot;});\n",
       "\n",
       "        \n",
       "    \n",
       "    geo_json_b4467fc1041a53b62ba2903a6e3e65ec.bindTooltip(\n",
       "    function(layer){\n",
       "    let div = L.DomUtil.create(&#x27;div&#x27;);\n",
       "    \n",
       "    let handleObject = feature=&gt;typeof(feature)==&#x27;object&#x27; ? JSON.stringify(feature) : feature;\n",
       "    let fields = [&quot;abbreviati&quot;, &quot;country_co&quot;, &quot;country_na&quot;, &quot;wld_rgn&quot;];\n",
       "    let aliases = [&quot;abbreviati&quot;, &quot;country_co&quot;, &quot;country_na&quot;, &quot;wld_rgn&quot;];\n",
       "    let table = &#x27;&lt;table&gt;&#x27; +\n",
       "        String(\n",
       "        fields.map(\n",
       "        (v,i)=&gt;\n",
       "        `&lt;tr&gt;\n",
       "            &lt;th&gt;${aliases[i]}&lt;/th&gt;\n",
       "            \n",
       "            &lt;td&gt;${handleObject(layer.feature.properties[v])}&lt;/td&gt;\n",
       "        &lt;/tr&gt;`).join(&#x27;&#x27;))\n",
       "    +&#x27;&lt;/table&gt;&#x27;;\n",
       "    div.innerHTML=table;\n",
       "    \n",
       "    return div\n",
       "    }\n",
       "    ,{&quot;className&quot;: &quot;foliumtooltip&quot;, &quot;sticky&quot;: true});\n",
       "                     \n",
       "    \n",
       "            geo_json_b4467fc1041a53b62ba2903a6e3e65ec.addTo(map_7fe1988eff75389f1b85a007de2411f6);\n",
       "        \n",
       "&lt;/script&gt;\n",
       "&lt;/html&gt;\" style=\"position:absolute;width:100%;height:100%;left:0;top:0;border:none !important;\" allowfullscreen webkitallowfullscreen mozallowfullscreen></iframe></div></div>"
      ],
      "text/plain": [
       "<folium.folium.Map at 0x1e9292c24e0>"
      ]
     },
     "execution_count": 22,
     "metadata": {},
     "output_type": "execute_result"
    }
   ],
   "source": [
    "gdf.explore()"
   ]
  },
  {
   "cell_type": "markdown",
   "metadata": {},
   "source": [
    "# Exporting maps"
   ]
  },
  {
   "cell_type": "code",
   "execution_count": 23,
   "metadata": {},
   "outputs": [
    {
     "data": {
      "text/html": [
       "\n",
       "            <style>\n",
       "                .geemap-dark {\n",
       "                    --jp-widgets-color: white;\n",
       "                    --jp-widgets-label-color: white;\n",
       "                    --jp-ui-font-color1: white;\n",
       "                    --jp-layout-color2: #454545;\n",
       "                    background-color: #383838;\n",
       "                }\n",
       "\n",
       "                .geemap-dark .jupyter-button {\n",
       "                    --jp-layout-color3: #383838;\n",
       "                }\n",
       "\n",
       "                .geemap-colab {\n",
       "                    background-color: var(--colab-primary-surface-color, white);\n",
       "                }\n",
       "\n",
       "                .geemap-colab .jupyter-button {\n",
       "                    --jp-layout-color3: var(--colab-primary-surface-color, white);\n",
       "                }\n",
       "            </style>\n",
       "            "
      ],
      "text/plain": [
       "<IPython.core.display.HTML object>"
      ]
     },
     "metadata": {},
     "output_type": "display_data"
    },
    {
     "data": {
      "application/vnd.jupyter.widget-view+json": {
       "model_id": "2970789f1e2d4e51919c7c48a90dde5f",
       "version_major": 2,
       "version_minor": 0
      },
      "text/plain": [
       "Map(center=[0, 0], controls=(WidgetControl(options=['position', 'transparent_bg'], widget=SearchDataGUI(childr…"
      ]
     },
     "execution_count": 23,
     "metadata": {},
     "output_type": "execute_result"
    }
   ],
   "source": [
    "m= geemap.Map()\n",
    "image= ee.Image('USGS/SRTMGL1_003')\n",
    "vis_params= {\n",
    "    'min': 0,\n",
    "    'max': 5000,\n",
    "    'palette': ['006633', 'E5FFCC', '662A00', 'D8D8D8', 'F5F5F5']\n",
    "}\n",
    "m.addLayer(image, vis_params, 'SRTM DEM')\n",
    "m"
   ]
  },
  {
   "cell_type": "code",
   "execution_count": 24,
   "metadata": {},
   "outputs": [
    {
     "data": {
      "text/html": [
       "\n",
       "            <style>\n",
       "                .geemap-dark {\n",
       "                    --jp-widgets-color: white;\n",
       "                    --jp-widgets-label-color: white;\n",
       "                    --jp-ui-font-color1: white;\n",
       "                    --jp-layout-color2: #454545;\n",
       "                    background-color: #383838;\n",
       "                }\n",
       "\n",
       "                .geemap-dark .jupyter-button {\n",
       "                    --jp-layout-color3: #383838;\n",
       "                }\n",
       "\n",
       "                .geemap-colab {\n",
       "                    background-color: var(--colab-primary-surface-color, white);\n",
       "                }\n",
       "\n",
       "                .geemap-colab .jupyter-button {\n",
       "                    --jp-layout-color3: var(--colab-primary-surface-color, white);\n",
       "                }\n",
       "            </style>\n",
       "            "
      ],
      "text/plain": [
       "<IPython.core.display.HTML object>"
      ]
     },
     "metadata": {},
     "output_type": "display_data"
    }
   ],
   "source": [
    "m.to_html('dem.html', title='Earth Engine Map', width='100%', height='800px')\n",
    "# downside: only works around 24 hours, the layer is temporary.\n",
    "# Web App will works all the time"
   ]
  },
  {
   "cell_type": "code",
   "execution_count": null,
   "metadata": {},
   "outputs": [],
   "source": []
  }
 ],
 "metadata": {
  "kernelspec": {
   "display_name": "geo",
   "language": "python",
   "name": "python3"
  },
  "language_info": {
   "codemirror_mode": {
    "name": "ipython",
    "version": 3
   },
   "file_extension": ".py",
   "mimetype": "text/x-python",
   "name": "python",
   "nbconvert_exporter": "python",
   "pygments_lexer": "ipython3",
   "version": "3.12.3"
  }
 },
 "nbformat": 4,
 "nbformat_minor": 2
}
