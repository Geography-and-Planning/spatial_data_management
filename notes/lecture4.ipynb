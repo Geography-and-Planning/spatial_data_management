{
 "cells": [
  {
   "cell_type": "code",
   "execution_count": null,
   "metadata": {},
   "outputs": [],
   "source": [
    "import geemap\n",
    "import ee"
   ]
  },
  {
   "cell_type": "code",
   "execution_count": null,
   "metadata": {},
   "outputs": [],
   "source": [
    "m= geemap.Map(center=[40, -100], zoom=4)\n",
    "states= ee.FeatureCollection('TIGER/2018/States')\n",
    "m.addLayer(states, {}, 'US States')\n",
    "m"
   ]
  },
  {
   "cell_type": "code",
   "execution_count": null,
   "metadata": {},
   "outputs": [],
   "source": [
    "m.add_basemap('HYBRID')"
   ]
  },
  {
   "cell_type": "code",
   "execution_count": null,
   "metadata": {},
   "outputs": [],
   "source": [
    "m.add_basemap('OpenTopoMap')"
   ]
  },
  {
   "cell_type": "code",
   "execution_count": null,
   "metadata": {},
   "outputs": [],
   "source": [
    "states= ee.FeatureCollection('TIGER/2018/States')\n",
    "m.addLayer(states, {}, 'US States')\n",
    "m"
   ]
  },
  {
   "cell_type": "markdown",
   "metadata": {},
   "source": [
    "# Visualizing feature collections"
   ]
  },
  {
   "cell_type": "code",
   "execution_count": null,
   "metadata": {},
   "outputs": [],
   "source": [
    "r= geemap.Map(center=[40, -100], zoom=4)\n",
    "states= ee.FeatureCollection('TIGER/2018/States')\n",
    "style= {'color': 'blue', 'width': 2, 'lineType': 'solid', 'fillColor': 'red'}\n",
    "r.addLayer(states.style(**style), {}, 'US States')\n",
    "r"
   ]
  },
  {
   "cell_type": "code",
   "execution_count": null,
   "metadata": {},
   "outputs": [],
   "source": [
    "style= {'color': '000000ff', 'width': 2, 'lineType': 'solid', 'fillColor': '00008080'}\n",
    "r.addLayer(states.style(**style), {}, 'US States_1')"
   ]
  },
  {
   "cell_type": "code",
   "execution_count": null,
   "metadata": {},
   "outputs": [],
   "source": [
    "style= {'color': '000000ff', 'width': 2, 'lineType': 'dashed', 'fillColor': '00008080'}\n",
    "r.addLayer(states.style(**style), {}, 'US States_2')"
   ]
  },
  {
   "cell_type": "code",
   "execution_count": null,
   "metadata": {},
   "outputs": [],
   "source": [
    "Map= geemap.Map()\n",
    "\n",
    "states= ee.FeatureCollection('TIGER/2018/States')\n",
    "\n",
    "vis_params= {\n",
    "    'color': '000000',\n",
    "    'colorOpacity': 1,\n",
    "    'pointSize': 3,\n",
    "    'pointShape': 'circle',\n",
    "    'width': 2,\n",
    "    'lineType': 'solid',\n",
    "    'fillColorOpacity': 0.5,\n",
    "}\n",
    "\n",
    "palette= ['005533', 'E5FFCC', '47E600', 'A5A5A5', 'E6E6E6']\n",
    "\n",
    "Map.add_styled_vector(states, column='ALAND', palette=palette, layer_name='US States_land', **vis_params)\n",
    "Map"
   ]
  },
  {
   "cell_type": "code",
   "execution_count": null,
   "metadata": {},
   "outputs": [],
   "source": [
    "Map= geemap.Map()\n",
    "\n",
    "states= ee.FeatureCollection('TIGER/2018/States')\n",
    "\n",
    "vis_params= {\n",
    "    'color': '000000',\n",
    "    'colorOpacity': 1,\n",
    "    'pointSize': 3,\n",
    "    'pointShape': 'circle',\n",
    "    'width': 2,\n",
    "    'lineType': 'solid',\n",
    "    'fillColorOpacity': 0.5,\n",
    "}\n",
    "\n",
    "palette= 'coolwarm'\n",
    "\n",
    "Map.add_styled_vector(states, column='ALAND', palette=palette, layer_name='US States_land', **vis_params)\n",
    "Map"
   ]
  },
  {
   "cell_type": "code",
   "execution_count": null,
   "metadata": {},
   "outputs": [],
   "source": []
  }
 ],
 "metadata": {
  "kernelspec": {
   "display_name": "geos",
   "language": "python",
   "name": "python3"
  },
  "language_info": {
   "codemirror_mode": {
    "name": "ipython",
    "version": 3
   },
   "file_extension": ".py",
   "mimetype": "text/x-python",
   "name": "python",
   "nbconvert_exporter": "python",
   "pygments_lexer": "ipython3",
   "version": "3.11.9"
  }
 },
 "nbformat": 4,
 "nbformat_minor": 2
}
