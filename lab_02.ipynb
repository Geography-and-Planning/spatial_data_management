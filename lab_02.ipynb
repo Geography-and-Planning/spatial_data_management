{
 "cells": [
  {
   "cell_type": "markdown",
   "id": "bf7fc863",
   "metadata": {},
   "source": [
    "# Lab 2\n",
    "\n",
    "\n",
    "[![Open In Colab](https://colab.research.google.com/assets/colab-badge.svg)](https://colab.research.google.com/github/giswqs/geog-414/blob/master/book/labs/lab_02.ipynb)\n",
    "\n",
    "## Submission requirements\n",
    "\n",
    "1. Upload a screenshot of your map for each question.\n",
    "2. Provide a link to your notebook on Colab. See instructions [here](https://geog-414.gishub.org/book/labs/instructions.html).\n",
    "\n",
    "## Question 1\n",
    "\n",
    "Use [geemap](https://geemap.org) to create a map similar to the one below. You can use similar source code used in [Lab 1](https://geog-414.gishub.org/book/labs/lab_01.html), but make sure you change leafmap to geemap. Try out different basemaps. Change the text `Made by Your Name` to your name. Update the [geemap logo](https://i.imgur.com/7nu5GNl.png) to your own image if you wish. Then run the code cell to generate an interactive map. Note that you name must be visible on the map. Take a screenshot of your map and save it as an image. Upload the screenshot to Canvas. In addition, submit the link to your Colab notebook on Canvas. Make sure you set the sharing permission of your Colab notebook to anyone with the link can view."
   ]
  },
  {
   "cell_type": "code",
   "execution_count": 1,
   "id": "33aac42a",
   "metadata": {},
   "outputs": [
    {
     "data": {
      "text/html": [
       "<p>To authorize access needed by Earth Engine, open the following\n",
       "        URL in a web browser and follow the instructions:</p>\n",
       "        <p><a href=https://code.earthengine.google.com/client-auth?scopes=https%3A//www.googleapis.com/auth/earthengine%20https%3A//www.googleapis.com/auth/devstorage.full_control&request_id=7S7iHSpYbdF9cqt9DhfHHqc6YMqFTKPH_UIv4Ucn-aE&tc=QXR55NmgNV-i4njj_8U_4-ZYPzvgKJy7_0RNIxgl98c&cc=mqnrGkDPpn2oESPS_6dPx_kh8DsCiHEHkpMkunPYurE>https://code.earthengine.google.com/client-auth?scopes=https%3A//www.googleapis.com/auth/earthengine%20https%3A//www.googleapis.com/auth/devstorage.full_control&request_id=7S7iHSpYbdF9cqt9DhfHHqc6YMqFTKPH_UIv4Ucn-aE&tc=QXR55NmgNV-i4njj_8U_4-ZYPzvgKJy7_0RNIxgl98c&cc=mqnrGkDPpn2oESPS_6dPx_kh8DsCiHEHkpMkunPYurE</a></p>\n",
       "        <p>The authorization workflow will generate a code, which you should paste in the box below.</p>\n",
       "        "
      ],
      "text/plain": [
       "<IPython.core.display.HTML object>"
      ]
     },
     "metadata": {},
     "output_type": "display_data"
    },
    {
     "name": "stdin",
     "output_type": "stream",
     "text": [
      "Enter verification code:  4/1AdLIrYezeCTx5pMEu8OaYxXj-F3nFzBgHAP6tAetahhAQ-4cbmY-aiJr6yI\n"
     ]
    },
    {
     "name": "stdout",
     "output_type": "stream",
     "text": [
      "\n",
      "Successfully saved authorization token.\n"
     ]
    },
    {
     "data": {
      "application/vnd.jupyter.widget-view+json": {
       "model_id": "817e42faf2c442f580a6fb2db81f3b58",
       "version_major": 2,
       "version_minor": 0
      },
      "text/plain": [
       "Map(center=[20, 0], controls=(WidgetControl(options=['position', 'transparent_bg'], widget=HBox(children=(Togg…"
      ]
     },
     "metadata": {},
     "output_type": "display_data"
    }
   ],
   "source": [
    "import geemap\n",
    "\n",
    "# Creat an interactive map\n",
    "m = geemap.Map(center=[20, 0], zoom=2, height='600px')\n",
    "# Add basemap\n",
    "m.add_basemap(\"CartoDB.DarkMatter\")\n",
    "# Add text to the map\n",
    "text = \"Made by Zhanchao Yang\"\n",
    "m.add_text(text, fontsize=20, position='bottomright')\n",
    "# Add a logo to the map\n",
    "logo = 'gee.png'\n",
    "m.add_image(logo, position='bottomright')\n",
    "# Add GeoJSON data to the map\n",
    "cables = 'https://open.gishub.org/data/vector/cables.geojson'\n",
    "callback = lambda feat: {\"color\": feat[\"properties\"][\"color\"], \"weight\": 1}\n",
    "m.add_geojson(cables, layer_name=\"Cable lines\", style_callback=callback)\n",
    "# Display the map\n",
    "m"
   ]
  },
  {
   "cell_type": "markdown",
   "id": "7ea724d6",
   "metadata": {},
   "source": [
    "![](https://i.imgur.com/ZuyH2D8.png)"
   ]
  }
 ],
 "metadata": {
  "kernelspec": {
   "display_name": "Python 3 (ipykernel)",
   "language": "python",
   "name": "python3"
  },
  "language_info": {
   "codemirror_mode": {
    "name": "ipython",
    "version": 3
   },
   "file_extension": ".py",
   "mimetype": "text/x-python",
   "name": "python",
   "nbconvert_exporter": "python",
   "pygments_lexer": "ipython3",
   "version": "3.9.16"
  }
 },
 "nbformat": 4,
 "nbformat_minor": 5
}
