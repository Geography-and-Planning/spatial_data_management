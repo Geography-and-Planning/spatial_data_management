{
 "cells": [
  {
   "cell_type": "code",
   "execution_count": 1,
   "metadata": {},
   "outputs": [],
   "source": [
    "import duckdb\n",
    "import leafmap"
   ]
  },
  {
   "cell_type": "code",
   "execution_count": 2,
   "metadata": {},
   "outputs": [],
   "source": [
    "con= duckdb.connect('nyc_data.db')"
   ]
  },
  {
   "cell_type": "code",
   "execution_count": 3,
   "metadata": {},
   "outputs": [],
   "source": [
    "con.install_extension('spatial')\n",
    "con.load_extension('spatial')"
   ]
  },
  {
   "cell_type": "code",
   "execution_count": 4,
   "metadata": {},
   "outputs": [
    {
     "data": {
      "text/plain": [
       "┌─────────────────────┐\n",
       "│        name         │\n",
       "│       varchar       │\n",
       "├─────────────────────┤\n",
       "│ nyc_census_blocks   │\n",
       "│ nyc_homicides       │\n",
       "│ nyc_neighborhoods   │\n",
       "│ nyc_streets         │\n",
       "│ nyc_subway_stations │\n",
       "│ samples             │\n",
       "└─────────────────────┘"
      ]
     },
     "execution_count": 4,
     "metadata": {},
     "output_type": "execute_result"
    }
   ],
   "source": [
    "con.sql('show tables')"
   ]
  },
  {
   "cell_type": "code",
   "execution_count": 6,
   "metadata": {},
   "outputs": [
    {
     "data": {
      "text/plain": [
       "┌──────────┬────────┬──────────────┬─────────────────┬───┬─────────┬─────────┬─────────┬──────────────────────┐\n",
       "│ OBJECTID │   ID   │     NAME     │    ALT_NAME     │ … │  COLOR  │ EXPRESS │ CLOSED  │         geom         │\n",
       "│  double  │ double │   varchar    │     varchar     │   │ varchar │ varchar │ varchar │       geometry       │\n",
       "├──────────┼────────┼──────────────┼─────────────────┼───┼─────────┼─────────┼─────────┼──────────────────────┤\n",
       "│      1.0 │  376.0 │ Cortlandt St │ NULL            │ … │ YELLOW  │ NULL    │ NULL    │ POINT (583521.8544…  │\n",
       "│      2.0 │    2.0 │ Rector St    │ NULL            │ … │ RED     │ NULL    │ NULL    │ POINT (583324.4866…  │\n",
       "│      3.0 │    1.0 │ South Ferry  │ NULL            │ … │ RED     │ NULL    │ NULL    │ POINT (583304.1823…  │\n",
       "│      4.0 │  125.0 │ 138th St     │ Grand Concourse │ … │ GREEN   │ NULL    │ NULL    │ POINT (590250.1059…  │\n",
       "│      5.0 │  126.0 │ 149th St     │ Grand Concourse │ … │ GREEN   │ express │ NULL    │ POINT (590454.7399…  │\n",
       "├──────────┴────────┴──────────────┴─────────────────┴───┴─────────┴─────────┴─────────┴──────────────────────┤\n",
       "│ 5 rows                                                                                 15 columns (8 shown) │\n",
       "└─────────────────────────────────────────────────────────────────────────────────────────────────────────────┘"
      ]
     },
     "execution_count": 6,
     "metadata": {},
     "output_type": "execute_result"
    }
   ],
   "source": [
    "con.sql('SELECT * from nyc_subway_stations LIMIT 5')"
   ]
  },
  {
   "cell_type": "code",
   "execution_count": 7,
   "metadata": {},
   "outputs": [
    {
     "data": {
      "text/plain": [
       "┌──────────────┐\n",
       "│ count_star() │\n",
       "│    int64     │\n",
       "├──────────────┤\n",
       "│          491 │\n",
       "└──────────────┘"
      ]
     },
     "execution_count": 7,
     "metadata": {},
     "output_type": "execute_result"
    }
   ],
   "source": [
    "con.sql('SELECT COUNT(*) from nyc_subway_stations')"
   ]
  },
  {
   "cell_type": "code",
   "execution_count": 8,
   "metadata": {},
   "outputs": [
    {
     "data": {
      "text/plain": [
       "┌──────────┬────────┬───────────────────┬───┬──────────────┬─────────┬─────────┬──────────────────────┐\n",
       "│ OBJECTID │   ID   │       NAME        │ … │    COLOR     │ EXPRESS │ CLOSED  │         geom         │\n",
       "│  double  │ double │      varchar      │   │   varchar    │ varchar │ varchar │       geometry       │\n",
       "├──────────┼────────┼───────────────────┼───┼──────────────┼─────────┼─────────┼──────────────────────┤\n",
       "│      1.0 │  376.0 │ Cortlandt St      │ … │ YELLOW       │ NULL    │ NULL    │ POINT (583521.8544…  │\n",
       "│      2.0 │    2.0 │ Rector St         │ … │ RED          │ NULL    │ NULL    │ POINT (583324.4866…  │\n",
       "│      3.0 │    1.0 │ South Ferry       │ … │ RED          │ NULL    │ NULL    │ POINT (583304.1823…  │\n",
       "│      4.0 │  125.0 │ 138th St          │ … │ GREEN        │ NULL    │ NULL    │ POINT (590250.1059…  │\n",
       "│      5.0 │  126.0 │ 149th St          │ … │ GREEN        │ express │ NULL    │ POINT (590454.7399…  │\n",
       "│      6.0 │   45.0 │ 149th St          │ … │ RED-GREEN    │ express │ NULL    │ POINT (590465.8934…  │\n",
       "│      7.0 │  127.0 │ 161st St          │ … │ GREEN-ORANGE │ NULL    │ NULL    │ POINT (590573.1694…  │\n",
       "│      8.0 │  208.0 │ 167th St          │ … │ ORANGE       │ NULL    │ NULL    │ POINT (591252.8314…  │\n",
       "│      9.0 │  128.0 │ 167th St          │ … │ GREEN        │ NULL    │ NULL    │ POINT (590946.3972…  │\n",
       "│     10.0 │  209.0 │ 170th St          │ … │ ORANGE       │ NULL    │ NULL    │ POINT (591583.6111…  │\n",
       "│       ·  │    ·   │    ·              │ · │   ·          │  ·      │  ·      │          ·           │\n",
       "│       ·  │    ·   │    ·              │ · │   ·          │  ·      │  ·      │          ·           │\n",
       "│       ·  │    ·   │    ·              │ · │   ·          │  ·      │  ·      │          ·           │\n",
       "│    482.0 │  904.0 │ JFK Terminal 1    │ … │ AIR-BLUE     │ NULL    │ NULL    │ POINT (602356.9561…  │\n",
       "│    483.0 │  905.0 │ JFK Terminal 2-3  │ … │ AIR-BLUE     │ NULL    │ NULL    │ POINT (602526.1125…  │\n",
       "│    484.0 │  906.0 │ JFK Terminal 4    │ … │ AIR-BLUE     │ NULL    │ NULL    │ POINT (602985.6731…  │\n",
       "│    485.0 │  907.0 │ JFK Terminal 5-6  │ … │ AIR-BLUE     │ NULL    │ NULL    │ POINT (603245.7503…  │\n",
       "│    486.0 │  908.0 │ JFK Terminal 7    │ … │ AIR-BLUE     │ NULL    │ NULL    │ POINT (602880.3266…  │\n",
       "│    487.0 │  909.0 │ JFK Terminal 8    │ … │ AIR-BLUE     │ NULL    │ NULL    │ POINT (602433.3533…  │\n",
       "│    488.0 │  903.0 │ Federal Circle    │ … │ AIR-BLUE     │ NULL    │ NULL    │ POINT (600903.1428…  │\n",
       "│    489.0 │  902.0 │ Long Term Parking │ … │ AIR-BLUE     │ NULL    │ NULL    │ POINT (599552.1129…  │\n",
       "│    490.0 │  901.0 │ Howard Beach      │ … │ AIR-BLUE     │ NULL    │ NULL    │ POINT (598862.0205…  │\n",
       "│    491.0 │  900.0 │ Jamaica           │ … │ AIR-BLUE     │ NULL    │ NULL    │ POINT (600689.9370…  │\n",
       "├──────────┴────────┴───────────────────┴───┴──────────────┴─────────┴─────────┴──────────────────────┤\n",
       "│ 491 rows (20 shown)                                                            15 columns (7 shown) │\n",
       "└─────────────────────────────────────────────────────────────────────────────────────────────────────┘"
      ]
     },
     "execution_count": 8,
     "metadata": {},
     "output_type": "execute_result"
    }
   ],
   "source": [
    "con.sql('FROM nyc_subway_stations')"
   ]
  },
  {
   "cell_type": "code",
   "execution_count": null,
   "metadata": {},
   "outputs": [],
   "source": []
  }
 ],
 "metadata": {
  "kernelspec": {
   "display_name": "gee",
   "language": "python",
   "name": "python3"
  },
  "language_info": {
   "codemirror_mode": {
    "name": "ipython",
    "version": 3
   },
   "file_extension": ".py",
   "mimetype": "text/x-python",
   "name": "python",
   "nbconvert_exporter": "python",
   "pygments_lexer": "ipython3",
   "version": "3.12.4"
  }
 },
 "nbformat": 4,
 "nbformat_minor": 2
}
