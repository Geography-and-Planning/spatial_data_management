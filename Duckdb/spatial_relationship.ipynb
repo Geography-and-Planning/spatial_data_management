{
 "cells": [
  {
   "cell_type": "code",
   "execution_count": 1,
   "metadata": {},
   "outputs": [],
   "source": [
    "import duckdb\n",
    "import leafmap"
   ]
  },
  {
   "cell_type": "code",
   "execution_count": 2,
   "metadata": {},
   "outputs": [],
   "source": [
    "con= duckdb.connect('nyc_data.db')"
   ]
  },
  {
   "cell_type": "code",
   "execution_count": 3,
   "metadata": {},
   "outputs": [],
   "source": [
    "con.install_extension('spatial')\n",
    "con.load_extension('spatial')"
   ]
  },
  {
   "cell_type": "code",
   "execution_count": 4,
   "metadata": {},
   "outputs": [
    {
     "data": {
      "text/plain": [
       "┌─────────────────────┐\n",
       "│        name         │\n",
       "│       varchar       │\n",
       "├─────────────────────┤\n",
       "│ nyc_census_blocks   │\n",
       "│ nyc_homicides       │\n",
       "│ nyc_neighborhoods   │\n",
       "│ nyc_streets         │\n",
       "│ nyc_subway_stations │\n",
       "└─────────────────────┘"
      ]
     },
     "execution_count": 4,
     "metadata": {},
     "output_type": "execute_result"
    }
   ],
   "source": [
    "con.sql('show tables')"
   ]
  },
  {
   "cell_type": "code",
   "execution_count": null,
   "metadata": {},
   "outputs": [],
   "source": [
    "con.sql('SELECT * from nyc_subway_stations LIMIT 5')"
   ]
  },
  {
   "cell_type": "code",
   "execution_count": null,
   "metadata": {},
   "outputs": [],
   "source": [
    "con.sql('SELECT COUNT(*) from nyc_subway_stations')"
   ]
  },
  {
   "cell_type": "code",
   "execution_count": null,
   "metadata": {},
   "outputs": [],
   "source": [
    "con.sql('FROM nyc_subway_stations')"
   ]
  },
  {
   "cell_type": "code",
   "execution_count": null,
   "metadata": {},
   "outputs": [],
   "source": [
    "subway_stations_df = con.sql(\"SELECT * EXCLUDE geom, ST_AsText(geom) as geometry FROM nyc_subway_stations\").df()\n",
    "subway_stations_df.head()"
   ]
  },
  {
   "cell_type": "code",
   "execution_count": null,
   "metadata": {},
   "outputs": [],
   "source": [
    "subway_stations_gdf = leafmap.df_to_gdf(subway_stations_df, src_crs=\"EPSG:26918\", dst_crs=\"EPSG:4326\")\n",
    "subway_stations_gdf.head()"
   ]
  },
  {
   "cell_type": "code",
   "execution_count": null,
   "metadata": {},
   "outputs": [],
   "source": [
    "df=con.sql('SELECT * EXCLUDE geom, ST_AsText(geom) as geom FROM nyc_subway_stations').df()\n",
    "df.head()"
   ]
  },
  {
   "cell_type": "code",
   "execution_count": null,
   "metadata": {},
   "outputs": [],
   "source": [
    "gdf= leafmap.df_to_gdf(df,geometry='geom', src_crs=\"EPSG:26918\", dst_crs=\"EPSG:4326\")\n",
    "gdf.head()"
   ]
  },
  {
   "cell_type": "code",
   "execution_count": null,
   "metadata": {},
   "outputs": [],
   "source": [
    "import geopandas as gpd"
   ]
  },
  {
   "cell_type": "code",
   "execution_count": null,
   "metadata": {},
   "outputs": [],
   "source": [
    "gdf.explore()"
   ]
  },
  {
   "cell_type": "code",
   "execution_count": 5,
   "metadata": {},
   "outputs": [
    {
     "data": {
      "text/html": [
       "<div>\n",
       "<style scoped>\n",
       "    .dataframe tbody tr th:only-of-type {\n",
       "        vertical-align: middle;\n",
       "    }\n",
       "\n",
       "    .dataframe tbody tr th {\n",
       "        vertical-align: top;\n",
       "    }\n",
       "\n",
       "    .dataframe thead th {\n",
       "        text-align: right;\n",
       "    }\n",
       "</style>\n",
       "<table border=\"1\" class=\"dataframe\">\n",
       "  <thead>\n",
       "    <tr style=\"text-align: right;\">\n",
       "      <th></th>\n",
       "      <th>ID</th>\n",
       "      <th>NAME</th>\n",
       "      <th>ONEWAY</th>\n",
       "      <th>TYPE</th>\n",
       "      <th>geom</th>\n",
       "    </tr>\n",
       "  </thead>\n",
       "  <tbody>\n",
       "    <tr>\n",
       "      <th>0</th>\n",
       "      <td>1</td>\n",
       "      <td>Shore Pky S</td>\n",
       "      <td>None</td>\n",
       "      <td>residential</td>\n",
       "      <td>MULTILINESTRING ((586785.4767897038 4492901.00...</td>\n",
       "    </tr>\n",
       "    <tr>\n",
       "      <th>1</th>\n",
       "      <td>2</td>\n",
       "      <td>None</td>\n",
       "      <td>None</td>\n",
       "      <td>footway</td>\n",
       "      <td>MULTILINESTRING ((586645.0073625665 4504977.75...</td>\n",
       "    </tr>\n",
       "    <tr>\n",
       "      <th>2</th>\n",
       "      <td>3</td>\n",
       "      <td>Avenue O</td>\n",
       "      <td>None</td>\n",
       "      <td>residential</td>\n",
       "      <td>MULTILINESTRING ((586750.3019977848 4496109.72...</td>\n",
       "    </tr>\n",
       "    <tr>\n",
       "      <th>3</th>\n",
       "      <td>4</td>\n",
       "      <td>Walsh Ct</td>\n",
       "      <td>None</td>\n",
       "      <td>residential</td>\n",
       "      <td>MULTILINESTRING ((586728.695515043 4497971.053...</td>\n",
       "    </tr>\n",
       "    <tr>\n",
       "      <th>4</th>\n",
       "      <td>5</td>\n",
       "      <td>None</td>\n",
       "      <td>None</td>\n",
       "      <td>motorway_link</td>\n",
       "      <td>MULTILINESTRING ((586587.0531467082 4510088.25...</td>\n",
       "    </tr>\n",
       "  </tbody>\n",
       "</table>\n",
       "</div>"
      ],
      "text/plain": [
       "   ID         NAME ONEWAY           TYPE  \\\n",
       "0   1  Shore Pky S   None    residential   \n",
       "1   2         None   None        footway   \n",
       "2   3     Avenue O   None    residential   \n",
       "3   4     Walsh Ct   None    residential   \n",
       "4   5         None   None  motorway_link   \n",
       "\n",
       "                                                geom  \n",
       "0  MULTILINESTRING ((586785.4767897038 4492901.00...  \n",
       "1  MULTILINESTRING ((586645.0073625665 4504977.75...  \n",
       "2  MULTILINESTRING ((586750.3019977848 4496109.72...  \n",
       "3  MULTILINESTRING ((586728.695515043 4497971.053...  \n",
       "4  MULTILINESTRING ((586587.0531467082 4510088.25...  "
      ]
     },
     "execution_count": 5,
     "metadata": {},
     "output_type": "execute_result"
    }
   ],
   "source": [
    "df= con.sql('SELECT * EXCLUDE geom, ST_AsText(geom) as geom FROM nyc_streets').df()\n",
    "df.head()"
   ]
  },
  {
   "cell_type": "code",
   "execution_count": 6,
   "metadata": {},
   "outputs": [
    {
     "data": {
      "text/html": [
       "<div>\n",
       "<style scoped>\n",
       "    .dataframe tbody tr th:only-of-type {\n",
       "        vertical-align: middle;\n",
       "    }\n",
       "\n",
       "    .dataframe tbody tr th {\n",
       "        vertical-align: top;\n",
       "    }\n",
       "\n",
       "    .dataframe thead th {\n",
       "        text-align: right;\n",
       "    }\n",
       "</style>\n",
       "<table border=\"1\" class=\"dataframe\">\n",
       "  <thead>\n",
       "    <tr style=\"text-align: right;\">\n",
       "      <th></th>\n",
       "      <th>ID</th>\n",
       "      <th>NAME</th>\n",
       "      <th>ONEWAY</th>\n",
       "      <th>TYPE</th>\n",
       "      <th>geom</th>\n",
       "    </tr>\n",
       "  </thead>\n",
       "  <tbody>\n",
       "    <tr>\n",
       "      <th>0</th>\n",
       "      <td>1</td>\n",
       "      <td>Shore Pky S</td>\n",
       "      <td>None</td>\n",
       "      <td>residential</td>\n",
       "      <td>MULTILINESTRING ((-73.97454 40.58235, -73.9732...</td>\n",
       "    </tr>\n",
       "    <tr>\n",
       "      <th>1</th>\n",
       "      <td>2</td>\n",
       "      <td>None</td>\n",
       "      <td>None</td>\n",
       "      <td>footway</td>\n",
       "      <td>MULTILINESTRING ((-73.97454 40.69114, -73.9743...</td>\n",
       "    </tr>\n",
       "    <tr>\n",
       "      <th>2</th>\n",
       "      <td>3</td>\n",
       "      <td>Avenue O</td>\n",
       "      <td>None</td>\n",
       "      <td>residential</td>\n",
       "      <td>MULTILINESTRING ((-73.97452 40.61126, -73.9734...</td>\n",
       "    </tr>\n",
       "    <tr>\n",
       "      <th>3</th>\n",
       "      <td>4</td>\n",
       "      <td>Walsh Ct</td>\n",
       "      <td>None</td>\n",
       "      <td>residential</td>\n",
       "      <td>MULTILINESTRING ((-73.97451 40.62802, -73.9726...</td>\n",
       "    </tr>\n",
       "    <tr>\n",
       "      <th>4</th>\n",
       "      <td>5</td>\n",
       "      <td>None</td>\n",
       "      <td>None</td>\n",
       "      <td>motorway_link</td>\n",
       "      <td>MULTILINESTRING ((-73.97452 40.73718, -73.9738...</td>\n",
       "    </tr>\n",
       "  </tbody>\n",
       "</table>\n",
       "</div>"
      ],
      "text/plain": [
       "   ID         NAME ONEWAY           TYPE  \\\n",
       "0   1  Shore Pky S   None    residential   \n",
       "1   2         None   None        footway   \n",
       "2   3     Avenue O   None    residential   \n",
       "3   4     Walsh Ct   None    residential   \n",
       "4   5         None   None  motorway_link   \n",
       "\n",
       "                                                geom  \n",
       "0  MULTILINESTRING ((-73.97454 40.58235, -73.9732...  \n",
       "1  MULTILINESTRING ((-73.97454 40.69114, -73.9743...  \n",
       "2  MULTILINESTRING ((-73.97452 40.61126, -73.9734...  \n",
       "3  MULTILINESTRING ((-73.97451 40.62802, -73.9726...  \n",
       "4  MULTILINESTRING ((-73.97452 40.73718, -73.9738...  "
      ]
     },
     "execution_count": 6,
     "metadata": {},
     "output_type": "execute_result"
    }
   ],
   "source": [
    "gdf= leafmap.df_to_gdf(df,geometry='geom', src_crs=\"EPSG:26918\", dst_crs=\"EPSG:4326\")\n",
    "gdf.head()"
   ]
  },
  {
   "cell_type": "code",
   "execution_count": null,
   "metadata": {},
   "outputs": [],
   "source": [
    "gdf.explore()"
   ]
  },
  {
   "cell_type": "code",
   "execution_count": 7,
   "metadata": {},
   "outputs": [
    {
     "data": {
      "application/vnd.jupyter.widget-view+json": {
       "model_id": "7640a8edf2cd45d1ab776cc3b16c5839",
       "version_major": 2,
       "version_minor": 1
      },
      "text/plain": [
       "Map(layers=[PathLayer(get_width=5.0, table=pyarrow.Table\n",
       "ID: uint16\n",
       "NAME: string\n",
       "ONEWAY: string\n",
       "TYPE: string\n",
       "g…"
      ]
     },
     "execution_count": 7,
     "metadata": {},
     "output_type": "execute_result"
    }
   ],
   "source": [
    "leafmap.view_vector(gdf)"
   ]
  },
  {
   "cell_type": "code",
   "execution_count": 8,
   "metadata": {},
   "outputs": [
    {
     "data": {
      "text/html": [
       "<div>\n",
       "<style scoped>\n",
       "    .dataframe tbody tr th:only-of-type {\n",
       "        vertical-align: middle;\n",
       "    }\n",
       "\n",
       "    .dataframe tbody tr th {\n",
       "        vertical-align: top;\n",
       "    }\n",
       "\n",
       "    .dataframe thead th {\n",
       "        text-align: right;\n",
       "    }\n",
       "</style>\n",
       "<table border=\"1\" class=\"dataframe\">\n",
       "  <thead>\n",
       "    <tr style=\"text-align: right;\">\n",
       "      <th></th>\n",
       "      <th>BLKID</th>\n",
       "      <th>POPN_TOTAL</th>\n",
       "      <th>POPN_WHITE</th>\n",
       "      <th>POPN_BLACK</th>\n",
       "      <th>POPN_NATIV</th>\n",
       "      <th>POPN_ASIAN</th>\n",
       "      <th>POPN_OTHER</th>\n",
       "      <th>BORONAME</th>\n",
       "      <th>geom</th>\n",
       "    </tr>\n",
       "  </thead>\n",
       "  <tbody>\n",
       "    <tr>\n",
       "      <th>0</th>\n",
       "      <td>360850009001000</td>\n",
       "      <td>97</td>\n",
       "      <td>51</td>\n",
       "      <td>32</td>\n",
       "      <td>1</td>\n",
       "      <td>5</td>\n",
       "      <td>8</td>\n",
       "      <td>Staten Island</td>\n",
       "      <td>MULTIPOLYGON (((577856.5470479821 4499583.2349...</td>\n",
       "    </tr>\n",
       "    <tr>\n",
       "      <th>1</th>\n",
       "      <td>360850020011000</td>\n",
       "      <td>66</td>\n",
       "      <td>52</td>\n",
       "      <td>2</td>\n",
       "      <td>0</td>\n",
       "      <td>7</td>\n",
       "      <td>5</td>\n",
       "      <td>Staten Island</td>\n",
       "      <td>MULTIPOLYGON (((578620.7173632095 4495974.8178...</td>\n",
       "    </tr>\n",
       "    <tr>\n",
       "      <th>2</th>\n",
       "      <td>360850040001000</td>\n",
       "      <td>62</td>\n",
       "      <td>14</td>\n",
       "      <td>18</td>\n",
       "      <td>2</td>\n",
       "      <td>25</td>\n",
       "      <td>3</td>\n",
       "      <td>Staten Island</td>\n",
       "      <td>MULTIPOLYGON (((577227.2244709881 4495995.0668...</td>\n",
       "    </tr>\n",
       "    <tr>\n",
       "      <th>3</th>\n",
       "      <td>360850074001000</td>\n",
       "      <td>137</td>\n",
       "      <td>92</td>\n",
       "      <td>12</td>\n",
       "      <td>0</td>\n",
       "      <td>13</td>\n",
       "      <td>20</td>\n",
       "      <td>Staten Island</td>\n",
       "      <td>MULTIPOLYGON (((579037.0332016965 4494421.7698...</td>\n",
       "    </tr>\n",
       "    <tr>\n",
       "      <th>4</th>\n",
       "      <td>360850096011000</td>\n",
       "      <td>289</td>\n",
       "      <td>230</td>\n",
       "      <td>0</td>\n",
       "      <td>0</td>\n",
       "      <td>32</td>\n",
       "      <td>27</td>\n",
       "      <td>Staten Island</td>\n",
       "      <td>MULTIPOLYGON (((577652.4825280879 4494975.0522...</td>\n",
       "    </tr>\n",
       "  </tbody>\n",
       "</table>\n",
       "</div>"
      ],
      "text/plain": [
       "             BLKID  POPN_TOTAL  POPN_WHITE  POPN_BLACK  POPN_NATIV  \\\n",
       "0  360850009001000          97          51          32           1   \n",
       "1  360850020011000          66          52           2           0   \n",
       "2  360850040001000          62          14          18           2   \n",
       "3  360850074001000         137          92          12           0   \n",
       "4  360850096011000         289         230           0           0   \n",
       "\n",
       "   POPN_ASIAN  POPN_OTHER       BORONAME  \\\n",
       "0           5           8  Staten Island   \n",
       "1           7           5  Staten Island   \n",
       "2          25           3  Staten Island   \n",
       "3          13          20  Staten Island   \n",
       "4          32          27  Staten Island   \n",
       "\n",
       "                                                geom  \n",
       "0  MULTIPOLYGON (((577856.5470479821 4499583.2349...  \n",
       "1  MULTIPOLYGON (((578620.7173632095 4495974.8178...  \n",
       "2  MULTIPOLYGON (((577227.2244709881 4495995.0668...  \n",
       "3  MULTIPOLYGON (((579037.0332016965 4494421.7698...  \n",
       "4  MULTIPOLYGON (((577652.4825280879 4494975.0522...  "
      ]
     },
     "execution_count": 8,
     "metadata": {},
     "output_type": "execute_result"
    }
   ],
   "source": [
    "df= con.sql('SELECT * EXCLUDE geom, ST_AsText(geom) as geom FROM nyc_census_blocks').df()\n",
    "df.head()"
   ]
  },
  {
   "cell_type": "code",
   "execution_count": 9,
   "metadata": {},
   "outputs": [
    {
     "data": {
      "text/html": [
       "<div>\n",
       "<style scoped>\n",
       "    .dataframe tbody tr th:only-of-type {\n",
       "        vertical-align: middle;\n",
       "    }\n",
       "\n",
       "    .dataframe tbody tr th {\n",
       "        vertical-align: top;\n",
       "    }\n",
       "\n",
       "    .dataframe thead th {\n",
       "        text-align: right;\n",
       "    }\n",
       "</style>\n",
       "<table border=\"1\" class=\"dataframe\">\n",
       "  <thead>\n",
       "    <tr style=\"text-align: right;\">\n",
       "      <th></th>\n",
       "      <th>BLKID</th>\n",
       "      <th>POPN_TOTAL</th>\n",
       "      <th>POPN_WHITE</th>\n",
       "      <th>POPN_BLACK</th>\n",
       "      <th>POPN_NATIV</th>\n",
       "      <th>POPN_ASIAN</th>\n",
       "      <th>POPN_OTHER</th>\n",
       "      <th>BORONAME</th>\n",
       "      <th>geom</th>\n",
       "    </tr>\n",
       "  </thead>\n",
       "  <tbody>\n",
       "    <tr>\n",
       "      <th>0</th>\n",
       "      <td>360850009001000</td>\n",
       "      <td>97</td>\n",
       "      <td>51</td>\n",
       "      <td>32</td>\n",
       "      <td>1</td>\n",
       "      <td>5</td>\n",
       "      <td>8</td>\n",
       "      <td>Staten Island</td>\n",
       "      <td>MULTIPOLYGON (((-74.07921 40.64343, -74.07914 ...</td>\n",
       "    </tr>\n",
       "    <tr>\n",
       "      <th>1</th>\n",
       "      <td>360850020011000</td>\n",
       "      <td>66</td>\n",
       "      <td>52</td>\n",
       "      <td>2</td>\n",
       "      <td>0</td>\n",
       "      <td>7</td>\n",
       "      <td>5</td>\n",
       "      <td>Staten Island</td>\n",
       "      <td>MULTIPOLYGON (((-74.07062 40.61085, -74.07164 ...</td>\n",
       "    </tr>\n",
       "    <tr>\n",
       "      <th>2</th>\n",
       "      <td>360850040001000</td>\n",
       "      <td>62</td>\n",
       "      <td>14</td>\n",
       "      <td>18</td>\n",
       "      <td>2</td>\n",
       "      <td>25</td>\n",
       "      <td>3</td>\n",
       "      <td>Staten Island</td>\n",
       "      <td>MULTIPOLYGON (((-74.08709 40.61117, -74.08795 ...</td>\n",
       "    </tr>\n",
       "    <tr>\n",
       "      <th>3</th>\n",
       "      <td>360850074001000</td>\n",
       "      <td>137</td>\n",
       "      <td>92</td>\n",
       "      <td>12</td>\n",
       "      <td>0</td>\n",
       "      <td>13</td>\n",
       "      <td>20</td>\n",
       "      <td>Staten Island</td>\n",
       "      <td>MULTIPOLYGON (((-74.06589 40.59683, -74.06633 ...</td>\n",
       "    </tr>\n",
       "    <tr>\n",
       "      <th>4</th>\n",
       "      <td>360850096011000</td>\n",
       "      <td>289</td>\n",
       "      <td>230</td>\n",
       "      <td>0</td>\n",
       "      <td>0</td>\n",
       "      <td>32</td>\n",
       "      <td>27</td>\n",
       "      <td>Staten Island</td>\n",
       "      <td>MULTIPOLYGON (((-74.08219 40.60194, -74.08185 ...</td>\n",
       "    </tr>\n",
       "  </tbody>\n",
       "</table>\n",
       "</div>"
      ],
      "text/plain": [
       "             BLKID  POPN_TOTAL  POPN_WHITE  POPN_BLACK  POPN_NATIV  \\\n",
       "0  360850009001000          97          51          32           1   \n",
       "1  360850020011000          66          52           2           0   \n",
       "2  360850040001000          62          14          18           2   \n",
       "3  360850074001000         137          92          12           0   \n",
       "4  360850096011000         289         230           0           0   \n",
       "\n",
       "   POPN_ASIAN  POPN_OTHER       BORONAME  \\\n",
       "0           5           8  Staten Island   \n",
       "1           7           5  Staten Island   \n",
       "2          25           3  Staten Island   \n",
       "3          13          20  Staten Island   \n",
       "4          32          27  Staten Island   \n",
       "\n",
       "                                                geom  \n",
       "0  MULTIPOLYGON (((-74.07921 40.64343, -74.07914 ...  \n",
       "1  MULTIPOLYGON (((-74.07062 40.61085, -74.07164 ...  \n",
       "2  MULTIPOLYGON (((-74.08709 40.61117, -74.08795 ...  \n",
       "3  MULTIPOLYGON (((-74.06589 40.59683, -74.06633 ...  \n",
       "4  MULTIPOLYGON (((-74.08219 40.60194, -74.08185 ...  "
      ]
     },
     "execution_count": 9,
     "metadata": {},
     "output_type": "execute_result"
    }
   ],
   "source": [
    "gdf= leafmap.df_to_gdf(df,geometry='geom', src_crs=\"EPSG:26918\", dst_crs=\"EPSG:4326\")\n",
    "gdf.head()"
   ]
  },
  {
   "cell_type": "code",
   "execution_count": 10,
   "metadata": {},
   "outputs": [
    {
     "data": {
      "application/vnd.jupyter.widget-view+json": {
       "model_id": "e20a3d2b64ad4d5f8e13d561efca6e1e",
       "version_major": 2,
       "version_minor": 1
      },
      "text/plain": [
       "Map(layers=[SolidPolygonLayer(get_fill_color=[0, 0, 255, 128], table=pyarrow.Table\n",
       "BLKID: string\n",
       "POPN_TOTAL: u…"
      ]
     },
     "execution_count": 10,
     "metadata": {},
     "output_type": "execute_result"
    }
   ],
   "source": [
    "leafmap.view_vector(gdf)"
   ]
  },
  {
   "cell_type": "code",
   "execution_count": null,
   "metadata": {},
   "outputs": [],
   "source": []
  }
 ],
 "metadata": {
  "kernelspec": {
   "display_name": "gee",
   "language": "python",
   "name": "python3"
  },
  "language_info": {
   "codemirror_mode": {
    "name": "ipython",
    "version": 3
   },
   "file_extension": ".py",
   "mimetype": "text/x-python",
   "name": "python",
   "nbconvert_exporter": "python",
   "pygments_lexer": "ipython3",
   "version": "3.12.4"
  }
 },
 "nbformat": 4,
 "nbformat_minor": 2
}
