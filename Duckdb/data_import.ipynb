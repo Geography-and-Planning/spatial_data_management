{
 "cells": [
  {
   "cell_type": "code",
   "execution_count": 2,
   "metadata": {},
   "outputs": [],
   "source": [
    "import duckdb\n",
    "import leafmap\n",
    "import pandas as pd"
   ]
  },
  {
   "cell_type": "code",
   "execution_count": 3,
   "metadata": {},
   "outputs": [],
   "source": [
    "con=duckdb.connect()\n",
    "con.install_extension('httpfs')\n",
    "con.load_extension('httpfs')"
   ]
  },
  {
   "cell_type": "code",
   "execution_count": 4,
   "metadata": {},
   "outputs": [],
   "source": [
    "con.install_extension('spatial')\n",
    "con.load_extension('spatial')"
   ]
  },
  {
   "cell_type": "code",
   "execution_count": 5,
   "metadata": {},
   "outputs": [
    {
     "data": {
      "text/plain": [
       "┌──────────────────┬─────────┬───────────┬───┬───────────────────┬───────────────────┬────────────────┐\n",
       "│  extension_name  │ loaded  │ installed │ … │ extension_version │   install_mode    │ installed_from │\n",
       "│     varchar      │ boolean │  boolean  │   │      varchar      │      varchar      │    varchar     │\n",
       "├──────────────────┼─────────┼───────────┼───┼───────────────────┼───────────────────┼────────────────┤\n",
       "│ arrow            │ false   │ false     │ … │                   │ NULL              │                │\n",
       "│ autocomplete     │ false   │ false     │ … │                   │ NULL              │                │\n",
       "│ aws              │ false   │ false     │ … │                   │ NULL              │                │\n",
       "│ azure            │ false   │ false     │ … │                   │ NULL              │                │\n",
       "│ delta            │ false   │ false     │ … │                   │ NULL              │                │\n",
       "│ excel            │ false   │ false     │ … │                   │ NULL              │                │\n",
       "│ fts              │ false   │ true      │ … │                   │ STATICALLY_LINKED │                │\n",
       "│ httpfs           │ true    │ true      │ … │ 1f98600c2c        │ REPOSITORY        │ core           │\n",
       "│ iceberg          │ false   │ false     │ … │                   │ NULL              │                │\n",
       "│ icu              │ true    │ true      │ … │                   │ STATICALLY_LINKED │                │\n",
       "│ inet             │ false   │ false     │ … │                   │ NULL              │                │\n",
       "│ jemalloc         │ false   │ false     │ … │                   │ NULL              │                │\n",
       "│ json             │ true    │ true      │ … │                   │ STATICALLY_LINKED │                │\n",
       "│ motherduck       │ false   │ false     │ … │                   │ NULL              │                │\n",
       "│ mysql_scanner    │ false   │ false     │ … │                   │ NULL              │                │\n",
       "│ parquet          │ true    │ true      │ … │                   │ STATICALLY_LINKED │                │\n",
       "│ postgres_scanner │ false   │ false     │ … │                   │ NULL              │                │\n",
       "│ spatial          │ true    │ true      │ … │ 6826755           │ REPOSITORY        │ core           │\n",
       "│ sqlite_scanner   │ false   │ false     │ … │                   │ NULL              │                │\n",
       "│ substrait        │ false   │ false     │ … │                   │ NULL              │                │\n",
       "│ tpcds            │ false   │ false     │ … │                   │ NULL              │                │\n",
       "│ tpch             │ true    │ true      │ … │                   │ STATICALLY_LINKED │                │\n",
       "│ vss              │ false   │ false     │ … │                   │ NULL              │                │\n",
       "├──────────────────┴─────────┴───────────┴───┴───────────────────┴───────────────────┴────────────────┤\n",
       "│ 23 rows                                                                         9 columns (6 shown) │\n",
       "└─────────────────────────────────────────────────────────────────────────────────────────────────────┘"
      ]
     },
     "execution_count": 5,
     "metadata": {},
     "output_type": "execute_result"
    }
   ],
   "source": [
    "con.sql('SELECT * FROM duckdb_extensions()')"
   ]
  },
  {
   "cell_type": "code",
   "execution_count": 6,
   "metadata": {},
   "outputs": [
    {
     "name": "stdout",
     "output_type": "stream",
     "text": [
      "Downloading https://open.gishub.org/data/duckdb/cities.zip ...\n",
      "Unzipping cities.zip ...\n",
      "Data downloaded to: c:\\Users\\zyang\\spatial_data_management\\Duckdb\\cities\n"
     ]
    }
   ],
   "source": [
    "url= 'https://open.gishub.org/data/duckdb/cities.zip'\n",
    "leafmap.download_from_url(url, unzip=True)"
   ]
  },
  {
   "cell_type": "code",
   "execution_count": 7,
   "metadata": {},
   "outputs": [
    {
     "data": {
      "text/plain": [
       "┌───────┬──────────────────┬─────────┬───────────┬───────────┬────────────┐\n",
       "│  id   │       name       │ country │ latitude  │ longitude │ population │\n",
       "│ int64 │     varchar      │ varchar │  double   │  double   │   int64    │\n",
       "├───────┼──────────────────┼─────────┼───────────┼───────────┼────────────┤\n",
       "│     1 │ Bombo            │ UGA     │    0.5833 │   32.5333 │      75000 │\n",
       "│     2 │ Fort Portal      │ UGA     │     0.671 │    30.275 │      42670 │\n",
       "│     3 │ Potenza          │ ITA     │    40.642 │    15.799 │      69060 │\n",
       "│     4 │ Campobasso       │ ITA     │    41.563 │    14.656 │      50762 │\n",
       "│     5 │ Aosta            │ ITA     │    45.737 │     7.315 │      34062 │\n",
       "│     6 │ Mariehamn        │ ALD     │    60.097 │    19.949 │      10682 │\n",
       "│     7 │ Ramallah         │ PSE     │  31.90294 │  35.20621 │      24599 │\n",
       "│     8 │ Vatican City     │ VAT     │  41.90001 │  12.44781 │        832 │\n",
       "│     9 │ Poitier          │ FRA     │  46.58329 │   0.33328 │      85960 │\n",
       "│    10 │ Clermont-Ferrand │ FRA     │  45.77998 │   3.08001 │     233050 │\n",
       "│     · │   ·              │  ·      │      ·    │      ·    │        ·   │\n",
       "│     · │   ·              │  ·      │      ·    │      ·    │        ·   │\n",
       "│     · │   ·              │  ·      │      ·    │      ·    │        ·   │\n",
       "│  1240 │ Tokyo            │ JPN     │  35.68502 │ 139.75141 │   35676000 │\n",
       "│  1241 │ Mumbai           │ IND     │  19.01699 │  72.85699 │   18978000 │\n",
       "│  1242 │ Paris            │ FRA     │  48.86669 │   2.33334 │    9904000 │\n",
       "│  1243 │ Santiago         │ CHL     │ -33.45001 │ -70.66704 │    5720000 │\n",
       "│  1244 │ Kolkata          │ IND     │  22.49497 │  88.32468 │   14787000 │\n",
       "│  1245 │ Rio de Janeiro   │ BRA     │ -22.92502 │ -43.22502 │   11748000 │\n",
       "│  1246 │ Sao Paulo        │ BRA     │ -23.55868 │ -46.62502 │   18845000 │\n",
       "│  1247 │ Sydney           │ AUS     │ -33.92001 │ 151.18518 │    4630000 │\n",
       "│  1248 │ Singapore        │ SGP     │   1.29303 │ 103.85582 │    5183700 │\n",
       "│  1249 │ Hong Kong        │ CHN     │  22.30498 │ 114.18501 │    7206000 │\n",
       "├───────┴──────────────────┴─────────┴───────────┴───────────┴────────────┤\n",
       "│ 1249 rows (20 shown)                                          6 columns │\n",
       "└─────────────────────────────────────────────────────────────────────────┘"
      ]
     },
     "execution_count": 7,
     "metadata": {},
     "output_type": "execute_result"
    }
   ],
   "source": [
    "con.read_csv('cities.csv') "
   ]
  },
  {
   "cell_type": "code",
   "execution_count": 8,
   "metadata": {},
   "outputs": [
    {
     "data": {
      "text/plain": [
       "┌───────┬──────────────────┬─────────┬───────────┬───────────┬────────────┐\n",
       "│  id   │       name       │ country │ latitude  │ longitude │ population │\n",
       "│ int64 │     varchar      │ varchar │  double   │  double   │   int64    │\n",
       "├───────┼──────────────────┼─────────┼───────────┼───────────┼────────────┤\n",
       "│     1 │ Bombo            │ UGA     │    0.5833 │   32.5333 │      75000 │\n",
       "│     2 │ Fort Portal      │ UGA     │     0.671 │    30.275 │      42670 │\n",
       "│     3 │ Potenza          │ ITA     │    40.642 │    15.799 │      69060 │\n",
       "│     4 │ Campobasso       │ ITA     │    41.563 │    14.656 │      50762 │\n",
       "│     5 │ Aosta            │ ITA     │    45.737 │     7.315 │      34062 │\n",
       "│     6 │ Mariehamn        │ ALD     │    60.097 │    19.949 │      10682 │\n",
       "│     7 │ Ramallah         │ PSE     │  31.90294 │  35.20621 │      24599 │\n",
       "│     8 │ Vatican City     │ VAT     │  41.90001 │  12.44781 │        832 │\n",
       "│     9 │ Poitier          │ FRA     │  46.58329 │   0.33328 │      85960 │\n",
       "│    10 │ Clermont-Ferrand │ FRA     │  45.77998 │   3.08001 │     233050 │\n",
       "│     · │   ·              │  ·      │      ·    │      ·    │        ·   │\n",
       "│     · │   ·              │  ·      │      ·    │      ·    │        ·   │\n",
       "│     · │   ·              │  ·      │      ·    │      ·    │        ·   │\n",
       "│  1240 │ Tokyo            │ JPN     │  35.68502 │ 139.75141 │   35676000 │\n",
       "│  1241 │ Mumbai           │ IND     │  19.01699 │  72.85699 │   18978000 │\n",
       "│  1242 │ Paris            │ FRA     │  48.86669 │   2.33334 │    9904000 │\n",
       "│  1243 │ Santiago         │ CHL     │ -33.45001 │ -70.66704 │    5720000 │\n",
       "│  1244 │ Kolkata          │ IND     │  22.49497 │  88.32468 │   14787000 │\n",
       "│  1245 │ Rio de Janeiro   │ BRA     │ -22.92502 │ -43.22502 │   11748000 │\n",
       "│  1246 │ Sao Paulo        │ BRA     │ -23.55868 │ -46.62502 │   18845000 │\n",
       "│  1247 │ Sydney           │ AUS     │ -33.92001 │ 151.18518 │    4630000 │\n",
       "│  1248 │ Singapore        │ SGP     │   1.29303 │ 103.85582 │    5183700 │\n",
       "│  1249 │ Hong Kong        │ CHN     │  22.30498 │ 114.18501 │    7206000 │\n",
       "├───────┴──────────────────┴─────────┴───────────┴───────────┴────────────┤\n",
       "│ 1249 rows (20 shown)                                          6 columns │\n",
       "└─────────────────────────────────────────────────────────────────────────┘"
      ]
     },
     "execution_count": 8,
     "metadata": {},
     "output_type": "execute_result"
    }
   ],
   "source": [
    "con.read_csv('cities.csv', parallel=True) "
   ]
  },
  {
   "cell_type": "code",
   "execution_count": 9,
   "metadata": {},
   "outputs": [
    {
     "data": {
      "text/plain": [
       "┌───────┬──────────────────┬─────────┬───────────┬───────────┬────────────┐\n",
       "│  id   │       name       │ country │ latitude  │ longitude │ population │\n",
       "│ int64 │     varchar      │ varchar │  double   │  double   │   int64    │\n",
       "├───────┼──────────────────┼─────────┼───────────┼───────────┼────────────┤\n",
       "│     1 │ Bombo            │ UGA     │    0.5833 │   32.5333 │      75000 │\n",
       "│     2 │ Fort Portal      │ UGA     │     0.671 │    30.275 │      42670 │\n",
       "│     3 │ Potenza          │ ITA     │    40.642 │    15.799 │      69060 │\n",
       "│     4 │ Campobasso       │ ITA     │    41.563 │    14.656 │      50762 │\n",
       "│     5 │ Aosta            │ ITA     │    45.737 │     7.315 │      34062 │\n",
       "│     6 │ Mariehamn        │ ALD     │    60.097 │    19.949 │      10682 │\n",
       "│     7 │ Ramallah         │ PSE     │  31.90294 │  35.20621 │      24599 │\n",
       "│     8 │ Vatican City     │ VAT     │  41.90001 │  12.44781 │        832 │\n",
       "│     9 │ Poitier          │ FRA     │  46.58329 │   0.33328 │      85960 │\n",
       "│    10 │ Clermont-Ferrand │ FRA     │  45.77998 │   3.08001 │     233050 │\n",
       "│     · │   ·              │  ·      │      ·    │      ·    │        ·   │\n",
       "│     · │   ·              │  ·      │      ·    │      ·    │        ·   │\n",
       "│     · │   ·              │  ·      │      ·    │      ·    │        ·   │\n",
       "│  1240 │ Tokyo            │ JPN     │  35.68502 │ 139.75141 │   35676000 │\n",
       "│  1241 │ Mumbai           │ IND     │  19.01699 │  72.85699 │   18978000 │\n",
       "│  1242 │ Paris            │ FRA     │  48.86669 │   2.33334 │    9904000 │\n",
       "│  1243 │ Santiago         │ CHL     │ -33.45001 │ -70.66704 │    5720000 │\n",
       "│  1244 │ Kolkata          │ IND     │  22.49497 │  88.32468 │   14787000 │\n",
       "│  1245 │ Rio de Janeiro   │ BRA     │ -22.92502 │ -43.22502 │   11748000 │\n",
       "│  1246 │ Sao Paulo        │ BRA     │ -23.55868 │ -46.62502 │   18845000 │\n",
       "│  1247 │ Sydney           │ AUS     │ -33.92001 │ 151.18518 │    4630000 │\n",
       "│  1248 │ Singapore        │ SGP     │   1.29303 │ 103.85582 │    5183700 │\n",
       "│  1249 │ Hong Kong        │ CHN     │  22.30498 │ 114.18501 │    7206000 │\n",
       "├───────┴──────────────────┴─────────┴───────────┴───────────┴────────────┤\n",
       "│ 1249 rows (20 shown)                                          6 columns │\n",
       "└─────────────────────────────────────────────────────────────────────────┘"
      ]
     },
     "execution_count": 9,
     "metadata": {},
     "output_type": "execute_result"
    }
   ],
   "source": [
    "# read from a single JSON file\n",
    "con.read_json('cities.json')"
   ]
  },
  {
   "cell_type": "code",
   "execution_count": 10,
   "metadata": {},
   "outputs": [
    {
     "data": {
      "text/html": [
       "<div>\n",
       "<style scoped>\n",
       "    .dataframe tbody tr th:only-of-type {\n",
       "        vertical-align: middle;\n",
       "    }\n",
       "\n",
       "    .dataframe tbody tr th {\n",
       "        vertical-align: top;\n",
       "    }\n",
       "\n",
       "    .dataframe thead th {\n",
       "        text-align: right;\n",
       "    }\n",
       "</style>\n",
       "<table border=\"1\" class=\"dataframe\">\n",
       "  <thead>\n",
       "    <tr style=\"text-align: right;\">\n",
       "      <th></th>\n",
       "      <th>id</th>\n",
       "      <th>name</th>\n",
       "      <th>country</th>\n",
       "      <th>latitude</th>\n",
       "      <th>longitude</th>\n",
       "      <th>population</th>\n",
       "    </tr>\n",
       "  </thead>\n",
       "  <tbody>\n",
       "    <tr>\n",
       "      <th>0</th>\n",
       "      <td>1</td>\n",
       "      <td>Bombo</td>\n",
       "      <td>UGA</td>\n",
       "      <td>0.58330</td>\n",
       "      <td>32.53330</td>\n",
       "      <td>75000</td>\n",
       "    </tr>\n",
       "    <tr>\n",
       "      <th>1</th>\n",
       "      <td>2</td>\n",
       "      <td>Fort Portal</td>\n",
       "      <td>UGA</td>\n",
       "      <td>0.67100</td>\n",
       "      <td>30.27500</td>\n",
       "      <td>42670</td>\n",
       "    </tr>\n",
       "    <tr>\n",
       "      <th>2</th>\n",
       "      <td>3</td>\n",
       "      <td>Potenza</td>\n",
       "      <td>ITA</td>\n",
       "      <td>40.64200</td>\n",
       "      <td>15.79900</td>\n",
       "      <td>69060</td>\n",
       "    </tr>\n",
       "    <tr>\n",
       "      <th>3</th>\n",
       "      <td>4</td>\n",
       "      <td>Campobasso</td>\n",
       "      <td>ITA</td>\n",
       "      <td>41.56300</td>\n",
       "      <td>14.65600</td>\n",
       "      <td>50762</td>\n",
       "    </tr>\n",
       "    <tr>\n",
       "      <th>4</th>\n",
       "      <td>5</td>\n",
       "      <td>Aosta</td>\n",
       "      <td>ITA</td>\n",
       "      <td>45.73700</td>\n",
       "      <td>7.31500</td>\n",
       "      <td>34062</td>\n",
       "    </tr>\n",
       "    <tr>\n",
       "      <th>...</th>\n",
       "      <td>...</td>\n",
       "      <td>...</td>\n",
       "      <td>...</td>\n",
       "      <td>...</td>\n",
       "      <td>...</td>\n",
       "      <td>...</td>\n",
       "    </tr>\n",
       "    <tr>\n",
       "      <th>1244</th>\n",
       "      <td>1245</td>\n",
       "      <td>Rio de Janeiro</td>\n",
       "      <td>BRA</td>\n",
       "      <td>-22.92502</td>\n",
       "      <td>-43.22502</td>\n",
       "      <td>11748000</td>\n",
       "    </tr>\n",
       "    <tr>\n",
       "      <th>1245</th>\n",
       "      <td>1246</td>\n",
       "      <td>Sao Paulo</td>\n",
       "      <td>BRA</td>\n",
       "      <td>-23.55868</td>\n",
       "      <td>-46.62502</td>\n",
       "      <td>18845000</td>\n",
       "    </tr>\n",
       "    <tr>\n",
       "      <th>1246</th>\n",
       "      <td>1247</td>\n",
       "      <td>Sydney</td>\n",
       "      <td>AUS</td>\n",
       "      <td>-33.92001</td>\n",
       "      <td>151.18518</td>\n",
       "      <td>4630000</td>\n",
       "    </tr>\n",
       "    <tr>\n",
       "      <th>1247</th>\n",
       "      <td>1248</td>\n",
       "      <td>Singapore</td>\n",
       "      <td>SGP</td>\n",
       "      <td>1.29303</td>\n",
       "      <td>103.85582</td>\n",
       "      <td>5183700</td>\n",
       "    </tr>\n",
       "    <tr>\n",
       "      <th>1248</th>\n",
       "      <td>1249</td>\n",
       "      <td>Hong Kong</td>\n",
       "      <td>CHN</td>\n",
       "      <td>22.30498</td>\n",
       "      <td>114.18501</td>\n",
       "      <td>7206000</td>\n",
       "    </tr>\n",
       "  </tbody>\n",
       "</table>\n",
       "<p>1249 rows × 6 columns</p>\n",
       "</div>"
      ],
      "text/plain": [
       "        id            name country  latitude  longitude  population\n",
       "0        1           Bombo     UGA   0.58330   32.53330       75000\n",
       "1        2     Fort Portal     UGA   0.67100   30.27500       42670\n",
       "2        3         Potenza     ITA  40.64200   15.79900       69060\n",
       "3        4      Campobasso     ITA  41.56300   14.65600       50762\n",
       "4        5           Aosta     ITA  45.73700    7.31500       34062\n",
       "...    ...             ...     ...       ...        ...         ...\n",
       "1244  1245  Rio de Janeiro     BRA -22.92502  -43.22502    11748000\n",
       "1245  1246       Sao Paulo     BRA -23.55868  -46.62502    18845000\n",
       "1246  1247          Sydney     AUS -33.92001  151.18518     4630000\n",
       "1247  1248       Singapore     SGP   1.29303  103.85582     5183700\n",
       "1248  1249       Hong Kong     CHN  22.30498  114.18501     7206000\n",
       "\n",
       "[1249 rows x 6 columns]"
      ]
     },
     "execution_count": 10,
     "metadata": {},
     "output_type": "execute_result"
    }
   ],
   "source": [
    "df = pd.read_csv('cities.csv')\n",
    "df"
   ]
  },
  {
   "cell_type": "code",
   "execution_count": 11,
   "metadata": {},
   "outputs": [
    {
     "data": {
      "text/plain": [
       "'ITA'"
      ]
     },
     "execution_count": 11,
     "metadata": {},
     "output_type": "execute_result"
    }
   ],
   "source": [
    "con.sql('SELECT * FROM df').fetchall()[3][2]"
   ]
  },
  {
   "cell_type": "code",
   "execution_count": 12,
   "metadata": {},
   "outputs": [
    {
     "data": {
      "text/plain": [
       "┌─────────┬───────────────────────────────────────────┬────────┬───────────┬───────────┬──────────────────┬────────────┐\n",
       "│ country │                 geometry                  │   id   │ latitude  │ longitude │       name       │ population │\n",
       "│ varchar │                   blob                    │ double │  double   │  double   │     varchar      │   double   │\n",
       "├─────────┼───────────────────────────────────────────┼────────┼───────────┼───────────┼──────────────────┼────────────┤\n",
       "│ UGA     │ \\x01\\x01\\x00\\x00\\x00xz\\xA5,CD@@\\xB57\\xF…  │    1.0 │    0.5833 │   32.5333 │ Bombo            │    75000.0 │\n",
       "│ UGA     │ \\x01\\x01\\x00\\x00\\x00fffffF>@F\\xB6\\xF3\\x…  │    2.0 │     0.671 │    30.275 │ Fort Portal      │    42670.0 │\n",
       "│ ITA     │ \\x01\\x01\\x00\\x00\\x00\\x0C\\x02+\\x87\\x16\\x…  │    3.0 │    40.642 │    15.799 │ Potenza          │    69060.0 │\n",
       "│ ITA     │ \\x01\\x01\\x00\\x00\\x00\\x1DZd;\\xDFO-@\\xF2\\…  │    4.0 │    41.563 │    14.656 │ Campobasso       │    50762.0 │\n",
       "│ ITA     │ \\x01\\x01\\x00\\x00\\x00\\xC3\\xF5(\\x5C\\x8FB\\…  │    5.0 │    45.737 │     7.315 │ Aosta            │    34062.0 │\n",
       "│ ALD     │ \\x01\\x01\\x00\\x00\\x00m\\xE7\\xFB\\xA9\\xF1\\x…  │    6.0 │    60.097 │    19.949 │ Mariehamn        │    10682.0 │\n",
       "│ PSE     │ \\x01\\x01\\x00\\x00\\x00\\xD8\\x0D\\xDB\\x16e\\x…  │    7.0 │  31.90294 │  35.20621 │ Ramallah         │    24599.0 │\n",
       "│ VAT     │ \\x01\\x01\\x00\\x00\\x00\\xBE\\xA41ZG\\xE5(@W\\…  │    8.0 │  41.90001 │  12.44781 │ Vatican City     │      832.0 │\n",
       "│ FRA     │ \\x01\\x01\\x00\\x00\\x00\\xDCK\\x1A\\xA3uT\\xD5…  │    9.0 │  46.58329 │   0.33328 │ Poitier          │    85960.0 │\n",
       "│ FRA     │ \\x01\\x01\\x00\\x00\\x00\\xDD\\xD2jH\\xDC\\xA3\\…  │   10.0 │  45.77998 │   3.08001 │ Clermont-Ferrand │   233050.0 │\n",
       "│  ·      │                     ·                     │     ·  │      ·    │      ·    │   ·              │       ·    │\n",
       "│  ·      │                     ·                     │     ·  │      ·    │      ·    │   ·              │       ·    │\n",
       "│  ·      │                     ·                     │     ·  │      ·    │      ·    │   ·              │       ·    │\n",
       "│ JPN     │ \\x01\\x01\\x00\\x00\\x00e\\xFC\\xFB\\x8C\\x0Bxa…  │ 1240.0 │  35.68502 │ 139.75141 │ Tokyo            │ 35676000.0 │\n",
       "│ IND     │ \\x01\\x01\\x00\\x00\\x00\\xF0\\xBF\\x95\\xEC\\xD…  │ 1241.0 │  19.01699 │  72.85699 │ Mumbai           │ 18978000.0 │\n",
       "│ FRA     │ \\x01\\x01\\x00\\x00\\x00\\xD1\\x96s)\\xAE\\xAA\\…  │ 1242.0 │  48.86669 │   2.33334 │ Paris            │  9904000.0 │\n",
       "│ CHL     │ \\x01\\x01\\x00\\x00\\x00\\xEDG\\x8A\\xC8\\xB0\\x…  │ 1243.0 │ -33.45001 │ -70.66704 │ Santiago         │  5720000.0 │\n",
       "│ IND     │ \\x01\\x01\\x00\\x00\\x00\\x94j\\x9F\\x8E\\xC7\\x…  │ 1244.0 │  22.49497 │  88.32468 │ Kolkata          │ 14787000.0 │\n",
       "│ BRA     │ \\x01\\x01\\x00\\x00\\x00\\x14y\\x92t\\xCD\\x9CE…  │ 1245.0 │ -22.92502 │ -43.22502 │ Rio de Janeiro   │ 11748000.0 │\n",
       "│ BRA     │ \\x01\\x01\\x00\\x00\\x00G\\xAC\\xC5\\xA7\\x00PG…  │ 1246.0 │ -23.55868 │ -46.62502 │ Sao Paulo        │ 18845000.0 │\n",
       "│ AUS     │ \\x01\\x01\\x00\\x00\\x00\\xF2{\\x9B\\xFE\\xEC\\x…  │ 1247.0 │ -33.92001 │ 151.18518 │ Sydney           │  4630000.0 │\n",
       "│ SGP     │ \\x01\\x01\\x00\\x00\\x00\\xD0\\xD0?\\xC1\\xC5\\x…  │ 1248.0 │   1.29303 │ 103.85582 │ Singapore        │  5183700.0 │\n",
       "│ CHN     │ \\x01\\x01\\x00\\x00\\x00\\xB6\\xDB.4\\xD7\\x8B\\…  │ 1249.0 │  22.30498 │ 114.18501 │ Hong Kong        │  7206000.0 │\n",
       "├─────────┴───────────────────────────────────────────┴────────┴───────────┴───────────┴──────────────────┴────────────┤\n",
       "│ 1249 rows (20 shown)                                                                                       7 columns │\n",
       "└──────────────────────────────────────────────────────────────────────────────────────────────────────────────────────┘"
      ]
     },
     "execution_count": 12,
     "metadata": {},
     "output_type": "execute_result"
    }
   ],
   "source": [
    "# read from a single Parquet file\n",
    "con.read_parquet('cities.parquet')"
   ]
  },
  {
   "cell_type": "code",
   "execution_count": 13,
   "metadata": {},
   "outputs": [
    {
     "data": {
      "text/plain": [
       "┌────────────────┬──────────────────────┬────────────┬──────────┬──────────┬───────────────────────────────────────────┐\n",
       "│   short_name   │      long_name       │ can_create │ can_copy │ can_open │                 help_url                  │\n",
       "│    varchar     │       varchar        │  boolean   │ boolean  │ boolean  │                  varchar                  │\n",
       "├────────────────┼──────────────────────┼────────────┼──────────┼──────────┼───────────────────────────────────────────┤\n",
       "│ ESRI Shapefile │ ESRI Shapefile       │ true       │ false    │ true     │ https://gdal.org/drivers/vector/shapefi…  │\n",
       "│ MapInfo File   │ MapInfo File         │ true       │ false    │ true     │ https://gdal.org/drivers/vector/mitab.h…  │\n",
       "│ UK .NTF        │ UK .NTF              │ false      │ false    │ true     │ https://gdal.org/drivers/vector/ntf.html  │\n",
       "│ LVBAG          │ Kadaster LV BAG Ex…  │ false      │ false    │ true     │ https://gdal.org/drivers/vector/lvbag.h…  │\n",
       "│ S57            │ IHO S-57 (ENC)       │ true       │ false    │ true     │ https://gdal.org/drivers/vector/s57.html  │\n",
       "│ DGN            │ Microstation DGN     │ true       │ false    │ true     │ https://gdal.org/drivers/vector/dgn.html  │\n",
       "│ OGR_VRT        │ VRT - Virtual Data…  │ false      │ false    │ true     │ https://gdal.org/drivers/vector/vrt.html  │\n",
       "│ Memory         │ Memory               │ true       │ false    │ true     │ NULL                                      │\n",
       "│ CSV            │ Comma Separated Va…  │ true       │ false    │ true     │ https://gdal.org/drivers/vector/csv.html  │\n",
       "│ GML            │ Geography Markup L…  │ true       │ false    │ true     │ https://gdal.org/drivers/vector/gml.html  │\n",
       "│  ·             │          ·           │  ·         │   ·      │  ·       │                    ·                      │\n",
       "│  ·             │          ·           │  ·         │   ·      │  ·       │                    ·                      │\n",
       "│  ·             │          ·           │  ·         │   ·      │  ·       │                    ·                      │\n",
       "│ CSW            │ OGC CSW (Catalog  …  │ false      │ false    │ true     │ https://gdal.org/drivers/vector/csw.html  │\n",
       "│ VDV            │ VDV-451/VDV-452/IN…  │ true       │ false    │ true     │ https://gdal.org/drivers/vector/vdv.html  │\n",
       "│ MVT            │ Mapbox Vector Tiles  │ true       │ false    │ true     │ https://gdal.org/drivers/vector/mvt.html  │\n",
       "│ NGW            │ NextGIS Web          │ true       │ true     │ true     │ https://gdal.org/drivers/vector/ngw.html  │\n",
       "│ MapML          │ MapML                │ true       │ false    │ true     │ https://gdal.org/drivers/vector/mapml.h…  │\n",
       "│ PMTiles        │ ProtoMap Tiles       │ true       │ false    │ true     │ https://gdal.org/drivers/vector/pmtiles…  │\n",
       "│ JSONFG         │ OGC Features and G…  │ true       │ false    │ true     │ https://gdal.org/drivers/vector/jsonfg.…  │\n",
       "│ TIGER          │ U.S. Census TIGER/…  │ false      │ false    │ true     │ https://gdal.org/drivers/vector/tiger.h…  │\n",
       "│ AVCBin         │ Arc/Info Binary Co…  │ false      │ false    │ true     │ https://gdal.org/drivers/vector/avcbin.…  │\n",
       "│ AVCE00         │ Arc/Info E00 (ASCI…  │ false      │ false    │ true     │ https://gdal.org/drivers/vector/avce00.…  │\n",
       "├────────────────┴──────────────────────┴────────────┴──────────┴──────────┴───────────────────────────────────────────┤\n",
       "│ 53 rows (20 shown)                                                                                         6 columns │\n",
       "└──────────────────────────────────────────────────────────────────────────────────────────────────────────────────────┘"
      ]
     },
     "execution_count": 13,
     "metadata": {},
     "output_type": "execute_result"
    }
   ],
   "source": [
    "con.sql('SELECT * FROM ST_Drivers()')"
   ]
  },
  {
   "cell_type": "code",
   "execution_count": 14,
   "metadata": {},
   "outputs": [
    {
     "data": {
      "text/plain": [
       "┌───────┬──────────────────┬─────────┬───────────┬───────────┬────────────┬─────────────────────────────┐\n",
       "│  id   │       name       │ country │ latitude  │ longitude │ population │            geom             │\n",
       "│ int32 │     varchar      │ varchar │  double   │  double   │   int32    │          geometry           │\n",
       "├───────┼──────────────────┼─────────┼───────────┼───────────┼────────────┼─────────────────────────────┤\n",
       "│     1 │ Bombo            │ UGA     │    0.5833 │   32.5333 │      75000 │ POINT (32.5333 0.5833)      │\n",
       "│     2 │ Fort Portal      │ UGA     │     0.671 │    30.275 │      42670 │ POINT (30.275 0.671)        │\n",
       "│     3 │ Potenza          │ ITA     │    40.642 │    15.799 │      69060 │ POINT (15.799 40.642)       │\n",
       "│     4 │ Campobasso       │ ITA     │    41.563 │    14.656 │      50762 │ POINT (14.656 41.563)       │\n",
       "│     5 │ Aosta            │ ITA     │    45.737 │     7.315 │      34062 │ POINT (7.315 45.737)        │\n",
       "│     6 │ Mariehamn        │ ALD     │    60.097 │    19.949 │      10682 │ POINT (19.949 60.097)       │\n",
       "│     7 │ Ramallah         │ PSE     │  31.90294 │  35.20621 │      24599 │ POINT (35.20621 31.90294)   │\n",
       "│     8 │ Vatican City     │ VAT     │  41.90001 │  12.44781 │        832 │ POINT (12.44781 41.90001)   │\n",
       "│     9 │ Poitier          │ FRA     │  46.58329 │   0.33328 │      85960 │ POINT (0.33328 46.58329)    │\n",
       "│    10 │ Clermont-Ferrand │ FRA     │  45.77998 │   3.08001 │     233050 │ POINT (3.08001 45.77998)    │\n",
       "│     · │   ·              │  ·      │      ·    │      ·    │        ·   │            ·                │\n",
       "│     · │   ·              │  ·      │      ·    │      ·    │        ·   │            ·                │\n",
       "│     · │   ·              │  ·      │      ·    │      ·    │        ·   │            ·                │\n",
       "│  1240 │ Tokyo            │ JPN     │  35.68502 │ 139.75141 │   35676000 │ POINT (139.75141 35.68502)  │\n",
       "│  1241 │ Mumbai           │ IND     │  19.01699 │  72.85699 │   18978000 │ POINT (72.85699 19.01699)   │\n",
       "│  1242 │ Paris            │ FRA     │  48.86669 │   2.33334 │    9904000 │ POINT (2.33334 48.86669)    │\n",
       "│  1243 │ Santiago         │ CHL     │ -33.45001 │ -70.66704 │    5720000 │ POINT (-70.66704 -33.45001) │\n",
       "│  1244 │ Kolkata          │ IND     │  22.49497 │  88.32468 │   14787000 │ POINT (88.32468 22.49497)   │\n",
       "│  1245 │ Rio de Janeiro   │ BRA     │ -22.92502 │ -43.22502 │   11748000 │ POINT (-43.22502 -22.92502) │\n",
       "│  1246 │ Sao Paulo        │ BRA     │ -23.55868 │ -46.62502 │   18845000 │ POINT (-46.62502 -23.55868) │\n",
       "│  1247 │ Sydney           │ AUS     │ -33.92001 │ 151.18518 │    4630000 │ POINT (151.18518 -33.92001) │\n",
       "│  1248 │ Singapore        │ SGP     │   1.29303 │ 103.85582 │    5183700 │ POINT (103.85582 1.29303)   │\n",
       "│  1249 │ Hong Kong        │ CHN     │  22.30498 │ 114.18501 │    7206000 │ POINT (114.18501 22.30498)  │\n",
       "├───────┴──────────────────┴─────────┴───────────┴───────────┴────────────┴─────────────────────────────┤\n",
       "│ 1249 rows (20 shown)                                                                        7 columns │\n",
       "└───────────────────────────────────────────────────────────────────────────────────────────────────────┘"
      ]
     },
     "execution_count": 14,
     "metadata": {},
     "output_type": "execute_result"
    }
   ],
   "source": [
    "con.sql(\"SELECT * FROM ST_Read('cities.geojson')\")"
   ]
  },
  {
   "cell_type": "code",
   "execution_count": 15,
   "metadata": {},
   "outputs": [],
   "source": [
    "con.sql(\"CREATE TABLE cities AS SELECT * FROM ST_Read('cities.geojson')\")"
   ]
  },
  {
   "cell_type": "code",
   "execution_count": 16,
   "metadata": {},
   "outputs": [
    {
     "data": {
      "text/plain": [
       "┌───────┬──────────────────┬─────────┬───────────┬───────────┬────────────┬─────────────────────────────┐\n",
       "│  id   │       name       │ country │ latitude  │ longitude │ population │            geom             │\n",
       "│ int32 │     varchar      │ varchar │  double   │  double   │   int32    │          geometry           │\n",
       "├───────┼──────────────────┼─────────┼───────────┼───────────┼────────────┼─────────────────────────────┤\n",
       "│     1 │ Bombo            │ UGA     │    0.5833 │   32.5333 │      75000 │ POINT (32.5333 0.5833)      │\n",
       "│     2 │ Fort Portal      │ UGA     │     0.671 │    30.275 │      42670 │ POINT (30.275 0.671)        │\n",
       "│     3 │ Potenza          │ ITA     │    40.642 │    15.799 │      69060 │ POINT (15.799 40.642)       │\n",
       "│     4 │ Campobasso       │ ITA     │    41.563 │    14.656 │      50762 │ POINT (14.656 41.563)       │\n",
       "│     5 │ Aosta            │ ITA     │    45.737 │     7.315 │      34062 │ POINT (7.315 45.737)        │\n",
       "│     6 │ Mariehamn        │ ALD     │    60.097 │    19.949 │      10682 │ POINT (19.949 60.097)       │\n",
       "│     7 │ Ramallah         │ PSE     │  31.90294 │  35.20621 │      24599 │ POINT (35.20621 31.90294)   │\n",
       "│     8 │ Vatican City     │ VAT     │  41.90001 │  12.44781 │        832 │ POINT (12.44781 41.90001)   │\n",
       "│     9 │ Poitier          │ FRA     │  46.58329 │   0.33328 │      85960 │ POINT (0.33328 46.58329)    │\n",
       "│    10 │ Clermont-Ferrand │ FRA     │  45.77998 │   3.08001 │     233050 │ POINT (3.08001 45.77998)    │\n",
       "│     · │   ·              │  ·      │      ·    │      ·    │        ·   │            ·                │\n",
       "│     · │   ·              │  ·      │      ·    │      ·    │        ·   │            ·                │\n",
       "│     · │   ·              │  ·      │      ·    │      ·    │        ·   │            ·                │\n",
       "│  1240 │ Tokyo            │ JPN     │  35.68502 │ 139.75141 │   35676000 │ POINT (139.75141 35.68502)  │\n",
       "│  1241 │ Mumbai           │ IND     │  19.01699 │  72.85699 │   18978000 │ POINT (72.85699 19.01699)   │\n",
       "│  1242 │ Paris            │ FRA     │  48.86669 │   2.33334 │    9904000 │ POINT (2.33334 48.86669)    │\n",
       "│  1243 │ Santiago         │ CHL     │ -33.45001 │ -70.66704 │    5720000 │ POINT (-70.66704 -33.45001) │\n",
       "│  1244 │ Kolkata          │ IND     │  22.49497 │  88.32468 │   14787000 │ POINT (88.32468 22.49497)   │\n",
       "│  1245 │ Rio de Janeiro   │ BRA     │ -22.92502 │ -43.22502 │   11748000 │ POINT (-43.22502 -22.92502) │\n",
       "│  1246 │ Sao Paulo        │ BRA     │ -23.55868 │ -46.62502 │   18845000 │ POINT (-46.62502 -23.55868) │\n",
       "│  1247 │ Sydney           │ AUS     │ -33.92001 │ 151.18518 │    4630000 │ POINT (151.18518 -33.92001) │\n",
       "│  1248 │ Singapore        │ SGP     │   1.29303 │ 103.85582 │    5183700 │ POINT (103.85582 1.29303)   │\n",
       "│  1249 │ Hong Kong        │ CHN     │  22.30498 │ 114.18501 │    7206000 │ POINT (114.18501 22.30498)  │\n",
       "├───────┴──────────────────┴─────────┴───────────┴───────────┴────────────┴─────────────────────────────┤\n",
       "│ 1249 rows (20 shown)                                                                        7 columns │\n",
       "└───────────────────────────────────────────────────────────────────────────────────────────────────────┘"
      ]
     },
     "execution_count": 16,
     "metadata": {},
     "output_type": "execute_result"
    }
   ],
   "source": [
    "con.table('cities')"
   ]
  },
  {
   "cell_type": "code",
   "execution_count": 17,
   "metadata": {},
   "outputs": [
    {
     "data": {
      "text/plain": [
       "┌───────┬──────────────────┬─────────┬───────────┬───────────┬────────────┬─────────────────────────────┐\n",
       "│  id   │       name       │ country │ latitude  │ longitude │ population │            geom             │\n",
       "│ int32 │     varchar      │ varchar │  double   │  double   │   int32    │          geometry           │\n",
       "├───────┼──────────────────┼─────────┼───────────┼───────────┼────────────┼─────────────────────────────┤\n",
       "│     1 │ Bombo            │ UGA     │    0.5833 │   32.5333 │      75000 │ POINT (32.5333 0.5833)      │\n",
       "│     2 │ Fort Portal      │ UGA     │     0.671 │    30.275 │      42670 │ POINT (30.275 0.671)        │\n",
       "│     3 │ Potenza          │ ITA     │    40.642 │    15.799 │      69060 │ POINT (15.799 40.642)       │\n",
       "│     4 │ Campobasso       │ ITA     │    41.563 │    14.656 │      50762 │ POINT (14.656 41.563)       │\n",
       "│     5 │ Aosta            │ ITA     │    45.737 │     7.315 │      34062 │ POINT (7.315 45.737)        │\n",
       "│     6 │ Mariehamn        │ ALD     │    60.097 │    19.949 │      10682 │ POINT (19.949 60.097)       │\n",
       "│     7 │ Ramallah         │ PSE     │  31.90294 │  35.20621 │      24599 │ POINT (35.20621 31.90294)   │\n",
       "│     8 │ Vatican City     │ VAT     │  41.90001 │  12.44781 │        832 │ POINT (12.44781 41.90001)   │\n",
       "│     9 │ Poitier          │ FRA     │  46.58329 │   0.33328 │      85960 │ POINT (0.33328 46.58329)    │\n",
       "│    10 │ Clermont-Ferrand │ FRA     │  45.77998 │   3.08001 │     233050 │ POINT (3.08001 45.77998)    │\n",
       "│     · │   ·              │  ·      │      ·    │      ·    │        ·   │            ·                │\n",
       "│     · │   ·              │  ·      │      ·    │      ·    │        ·   │            ·                │\n",
       "│     · │   ·              │  ·      │      ·    │      ·    │        ·   │            ·                │\n",
       "│  1240 │ Tokyo            │ JPN     │  35.68502 │ 139.75141 │   35676000 │ POINT (139.75141 35.68502)  │\n",
       "│  1241 │ Mumbai           │ IND     │  19.01699 │  72.85699 │   18978000 │ POINT (72.85699 19.01699)   │\n",
       "│  1242 │ Paris            │ FRA     │  48.86669 │   2.33334 │    9904000 │ POINT (2.33334 48.86669)    │\n",
       "│  1243 │ Santiago         │ CHL     │ -33.45001 │ -70.66704 │    5720000 │ POINT (-70.66704 -33.45001) │\n",
       "│  1244 │ Kolkata          │ IND     │  22.49497 │  88.32468 │   14787000 │ POINT (88.32468 22.49497)   │\n",
       "│  1245 │ Rio de Janeiro   │ BRA     │ -22.92502 │ -43.22502 │   11748000 │ POINT (-43.22502 -22.92502) │\n",
       "│  1246 │ Sao Paulo        │ BRA     │ -23.55868 │ -46.62502 │   18845000 │ POINT (-46.62502 -23.55868) │\n",
       "│  1247 │ Sydney           │ AUS     │ -33.92001 │ 151.18518 │    4630000 │ POINT (151.18518 -33.92001) │\n",
       "│  1248 │ Singapore        │ SGP     │   1.29303 │ 103.85582 │    5183700 │ POINT (103.85582 1.29303)   │\n",
       "│  1249 │ Hong Kong        │ CHN     │  22.30498 │ 114.18501 │    7206000 │ POINT (114.18501 22.30498)  │\n",
       "├───────┴──────────────────┴─────────┴───────────┴───────────┴────────────┴─────────────────────────────┤\n",
       "│ 1249 rows (20 shown)                                                                        7 columns │\n",
       "└───────────────────────────────────────────────────────────────────────────────────────────────────────┘"
      ]
     },
     "execution_count": 17,
     "metadata": {},
     "output_type": "execute_result"
    }
   ],
   "source": [
    "con.sql(\"SELECT * FROM cities\")"
   ]
  },
  {
   "cell_type": "code",
   "execution_count": 18,
   "metadata": {},
   "outputs": [],
   "source": [
    "con.sql(\n",
    "    \"\"\"\n",
    "        CREATE TABLE IF NOT EXISTS cities2 AS \n",
    "        SELECT * FROM ST_Read('cities.shp')\n",
    "        \"\"\"\n",
    ")"
   ]
  },
  {
   "cell_type": "code",
   "execution_count": 19,
   "metadata": {},
   "outputs": [
    {
     "data": {
      "text/plain": [
       "┌─────────┬───────────────────────────────────────────┬────────┬───────────┬───────────┬──────────────────┬────────────┐\n",
       "│ country │                 geometry                  │   id   │ latitude  │ longitude │       name       │ population │\n",
       "│ varchar │                   blob                    │ double │  double   │  double   │     varchar      │   double   │\n",
       "├─────────┼───────────────────────────────────────────┼────────┼───────────┼───────────┼──────────────────┼────────────┤\n",
       "│ UGA     │ \\x01\\x01\\x00\\x00\\x00xz\\xA5,CD@@\\xB57\\xF…  │    1.0 │    0.5833 │   32.5333 │ Bombo            │    75000.0 │\n",
       "│ UGA     │ \\x01\\x01\\x00\\x00\\x00fffffF>@F\\xB6\\xF3\\x…  │    2.0 │     0.671 │    30.275 │ Fort Portal      │    42670.0 │\n",
       "│ ITA     │ \\x01\\x01\\x00\\x00\\x00\\x0C\\x02+\\x87\\x16\\x…  │    3.0 │    40.642 │    15.799 │ Potenza          │    69060.0 │\n",
       "│ ITA     │ \\x01\\x01\\x00\\x00\\x00\\x1DZd;\\xDFO-@\\xF2\\…  │    4.0 │    41.563 │    14.656 │ Campobasso       │    50762.0 │\n",
       "│ ITA     │ \\x01\\x01\\x00\\x00\\x00\\xC3\\xF5(\\x5C\\x8FB\\…  │    5.0 │    45.737 │     7.315 │ Aosta            │    34062.0 │\n",
       "│ ALD     │ \\x01\\x01\\x00\\x00\\x00m\\xE7\\xFB\\xA9\\xF1\\x…  │    6.0 │    60.097 │    19.949 │ Mariehamn        │    10682.0 │\n",
       "│ PSE     │ \\x01\\x01\\x00\\x00\\x00\\xD8\\x0D\\xDB\\x16e\\x…  │    7.0 │  31.90294 │  35.20621 │ Ramallah         │    24599.0 │\n",
       "│ VAT     │ \\x01\\x01\\x00\\x00\\x00\\xBE\\xA41ZG\\xE5(@W\\…  │    8.0 │  41.90001 │  12.44781 │ Vatican City     │      832.0 │\n",
       "│ FRA     │ \\x01\\x01\\x00\\x00\\x00\\xDCK\\x1A\\xA3uT\\xD5…  │    9.0 │  46.58329 │   0.33328 │ Poitier          │    85960.0 │\n",
       "│ FRA     │ \\x01\\x01\\x00\\x00\\x00\\xDD\\xD2jH\\xDC\\xA3\\…  │   10.0 │  45.77998 │   3.08001 │ Clermont-Ferrand │   233050.0 │\n",
       "│  ·      │                     ·                     │     ·  │      ·    │      ·    │   ·              │       ·    │\n",
       "│  ·      │                     ·                     │     ·  │      ·    │      ·    │   ·              │       ·    │\n",
       "│  ·      │                     ·                     │     ·  │      ·    │      ·    │   ·              │       ·    │\n",
       "│ JPN     │ \\x01\\x01\\x00\\x00\\x00e\\xFC\\xFB\\x8C\\x0Bxa…  │ 1240.0 │  35.68502 │ 139.75141 │ Tokyo            │ 35676000.0 │\n",
       "│ IND     │ \\x01\\x01\\x00\\x00\\x00\\xF0\\xBF\\x95\\xEC\\xD…  │ 1241.0 │  19.01699 │  72.85699 │ Mumbai           │ 18978000.0 │\n",
       "│ FRA     │ \\x01\\x01\\x00\\x00\\x00\\xD1\\x96s)\\xAE\\xAA\\…  │ 1242.0 │  48.86669 │   2.33334 │ Paris            │  9904000.0 │\n",
       "│ CHL     │ \\x01\\x01\\x00\\x00\\x00\\xEDG\\x8A\\xC8\\xB0\\x…  │ 1243.0 │ -33.45001 │ -70.66704 │ Santiago         │  5720000.0 │\n",
       "│ IND     │ \\x01\\x01\\x00\\x00\\x00\\x94j\\x9F\\x8E\\xC7\\x…  │ 1244.0 │  22.49497 │  88.32468 │ Kolkata          │ 14787000.0 │\n",
       "│ BRA     │ \\x01\\x01\\x00\\x00\\x00\\x14y\\x92t\\xCD\\x9CE…  │ 1245.0 │ -22.92502 │ -43.22502 │ Rio de Janeiro   │ 11748000.0 │\n",
       "│ BRA     │ \\x01\\x01\\x00\\x00\\x00G\\xAC\\xC5\\xA7\\x00PG…  │ 1246.0 │ -23.55868 │ -46.62502 │ Sao Paulo        │ 18845000.0 │\n",
       "│ AUS     │ \\x01\\x01\\x00\\x00\\x00\\xF2{\\x9B\\xFE\\xEC\\x…  │ 1247.0 │ -33.92001 │ 151.18518 │ Sydney           │  4630000.0 │\n",
       "│ SGP     │ \\x01\\x01\\x00\\x00\\x00\\xD0\\xD0?\\xC1\\xC5\\x…  │ 1248.0 │   1.29303 │ 103.85582 │ Singapore        │  5183700.0 │\n",
       "│ CHN     │ \\x01\\x01\\x00\\x00\\x00\\xB6\\xDB.4\\xD7\\x8B\\…  │ 1249.0 │  22.30498 │ 114.18501 │ Hong Kong        │  7206000.0 │\n",
       "├─────────┴───────────────────────────────────────────┴────────┴───────────┴───────────┴──────────────────┴────────────┤\n",
       "│ 1249 rows (20 shown)                                                                                       7 columns │\n",
       "└──────────────────────────────────────────────────────────────────────────────────────────────────────────────────────┘"
      ]
     },
     "execution_count": 19,
     "metadata": {},
     "output_type": "execute_result"
    }
   ],
   "source": [
    "con.sql(\"SELECT * FROM 'cities.parquet'\")"
   ]
  },
  {
   "cell_type": "code",
   "execution_count": 20,
   "metadata": {},
   "outputs": [],
   "source": [
    "con.sql(\n",
    "    \"\"\"\n",
    "CREATE TABLE IF NOT EXISTS cities3 AS\n",
    "SELECT * EXCLUDE geometry, ST_GeomFromWKB(geometry) \n",
    "AS geometry FROM 'cities.parquet'\n",
    "\"\"\"\n",
    ")"
   ]
  },
  {
   "cell_type": "code",
   "execution_count": 21,
   "metadata": {},
   "outputs": [
    {
     "data": {
      "text/plain": [
       "┌─────────┬────────┬───────────┬───────────┬──────────────────┬────────────┬─────────────────────────────┐\n",
       "│ country │   id   │ latitude  │ longitude │       name       │ population │          geometry           │\n",
       "│ varchar │ double │  double   │  double   │     varchar      │   double   │          geometry           │\n",
       "├─────────┼────────┼───────────┼───────────┼──────────────────┼────────────┼─────────────────────────────┤\n",
       "│ UGA     │    1.0 │    0.5833 │   32.5333 │ Bombo            │    75000.0 │ POINT (32.5333 0.5833)      │\n",
       "│ UGA     │    2.0 │     0.671 │    30.275 │ Fort Portal      │    42670.0 │ POINT (30.275 0.671)        │\n",
       "│ ITA     │    3.0 │    40.642 │    15.799 │ Potenza          │    69060.0 │ POINT (15.799 40.642)       │\n",
       "│ ITA     │    4.0 │    41.563 │    14.656 │ Campobasso       │    50762.0 │ POINT (14.656 41.563)       │\n",
       "│ ITA     │    5.0 │    45.737 │     7.315 │ Aosta            │    34062.0 │ POINT (7.315 45.737)        │\n",
       "│ ALD     │    6.0 │    60.097 │    19.949 │ Mariehamn        │    10682.0 │ POINT (19.949 60.097)       │\n",
       "│ PSE     │    7.0 │  31.90294 │  35.20621 │ Ramallah         │    24599.0 │ POINT (35.20621 31.90294)   │\n",
       "│ VAT     │    8.0 │  41.90001 │  12.44781 │ Vatican City     │      832.0 │ POINT (12.44781 41.90001)   │\n",
       "│ FRA     │    9.0 │  46.58329 │   0.33328 │ Poitier          │    85960.0 │ POINT (0.33328 46.58329)    │\n",
       "│ FRA     │   10.0 │  45.77998 │   3.08001 │ Clermont-Ferrand │   233050.0 │ POINT (3.08001 45.77998)    │\n",
       "│  ·      │     ·  │      ·    │      ·    │   ·              │       ·    │            ·                │\n",
       "│  ·      │     ·  │      ·    │      ·    │   ·              │       ·    │            ·                │\n",
       "│  ·      │     ·  │      ·    │      ·    │   ·              │       ·    │            ·                │\n",
       "│ JPN     │ 1240.0 │  35.68502 │ 139.75141 │ Tokyo            │ 35676000.0 │ POINT (139.75141 35.68502)  │\n",
       "│ IND     │ 1241.0 │  19.01699 │  72.85699 │ Mumbai           │ 18978000.0 │ POINT (72.85699 19.01699)   │\n",
       "│ FRA     │ 1242.0 │  48.86669 │   2.33334 │ Paris            │  9904000.0 │ POINT (2.33334 48.86669)    │\n",
       "│ CHL     │ 1243.0 │ -33.45001 │ -70.66704 │ Santiago         │  5720000.0 │ POINT (-70.66704 -33.45001) │\n",
       "│ IND     │ 1244.0 │  22.49497 │  88.32468 │ Kolkata          │ 14787000.0 │ POINT (88.32468 22.49497)   │\n",
       "│ BRA     │ 1245.0 │ -22.92502 │ -43.22502 │ Rio de Janeiro   │ 11748000.0 │ POINT (-43.22502 -22.92502) │\n",
       "│ BRA     │ 1246.0 │ -23.55868 │ -46.62502 │ Sao Paulo        │ 18845000.0 │ POINT (-46.62502 -23.55868) │\n",
       "│ AUS     │ 1247.0 │ -33.92001 │ 151.18518 │ Sydney           │  4630000.0 │ POINT (151.18518 -33.92001) │\n",
       "│ SGP     │ 1248.0 │   1.29303 │ 103.85582 │ Singapore        │  5183700.0 │ POINT (103.85582 1.29303)   │\n",
       "│ CHN     │ 1249.0 │  22.30498 │ 114.18501 │ Hong Kong        │  7206000.0 │ POINT (114.18501 22.30498)  │\n",
       "├─────────┴────────┴───────────┴───────────┴──────────────────┴────────────┴─────────────────────────────┤\n",
       "│ 1249 rows (20 shown)                                                                         7 columns │\n",
       "└────────────────────────────────────────────────────────────────────────────────────────────────────────┘"
      ]
     },
     "execution_count": 21,
     "metadata": {},
     "output_type": "execute_result"
    }
   ],
   "source": [
    "con.table('cities3')"
   ]
  },
  {
   "cell_type": "code",
   "execution_count": 22,
   "metadata": {},
   "outputs": [
    {
     "data": {
      "application/vnd.jupyter.widget-view+json": {
       "model_id": "d5b40190300345dea60b6c2b7b60fbe4",
       "version_major": 2,
       "version_minor": 0
      },
      "text/plain": [
       "FloatProgress(value=0.0, layout=Layout(width='auto'), style=ProgressStyle(bar_color='black'))"
      ]
     },
     "metadata": {},
     "output_type": "display_data"
    }
   ],
   "source": [
    "con.sql(\n",
    "    \"\"\"\n",
    "CREATE TABLE IF NOT EXISTS country AS\n",
    "SELECT * EXCLUDE geometry, ST_GeomFromWKB(geometry) FROM\n",
    "        's3://us-west-2.opendata.source.coop/google-research-open-buildings/v2/geoparquet-admin1/country=SSD/*.parquet'\n",
    "\"\"\"\n",
    ")"
   ]
  },
  {
   "cell_type": "code",
   "execution_count": 23,
   "metadata": {},
   "outputs": [
    {
     "data": {
      "text/plain": [
       "┌─────────┬───────────────────┬────────────────┬────────────┬────────────────┬─────────────────────────────────────────┐\n",
       "│ country │      admin_1      │ area_in_meters │ confidence │ full_plus_code │        st_geomfromwkb(geometry)         │\n",
       "│ varchar │      varchar      │     double     │   double   │    varchar     │                geometry                 │\n",
       "├─────────┼───────────────────┼────────────────┼────────────┼────────────────┼─────────────────────────────────────────┤\n",
       "│ SSD     │ Central Equatoria │        13.2942 │     0.6061 │ 6GMGFRQX+797F  │ POLYGON ((30.8484392928101 3.48814927…  │\n",
       "│ SSD     │ Central Equatoria │        17.9561 │     0.7432 │ 6GMGFRQX+7999  │ POLYGON ((30.8485154080012 3.48817201…  │\n",
       "│ SSD     │ Central Equatoria │        16.1245 │     0.7016 │ 6GMGFRQX+WXHQ  │ POLYGON ((30.8500129796786 3.48979698…  │\n",
       "│ SSD     │ Central Equatoria │        20.5568 │     0.7655 │ 6GMGFRQX+XX66  │ POLYGON ((30.849898767126 3.489886617…  │\n",
       "│ SSD     │ Central Equatoria │        12.7653 │     0.7241 │ 6GMGFRQX+XX98  │ POLYGON ((30.8500049862427 3.48989272…  │\n",
       "│ SSD     │ Central Equatoria │         8.4574 │     0.6811 │ 6GMGFRQX+XXMX  │ POLYGON ((30.8499509498148 3.48996070…  │\n",
       "│ SSD     │ Central Equatoria │         5.4337 │     0.6019 │ 6GMGFRQX+XXXF  │ POLYGON ((30.8499937482512 3.48997762…  │\n",
       "│ SSD     │ Central Equatoria │        13.1663 │     0.6488 │ 6GMGFRRX+2QV2  │ POLYGON ((30.8494272889171 3.49008460…  │\n",
       "│ SSD     │ Central Equatoria │        26.2669 │     0.6831 │ 6GMGFRRX+3J42  │ POLYGON ((30.8490899476719 3.49010159…  │\n",
       "│ SSD     │ Central Equatoria │        28.1317 │     0.7556 │ 6GMGFRRX+3JHC  │ POLYGON ((30.849124931713 3.490163715…  │\n",
       "│  ·      │   ·               │           ·    │        ·   │       ·        │                    ·                    │\n",
       "│  ·      │   ·               │           ·    │        ·   │       ·        │                    ·                    │\n",
       "│  ·      │   ·               │           ·    │        ·   │       ·        │                    ·                    │\n",
       "│ SSD     │ Warrap            │        20.8582 │     0.7012 │ 6GXC9H5X+FJRM  │ POLYGON ((28.5990311582958 9.35872254…  │\n",
       "│ SSD     │ Warrap            │        28.4379 │     0.6774 │ 6GXC9H5X+FM7C  │ POLYGON ((28.5991864837717 9.35864724…  │\n",
       "│ SSD     │ Warrap            │        16.9609 │     0.6779 │ 6GXC9H5X+FMG9  │ POLYGON ((28.5992339371306 9.35866527…  │\n",
       "│ SSD     │ Warrap            │        27.4222 │     0.6354 │ 6GXC9H5X+FMJ8  │ POLYGON ((28.5991762605652 9.35869191…  │\n",
       "│ SSD     │ Warrap            │        27.1697 │     0.6818 │ 6GXC9H5X+FMPM  │ POLYGON ((28.5992254174389 9.35870301…  │\n",
       "│ SSD     │ Warrap            │        32.4359 │     0.7429 │ 6GXC9H5X+FP34  │ POLYGON ((28.5993354707036 9.35861055…  │\n",
       "│ SSD     │ Warrap            │         8.4233 │     0.6813 │ 6GXC9H5X+FPJ4  │ POLYGON ((28.5992808457224 9.35869182…  │\n",
       "│ SSD     │ Warrap            │        32.3144 │     0.6737 │ 6GXC9H5X+FPPC  │ POLYGON ((28.5993089610297 9.35870816…  │\n",
       "│ SSD     │ Warrap            │          31.23 │     0.6855 │ 6GXC9H5X+FQC8  │ POLYGON ((28.5994230876301 9.35865704…  │\n",
       "│ SSD     │ Warrap            │        41.7623 │     0.7621 │ 6GXC9H5X+FQGP  │ POLYGON ((28.5994909515784 9.35866768…  │\n",
       "├─────────┴───────────────────┴────────────────┴────────────┴────────────────┴─────────────────────────────────────────┤\n",
       "│ ? rows (>9999 rows, 20 shown)                                                                              6 columns │\n",
       "└──────────────────────────────────────────────────────────────────────────────────────────────────────────────────────┘"
      ]
     },
     "execution_count": 23,
     "metadata": {},
     "output_type": "execute_result"
    }
   ],
   "source": [
    "con.table('country')"
   ]
  },
  {
   "cell_type": "code",
   "execution_count": 24,
   "metadata": {},
   "outputs": [
    {
     "data": {
      "text/plain": [
       "┌──────────────┐\n",
       "│ count_star() │\n",
       "│    int64     │\n",
       "├──────────────┤\n",
       "│        37781 │\n",
       "└──────────────┘"
      ]
     },
     "execution_count": 24,
     "metadata": {},
     "output_type": "execute_result"
    }
   ],
   "source": [
    "con.sql('SELECT COUNT(*) FROM country')"
   ]
  },
  {
   "cell_type": "code",
   "execution_count": null,
   "metadata": {},
   "outputs": [],
   "source": []
  }
 ],
 "metadata": {
  "kernelspec": {
   "display_name": "gee",
   "language": "python",
   "name": "python3"
  },
  "language_info": {
   "codemirror_mode": {
    "name": "ipython",
    "version": 3
   },
   "file_extension": ".py",
   "mimetype": "text/x-python",
   "name": "python",
   "nbconvert_exporter": "python",
   "pygments_lexer": "ipython3",
   "version": "3.11.9"
  }
 },
 "nbformat": 4,
 "nbformat_minor": 2
}
