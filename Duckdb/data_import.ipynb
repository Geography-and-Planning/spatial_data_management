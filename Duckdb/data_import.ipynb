{
 "cells": [
  {
   "cell_type": "code",
   "execution_count": 1,
   "metadata": {},
   "outputs": [],
   "source": [
    "import duckdb\n",
    "import leafmap\n",
    "import pandas as pd"
   ]
  },
  {
   "cell_type": "code",
   "execution_count": 2,
   "metadata": {},
   "outputs": [],
   "source": [
    "con=duckdb.connect()\n",
    "con.install_extension('httpfs')\n",
    "con.load_extension('httpfs')"
   ]
  },
  {
   "cell_type": "code",
   "execution_count": 3,
   "metadata": {},
   "outputs": [],
   "source": [
    "con.install_extension('spatial')\n",
    "con.load_extension('spatial')"
   ]
  },
  {
   "cell_type": "code",
   "execution_count": 5,
   "metadata": {},
   "outputs": [
    {
     "data": {
      "text/plain": [
       "┌──────────────────┬─────────┬───────────┬───┬───────────────────┬───────────────────┬────────────────┐\n",
       "│  extension_name  │ loaded  │ installed │ … │ extension_version │   install_mode    │ installed_from │\n",
       "│     varchar      │ boolean │  boolean  │   │      varchar      │      varchar      │    varchar     │\n",
       "├──────────────────┼─────────┼───────────┼───┼───────────────────┼───────────────────┼────────────────┤\n",
       "│ arrow            │ false   │ false     │ … │                   │ NULL              │                │\n",
       "│ autocomplete     │ false   │ false     │ … │                   │ NULL              │                │\n",
       "│ aws              │ false   │ false     │ … │                   │ NULL              │                │\n",
       "│ azure            │ false   │ false     │ … │                   │ NULL              │                │\n",
       "│ delta            │ false   │ false     │ … │                   │ NULL              │                │\n",
       "│ excel            │ false   │ false     │ … │                   │ NULL              │                │\n",
       "│ fts              │ false   │ true      │ … │                   │ STATICALLY_LINKED │                │\n",
       "│ httpfs           │ true    │ true      │ … │ 1f98600c2c        │ REPOSITORY        │ core           │\n",
       "│ iceberg          │ false   │ false     │ … │                   │ NULL              │                │\n",
       "│ icu              │ true    │ true      │ … │                   │ STATICALLY_LINKED │                │\n",
       "│ inet             │ false   │ false     │ … │                   │ NULL              │                │\n",
       "│ jemalloc         │ false   │ false     │ … │                   │ NULL              │                │\n",
       "│ json             │ true    │ true      │ … │                   │ STATICALLY_LINKED │                │\n",
       "│ motherduck       │ false   │ false     │ … │                   │ NULL              │                │\n",
       "│ mysql_scanner    │ false   │ false     │ … │                   │ NULL              │                │\n",
       "│ parquet          │ true    │ true      │ … │                   │ STATICALLY_LINKED │                │\n",
       "│ postgres_scanner │ false   │ false     │ … │                   │ NULL              │                │\n",
       "│ spatial          │ true    │ true      │ … │ 6826755           │ REPOSITORY        │ core           │\n",
       "│ sqlite_scanner   │ false   │ false     │ … │                   │ NULL              │                │\n",
       "│ substrait        │ false   │ false     │ … │                   │ NULL              │                │\n",
       "│ tpcds            │ false   │ false     │ … │                   │ NULL              │                │\n",
       "│ tpch             │ true    │ true      │ … │                   │ STATICALLY_LINKED │                │\n",
       "│ vss              │ false   │ false     │ … │                   │ NULL              │                │\n",
       "├──────────────────┴─────────┴───────────┴───┴───────────────────┴───────────────────┴────────────────┤\n",
       "│ 23 rows                                                                         9 columns (6 shown) │\n",
       "└─────────────────────────────────────────────────────────────────────────────────────────────────────┘"
      ]
     },
     "execution_count": 5,
     "metadata": {},
     "output_type": "execute_result"
    }
   ],
   "source": [
    "con.sql('SELECT * FROM duckdb_extensions()')"
   ]
  },
  {
   "cell_type": "code",
   "execution_count": 6,
   "metadata": {},
   "outputs": [
    {
     "name": "stdout",
     "output_type": "stream",
     "text": [
      "Downloading https://open.gishub.org/data/duckdb/cities.zip ...\n",
      "Unzipping cities.zip ...\n",
      "Data downloaded to: c:\\Users\\zyang\\spatial_data_management\\Duckdb\\cities\n"
     ]
    }
   ],
   "source": [
    "url= 'https://open.gishub.org/data/duckdb/cities.zip'\n",
    "leafmap.download_from_url(url, unzip=True)"
   ]
  },
  {
   "cell_type": "code",
   "execution_count": 7,
   "metadata": {},
   "outputs": [
    {
     "data": {
      "text/plain": [
       "┌───────┬──────────────────┬─────────┬───────────┬───────────┬────────────┐\n",
       "│  id   │       name       │ country │ latitude  │ longitude │ population │\n",
       "│ int64 │     varchar      │ varchar │  double   │  double   │   int64    │\n",
       "├───────┼──────────────────┼─────────┼───────────┼───────────┼────────────┤\n",
       "│     1 │ Bombo            │ UGA     │    0.5833 │   32.5333 │      75000 │\n",
       "│     2 │ Fort Portal      │ UGA     │     0.671 │    30.275 │      42670 │\n",
       "│     3 │ Potenza          │ ITA     │    40.642 │    15.799 │      69060 │\n",
       "│     4 │ Campobasso       │ ITA     │    41.563 │    14.656 │      50762 │\n",
       "│     5 │ Aosta            │ ITA     │    45.737 │     7.315 │      34062 │\n",
       "│     6 │ Mariehamn        │ ALD     │    60.097 │    19.949 │      10682 │\n",
       "│     7 │ Ramallah         │ PSE     │  31.90294 │  35.20621 │      24599 │\n",
       "│     8 │ Vatican City     │ VAT     │  41.90001 │  12.44781 │        832 │\n",
       "│     9 │ Poitier          │ FRA     │  46.58329 │   0.33328 │      85960 │\n",
       "│    10 │ Clermont-Ferrand │ FRA     │  45.77998 │   3.08001 │     233050 │\n",
       "│     · │   ·              │  ·      │      ·    │      ·    │        ·   │\n",
       "│     · │   ·              │  ·      │      ·    │      ·    │        ·   │\n",
       "│     · │   ·              │  ·      │      ·    │      ·    │        ·   │\n",
       "│  1240 │ Tokyo            │ JPN     │  35.68502 │ 139.75141 │   35676000 │\n",
       "│  1241 │ Mumbai           │ IND     │  19.01699 │  72.85699 │   18978000 │\n",
       "│  1242 │ Paris            │ FRA     │  48.86669 │   2.33334 │    9904000 │\n",
       "│  1243 │ Santiago         │ CHL     │ -33.45001 │ -70.66704 │    5720000 │\n",
       "│  1244 │ Kolkata          │ IND     │  22.49497 │  88.32468 │   14787000 │\n",
       "│  1245 │ Rio de Janeiro   │ BRA     │ -22.92502 │ -43.22502 │   11748000 │\n",
       "│  1246 │ Sao Paulo        │ BRA     │ -23.55868 │ -46.62502 │   18845000 │\n",
       "│  1247 │ Sydney           │ AUS     │ -33.92001 │ 151.18518 │    4630000 │\n",
       "│  1248 │ Singapore        │ SGP     │   1.29303 │ 103.85582 │    5183700 │\n",
       "│  1249 │ Hong Kong        │ CHN     │  22.30498 │ 114.18501 │    7206000 │\n",
       "├───────┴──────────────────┴─────────┴───────────┴───────────┴────────────┤\n",
       "│ 1249 rows (20 shown)                                          6 columns │\n",
       "└─────────────────────────────────────────────────────────────────────────┘"
      ]
     },
     "execution_count": 7,
     "metadata": {},
     "output_type": "execute_result"
    }
   ],
   "source": [
    "con.read_csv('cities.csv') "
   ]
  },
  {
   "cell_type": "code",
   "execution_count": 8,
   "metadata": {},
   "outputs": [
    {
     "data": {
      "text/plain": [
       "┌───────┬──────────────────┬─────────┬───────────┬───────────┬────────────┐\n",
       "│  id   │       name       │ country │ latitude  │ longitude │ population │\n",
       "│ int64 │     varchar      │ varchar │  double   │  double   │   int64    │\n",
       "├───────┼──────────────────┼─────────┼───────────┼───────────┼────────────┤\n",
       "│     1 │ Bombo            │ UGA     │    0.5833 │   32.5333 │      75000 │\n",
       "│     2 │ Fort Portal      │ UGA     │     0.671 │    30.275 │      42670 │\n",
       "│     3 │ Potenza          │ ITA     │    40.642 │    15.799 │      69060 │\n",
       "│     4 │ Campobasso       │ ITA     │    41.563 │    14.656 │      50762 │\n",
       "│     5 │ Aosta            │ ITA     │    45.737 │     7.315 │      34062 │\n",
       "│     6 │ Mariehamn        │ ALD     │    60.097 │    19.949 │      10682 │\n",
       "│     7 │ Ramallah         │ PSE     │  31.90294 │  35.20621 │      24599 │\n",
       "│     8 │ Vatican City     │ VAT     │  41.90001 │  12.44781 │        832 │\n",
       "│     9 │ Poitier          │ FRA     │  46.58329 │   0.33328 │      85960 │\n",
       "│    10 │ Clermont-Ferrand │ FRA     │  45.77998 │   3.08001 │     233050 │\n",
       "│     · │   ·              │  ·      │      ·    │      ·    │        ·   │\n",
       "│     · │   ·              │  ·      │      ·    │      ·    │        ·   │\n",
       "│     · │   ·              │  ·      │      ·    │      ·    │        ·   │\n",
       "│  1240 │ Tokyo            │ JPN     │  35.68502 │ 139.75141 │   35676000 │\n",
       "│  1241 │ Mumbai           │ IND     │  19.01699 │  72.85699 │   18978000 │\n",
       "│  1242 │ Paris            │ FRA     │  48.86669 │   2.33334 │    9904000 │\n",
       "│  1243 │ Santiago         │ CHL     │ -33.45001 │ -70.66704 │    5720000 │\n",
       "│  1244 │ Kolkata          │ IND     │  22.49497 │  88.32468 │   14787000 │\n",
       "│  1245 │ Rio de Janeiro   │ BRA     │ -22.92502 │ -43.22502 │   11748000 │\n",
       "│  1246 │ Sao Paulo        │ BRA     │ -23.55868 │ -46.62502 │   18845000 │\n",
       "│  1247 │ Sydney           │ AUS     │ -33.92001 │ 151.18518 │    4630000 │\n",
       "│  1248 │ Singapore        │ SGP     │   1.29303 │ 103.85582 │    5183700 │\n",
       "│  1249 │ Hong Kong        │ CHN     │  22.30498 │ 114.18501 │    7206000 │\n",
       "├───────┴──────────────────┴─────────┴───────────┴───────────┴────────────┤\n",
       "│ 1249 rows (20 shown)                                          6 columns │\n",
       "└─────────────────────────────────────────────────────────────────────────┘"
      ]
     },
     "execution_count": 8,
     "metadata": {},
     "output_type": "execute_result"
    }
   ],
   "source": [
    "con.read_csv('cities.csv', parallel=True) "
   ]
  },
  {
   "cell_type": "code",
   "execution_count": null,
   "metadata": {},
   "outputs": [],
   "source": []
  }
 ],
 "metadata": {
  "kernelspec": {
   "display_name": "gee",
   "language": "python",
   "name": "python3"
  },
  "language_info": {
   "codemirror_mode": {
    "name": "ipython",
    "version": 3
   },
   "file_extension": ".py",
   "mimetype": "text/x-python",
   "name": "python",
   "nbconvert_exporter": "python",
   "pygments_lexer": "ipython3",
   "version": "3.11.9"
  }
 },
 "nbformat": 4,
 "nbformat_minor": 2
}
