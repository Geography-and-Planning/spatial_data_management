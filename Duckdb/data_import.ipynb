{
 "cells": [
  {
   "cell_type": "code",
   "execution_count": 1,
   "metadata": {},
   "outputs": [],
   "source": [
    "import duckdb\n",
    "import leafmap\n",
    "import pandas as pd"
   ]
  },
  {
   "cell_type": "code",
   "execution_count": 2,
   "metadata": {},
   "outputs": [],
   "source": [
    "con=duckdb.connect()\n",
    "con.install_extension('httpfs')\n",
    "con.load_extension('httpfs')"
   ]
  },
  {
   "cell_type": "code",
   "execution_count": 3,
   "metadata": {},
   "outputs": [],
   "source": [
    "con.install_extension('spatial')\n",
    "con.load_extension('spatial')"
   ]
  },
  {
   "cell_type": "code",
   "execution_count": 5,
   "metadata": {},
   "outputs": [
    {
     "data": {
      "text/plain": [
       "┌──────────────────┬─────────┬───────────┬───┬───────────────────┬───────────────────┬────────────────┐\n",
       "│  extension_name  │ loaded  │ installed │ … │ extension_version │   install_mode    │ installed_from │\n",
       "│     varchar      │ boolean │  boolean  │   │      varchar      │      varchar      │    varchar     │\n",
       "├──────────────────┼─────────┼───────────┼───┼───────────────────┼───────────────────┼────────────────┤\n",
       "│ arrow            │ false   │ false     │ … │                   │ NULL              │                │\n",
       "│ autocomplete     │ false   │ false     │ … │                   │ NULL              │                │\n",
       "│ aws              │ false   │ false     │ … │                   │ NULL              │                │\n",
       "│ azure            │ false   │ false     │ … │                   │ NULL              │                │\n",
       "│ delta            │ false   │ false     │ … │                   │ NULL              │                │\n",
       "│ excel            │ false   │ false     │ … │                   │ NULL              │                │\n",
       "│ fts              │ false   │ true      │ … │                   │ STATICALLY_LINKED │                │\n",
       "│ httpfs           │ true    │ true      │ … │ 1f98600c2c        │ REPOSITORY        │ core           │\n",
       "│ iceberg          │ false   │ false     │ … │                   │ NULL              │                │\n",
       "│ icu              │ true    │ true      │ … │                   │ STATICALLY_LINKED │                │\n",
       "│ inet             │ false   │ false     │ … │                   │ NULL              │                │\n",
       "│ jemalloc         │ false   │ false     │ … │                   │ NULL              │                │\n",
       "│ json             │ true    │ true      │ … │                   │ STATICALLY_LINKED │                │\n",
       "│ motherduck       │ false   │ false     │ … │                   │ NULL              │                │\n",
       "│ mysql_scanner    │ false   │ false     │ … │                   │ NULL              │                │\n",
       "│ parquet          │ true    │ true      │ … │                   │ STATICALLY_LINKED │                │\n",
       "│ postgres_scanner │ false   │ false     │ … │                   │ NULL              │                │\n",
       "│ spatial          │ true    │ true      │ … │ 6826755           │ REPOSITORY        │ core           │\n",
       "│ sqlite_scanner   │ false   │ false     │ … │                   │ NULL              │                │\n",
       "│ substrait        │ false   │ false     │ … │                   │ NULL              │                │\n",
       "│ tpcds            │ false   │ false     │ … │                   │ NULL              │                │\n",
       "│ tpch             │ true    │ true      │ … │                   │ STATICALLY_LINKED │                │\n",
       "│ vss              │ false   │ false     │ … │                   │ NULL              │                │\n",
       "├──────────────────┴─────────┴───────────┴───┴───────────────────┴───────────────────┴────────────────┤\n",
       "│ 23 rows                                                                         9 columns (6 shown) │\n",
       "└─────────────────────────────────────────────────────────────────────────────────────────────────────┘"
      ]
     },
     "execution_count": 5,
     "metadata": {},
     "output_type": "execute_result"
    }
   ],
   "source": [
    "con.sql('SELECT * FROM duckdb_extensions()')"
   ]
  },
  {
   "cell_type": "code",
   "execution_count": 6,
   "metadata": {},
   "outputs": [
    {
     "name": "stdout",
     "output_type": "stream",
     "text": [
      "Downloading https://open.gishub.org/data/duckdb/cities.zip ...\n",
      "Unzipping cities.zip ...\n",
      "Data downloaded to: c:\\Users\\zyang\\spatial_data_management\\Duckdb\\cities\n"
     ]
    }
   ],
   "source": [
    "url= 'https://open.gishub.org/data/duckdb/cities.zip'\n",
    "leafmap.download_from_url(url, unzip=True)"
   ]
  },
  {
   "cell_type": "code",
   "execution_count": null,
   "metadata": {},
   "outputs": [],
   "source": []
  }
 ],
 "metadata": {
  "kernelspec": {
   "display_name": "gee",
   "language": "python",
   "name": "python3"
  },
  "language_info": {
   "codemirror_mode": {
    "name": "ipython",
    "version": 3
   },
   "file_extension": ".py",
   "mimetype": "text/x-python",
   "name": "python",
   "nbconvert_exporter": "python",
   "pygments_lexer": "ipython3",
   "version": "3.11.9"
  }
 },
 "nbformat": 4,
 "nbformat_minor": 2
}
