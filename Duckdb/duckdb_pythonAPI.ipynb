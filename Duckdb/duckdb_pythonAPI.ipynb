{
 "cells": [
  {
   "cell_type": "code",
   "execution_count": null,
   "metadata": {},
   "outputs": [],
   "source": [
    "import duckdb\n",
    "import pandas as pd"
   ]
  },
  {
   "cell_type": "code",
   "execution_count": null,
   "metadata": {},
   "outputs": [],
   "source": [
    "con = duckdb.connect()  # defaults is memory\n",
    "con.install_extension(\"httpfs\")\n",
    "con.load_extension(\"httpfs\")"
   ]
  },
  {
   "cell_type": "code",
   "execution_count": null,
   "metadata": {},
   "outputs": [],
   "source": [
    "# same way as sql statement\n",
    "con.sql(\"SELECT * FROM 'https://open.gishub.org/data/duckdb/cities.csv';\")"
   ]
  },
  {
   "cell_type": "code",
   "execution_count": null,
   "metadata": {},
   "outputs": [],
   "source": [
    "con.read_csv(\"https://open.gishub.org/data/duckdb/cities.csv\")"
   ]
  },
  {
   "cell_type": "code",
   "execution_count": null,
   "metadata": {},
   "outputs": [],
   "source": [
    "pandas_df = pd.DataFrame({\"a\": [1, 2, 3], \"b\": [4, 5, 6]})\n",
    "pandas_df"
   ]
  },
  {
   "cell_type": "code",
   "execution_count": null,
   "metadata": {},
   "outputs": [],
   "source": [
    "con.sql(\"SELECT * FROM pandas_df;\")"
   ]
  },
  {
   "cell_type": "code",
   "execution_count": null,
   "metadata": {},
   "outputs": [],
   "source": [
    "df = con.read_csv(\"https://open.gishub.org/data/duckdb/cities.csv\").df()\n",
    "df.head()"
   ]
  },
  {
   "cell_type": "code",
   "execution_count": null,
   "metadata": {},
   "outputs": [],
   "source": [
    "df2 = pd.read_csv(\"https://open.gishub.org/data/duckdb/cities.csv\")\n",
    "df2.head()"
   ]
  },
  {
   "cell_type": "code",
   "execution_count": null,
   "metadata": {},
   "outputs": [],
   "source": [
    "con.sql(\"SELECT 1\").fetchall()[0][0]  # python objects"
   ]
  },
  {
   "cell_type": "code",
   "execution_count": null,
   "metadata": {},
   "outputs": [],
   "source": [
    "con.sql(\"SELECT 1\").fetchnumpy()"
   ]
  },
  {
   "cell_type": "markdown",
   "metadata": {},
   "source": [
    "# Write output to a file"
   ]
  },
  {
   "cell_type": "code",
   "execution_count": null,
   "metadata": {},
   "outputs": [],
   "source": [
    "con.sql(\"SELECT 42\").write_parquet(\"out.parquet\")  # Write to a Parquet file\n",
    "con.sql(\"SELECT 42\").write_csv(\"out.csv\")  # Write to a CSV file\n",
    "con.sql(\"COPY (SELECT 42) TO 'out.parquet'\")  # Copy to a parquet file"
   ]
  },
  {
   "cell_type": "code",
   "execution_count": null,
   "metadata": {},
   "outputs": [],
   "source": [
    "# create a connection to a file called 'file.db'\n",
    "con = duckdb.connect(\"file.db\")\n",
    "# create a table and load data into it\n",
    "con.sql(\n",
    "    'CREATE TABLE IF NOT EXISTS cities AS FROM read_csv_auto(\"https://open.gishub.org/data/duckdb/cities.csv\")'\n",
    ")\n",
    "# query the table\n",
    "con.table(\"cities\").show()\n",
    "# Note: connections also closed implicitly when they go out of scope"
   ]
  },
  {
   "cell_type": "code",
   "execution_count": null,
   "metadata": {},
   "outputs": [],
   "source": [
    "con.sql(\n",
    "    'CREATE OR REPLACE TABLE cities AS FROM read_csv_auto(\"https://open.gishub.org/data/duckdb/cities.csv\")'\n",
    ")"
   ]
  },
  {
   "cell_type": "code",
   "execution_count": null,
   "metadata": {},
   "outputs": [],
   "source": [
    "con.close()"
   ]
  },
  {
   "cell_type": "code",
   "execution_count": null,
   "metadata": {},
   "outputs": [],
   "source": [
    "with duckdb.connect(\"file.db\") as con:\n",
    "    con.sql(\n",
    "        'CREATE TABLE IF NOT EXISTS cities AS FROM read_csv_auto(\"https://open.gishub.org/data/duckdb/cities.csv\")'\n",
    "    )\n",
    "    con.table(\"cities\").show()\n",
    "    # the context manager closes the connection automatically"
   ]
  },
  {
   "cell_type": "code",
   "execution_count": null,
   "metadata": {},
   "outputs": [],
   "source": []
  }
 ],
 "metadata": {
  "kernelspec": {
   "display_name": "gee",
   "language": "python",
   "name": "python3"
  },
  "language_info": {
   "codemirror_mode": {
    "name": "ipython",
    "version": 3
   },
   "file_extension": ".py",
   "mimetype": "text/x-python",
   "name": "python",
   "nbconvert_exporter": "python",
   "pygments_lexer": "ipython3",
   "version": "3.11.9"
  }
 },
 "nbformat": 4,
 "nbformat_minor": 2
}
