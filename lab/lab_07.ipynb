{
 "cells": [
  {
   "cell_type": "markdown",
   "id": "0",
   "metadata": {},
   "source": [
    "# Lab 7\n",
    "\n",
    "[![Open In Colab](https://colab.research.google.com/assets/colab-badge.svg)](https://colab.research.google.com/github/giswqs/geog-414/blob/master/book/labs/lab_07.ipynb)\n",
    "\n",
    "## Submission requirements\n",
    "\n",
    "1. Upload a screenshot of your map for each question.\n",
    "2. Provide a link to your notebook on Colab. See instructions [here](https://geog-414.gishub.org/book/labs/instructions.html)."
   ]
  },
  {
   "cell_type": "markdown",
   "id": "1",
   "metadata": {},
   "source": [
    "## Datasets\n",
    "\n",
    "The datasets being used in the lab are listed below:\n",
    "\n",
    "- [TIGER: US Census Counties](https://developers.google.com/earth-engine/datasets/catalog/TIGER_2018_Counties)\n",
    "- [Landsat-9](https://developers.google.com/earth-engine/datasets/catalog/LANDSAT_LC09_C02_T1_L2)\n",
    "- [Sentinel-2](https://developers.google.com/earth-engine/datasets/catalog/COPERNICUS_S2_SR)\n",
    "- [NAIP](https://developers.google.com/earth-engine/datasets/catalog/USDA_NAIP_DOQQ)"
   ]
  },
  {
   "cell_type": "code",
   "execution_count": null,
   "id": "2",
   "metadata": {},
   "outputs": [],
   "source": [
    "import ee\n",
    "import geemap\n",
    "\n",
    "ee.Initialize()"
   ]
  },
  {
   "cell_type": "markdown",
   "id": "3",
   "metadata": {
    "tags": []
   },
   "source": [
    "## Question 1\n",
    "\n",
    "Create a fishnet with a 4-degree interval based on the extent of `[-112.5439, 34.0891, -85.0342, 49.6858]`. Use the fishnet to download the Landsat 7 image tiles by the fishnet using the `geemap.download_ee_image_tiles()` function. Relevant Earth Engine assets:\n",
    "\n",
    "-   `ee.Image('LANDSAT/LE7_TOA_5YEAR/1999_2003')`\n",
    "\n",
    "![](https://i.imgur.com/L1IH3fq.png)"
   ]
  },
  {
   "cell_type": "code",
   "execution_count": null,
   "id": "4",
   "metadata": {},
   "outputs": [],
   "source": [
    "m = geemap.Map(center=[40, -100], zoom=4)\n",
    "image = ee.Image(\"LANDSAT/LE7_TOA_5YEAR/1999_2003\").select([\"B4\", \"B3\", \"B2\"])\n",
    "\n",
    "vis_params = {\"min\": 0, \"max\": 255, \"gamma\": [0.95, 1.1, 1]}\n",
    "m.addLayer(image, vis_params, \"Landsat\")\n",
    "m"
   ]
  },
  {
   "cell_type": "code",
   "execution_count": null,
   "id": "5",
   "metadata": {},
   "outputs": [],
   "source": [
    "region = ee.Geometry.BBox(-112.5439, 34.0891, -85.0342, 49.6858)\n",
    "fc = ee.FeatureCollection(region)\n",
    "fishnet = geemap.fishnet(fc.geometry(), rows=4, cols=7, delta=0.5)\n",
    "style = {\"color\": \"ffff00ff\", \"fillColor\": \"00000000\"}\n",
    "m.addLayer(fishnet.style(**style), {}, \"Fishnet\")"
   ]
  },
  {
   "cell_type": "code",
   "execution_count": null,
   "id": "6",
   "metadata": {},
   "outputs": [],
   "source": [
    "outdir = \"tiles\"\n",
    "geemap.download_ee_image_tiles(\n",
    "    image, fishnet, outdir, prefix=\"Landsat_\", crs=\"EPSG:4326\", scale=120\n",
    ")"
   ]
  },
  {
   "cell_type": "markdown",
   "id": "7",
   "metadata": {},
   "source": [
    "## Question 2\n",
    "\n",
    "Create annual cloud-free Landsat imagery for the years 2017-2023 for a US county of your choice. Download the images to your computer. \n",
    "\n",
    "![](https://i.imgur.com/MN2UXHx.png)"
   ]
  },
  {
   "cell_type": "code",
   "execution_count": null,
   "id": "8",
   "metadata": {},
   "outputs": [],
   "source": [
    "fc = ee.FeatureCollection(\"TIGER/2018/Counties\")\n",
    "subset = fc.filter(ee.Filter.eq(\"NAME\", \"Knox\"))\n",
    "knox = subset.filter(ee.Filter.eq(\"STATEFP\", \"47\"))"
   ]
  },
  {
   "cell_type": "code",
   "execution_count": null,
   "id": "9",
   "metadata": {},
   "outputs": [],
   "source": [
    "m = geemap.Map()\n",
    "style = {\"color\": \"ff0000ff\", \"width\": 2, \"lineType\": \"solid\", \"fillColor\": \"00000000\"}\n",
    "m.addLayer(knox.style(**style), {}, \"Knox County, TN\")\n",
    "m.centerObject(knox, 10)\n",
    "m"
   ]
  },
  {
   "cell_type": "code",
   "execution_count": null,
   "id": "10",
   "metadata": {},
   "outputs": [],
   "source": [
    "collection = ee.ImageCollection(\"LANDSAT/LC08/C02/T1\").filterDate(\n",
    "    \"2021-01-01\", \"2022-01-01\"\n",
    ")\n",
    "\n",
    "composite = ee.Algorithms.Landsat.simpleComposite(collection)\n",
    "\n",
    "vis_params = {\"bands\": [\"B5\", \"B4\", \"B3\"], \"max\": 128}\n",
    "\n",
    "subset = composite.clip(knox)\n",
    "m.addLayer(subset, vis_params, \"Landsat 8\")"
   ]
  },
  {
   "cell_type": "code",
   "execution_count": null,
   "id": "11",
   "metadata": {},
   "outputs": [],
   "source": [
    "text = \"Made by Zhanchao Yang\"\n",
    "m.add_text(text, position=\"bottomright\")"
   ]
  },
  {
   "cell_type": "code",
   "execution_count": null,
   "id": "12",
   "metadata": {},
   "outputs": [],
   "source": [
    "region = m.user_roi  # darw a rectangular of the county you selected\n",
    "geemap.ee_export_image(\n",
    "    composite, filename=\"landsat_composite.tif\", region=region, scale=240\n",
    ")"
   ]
  },
  {
   "cell_type": "markdown",
   "id": "13",
   "metadata": {},
   "source": [
    "## Question 3\n",
    "\n",
    "Create annual cloud-free Sentinel-2 imagery for the years 2017-2023 for a US county of your choice. Download the images to your computer. You can download a coarse resolution image to speed up the download process. Narrow down the date range (e.g., summer months) to reduce the number of images, which can avoid memory errors.\n",
    "\n",
    "![](https://i.imgur.com/r5RQlEJ.png)"
   ]
  },
  {
   "cell_type": "code",
   "execution_count": null,
   "id": "14",
   "metadata": {},
   "outputs": [],
   "source": [
    "Map = geemap.Map(center=[40, -100], zoom=4)\n",
    "collection = (\n",
    "    ee.ImageCollection(\"COPERNICUS/S2_SR_HARMONIZED\")\n",
    "    .filterDate(\"2021-01-01\", \"2021-01-20\")\n",
    "    .filter(ee.Filter.lt(\"CLOUDY_PIXEL_PERCENTAGE\", 10))\n",
    "    .filterBounds(knox)\n",
    "    .select([\"B4\", \"B3\", \"B2\"])\n",
    ")\n",
    "image = collection.first()\n",
    "vis_params = {\"bands\": [\"B4\", \"B3\", \"B2\"], \"min\": 0, \"max\": 2000}\n",
    "\n",
    "Map.addLayer(image, vis_params, \"Sentinel-2\")\n",
    "Map.centerObject(knox, zoom=10)\n",
    "Map"
   ]
  },
  {
   "cell_type": "code",
   "execution_count": null,
   "id": "15",
   "metadata": {},
   "outputs": [],
   "source": [
    "subset = image.clip(knox)\n",
    "Map.addLayer(subset, vis_params, \"Sentinel-2\")"
   ]
  },
  {
   "cell_type": "markdown",
   "id": "16",
   "metadata": {},
   "source": [
    "### Detailed example found in notebook"
   ]
  },
  {
   "cell_type": "markdown",
   "id": "17",
   "metadata": {},
   "source": [
    "## Question 4\n",
    "\n",
    "Create annual cloud-free NAIP imagery for the years 2010-2023 for a US county of your choice. Download the images to your computer. You can download a coarse resolution image to speed up the download process. \n",
    "\n",
    "![](https://i.imgur.com/h66FC8h.png)"
   ]
  },
  {
   "cell_type": "markdown",
   "id": "18",
   "metadata": {},
   "source": [
    "### Example can be found in notebook"
   ]
  },
  {
   "cell_type": "markdown",
   "id": "19",
   "metadata": {},
   "source": [
    "## Question 5\n",
    "\n",
    "Download a US county of your choice and save it as a shapefile or GeoJSON file. \n",
    "\n",
    "![](https://i.imgur.com/PuK2Vp3.png)"
   ]
  },
  {
   "cell_type": "code",
   "execution_count": null,
   "id": "20",
   "metadata": {},
   "outputs": [],
   "source": [
    "r = geemap.Map()\n",
    "r.addLayer(knox.style(**style), {}, \"Knox County, TN\")\n",
    "r.centerObject(knox, 10)\n",
    "r"
   ]
  },
  {
   "cell_type": "code",
   "execution_count": null,
   "id": "21",
   "metadata": {},
   "outputs": [],
   "source": [
    "geemap.ee_export_vector(knox, filename=\"knox.geojson\")"
   ]
  },
  {
   "cell_type": "code",
   "execution_count": null,
   "id": "22",
   "metadata": {},
   "outputs": [],
   "source": [
    "text = \"Made by Zhanchao Yang\"\n",
    "r.add_text(text, position=\"bottomright\")"
   ]
  }
 ],
 "metadata": {
  "kernelspec": {
   "display_name": "Python 3",
   "language": "python",
   "name": "python3"
  },
  "language_info": {
   "codemirror_mode": {
    "name": "ipython",
    "version": 3
   },
   "file_extension": ".py",
   "mimetype": "text/x-python",
   "name": "python",
   "nbconvert_exporter": "python",
   "pygments_lexer": "ipython3",
   "version": "3.12.3"
  }
 },
 "nbformat": 4,
 "nbformat_minor": 5
}
