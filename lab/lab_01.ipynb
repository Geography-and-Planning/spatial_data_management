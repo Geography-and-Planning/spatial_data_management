{
 "cells": [
  {
   "cell_type": "markdown",
   "id": "87902f3c",
   "metadata": {},
   "source": [
    "# Lab 1\n",
    "\n",
    "\n",
    "## Submission requirements\n",
    "\n",
    "1. Upload a screenshot of your map for each question.\n",
    "2. Provide a link to your notebook on Colab. See instructions [here](https://geog-414.gishub.org/book/labs/instructions.html).\n",
    "\n",
    "## Question 1\n",
    "\n",
    "To complete this question, follow the steps below:\n",
    "\n",
    "1. Install [leafmap](https://leafmap.org) and create a Jupyter Notebook.\n",
    "2. Copy and paste the code cell provided below into your notebook.\n",
    "3. Replace the text `Made by Your Name` with your actual name.\n",
    "4. If desired, update the logo with your own image.\n",
    "5. Run the code cell to generate an interactive map.\n",
    "6. Ensure that your name is visible on the map.\n",
    "7. Take a screenshot of your map and save it as an image.\n",
    "8. Submit your screenshot and the link to your Colab notebook.\n"
   ]
  },
  {
   "cell_type": "code",
   "execution_count": 1,
   "id": "274e6e44",
   "metadata": {},
   "outputs": [
    {
     "data": {
      "application/vnd.jupyter.widget-view+json": {
       "model_id": "b8ede969348148139f0c5c94fee8acd4",
       "version_major": 2,
       "version_minor": 0
      },
      "text/plain": [
       "Map(center=[20, 0], controls=(ZoomControl(options=['position', 'zoom_in_text', 'zoom_in_title', 'zoom_out_text…"
      ]
     },
     "metadata": {},
     "output_type": "display_data"
    }
   ],
   "source": [
    "import leafmap\n",
    "\n",
    "# Creat an interactive map\n",
    "m = leafmap.Map(center=[20, 0], zoom=2, height='600px')\n",
    "# Add basemap\n",
    "m.add_basemap(\"CartoDB.DarkMatter\")\n",
    "# Add text to the map\n",
    "text = \"Made by Zhanchao Yang\"\n",
    "m.add_text(text, fontsize=20, position='bottomright')\n",
    "# Add a logo to the map\n",
    "logo = 'leafmap.png'\n",
    "m.add_image(logo, position='bottomright')\n",
    "# Add GeoJSON data to the map\n",
    "cables = 'https://open.gishub.org/data/vector/cables.geojson'\n",
    "callback = lambda feat: {\"color\": feat[\"properties\"][\"color\"], \"weight\": 1}\n",
    "m.add_geojson(cables, layer_name=\"Cable lines\", style_callback=callback)\n",
    "# Display the map\n",
    "m"
   ]
  },
  {
   "cell_type": "code",
   "execution_count": null,
   "id": "1277f755-47be-4fa2-b103-79ab2e70b352",
   "metadata": {},
   "outputs": [],
   "source": []
  }
 ],
 "metadata": {
  "kernelspec": {
   "display_name": "Python 3 (ipykernel)",
   "language": "python",
   "name": "python3"
  },
  "language_info": {
   "codemirror_mode": {
    "name": "ipython",
    "version": 3
   },
   "file_extension": ".py",
   "mimetype": "text/x-python",
   "name": "python",
   "nbconvert_exporter": "python",
   "pygments_lexer": "ipython3",
   "version": "3.9.16"
  }
 },
 "nbformat": 4,
 "nbformat_minor": 5
}
