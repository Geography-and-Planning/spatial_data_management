{
 "cells": [
  {
   "cell_type": "markdown",
   "metadata": {},
   "source": [
    "# Lab 10\n",
    "\n",
    "**Submission requirements**\n",
    "\n",
    "1. **HTML Version:** Submit an HTML version of your notebook. Ensure all code outputs are visible. (Export via VS Code: Notebook > Export > HTML).\n",
    "2. **Colab Link:** Provide a link to your notebook hosted on Google Colab for interactive review.\n",
    "\n",
    "## Setup\n",
    "\n",
    "Uncomment and run the following cell to install the required packages."
   ]
  },
  {
   "cell_type": "code",
   "execution_count": null,
   "metadata": {},
   "outputs": [],
   "source": [
    "# %pip install duckdb leafmap lonboard"
   ]
  },
  {
   "cell_type": "code",
   "execution_count": 1,
   "metadata": {},
   "outputs": [],
   "source": [
    "import duckdb\n",
    "import leafmap"
   ]
  },
  {
   "cell_type": "markdown",
   "metadata": {},
   "source": [
    "## Question 1\n",
    "\n",
    "Download the [nyc_data.zip](https://github.com/opengeos/data/raw/main/duckdb/nyc_data.zip) dataset using leafmap. The zip file contains the following datasets. Create a new DuckDB database and import the datasets into the database. Each dataset should be imported into a separate table. \n",
    "\n",
    "- nyc_census_blocks\n",
    "- nyc_homicides\n",
    "- nyc_neighborhoods\n",
    "- nyc_streets\n",
    "- nyc_subway_stations"
   ]
  },
  {
   "cell_type": "code",
   "execution_count": null,
   "metadata": {},
   "outputs": [],
   "source": [
    "leafmap.download_from_url('https://github.com/opengeos/data/raw/main/duckdb/nyc_data.zip')"
   ]
  },
  {
   "cell_type": "code",
   "execution_count": 2,
   "id": "8e610990",
   "metadata": {},
   "outputs": [],
   "source": [
    "con= duckdb.connect()\n",
    "con.install_extension('spatial')\n",
    "con.load_extension('spatial')"
   ]
  },
  {
   "cell_type": "code",
   "execution_count": null,
   "id": "0ca94a6e",
   "metadata": {},
   "outputs": [],
   "source": [
    "con.sql(\n",
    "    \"\"\"\n",
    "        CREATE TABLE IF NOT EXISTS nyc_census_blocks AS \n",
    "        SELECT * FROM ST_Read('nyc_census_blocks.shp')\n",
    "        \"\"\"\n",
    ")"
   ]
  },
  {
   "cell_type": "code",
   "execution_count": 3,
   "id": "b8388e14",
   "metadata": {},
   "outputs": [],
   "source": [
    "con.sql(\n",
    "    \"\"\"\n",
    "        CREATE TABLE IF NOT EXISTS nyc_neighborhoods AS \n",
    "        SELECT * FROM ST_Read('nyc_neighborhoods.shp')\n",
    "        \"\"\"\n",
    ")"
   ]
  },
  {
   "cell_type": "code",
   "execution_count": 4,
   "id": "b60bcb0d",
   "metadata": {},
   "outputs": [],
   "source": [
    "con.sql(\n",
    "    \"\"\"\n",
    "        CREATE TABLE IF NOT EXISTS nyc_streets AS \n",
    "        SELECT * FROM ST_Read('nyc_streets.shp')\n",
    "        \"\"\"\n",
    ")"
   ]
  },
  {
   "cell_type": "code",
   "execution_count": 5,
   "id": "0995ee53",
   "metadata": {},
   "outputs": [],
   "source": [
    "con.sql(\n",
    "    \"\"\"\n",
    "        CREATE TABLE IF NOT EXISTS nyc_subway_stations AS \n",
    "        SELECT * FROM ST_Read('nyc_subway_stations.shp')\n",
    "        \"\"\"\n",
    ")"
   ]
  },
  {
   "cell_type": "code",
   "execution_count": null,
   "id": "e265a9d4",
   "metadata": {},
   "outputs": [],
   "source": [
    "con.sql(\n",
    "    \"\"\"\n",
    "        CREATE TABLE IF NOT EXISTS nyc_homicides AS \n",
    "        SELECT * FROM ST_Read('nyc_homicides.shp')\n",
    "        \"\"\"\n",
    ")"
   ]
  },
  {
   "cell_type": "markdown",
   "metadata": {},
   "source": [
    "## Question 2"
   ]
  },
  {
   "cell_type": "markdown",
   "metadata": {},
   "source": [
    "Visualize the `nyc_subway_stations` and `nyc_streets` datasets on the same map using leafmap and lonboard."
   ]
  },
  {
   "cell_type": "code",
   "execution_count": 6,
   "metadata": {},
   "outputs": [
    {
     "data": {
      "text/html": [
       "<div>\n",
       "<style scoped>\n",
       "    .dataframe tbody tr th:only-of-type {\n",
       "        vertical-align: middle;\n",
       "    }\n",
       "\n",
       "    .dataframe tbody tr th {\n",
       "        vertical-align: top;\n",
       "    }\n",
       "\n",
       "    .dataframe thead th {\n",
       "        text-align: right;\n",
       "    }\n",
       "</style>\n",
       "<table border=\"1\" class=\"dataframe\">\n",
       "  <thead>\n",
       "    <tr style=\"text-align: right;\">\n",
       "      <th></th>\n",
       "      <th>OBJECTID</th>\n",
       "      <th>ID</th>\n",
       "      <th>NAME</th>\n",
       "      <th>ALT_NAME</th>\n",
       "      <th>CROSS_ST</th>\n",
       "      <th>LONG_NAME</th>\n",
       "      <th>LABEL</th>\n",
       "      <th>BOROUGH</th>\n",
       "      <th>NGHBHD</th>\n",
       "      <th>ROUTES</th>\n",
       "      <th>TRANSFERS</th>\n",
       "      <th>COLOR</th>\n",
       "      <th>EXPRESS</th>\n",
       "      <th>CLOSED</th>\n",
       "      <th>geometry</th>\n",
       "    </tr>\n",
       "  </thead>\n",
       "  <tbody>\n",
       "    <tr>\n",
       "      <th>0</th>\n",
       "      <td>1.0</td>\n",
       "      <td>376.0</td>\n",
       "      <td>Cortlandt St</td>\n",
       "      <td>None</td>\n",
       "      <td>Church St</td>\n",
       "      <td>Cortlandt St (R,W) Manhattan</td>\n",
       "      <td>Cortlandt St (R,W)</td>\n",
       "      <td>Manhattan</td>\n",
       "      <td>None</td>\n",
       "      <td>R,W</td>\n",
       "      <td>R,W</td>\n",
       "      <td>YELLOW</td>\n",
       "      <td>None</td>\n",
       "      <td>None</td>\n",
       "      <td>POINT (583521.854408956 4507077.862599085)</td>\n",
       "    </tr>\n",
       "    <tr>\n",
       "      <th>1</th>\n",
       "      <td>2.0</td>\n",
       "      <td>2.0</td>\n",
       "      <td>Rector St</td>\n",
       "      <td>None</td>\n",
       "      <td>None</td>\n",
       "      <td>Rector St (1) Manhattan</td>\n",
       "      <td>Rector St (1)</td>\n",
       "      <td>Manhattan</td>\n",
       "      <td>None</td>\n",
       "      <td>1</td>\n",
       "      <td>1</td>\n",
       "      <td>RED</td>\n",
       "      <td>None</td>\n",
       "      <td>None</td>\n",
       "      <td>POINT (583324.4866324601 4506805.373160211)</td>\n",
       "    </tr>\n",
       "    <tr>\n",
       "      <th>2</th>\n",
       "      <td>3.0</td>\n",
       "      <td>1.0</td>\n",
       "      <td>South Ferry</td>\n",
       "      <td>None</td>\n",
       "      <td>None</td>\n",
       "      <td>South Ferry (1) Manhattan</td>\n",
       "      <td>South Ferry (1)</td>\n",
       "      <td>Manhattan</td>\n",
       "      <td>None</td>\n",
       "      <td>1</td>\n",
       "      <td>1</td>\n",
       "      <td>RED</td>\n",
       "      <td>None</td>\n",
       "      <td>None</td>\n",
       "      <td>POINT (583304.1823994748 4506069.654048115)</td>\n",
       "    </tr>\n",
       "    <tr>\n",
       "      <th>3</th>\n",
       "      <td>4.0</td>\n",
       "      <td>125.0</td>\n",
       "      <td>138th St</td>\n",
       "      <td>Grand Concourse</td>\n",
       "      <td>Grand Concourse</td>\n",
       "      <td>138th St / Grand Concourse (4,5) Bronx</td>\n",
       "      <td>138th St / Grand Concourse (4,5)</td>\n",
       "      <td>Bronx</td>\n",
       "      <td>None</td>\n",
       "      <td>4,5</td>\n",
       "      <td>4,5</td>\n",
       "      <td>GREEN</td>\n",
       "      <td>None</td>\n",
       "      <td>None</td>\n",
       "      <td>POINT (590250.10594797 4518558.019924332)</td>\n",
       "    </tr>\n",
       "    <tr>\n",
       "      <th>4</th>\n",
       "      <td>5.0</td>\n",
       "      <td>126.0</td>\n",
       "      <td>149th St</td>\n",
       "      <td>Grand Concourse</td>\n",
       "      <td>Grand Concourse</td>\n",
       "      <td>149th St / Grand Concourse (4) Bronx</td>\n",
       "      <td>149th St / Grand Concourse (4)</td>\n",
       "      <td>Bronx</td>\n",
       "      <td>None</td>\n",
       "      <td>4</td>\n",
       "      <td>2,4,5</td>\n",
       "      <td>GREEN</td>\n",
       "      <td>express</td>\n",
       "      <td>None</td>\n",
       "      <td>POINT (590454.7399891173 4519145.719617855)</td>\n",
       "    </tr>\n",
       "  </tbody>\n",
       "</table>\n",
       "</div>"
      ],
      "text/plain": [
       "   OBJECTID     ID          NAME         ALT_NAME         CROSS_ST  \\\n",
       "0       1.0  376.0  Cortlandt St             None        Church St   \n",
       "1       2.0    2.0     Rector St             None             None   \n",
       "2       3.0    1.0   South Ferry             None             None   \n",
       "3       4.0  125.0      138th St  Grand Concourse  Grand Concourse   \n",
       "4       5.0  126.0      149th St  Grand Concourse  Grand Concourse   \n",
       "\n",
       "                                LONG_NAME                             LABEL  \\\n",
       "0            Cortlandt St (R,W) Manhattan                Cortlandt St (R,W)   \n",
       "1                 Rector St (1) Manhattan                     Rector St (1)   \n",
       "2               South Ferry (1) Manhattan                   South Ferry (1)   \n",
       "3  138th St / Grand Concourse (4,5) Bronx  138th St / Grand Concourse (4,5)   \n",
       "4    149th St / Grand Concourse (4) Bronx    149th St / Grand Concourse (4)   \n",
       "\n",
       "     BOROUGH NGHBHD ROUTES TRANSFERS   COLOR  EXPRESS CLOSED  \\\n",
       "0  Manhattan   None    R,W       R,W  YELLOW     None   None   \n",
       "1  Manhattan   None      1         1     RED     None   None   \n",
       "2  Manhattan   None      1         1     RED     None   None   \n",
       "3      Bronx   None    4,5       4,5   GREEN     None   None   \n",
       "4      Bronx   None      4     2,4,5   GREEN  express   None   \n",
       "\n",
       "                                      geometry  \n",
       "0   POINT (583521.854408956 4507077.862599085)  \n",
       "1  POINT (583324.4866324601 4506805.373160211)  \n",
       "2  POINT (583304.1823994748 4506069.654048115)  \n",
       "3    POINT (590250.10594797 4518558.019924332)  \n",
       "4  POINT (590454.7399891173 4519145.719617855)  "
      ]
     },
     "execution_count": 6,
     "metadata": {},
     "output_type": "execute_result"
    }
   ],
   "source": [
    "subway_stations_df = con.sql(\"SELECT * EXCLUDE geom, ST_AsText(geom) as geometry FROM nyc_subway_stations\").df()\n",
    "subway_stations_df.head()\n"
   ]
  },
  {
   "cell_type": "code",
   "execution_count": 7,
   "id": "f651bc47",
   "metadata": {},
   "outputs": [
    {
     "data": {
      "text/html": [
       "<div>\n",
       "<style scoped>\n",
       "    .dataframe tbody tr th:only-of-type {\n",
       "        vertical-align: middle;\n",
       "    }\n",
       "\n",
       "    .dataframe tbody tr th {\n",
       "        vertical-align: top;\n",
       "    }\n",
       "\n",
       "    .dataframe thead th {\n",
       "        text-align: right;\n",
       "    }\n",
       "</style>\n",
       "<table border=\"1\" class=\"dataframe\">\n",
       "  <thead>\n",
       "    <tr style=\"text-align: right;\">\n",
       "      <th></th>\n",
       "      <th>OBJECTID</th>\n",
       "      <th>ID</th>\n",
       "      <th>NAME</th>\n",
       "      <th>ALT_NAME</th>\n",
       "      <th>CROSS_ST</th>\n",
       "      <th>LONG_NAME</th>\n",
       "      <th>LABEL</th>\n",
       "      <th>BOROUGH</th>\n",
       "      <th>NGHBHD</th>\n",
       "      <th>ROUTES</th>\n",
       "      <th>TRANSFERS</th>\n",
       "      <th>COLOR</th>\n",
       "      <th>EXPRESS</th>\n",
       "      <th>CLOSED</th>\n",
       "      <th>geometry</th>\n",
       "    </tr>\n",
       "  </thead>\n",
       "  <tbody>\n",
       "    <tr>\n",
       "      <th>0</th>\n",
       "      <td>1.0</td>\n",
       "      <td>376.0</td>\n",
       "      <td>Cortlandt St</td>\n",
       "      <td>None</td>\n",
       "      <td>Church St</td>\n",
       "      <td>Cortlandt St (R,W) Manhattan</td>\n",
       "      <td>Cortlandt St (R,W)</td>\n",
       "      <td>Manhattan</td>\n",
       "      <td>None</td>\n",
       "      <td>R,W</td>\n",
       "      <td>R,W</td>\n",
       "      <td>YELLOW</td>\n",
       "      <td>None</td>\n",
       "      <td>None</td>\n",
       "      <td>POINT (-74.01122 40.71038)</td>\n",
       "    </tr>\n",
       "    <tr>\n",
       "      <th>1</th>\n",
       "      <td>2.0</td>\n",
       "      <td>2.0</td>\n",
       "      <td>Rector St</td>\n",
       "      <td>None</td>\n",
       "      <td>None</td>\n",
       "      <td>Rector St (1) Manhattan</td>\n",
       "      <td>Rector St (1)</td>\n",
       "      <td>Manhattan</td>\n",
       "      <td>None</td>\n",
       "      <td>1</td>\n",
       "      <td>1</td>\n",
       "      <td>RED</td>\n",
       "      <td>None</td>\n",
       "      <td>None</td>\n",
       "      <td>POINT (-74.01359 40.70795)</td>\n",
       "    </tr>\n",
       "    <tr>\n",
       "      <th>2</th>\n",
       "      <td>3.0</td>\n",
       "      <td>1.0</td>\n",
       "      <td>South Ferry</td>\n",
       "      <td>None</td>\n",
       "      <td>None</td>\n",
       "      <td>South Ferry (1) Manhattan</td>\n",
       "      <td>South Ferry (1)</td>\n",
       "      <td>Manhattan</td>\n",
       "      <td>None</td>\n",
       "      <td>1</td>\n",
       "      <td>1</td>\n",
       "      <td>RED</td>\n",
       "      <td>None</td>\n",
       "      <td>None</td>\n",
       "      <td>POINT (-74.01393 40.70132)</td>\n",
       "    </tr>\n",
       "    <tr>\n",
       "      <th>3</th>\n",
       "      <td>4.0</td>\n",
       "      <td>125.0</td>\n",
       "      <td>138th St</td>\n",
       "      <td>Grand Concourse</td>\n",
       "      <td>Grand Concourse</td>\n",
       "      <td>138th St / Grand Concourse (4,5) Bronx</td>\n",
       "      <td>138th St / Grand Concourse (4,5)</td>\n",
       "      <td>Bronx</td>\n",
       "      <td>None</td>\n",
       "      <td>4,5</td>\n",
       "      <td>4,5</td>\n",
       "      <td>GREEN</td>\n",
       "      <td>None</td>\n",
       "      <td>None</td>\n",
       "      <td>POINT (-73.92992 40.81308)</td>\n",
       "    </tr>\n",
       "    <tr>\n",
       "      <th>4</th>\n",
       "      <td>5.0</td>\n",
       "      <td>126.0</td>\n",
       "      <td>149th St</td>\n",
       "      <td>Grand Concourse</td>\n",
       "      <td>Grand Concourse</td>\n",
       "      <td>149th St / Grand Concourse (4) Bronx</td>\n",
       "      <td>149th St / Grand Concourse (4)</td>\n",
       "      <td>Bronx</td>\n",
       "      <td>None</td>\n",
       "      <td>4</td>\n",
       "      <td>2,4,5</td>\n",
       "      <td>GREEN</td>\n",
       "      <td>express</td>\n",
       "      <td>None</td>\n",
       "      <td>POINT (-73.92741 40.81835)</td>\n",
       "    </tr>\n",
       "  </tbody>\n",
       "</table>\n",
       "</div>"
      ],
      "text/plain": [
       "   OBJECTID     ID          NAME         ALT_NAME         CROSS_ST  \\\n",
       "0       1.0  376.0  Cortlandt St             None        Church St   \n",
       "1       2.0    2.0     Rector St             None             None   \n",
       "2       3.0    1.0   South Ferry             None             None   \n",
       "3       4.0  125.0      138th St  Grand Concourse  Grand Concourse   \n",
       "4       5.0  126.0      149th St  Grand Concourse  Grand Concourse   \n",
       "\n",
       "                                LONG_NAME                             LABEL  \\\n",
       "0            Cortlandt St (R,W) Manhattan                Cortlandt St (R,W)   \n",
       "1                 Rector St (1) Manhattan                     Rector St (1)   \n",
       "2               South Ferry (1) Manhattan                   South Ferry (1)   \n",
       "3  138th St / Grand Concourse (4,5) Bronx  138th St / Grand Concourse (4,5)   \n",
       "4    149th St / Grand Concourse (4) Bronx    149th St / Grand Concourse (4)   \n",
       "\n",
       "     BOROUGH NGHBHD ROUTES TRANSFERS   COLOR  EXPRESS CLOSED  \\\n",
       "0  Manhattan   None    R,W       R,W  YELLOW     None   None   \n",
       "1  Manhattan   None      1         1     RED     None   None   \n",
       "2  Manhattan   None      1         1     RED     None   None   \n",
       "3      Bronx   None    4,5       4,5   GREEN     None   None   \n",
       "4      Bronx   None      4     2,4,5   GREEN  express   None   \n",
       "\n",
       "                     geometry  \n",
       "0  POINT (-74.01122 40.71038)  \n",
       "1  POINT (-74.01359 40.70795)  \n",
       "2  POINT (-74.01393 40.70132)  \n",
       "3  POINT (-73.92992 40.81308)  \n",
       "4  POINT (-73.92741 40.81835)  "
      ]
     },
     "execution_count": 7,
     "metadata": {},
     "output_type": "execute_result"
    }
   ],
   "source": [
    "subway_stations_gdf = leafmap.df_to_gdf(subway_stations_df, src_crs=\"EPSG:26918\", dst_crs=\"EPSG:4326\")\n",
    "subway_stations_gdf.head()"
   ]
  },
  {
   "cell_type": "code",
   "execution_count": 16,
   "id": "73363ed5",
   "metadata": {},
   "outputs": [
    {
     "data": {
      "application/vnd.jupyter.widget-view+json": {
       "model_id": "5258cf94438a4015bac0e19ae11b9504",
       "version_major": 2,
       "version_minor": 1
      },
      "text/plain": [
       "Map(layers=[ScatterplotLayer(get_fill_color=(0, 0, 255, 255), get_radius=50.0, table=pyarrow.Table\n",
       "OBJECTID: u…"
      ]
     },
     "execution_count": 16,
     "metadata": {},
     "output_type": "execute_result"
    }
   ],
   "source": [
    "leafmap.view_vector(subway_stations_gdf, get_radius=50, get_fill_color='blue')"
   ]
  },
  {
   "cell_type": "code",
   "execution_count": 12,
   "id": "e9ff5615",
   "metadata": {},
   "outputs": [
    {
     "data": {
      "text/html": [
       "<div>\n",
       "<style scoped>\n",
       "    .dataframe tbody tr th:only-of-type {\n",
       "        vertical-align: middle;\n",
       "    }\n",
       "\n",
       "    .dataframe tbody tr th {\n",
       "        vertical-align: top;\n",
       "    }\n",
       "\n",
       "    .dataframe thead th {\n",
       "        text-align: right;\n",
       "    }\n",
       "</style>\n",
       "<table border=\"1\" class=\"dataframe\">\n",
       "  <thead>\n",
       "    <tr style=\"text-align: right;\">\n",
       "      <th></th>\n",
       "      <th>ID</th>\n",
       "      <th>NAME</th>\n",
       "      <th>ONEWAY</th>\n",
       "      <th>TYPE</th>\n",
       "      <th>geometry</th>\n",
       "    </tr>\n",
       "  </thead>\n",
       "  <tbody>\n",
       "    <tr>\n",
       "      <th>0</th>\n",
       "      <td>1</td>\n",
       "      <td>Shore Pky S</td>\n",
       "      <td>None</td>\n",
       "      <td>residential</td>\n",
       "      <td>LINESTRING (586785.4767897038 4492901.00145547...</td>\n",
       "    </tr>\n",
       "    <tr>\n",
       "      <th>1</th>\n",
       "      <td>2</td>\n",
       "      <td>None</td>\n",
       "      <td>None</td>\n",
       "      <td>footway</td>\n",
       "      <td>LINESTRING (586645.0073625665 4504977.75036058...</td>\n",
       "    </tr>\n",
       "    <tr>\n",
       "      <th>2</th>\n",
       "      <td>3</td>\n",
       "      <td>Avenue O</td>\n",
       "      <td>None</td>\n",
       "      <td>residential</td>\n",
       "      <td>LINESTRING (586750.3019977848 4496109.72213903...</td>\n",
       "    </tr>\n",
       "    <tr>\n",
       "      <th>3</th>\n",
       "      <td>4</td>\n",
       "      <td>Walsh Ct</td>\n",
       "      <td>None</td>\n",
       "      <td>residential</td>\n",
       "      <td>LINESTRING (586728.695515043 4497971.05313857,...</td>\n",
       "    </tr>\n",
       "    <tr>\n",
       "      <th>4</th>\n",
       "      <td>5</td>\n",
       "      <td>None</td>\n",
       "      <td>None</td>\n",
       "      <td>motorway_link</td>\n",
       "      <td>LINESTRING (586587.0531467082 4510088.25040298...</td>\n",
       "    </tr>\n",
       "  </tbody>\n",
       "</table>\n",
       "</div>"
      ],
      "text/plain": [
       "   ID         NAME ONEWAY           TYPE  \\\n",
       "0   1  Shore Pky S   None    residential   \n",
       "1   2         None   None        footway   \n",
       "2   3     Avenue O   None    residential   \n",
       "3   4     Walsh Ct   None    residential   \n",
       "4   5         None   None  motorway_link   \n",
       "\n",
       "                                            geometry  \n",
       "0  LINESTRING (586785.4767897038 4492901.00145547...  \n",
       "1  LINESTRING (586645.0073625665 4504977.75036058...  \n",
       "2  LINESTRING (586750.3019977848 4496109.72213903...  \n",
       "3  LINESTRING (586728.695515043 4497971.05313857,...  \n",
       "4  LINESTRING (586587.0531467082 4510088.25040298...  "
      ]
     },
     "execution_count": 12,
     "metadata": {},
     "output_type": "execute_result"
    }
   ],
   "source": [
    "streets_df = con.sql(\"SELECT * EXCLUDE geom, ST_AsText(geom) as geometry FROM nyc_streets\").df()\n",
    "streets_df.head()"
   ]
  },
  {
   "cell_type": "code",
   "execution_count": 13,
   "id": "c8d55153",
   "metadata": {},
   "outputs": [
    {
     "data": {
      "text/html": [
       "<div>\n",
       "<style scoped>\n",
       "    .dataframe tbody tr th:only-of-type {\n",
       "        vertical-align: middle;\n",
       "    }\n",
       "\n",
       "    .dataframe tbody tr th {\n",
       "        vertical-align: top;\n",
       "    }\n",
       "\n",
       "    .dataframe thead th {\n",
       "        text-align: right;\n",
       "    }\n",
       "</style>\n",
       "<table border=\"1\" class=\"dataframe\">\n",
       "  <thead>\n",
       "    <tr style=\"text-align: right;\">\n",
       "      <th></th>\n",
       "      <th>ID</th>\n",
       "      <th>NAME</th>\n",
       "      <th>ONEWAY</th>\n",
       "      <th>TYPE</th>\n",
       "      <th>geometry</th>\n",
       "    </tr>\n",
       "  </thead>\n",
       "  <tbody>\n",
       "    <tr>\n",
       "      <th>0</th>\n",
       "      <td>1</td>\n",
       "      <td>Shore Pky S</td>\n",
       "      <td>None</td>\n",
       "      <td>residential</td>\n",
       "      <td>LINESTRING (-73.97454 40.58235, -73.97320 40.5...</td>\n",
       "    </tr>\n",
       "    <tr>\n",
       "      <th>1</th>\n",
       "      <td>2</td>\n",
       "      <td>None</td>\n",
       "      <td>None</td>\n",
       "      <td>footway</td>\n",
       "      <td>LINESTRING (-73.97454 40.69114, -73.97431 40.6...</td>\n",
       "    </tr>\n",
       "    <tr>\n",
       "      <th>2</th>\n",
       "      <td>3</td>\n",
       "      <td>Avenue O</td>\n",
       "      <td>None</td>\n",
       "      <td>residential</td>\n",
       "      <td>LINESTRING (-73.97452 40.61126, -73.97348 40.6...</td>\n",
       "    </tr>\n",
       "    <tr>\n",
       "      <th>3</th>\n",
       "      <td>4</td>\n",
       "      <td>Walsh Ct</td>\n",
       "      <td>None</td>\n",
       "      <td>residential</td>\n",
       "      <td>LINESTRING (-73.97451 40.62802, -73.97265 40.6...</td>\n",
       "    </tr>\n",
       "    <tr>\n",
       "      <th>4</th>\n",
       "      <td>5</td>\n",
       "      <td>None</td>\n",
       "      <td>None</td>\n",
       "      <td>motorway_link</td>\n",
       "      <td>LINESTRING (-73.97452 40.73718, -73.97386 40.7...</td>\n",
       "    </tr>\n",
       "  </tbody>\n",
       "</table>\n",
       "</div>"
      ],
      "text/plain": [
       "   ID         NAME ONEWAY           TYPE  \\\n",
       "0   1  Shore Pky S   None    residential   \n",
       "1   2         None   None        footway   \n",
       "2   3     Avenue O   None    residential   \n",
       "3   4     Walsh Ct   None    residential   \n",
       "4   5         None   None  motorway_link   \n",
       "\n",
       "                                            geometry  \n",
       "0  LINESTRING (-73.97454 40.58235, -73.97320 40.5...  \n",
       "1  LINESTRING (-73.97454 40.69114, -73.97431 40.6...  \n",
       "2  LINESTRING (-73.97452 40.61126, -73.97348 40.6...  \n",
       "3  LINESTRING (-73.97451 40.62802, -73.97265 40.6...  \n",
       "4  LINESTRING (-73.97452 40.73718, -73.97386 40.7...  "
      ]
     },
     "execution_count": 13,
     "metadata": {},
     "output_type": "execute_result"
    }
   ],
   "source": [
    "streets_gdf = leafmap.df_to_gdf(streets_df, src_crs=\"EPSG:26918\", dst_crs=\"EPSG:4326\")\n",
    "streets_gdf.head()"
   ]
  },
  {
   "cell_type": "code",
   "execution_count": 14,
   "id": "ba438ced",
   "metadata": {},
   "outputs": [
    {
     "data": {
      "application/vnd.jupyter.widget-view+json": {
       "model_id": "9f462cc4ab89460b965698721be878e5",
       "version_major": 2,
       "version_minor": 1
      },
      "text/plain": [
       "Map(layers=[PathLayer(get_color=(255, 0, 0, 255), get_width=5.0, table=pyarrow.Table\n",
       "ID: uint16\n",
       "NAME: string\n",
       "O…"
      ]
     },
     "execution_count": 14,
     "metadata": {},
     "output_type": "execute_result"
    }
   ],
   "source": [
    "leafmap.view_vector(streets_gdf, get_color='red')"
   ]
  },
  {
   "cell_type": "code",
   "execution_count": 19,
   "id": "006a32a9",
   "metadata": {},
   "outputs": [],
   "source": [
    "import leafmap.deckgl as leafmap"
   ]
  },
  {
   "cell_type": "code",
   "execution_count": 20,
   "id": "183338bb",
   "metadata": {},
   "outputs": [
    {
     "data": {
      "application/vnd.jupyter.widget-view+json": {
       "model_id": "5f091a65dabe45459434ae84bb9d3098",
       "version_major": 2,
       "version_minor": 1
      },
      "text/plain": [
       "Map(layers=[ScatterplotLayer(get_fill_color=(0, 0, 255, 255), get_radius=50.0, table=pyarrow.Table\n",
       "OBJECTID: u…"
      ]
     },
     "execution_count": 20,
     "metadata": {},
     "output_type": "execute_result"
    }
   ],
   "source": [
    "m = leafmap.Map()\n",
    "m.add_vector(subway_stations_gdf, get_radius=50, get_fill_color='blue')\n",
    "m.add_vector(streets_gdf, get_color='red')\n",
    "m"
   ]
  },
  {
   "cell_type": "markdown",
   "metadata": {},
   "source": [
    "## Question 3\n",
    "\n",
    "Find out what neighborhood the `BLUE` subway stations are in."
   ]
  },
  {
   "cell_type": "code",
   "execution_count": null,
   "metadata": {},
   "outputs": [],
   "source": [
    "# Add your code here"
   ]
  },
  {
   "cell_type": "markdown",
   "metadata": {},
   "source": [
    "## Question 4\n",
    "\n",
    "Find out what streets are within 200 meters of the `BLUE` subway stations."
   ]
  },
  {
   "cell_type": "code",
   "execution_count": null,
   "metadata": {},
   "outputs": [],
   "source": [
    "# Add your code here"
   ]
  },
  {
   "cell_type": "markdown",
   "metadata": {},
   "source": [
    "## Question 5\n",
    "\n",
    "Visualize the `BLUE` subway stations and the streets within 200 meters of the `BLUE` subway stations on the same map using leafmap and lonboard."
   ]
  },
  {
   "cell_type": "code",
   "execution_count": null,
   "metadata": {},
   "outputs": [],
   "source": [
    "# Add your code here"
   ]
  }
 ],
 "metadata": {
  "kernelspec": {
   "display_name": "Python 3",
   "language": "python",
   "name": "python3"
  },
  "language_info": {
   "codemirror_mode": {
    "name": "ipython",
    "version": 3
   },
   "file_extension": ".py",
   "mimetype": "text/x-python",
   "name": "python",
   "nbconvert_exporter": "python",
   "pygments_lexer": "ipython3",
   "version": "3.12.4"
  }
 },
 "nbformat": 4,
 "nbformat_minor": 5
}
