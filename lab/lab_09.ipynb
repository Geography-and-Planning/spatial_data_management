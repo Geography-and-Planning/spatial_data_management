{
 "cells": [
  {
   "cell_type": "markdown",
   "metadata": {},
   "source": [
    "# Lab 9\n",
    "\n",
    "In this lab, you will explore spatial data analysis using Python and DuckDB. You'll work with real-world datasets, ranging from global country statistics to specific building datasets. This will give you a practical understanding of handling, analyzing, and visualizing spatial data.\n",
    "\n",
    "**Submission requirements**\n",
    "\n",
    "1. **HTML Version:** Submit an HTML version of your notebook. Ensure all code outputs are visible. (Export via VS Code: Notebook > Export > HTML).\n",
    "2. **Colab Link:** Provide a link to your notebook hosted on Google Colab for interactive review.\n",
    "\n",
    "## Setup\n",
    "\n",
    "Ensure you have DuckDB and Leafmap installed. Run the following command if needed:"
   ]
  },
  {
   "cell_type": "code",
   "execution_count": 1,
   "metadata": {},
   "outputs": [],
   "source": [
    "# %pip install duckdb leafmap"
   ]
  },
  {
   "cell_type": "code",
   "execution_count": 2,
   "metadata": {},
   "outputs": [],
   "source": [
    "import duckdb\n",
    "import leafmap"
   ]
  },
  {
   "cell_type": "markdown",
   "metadata": {},
   "source": [
    "## Question 1\n",
    "\n",
    "Connect to a duckdb database and install the `httpfs` and `spatial` extensions"
   ]
  },
  {
   "cell_type": "code",
   "execution_count": 3,
   "metadata": {},
   "outputs": [],
   "source": [
    "con= duckdb.connect() # defaults is memory \n",
    "con.install_extension('httpfs')\n",
    "con.load_extension('httpfs')"
   ]
  },
  {
   "cell_type": "code",
   "execution_count": 4,
   "id": "7d1c7b99",
   "metadata": {},
   "outputs": [],
   "source": [
    "con.install_extension('spatial')\n",
    "con.load_extension('spatial')"
   ]
  },
  {
   "cell_type": "markdown",
   "metadata": {},
   "source": [
    "## Question 2\n",
    "\n",
    "Download the [Admin 0 – Countries](https://www.naturalearthdata.com/downloads/10m-cultural-vectors/) vector dataset from Natural Earth using the `leafmap.download_file()` function."
   ]
  },
  {
   "cell_type": "code",
   "execution_count": 5,
   "metadata": {},
   "outputs": [],
   "source": [
    "url= 'https://www.naturalearthdata.com/http//www.naturalearthdata.com/download/10m/cultural/ne_10m_admin_0_countries.zip'\n",
    "#leafmap.download_file(url)"
   ]
  },
  {
   "cell_type": "markdown",
   "metadata": {},
   "source": [
    "## Question 3\n",
    "\n",
    "Create a new table in your database called `countries` and load the data from the downloaded country shapefile into it."
   ]
  },
  {
   "cell_type": "code",
   "execution_count": 6,
   "metadata": {},
   "outputs": [],
   "source": [
    "con.sql(\n",
    "    \"\"\"\n",
    "        CREATE TABLE IF NOT EXISTS countries AS \n",
    "        SELECT * FROM ST_Read('ne_10m_admin_0_countries.shp')\n",
    "        \"\"\"\n",
    ")"
   ]
  },
  {
   "cell_type": "code",
   "execution_count": 7,
   "id": "1a82f04a",
   "metadata": {},
   "outputs": [
    {
     "data": {
      "text/plain": [
       "┌─────────────────┬───────────┬───────────┬───┬──────────────┬────────────────────┬──────────────────────┐\n",
       "│   featurecla    │ scalerank │ LABELRANK │ … │  FCLASS_BD   │     FCLASS_UA      │         geom         │\n",
       "│     varchar     │   int32   │   int32   │   │   varchar    │      varchar       │       geometry       │\n",
       "├─────────────────┼───────────┼───────────┼───┼──────────────┼────────────────────┼──────────────────────┤\n",
       "│ Admin-0 country │         0 │         2 │ … │ NULL         │ NULL               │ MULTIPOLYGON (((11…  │\n",
       "│ Admin-0 country │         0 │         3 │ … │ NULL         │ NULL               │ MULTIPOLYGON (((11…  │\n",
       "│ Admin-0 country │         0 │         2 │ … │ NULL         │ NULL               │ MULTIPOLYGON (((-6…  │\n",
       "│ Admin-0 country │         0 │         3 │ … │ NULL         │ NULL               │ POLYGON ((-69.5100…  │\n",
       "│ Admin-0 country │         0 │         2 │ … │ NULL         │ NULL               │ MULTIPOLYGON (((-6…  │\n",
       "│ Admin-0 country │         0 │         2 │ … │ NULL         │ NULL               │ MULTIPOLYGON (((-6…  │\n",
       "│ Admin-0 country │         3 │         3 │ … │ NULL         │ Admin-0 dependency │ POLYGON ((33.78093…  │\n",
       "│ Admin-0 country │         1 │         5 │ … │ NULL         │ NULL               │ MULTIPOLYGON (((33…  │\n",
       "│ Admin-0 country │         0 │         2 │ … │ NULL         │ NULL               │ MULTIPOLYGON (((77…  │\n",
       "│ Admin-0 country │         0 │         2 │ … │ NULL         │ NULL               │ MULTIPOLYGON (((78…  │\n",
       "│        ·        │         · │         · │ · │  ·           │  ·                 │          ·           │\n",
       "│        ·        │         · │         · │ · │  ·           │  ·                 │          ·           │\n",
       "│        ·        │         · │         · │ · │  ·           │  ·                 │          ·           │\n",
       "│ Admin-0 country │         5 │         6 │ … │ NULL         │ NULL               │ MULTIPOLYGON (((14…  │\n",
       "│ Admin-0 country │         5 │         4 │ … │ NULL         │ NULL               │ MULTIPOLYGON (((50…  │\n",
       "│ Admin-0 country │         6 │         5 │ … │ NULL         │ NULL               │ POLYGON ((154.3912…  │\n",
       "│ Admin-0 country │         6 │         6 │ … │ NULL         │ NULL               │ MULTIPOLYGON (((11…  │\n",
       "│ Admin-0 country │         6 │         5 │ … │ NULL         │ NULL               │ POLYGON ((-109.212…  │\n",
       "│ Admin-0 country │         0 │         4 │ … │ NULL         │ NULL               │ MULTIPOLYGON (((11…  │\n",
       "│ Admin-0 country │         6 │         5 │ … │ NULL         │ NULL               │ POLYGON ((123.5970…  │\n",
       "│ Admin-0 country │         6 │         8 │ … │ Unrecognized │ Unrecognized       │ POLYGON ((-79.9892…  │\n",
       "│ Admin-0 country │         6 │         5 │ … │ Unrecognized │ Unrecognized       │ POLYGON ((-78.6370…  │\n",
       "│ Admin-0 country │         6 │         6 │ … │ NULL         │ NULL               │ POLYGON ((117.7538…  │\n",
       "├─────────────────┴───────────┴───────────┴───┴──────────────┴────────────────────┴──────────────────────┤\n",
       "│ 258 rows (20 shown)                                                              169 columns (6 shown) │\n",
       "└────────────────────────────────────────────────────────────────────────────────────────────────────────┘"
      ]
     },
     "execution_count": 7,
     "metadata": {},
     "output_type": "execute_result"
    }
   ],
   "source": [
    "con.table('countries')"
   ]
  },
  {
   "cell_type": "markdown",
   "metadata": {},
   "source": [
    "Calculate the total population of all countries in the database using the `POP_EST` column."
   ]
  },
  {
   "cell_type": "code",
   "execution_count": 8,
   "id": "c5467bef",
   "metadata": {},
   "outputs": [
    {
     "data": {
      "text/plain": [
       "┌──────────────┐\n",
       "│  total_pop   │\n",
       "│    double    │\n",
       "├──────────────┤\n",
       "│ 7677059722.3 │\n",
       "└──────────────┘"
      ]
     },
     "execution_count": 8,
     "metadata": {},
     "output_type": "execute_result"
    }
   ],
   "source": [
    "con.sql('SELECT SUM(POP_EST) AS total_pop FROM countries;')"
   ]
  },
  {
   "cell_type": "markdown",
   "metadata": {},
   "source": [
    "Show the top 10 countries with the largest population."
   ]
  },
  {
   "cell_type": "code",
   "execution_count": 9,
   "metadata": {},
   "outputs": [
    {
     "data": {
      "text/plain": [
       "┌──────────────────────────┬──────────────┐\n",
       "│        SOVEREIGNT        │   POP_EST    │\n",
       "│         varchar          │    double    │\n",
       "├──────────────────────────┼──────────────┤\n",
       "│ China                    │ 1397715000.0 │\n",
       "│ India                    │ 1366417754.0 │\n",
       "│ United States of America │  328239523.0 │\n",
       "│ Indonesia                │  270625568.0 │\n",
       "│ Pakistan                 │  216565318.0 │\n",
       "│ Brazil                   │  211049527.0 │\n",
       "│ Nigeria                  │  200963599.0 │\n",
       "│ Bangladesh               │  163046161.0 │\n",
       "│ Russia                   │  144373535.0 │\n",
       "│ Mexico                   │  127575529.0 │\n",
       "├──────────────────────────┴──────────────┤\n",
       "│ 10 rows                       2 columns │\n",
       "└─────────────────────────────────────────┘"
      ]
     },
     "execution_count": 9,
     "metadata": {},
     "output_type": "execute_result"
    }
   ],
   "source": [
    "con.sql(\n",
    "    \"\"\"\n",
    "        SELECT SOVEREIGNT, POP_EST FROM countries\n",
    "        ORDER BY POP_EST DESC\n",
    "        LIMIT 10;\n",
    "        \"\"\"\n",
    ")"
   ]
  },
  {
   "cell_type": "markdown",
   "metadata": {},
   "source": [
    "Select countries in Europe with a population greater than 10 million and order them by population in descending order."
   ]
  },
  {
   "cell_type": "code",
   "execution_count": 10,
   "metadata": {},
   "outputs": [
    {
     "data": {
      "text/plain": [
       "┌─────────────────┬───────────┬───────────┬───┬───────────┬───────────┬───────────┬──────────────────────┐\n",
       "│   featurecla    │ scalerank │ LABELRANK │ … │ FCLASS_SE │ FCLASS_BD │ FCLASS_UA │         geom         │\n",
       "│     varchar     │   int32   │   int32   │   │  varchar  │  varchar  │  varchar  │       geometry       │\n",
       "├─────────────────┼───────────┼───────────┼───┼───────────┼───────────┼───────────┼──────────────────────┤\n",
       "│ Admin-0 country │         0 │         2 │ … │ NULL      │ NULL      │ NULL      │ MULTIPOLYGON (((87…  │\n",
       "│ Admin-0 country │         0 │         2 │ … │ NULL      │ NULL      │ NULL      │ MULTIPOLYGON (((13…  │\n",
       "│ Admin-0 country │         0 │         2 │ … │ NULL      │ NULL      │ NULL      │ MULTIPOLYGON (((-5…  │\n",
       "│ Admin-0 country │         0 │         2 │ … │ NULL      │ NULL      │ NULL      │ MULTIPOLYGON (((-7…  │\n",
       "│ Admin-0 country │         0 │         2 │ … │ NULL      │ NULL      │ NULL      │ MULTIPOLYGON (((7.…  │\n",
       "│ Admin-0 country │         0 │         2 │ … │ NULL      │ NULL      │ NULL      │ MULTIPOLYGON (((-5…  │\n",
       "│ Admin-0 country │         0 │         3 │ … │ NULL      │ NULL      │ NULL      │ MULTIPOLYGON (((31…  │\n",
       "│ Admin-0 country │         0 │         3 │ … │ NULL      │ NULL      │ NULL      │ POLYGON ((18.83319…  │\n",
       "│ Admin-0 country │         0 │         3 │ … │ NULL      │ NULL      │ NULL      │ POLYGON ((22.87760…  │\n",
       "│ Admin-0 country │         0 │         5 │ … │ NULL      │ NULL      │ NULL      │ MULTIPOLYGON (((7.…  │\n",
       "│ Admin-0 country │         0 │         2 │ … │ NULL      │ NULL      │ NULL      │ POLYGON ((2.521799…  │\n",
       "│ Admin-0 country │         0 │         3 │ … │ NULL      │ NULL      │ NULL      │ MULTIPOLYGON (((20…  │\n",
       "│ Admin-0 country │         0 │         5 │ … │ NULL      │ NULL      │ NULL      │ POLYGON ((14.81039…  │\n",
       "│ Admin-0 country │         0 │         3 │ … │ NULL      │ NULL      │ NULL      │ MULTIPOLYGON (((20…  │\n",
       "│ Admin-0 country │         0 │         2 │ … │ NULL      │ NULL      │ NULL      │ MULTIPOLYGON (((-7…  │\n",
       "├─────────────────┴───────────┴───────────┴───┴───────────┴───────────┴───────────┴──────────────────────┤\n",
       "│ 15 rows                                                                          169 columns (7 shown) │\n",
       "└────────────────────────────────────────────────────────────────────────────────────────────────────────┘"
      ]
     },
     "execution_count": 10,
     "metadata": {},
     "output_type": "execute_result"
    }
   ],
   "source": [
    "con.sql(\n",
    "    \"\"\"\n",
    "        SELECT * FROM countries\n",
    "        WHERE POP_EST > 10000000 AND REGION_UN = 'Europe'\n",
    "        ORDER BY POP_EST DESC;\n",
    "        \"\"\"\n",
    ")"
   ]
  },
  {
   "cell_type": "markdown",
   "metadata": {},
   "source": [
    "Save the results of the previous query as a new table called `europe`."
   ]
  },
  {
   "cell_type": "code",
   "execution_count": 11,
   "metadata": {},
   "outputs": [],
   "source": [
    "con.sql(\n",
    "    \"\"\"\n",
    "        CREATE TABLE IF NOT EXISTS europe AS \n",
    "        SELECT * FROM countries\n",
    "        WHERE POP_EST > 10000000 AND REGION_UN = 'Europe'\n",
    "        ORDER BY POP_EST DESC;\n",
    "        \"\"\"\n",
    ")"
   ]
  },
  {
   "cell_type": "code",
   "execution_count": 12,
   "id": "00d16df7",
   "metadata": {},
   "outputs": [
    {
     "data": {
      "text/plain": [
       "┌─────────────────┬───────────┬───────────┬───┬───────────┬───────────┬───────────┬──────────────────────┐\n",
       "│   featurecla    │ scalerank │ LABELRANK │ … │ FCLASS_SE │ FCLASS_BD │ FCLASS_UA │         geom         │\n",
       "│     varchar     │   int32   │   int32   │   │  varchar  │  varchar  │  varchar  │       geometry       │\n",
       "├─────────────────┼───────────┼───────────┼───┼───────────┼───────────┼───────────┼──────────────────────┤\n",
       "│ Admin-0 country │         0 │         2 │ … │ NULL      │ NULL      │ NULL      │ MULTIPOLYGON (((87…  │\n",
       "│ Admin-0 country │         0 │         2 │ … │ NULL      │ NULL      │ NULL      │ MULTIPOLYGON (((13…  │\n",
       "│ Admin-0 country │         0 │         2 │ … │ NULL      │ NULL      │ NULL      │ MULTIPOLYGON (((-5…  │\n",
       "│ Admin-0 country │         0 │         2 │ … │ NULL      │ NULL      │ NULL      │ MULTIPOLYGON (((-7…  │\n",
       "│ Admin-0 country │         0 │         2 │ … │ NULL      │ NULL      │ NULL      │ MULTIPOLYGON (((7.…  │\n",
       "│ Admin-0 country │         0 │         2 │ … │ NULL      │ NULL      │ NULL      │ MULTIPOLYGON (((-5…  │\n",
       "│ Admin-0 country │         0 │         3 │ … │ NULL      │ NULL      │ NULL      │ MULTIPOLYGON (((31…  │\n",
       "│ Admin-0 country │         0 │         3 │ … │ NULL      │ NULL      │ NULL      │ POLYGON ((18.83319…  │\n",
       "│ Admin-0 country │         0 │         3 │ … │ NULL      │ NULL      │ NULL      │ POLYGON ((22.87760…  │\n",
       "│ Admin-0 country │         0 │         5 │ … │ NULL      │ NULL      │ NULL      │ MULTIPOLYGON (((7.…  │\n",
       "│ Admin-0 country │         0 │         2 │ … │ NULL      │ NULL      │ NULL      │ POLYGON ((2.521799…  │\n",
       "│ Admin-0 country │         0 │         3 │ … │ NULL      │ NULL      │ NULL      │ MULTIPOLYGON (((20…  │\n",
       "│ Admin-0 country │         0 │         5 │ … │ NULL      │ NULL      │ NULL      │ POLYGON ((14.81039…  │\n",
       "│ Admin-0 country │         0 │         3 │ … │ NULL      │ NULL      │ NULL      │ MULTIPOLYGON (((20…  │\n",
       "│ Admin-0 country │         0 │         2 │ … │ NULL      │ NULL      │ NULL      │ MULTIPOLYGON (((-7…  │\n",
       "├─────────────────┴───────────┴───────────┴───┴───────────┴───────────┴───────────┴──────────────────────┤\n",
       "│ 15 rows                                                                          169 columns (7 shown) │\n",
       "└────────────────────────────────────────────────────────────────────────────────────────────────────────┘"
      ]
     },
     "execution_count": 12,
     "metadata": {},
     "output_type": "execute_result"
    }
   ],
   "source": [
    "con.table('europe')"
   ]
  },
  {
   "cell_type": "markdown",
   "metadata": {},
   "source": [
    "Export the `europe` table as a GeoJSON file."
   ]
  },
  {
   "cell_type": "code",
   "execution_count": 24,
   "metadata": {},
   "outputs": [],
   "source": [
    "con.sql(\"COPY europe TO 'europe.geojson' WITH (FORMAT GDAL, DRIVER 'GeoJSON')\")"
   ]
  },
  {
   "cell_type": "markdown",
   "metadata": {},
   "source": [
    "## Question 4\n",
    "\n",
    "Create a table called `text_zones` and load the data from the [taxi_zones.parquet](https://beta.source.coop/cholmes/nyc-taxi-zones/taxi_zones.parquet) into it."
   ]
  },
  {
   "cell_type": "code",
   "execution_count": 14,
   "metadata": {},
   "outputs": [],
   "source": [
    "url= 'https://data.source.coop/cholmes/nyc-taxi-zones/taxi_zones.parquet'\n"
   ]
  },
  {
   "cell_type": "code",
   "execution_count": 15,
   "id": "9425c4aa",
   "metadata": {},
   "outputs": [
    {
     "data": {
      "text/plain": [
       "┌──────────┬────────────────┬────────────────┬───┬────────────┬───────────────┬──────────────────────┐\n",
       "│ OBJECTID │   Shape_Leng   │   Shape_Area   │ … │ LocationID │    borough    │       geometry       │\n",
       "│  int32   │ decimal(19,11) │ decimal(19,11) │   │   int32    │    varchar    │         blob         │\n",
       "├──────────┼────────────────┼────────────────┼───┼────────────┼───────────────┼──────────────────────┤\n",
       "│        1 │  0.11635745319 │  0.00078230679 │ … │          1 │ EWR           │ \\x01\\x03\\x00\\x00\\x…  │\n",
       "│        2 │  0.43346966679 │  0.00486634038 │ … │          2 │ Queens        │ \\x01\\x06\\x00\\x00\\x…  │\n",
       "│        3 │  0.08434110590 │  0.00031441416 │ … │          3 │ Bronx         │ \\x01\\x03\\x00\\x00\\x…  │\n",
       "│        4 │  0.04356652709 │  0.00011187195 │ … │          4 │ Manhattan     │ \\x01\\x03\\x00\\x00\\x…  │\n",
       "│        5 │  0.09214648986 │  0.00049795749 │ … │          5 │ Staten Island │ \\x01\\x03\\x00\\x00\\x…  │\n",
       "│        6 │  0.15049054252 │  0.00060646098 │ … │          6 │ Staten Island │ \\x01\\x03\\x00\\x00\\x…  │\n",
       "│        7 │  0.10741717112 │  0.00038978799 │ … │          7 │ Queens        │ \\x01\\x03\\x00\\x00\\x…  │\n",
       "│        8 │  0.02759069116 │  0.00002658772 │ … │          8 │ Queens        │ \\x01\\x03\\x00\\x00\\x…  │\n",
       "│        9 │  0.09978409247 │  0.00033844380 │ … │          9 │ Queens        │ \\x01\\x03\\x00\\x00\\x…  │\n",
       "│       10 │  0.09983947942 │  0.00043582382 │ … │         10 │ Queens        │ \\x01\\x03\\x00\\x00\\x…  │\n",
       "│        · │        ·       │        ·       │ · │          · │   ·           │          ·           │\n",
       "│        · │        ·       │        ·       │ · │          · │   ·           │          ·           │\n",
       "│        · │        ·       │        ·       │ · │          · │   ·           │          ·           │\n",
       "│      254 │  0.08588637549 │  0.00036004022 │ … │        254 │ Bronx         │ \\x01\\x03\\x00\\x00\\x…  │\n",
       "│      255 │  0.06238419977 │  0.00017230918 │ … │        255 │ Brooklyn      │ \\x01\\x03\\x00\\x00\\x…  │\n",
       "│      256 │  0.06791496696 │  0.00016861110 │ … │        256 │ Brooklyn      │ \\x01\\x03\\x00\\x00\\x…  │\n",
       "│      257 │  0.05866902598 │  0.00013890947 │ … │        257 │ Brooklyn      │ \\x01\\x03\\x00\\x00\\x…  │\n",
       "│      258 │  0.08901337877 │  0.00036620962 │ … │        258 │ Queens        │ \\x01\\x03\\x00\\x00\\x…  │\n",
       "│      259 │  0.12675030519 │  0.00039455249 │ … │        259 │ Bronx         │ \\x01\\x03\\x00\\x00\\x…  │\n",
       "│      260 │  0.13351415464 │  0.00042234533 │ … │        260 │ Queens        │ \\x01\\x03\\x00\\x00\\x…  │\n",
       "│      261 │  0.02712045636 │  0.00003434232 │ … │        261 │ Manhattan     │ \\x01\\x03\\x00\\x00\\x…  │\n",
       "│      262 │  0.04906362315 │  0.00012233027 │ … │        262 │ Manhattan     │ \\x01\\x06\\x00\\x00\\x…  │\n",
       "│      263 │  0.03701662530 │  0.00006576977 │ … │        263 │ Manhattan     │ \\x01\\x03\\x00\\x00\\x…  │\n",
       "├──────────┴────────────────┴────────────────┴───┴────────────┴───────────────┴──────────────────────┤\n",
       "│ 263 rows (20 shown)                                                            7 columns (6 shown) │\n",
       "└────────────────────────────────────────────────────────────────────────────────────────────────────┘"
      ]
     },
     "execution_count": 15,
     "metadata": {},
     "output_type": "execute_result"
    }
   ],
   "source": [
    "con.sql(f\"FROM '{url}'\")"
   ]
  },
  {
   "cell_type": "code",
   "execution_count": 16,
   "id": "24cce018",
   "metadata": {},
   "outputs": [],
   "source": [
    "con.sql(\n",
    "    f\"\"\"\n",
    "CREATE or REPLACE TABLE text_zones AS\n",
    "SELECT * EXCLUDE geometry, ST_GeomFromWKB(geometry) AS geometry FROM\n",
    "        '{url}'\n",
    "\"\"\"\n",
    ")"
   ]
  },
  {
   "cell_type": "code",
   "execution_count": 17,
   "id": "10004692",
   "metadata": {},
   "outputs": [
    {
     "data": {
      "text/plain": [
       "┌──────────┬────────────────┬────────────────┬───┬────────────┬───────────────┬──────────────────────┐\n",
       "│ OBJECTID │   Shape_Leng   │   Shape_Area   │ … │ LocationID │    borough    │       geometry       │\n",
       "│  int32   │ decimal(19,11) │ decimal(19,11) │   │   int32    │    varchar    │       geometry       │\n",
       "├──────────┼────────────────┼────────────────┼───┼────────────┼───────────────┼──────────────────────┤\n",
       "│        1 │  0.11635745319 │  0.00078230679 │ … │          1 │ EWR           │ POLYGON ((933100.9…  │\n",
       "│        2 │  0.43346966679 │  0.00486634038 │ … │          2 │ Queens        │ MULTIPOLYGON (((10…  │\n",
       "│        3 │  0.08434110590 │  0.00031441416 │ … │          3 │ Bronx         │ POLYGON ((1026308.…  │\n",
       "│        4 │  0.04356652709 │  0.00011187195 │ … │          4 │ Manhattan     │ POLYGON ((992073.4…  │\n",
       "│        5 │  0.09214648986 │  0.00049795749 │ … │          5 │ Staten Island │ POLYGON ((935843.3…  │\n",
       "│        6 │  0.15049054252 │  0.00060646098 │ … │          6 │ Staten Island │ POLYGON ((966568.7…  │\n",
       "│        7 │  0.10741717112 │  0.00038978799 │ … │          7 │ Queens        │ POLYGON ((1010804.…  │\n",
       "│        8 │  0.02759069116 │  0.00002658772 │ … │          8 │ Queens        │ POLYGON ((1005482.…  │\n",
       "│        9 │  0.09978409247 │  0.00033844380 │ … │          9 │ Queens        │ POLYGON ((1043803.…  │\n",
       "│       10 │  0.09983947942 │  0.00043582382 │ … │         10 │ Queens        │ POLYGON ((1044355.…  │\n",
       "│        · │        ·       │        ·       │ · │          · │   ·           │          ·           │\n",
       "│        · │        ·       │        ·       │ · │          · │   ·           │          ·           │\n",
       "│        · │        ·       │        ·       │ · │          · │   ·           │          ·           │\n",
       "│      254 │  0.08588637549 │  0.00036004022 │ … │        254 │ Bronx         │ POLYGON ((1025214.…  │\n",
       "│      255 │  0.06238419977 │  0.00017230918 │ … │        255 │ Brooklyn      │ POLYGON ((994849.0…  │\n",
       "│      256 │  0.06791496696 │  0.00016861110 │ … │        256 │ Brooklyn      │ POLYGON ((995798.6…  │\n",
       "│      257 │  0.05866902598 │  0.00013890947 │ … │        257 │ Brooklyn      │ POLYGON ((989842.5…  │\n",
       "│      258 │  0.08901337877 │  0.00036620962 │ … │        258 │ Queens        │ POLYGON ((1027223.…  │\n",
       "│      259 │  0.12675030519 │  0.00039455249 │ … │        259 │ Bronx         │ POLYGON ((1025414.…  │\n",
       "│      260 │  0.13351415464 │  0.00042234533 │ … │        260 │ Queens        │ POLYGON ((1011466.…  │\n",
       "│      261 │  0.02712045636 │  0.00003434232 │ … │        261 │ Manhattan     │ POLYGON ((980555.2…  │\n",
       "│      262 │  0.04906362315 │  0.00012233027 │ … │        262 │ Manhattan     │ MULTIPOLYGON (((99…  │\n",
       "│      263 │  0.03701662530 │  0.00006576977 │ … │        263 │ Manhattan     │ POLYGON ((997493.3…  │\n",
       "├──────────┴────────────────┴────────────────┴───┴────────────┴───────────────┴──────────────────────┤\n",
       "│ 263 rows (20 shown)                                                            7 columns (6 shown) │\n",
       "└────────────────────────────────────────────────────────────────────────────────────────────────────┘"
      ]
     },
     "execution_count": 17,
     "metadata": {},
     "output_type": "execute_result"
    }
   ],
   "source": [
    "con.table('text_zones')"
   ]
  },
  {
   "cell_type": "markdown",
   "metadata": {},
   "source": [
    "Find out the unique values in the `borough` column and order them alphabetically."
   ]
  },
  {
   "cell_type": "code",
   "execution_count": 25,
   "metadata": {},
   "outputs": [
    {
     "data": {
      "text/plain": [
       "┌───────────────┐\n",
       "│    borough    │\n",
       "│    varchar    │\n",
       "├───────────────┤\n",
       "│ Bronx         │\n",
       "│ Brooklyn      │\n",
       "│ EWR           │\n",
       "│ Manhattan     │\n",
       "│ Queens        │\n",
       "│ Staten Island │\n",
       "└───────────────┘"
      ]
     },
     "execution_count": 25,
     "metadata": {},
     "output_type": "execute_result"
    }
   ],
   "source": [
    "con.sql(\"SELECT DISTINCT borough FROM text_zones ORDER BY borough;\")"
   ]
  },
  {
   "cell_type": "markdown",
   "metadata": {},
   "source": [
    "Export the `text_zones` table as a parquet file."
   ]
  },
  {
   "cell_type": "code",
   "execution_count": 26,
   "metadata": {},
   "outputs": [],
   "source": [
    "con.sql(\"COPY text_zones TO 'text_zones.parquet' (FORMAT PARQUET)\")"
   ]
  },
  {
   "cell_type": "markdown",
   "metadata": {},
   "source": [
    "## Question 5\n",
    "\n",
    "Explore the [Google Open Buildings](https://beta.source.coop/cholmes/google-open-buildings/v2/geoparquet-admin1/) and select a country of your choice with relatively small number of buildings (i.e., small file size). Get the three character country code and replace `[COUNTRY_NAME]` in the following path with the country code. Use it to load all the parquet files for the selected country into a new table called `buildings`.\n",
    "\n",
    "`s3://us-west-2.opendata.source.coop/google-research-open-buildings/v2/geoparquet-admin1/country=[COUNTRY_NAME]/*.parquet`"
   ]
  },
  {
   "cell_type": "code",
   "execution_count": 29,
   "metadata": {},
   "outputs": [],
   "source": [
    "url= 'https://data.source.coop/cholmes/google-open-buildings/v2/geoparquet-admin1/country=DJI/Obock.parquet'"
   ]
  },
  {
   "cell_type": "code",
   "execution_count": 30,
   "id": "69afe4fd",
   "metadata": {},
   "outputs": [],
   "source": [
    "con.sql(\n",
    "    f\"\"\"\n",
    "CREATE or REPLACE TABLE buildings AS\n",
    "SELECT * EXCLUDE geometry, ST_GeomFromWKB(geometry) AS geometry FROM\n",
    "        '{url}'\n",
    "\"\"\"\n",
    ")"
   ]
  },
  {
   "cell_type": "code",
   "execution_count": 31,
   "id": "dcc0649f",
   "metadata": {},
   "outputs": [
    {
     "data": {
      "text/plain": [
       "┌─────────┬─────────┬────────────────┬────────────┬────────────────┬───────────────────────────────────────────────────┐\n",
       "│ country │ admin_1 │ area_in_meters │ confidence │ full_plus_code │                     geometry                      │\n",
       "│ varchar │ varchar │     double     │   double   │    varchar     │                     geometry                      │\n",
       "├─────────┼─────────┼────────────────┼────────────┼────────────────┼───────────────────────────────────────────────────┤\n",
       "│ DJI     │ Obock   │        15.6959 │     0.6521 │ 7H35Q7J5+W769  │ POLYGON ((43.2581634099855 11.7822498420061, 43…  │\n",
       "│ DJI     │ Obock   │       194.2082 │      0.764 │ 7H35X75G+RMFX  │ POLYGON ((43.2767733553804 11.9596172101751, 43…  │\n",
       "│ DJI     │ Obock   │        89.2851 │     0.7298 │ 7H35X75G+VM92  │ POLYGON ((43.2767733553804 11.9596172101751, 43…  │\n",
       "│ DJI     │ Obock   │        91.7068 │     0.6821 │ 7H35X75G+VQ85  │ POLYGON ((43.2770274621658 11.9596213049914, 43…  │\n",
       "│ DJI     │ Obock   │        20.3432 │     0.6276 │ 7H35X75H+VJJ9  │ POLYGON ((43.2790456818542 11.9596857588179, 43…  │\n",
       "│ DJI     │ Obock   │        35.8415 │     0.6091 │ 7H35X75P+QR8P  │ POLYGON ((43.2871195 11.9594353, 43.2870324 11.…  │\n",
       "│ DJI     │ Obock   │        22.8859 │     0.6729 │ 7H35X76W+RWGX  │ POLYGON ((43.2973492918318 11.9620407705928, 43…  │\n",
       "│ DJI     │ Obock   │         41.412 │     0.7802 │ 7H35X76W+RX5M  │ POLYGON ((43.2975187283999 11.9620357260596, 43…  │\n",
       "│ DJI     │ Obock   │         77.901 │      0.766 │ 7H35X76W+RX6G  │ POLYGON ((43.2974607493577 11.9620518820411, 43…  │\n",
       "│ DJI     │ Obock   │        33.3546 │     0.6078 │ 7H35X76W+VV2W  │ POLYGON ((43.2971882453745 11.9621552292767, 43…  │\n",
       "│  ·      │   ·     │           ·    │        ·   │       ·        │                         ·                         │\n",
       "│  ·      │   ·     │           ·    │        ·   │       ·        │                         ·                         │\n",
       "│  ·      │   ·     │           ·    │        ·   │       ·        │                         ·                         │\n",
       "│ DJI     │ Obock   │        19.7989 │      0.602 │ 7H45J2R6+FCHH  │ POLYGON ((43.0111498754221 12.6411749453901, 43…  │\n",
       "│ DJI     │ Obock   │        18.8006 │     0.7446 │ 7H45J4W3+9CXJ  │ POLYGON ((43.1036133202259 12.6459659739822, 43…  │\n",
       "│ DJI     │ Obock   │         14.229 │     0.6153 │ 7H45J4W3+9FPV  │ POLYGON ((43.1037103086238 12.6459478137475, 43…  │\n",
       "│ DJI     │ Obock   │        37.0238 │      0.724 │ 7H45J4W3+9FR9  │ POLYGON ((43.1036918480713 12.645995747413, 43.…  │\n",
       "│ DJI     │ Obock   │        10.5548 │     0.6287 │ 7H45J4W3+9MPW  │ POLYGON ((43.1042260705622 12.6459573871563, 43…  │\n",
       "│ DJI     │ Obock   │        10.7987 │     0.6565 │ 7H45J4W3+H923  │ POLYGON ((43.103407330506 12.6463701628132, 43.…  │\n",
       "│ DJI     │ Obock   │        23.5402 │     0.7035 │ 7H45M44V+5WCM  │ POLYGON ((43.1447773387338 12.6554160429895, 43…  │\n",
       "│ DJI     │ Obock   │        62.4485 │      0.624 │ 7H45M44W+54V8  │ POLYGON ((43.1453337411378 12.6555174325324, 43…  │\n",
       "│ DJI     │ Obock   │        16.7422 │     0.7002 │ 7H45M44W+83F9  │ POLYGON ((43.1452038742249 12.6558192946919, 43…  │\n",
       "│ DJI     │ Obock   │         8.1473 │     0.6161 │ 7H45M4MQ+RGGW  │ POLYGON ((43.1388440175598 12.6845619500672, 43…  │\n",
       "├─────────┴─────────┴────────────────┴────────────┴────────────────┴───────────────────────────────────────────────────┤\n",
       "│ 5733 rows (20 shown)                                                                                       6 columns │\n",
       "└──────────────────────────────────────────────────────────────────────────────────────────────────────────────────────┘"
      ]
     },
     "execution_count": 31,
     "metadata": {},
     "output_type": "execute_result"
    }
   ],
   "source": [
    "con.sql('FROM buildings')"
   ]
  },
  {
   "cell_type": "markdown",
   "metadata": {},
   "source": [
    "Find out the number of buildings in the selected country."
   ]
  },
  {
   "cell_type": "code",
   "execution_count": 33,
   "metadata": {},
   "outputs": [
    {
     "data": {
      "text/plain": [
       "┌─────────────────┐\n",
       "│ total_buildings │\n",
       "│      int64      │\n",
       "├─────────────────┤\n",
       "│            5733 │\n",
       "└─────────────────┘"
      ]
     },
     "execution_count": 33,
     "metadata": {},
     "output_type": "execute_result"
    }
   ],
   "source": [
    "con.sql('SELECT COUNT(area_in_meters) AS total_buildings FROM buildings;')"
   ]
  },
  {
   "cell_type": "markdown",
   "metadata": {},
   "source": [
    "Find out the total area of all buildings in the selected country."
   ]
  },
  {
   "cell_type": "code",
   "execution_count": 32,
   "metadata": {},
   "outputs": [
    {
     "data": {
      "text/plain": [
       "┌────────────────────┐\n",
       "│     total_area     │\n",
       "│       double       │\n",
       "├────────────────────┤\n",
       "│ 243997.24779999934 │\n",
       "└────────────────────┘"
      ]
     },
     "execution_count": 32,
     "metadata": {},
     "output_type": "execute_result"
    }
   ],
   "source": [
    "con.sql('SELECT SUM(area_in_meters) AS total_area FROM buildings;')"
   ]
  },
  {
   "cell_type": "markdown",
   "metadata": {},
   "source": [
    "Export the `buildings` table as a GeoPackage file."
   ]
  },
  {
   "cell_type": "code",
   "execution_count": 34,
   "metadata": {},
   "outputs": [
    {
     "data": {
      "application/vnd.jupyter.widget-view+json": {
       "model_id": "da222bf242024e87ad425fed1d69c756",
       "version_major": 2,
       "version_minor": 0
      },
      "text/plain": [
       "FloatProgress(value=0.0, layout=Layout(width='auto'), style=ProgressStyle(bar_color='black'))"
      ]
     },
     "metadata": {},
     "output_type": "display_data"
    }
   ],
   "source": [
    "con.sql(\"COPY buildings TO 'buildings.gpkg' WITH (FORMAT GDAL, DRIVER 'GPKG')\")"
   ]
  }
 ],
 "metadata": {
  "kernelspec": {
   "display_name": "Python 3",
   "language": "python",
   "name": "python3"
  },
  "language_info": {
   "codemirror_mode": {
    "name": "ipython",
    "version": 3
   },
   "file_extension": ".py",
   "mimetype": "text/x-python",
   "name": "python",
   "nbconvert_exporter": "python",
   "pygments_lexer": "ipython3",
   "version": "3.11.9"
  }
 },
 "nbformat": 4,
 "nbformat_minor": 5
}
