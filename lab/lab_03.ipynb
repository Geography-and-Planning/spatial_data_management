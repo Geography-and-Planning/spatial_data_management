{
 "cells": [
  {
   "cell_type": "markdown",
   "id": "0",
   "metadata": {},
   "source": [
    "# Lab 3\n",
    "\n",
    "\n",
    "[![Open In Colab](https://colab.research.google.com/assets/colab-badge.svg)](https://colab.research.google.com/github/zyang91/spatial_data_management/blob/main/lab/lab_03.ipynb)\n",
    "\n",
    "## Submission requirements\n",
    "\n",
    "1. Upload a screenshot of your map for each question.\n",
    "2. Provide a link to your notebook on Colab. See instructions [here](https://geog-414.gishub.org/book/labs/instructions.html).\n"
   ]
  },
  {
   "cell_type": "markdown",
   "id": "1",
   "metadata": {
    "tags": []
   },
   "source": [
    "## Question 1\n",
    "\n",
    "Find a DEM dataset in the [Earth Engine Data Catalog](https://developers.google.com/earth-engine/datasets/), clip the DEM to your home state, and display the DEM with a proper color palette on the map. For example, the sample map below shows the DEM of the state of Colorado. "
   ]
  },
  {
   "cell_type": "code",
   "execution_count": null,
   "id": "2",
   "metadata": {},
   "outputs": [],
   "source": [
    "import ee\n",
    "import geemap"
   ]
  },
  {
   "cell_type": "code",
   "execution_count": null,
   "id": "3",
   "metadata": {},
   "outputs": [],
   "source": [
    "m = geemap.Map(center=[40, -100], zoom=4)\n",
    "m"
   ]
  },
  {
   "cell_type": "code",
   "execution_count": null,
   "id": "4",
   "metadata": {},
   "outputs": [],
   "source": [
    "m.user_roi_coords()"
   ]
  },
  {
   "cell_type": "code",
   "execution_count": null,
   "id": "5",
   "metadata": {},
   "outputs": [],
   "source": [
    "polygon = ee.Geometry.Rectangle([-80.5957, 39.3853, -73.5645, 42.2773], None, False)\n",
    "m.addLayer(polygon, {}, \"polygon\")\n",
    "m.centerObject(polygon)"
   ]
  },
  {
   "cell_type": "code",
   "execution_count": null,
   "id": "6",
   "metadata": {},
   "outputs": [],
   "source": [
    "image = ee.Image(\"USGS/SRTMGL1_003\")\n",
    "\n",
    "vis_params = {\n",
    "    \"min\": 0,\n",
    "    \"max\": 4000,\n",
    "    \"palette\": [\"006633\", \"E5FFCC\", \"662A00\", \"D8D8D8\", \"F5F5F5\"],\n",
    "}  # color code-6 digit (RGB)\n",
    "\n",
    "m.addLayer(image, vis_params, \"USGS 3DEP Elevation\")"
   ]
  },
  {
   "cell_type": "markdown",
   "id": "7",
   "metadata": {},
   "source": [
    "![](https://i.imgur.com/OLeSt7n.png)"
   ]
  },
  {
   "cell_type": "code",
   "execution_count": null,
   "id": "8",
   "metadata": {},
   "outputs": [],
   "source": [
    "import ee\n",
    "import geemap"
   ]
  },
  {
   "cell_type": "code",
   "execution_count": null,
   "id": "9",
   "metadata": {},
   "outputs": [],
   "source": [
    "m = geemap.Map(center=[40, -100], zoom=4)\n",
    "states = ee.FeatureCollection(\"TIGER/2018/States\").filter(ee.Filter.eq(\"STUSPS\", \"MN\"))\n",
    "m.addLayer(states, {}, \"Minnesota\")\n",
    "m"
   ]
  },
  {
   "cell_type": "code",
   "execution_count": null,
   "id": "10",
   "metadata": {},
   "outputs": [],
   "source": [
    "image = ee.Image(\"USGS/SRTMGL1_003\")\n",
    "\n",
    "vis_params = {\n",
    "    \"min\": 0,\n",
    "    \"max\": 4000,\n",
    "    \"palette\": [\"006633\", \"E5FFCC\", \"662A00\", \"D8D8D8\", \"F5F5F5\"],\n",
    "}  # color code-6 digit (RGB)\n",
    "\n",
    "m.addLayer(image, vis_params, \"USGS 3DEP Elevation\")"
   ]
  },
  {
   "cell_type": "code",
   "execution_count": null,
   "id": "11",
   "metadata": {},
   "outputs": [],
   "source": [
    "subset = image.clip(states)\n",
    "m.addLayer(subset, vis_params, \"Minnesota Elevation\")"
   ]
  },
  {
   "cell_type": "code",
   "execution_count": null,
   "id": "12",
   "metadata": {},
   "outputs": [],
   "source": [
    "text = \"Made by Zhanchao Yang\"\n",
    "m.add_text(text, fontsize=20, position=\"bottomright\")\n",
    "m"
   ]
  },
  {
   "cell_type": "markdown",
   "id": "13",
   "metadata": {},
   "source": [
    "## Question 2\n",
    "\n",
    "Use [Sentinel-2](https://developers.google.com/earth-engine/datasets/catalog/sentinel-2) or [Landsat-9 data](https://developers.google.com/earth-engine/datasets/catalog/landsat-9), create a cloud-free imagery of the year 2021 for your home state. Display the imagery on the map with a proper band combination. For example, the sample map below shows a cloud-free false-color composite of Sentinel-2 imagery of the year 2021 for the state of Colorado. "
   ]
  },
  {
   "cell_type": "code",
   "execution_count": null,
   "id": "14",
   "metadata": {},
   "outputs": [],
   "source": [
    "Map = geemap.Map()\n",
    "collection = (\n",
    "    ee.ImageCollection(\"LANDSAT/LC09/C02/T1_L2\")\n",
    "    .filterDate(\"2022-01-01\", \"2023-01-01\")\n",
    "    .filter(ee.Filter.lt(\"CLOUD_COVER\", 5))\n",
    "    .filterBounds(polygon)\n",
    ")\n",
    "image = collection.median()\n",
    "vis_params = {\"min\": 0.0, \"max\": 65455, \"bands\": [\"SR_B5\", \"SR_B4\", \"SR_B3\"]}\n",
    "\n",
    "Map.addLayer(image, vis_params, \"LandSAT\")\n",
    "Map.addLayer(polygon, {}, \"polygon\")\n",
    "Map.centerObject(polygon, 6)\n",
    "\n",
    "text = \"Made by Zhanchao Yang\"\n",
    "Map.add_text(text, fontsize=20, position=\"bottomright\")\n",
    "Map"
   ]
  },
  {
   "cell_type": "markdown",
   "id": "15",
   "metadata": {},
   "source": [
    "![](https://i.imgur.com/wD0VamV.png)"
   ]
  },
  {
   "cell_type": "code",
   "execution_count": null,
   "id": "16",
   "metadata": {},
   "outputs": [],
   "source": [
    "import ee\n",
    "import geemap"
   ]
  },
  {
   "cell_type": "code",
   "execution_count": null,
   "id": "17",
   "metadata": {},
   "outputs": [],
   "source": [
    "Map = geemap.Map(center=[40, -100], zoom=4)\n",
    "collection = (\n",
    "    ee.ImageCollection(\"LANDSAT/LC09/C02/T1_L2\")\n",
    "    .filterDate(\"2022-01-01\", \"2023-01-01\")\n",
    "    .filter(ee.Filter.lt(\"CLOUD_COVER\", 5))\n",
    ")\n",
    "image = collection.median()\n",
    "vis_params = {\"min\": 0.0, \"max\": 65455, \"bands\": [\"SR_B5\", \"SR_B4\", \"SR_B3\"]}\n",
    "\n",
    "Map.addLayer(image, vis_params, \"LandSAT\")\n",
    "Map"
   ]
  },
  {
   "cell_type": "code",
   "execution_count": null,
   "id": "18",
   "metadata": {},
   "outputs": [],
   "source": [
    "states = ee.FeatureCollection(\"TIGER/2018/States\").filter(ee.Filter.eq(\"STUSPS\", \"MN\"))\n",
    "Map.addLayer(states, {}, \"Minnesota\")"
   ]
  },
  {
   "cell_type": "code",
   "execution_count": null,
   "id": "19",
   "metadata": {},
   "outputs": [],
   "source": [
    "subset = image.clip(states)"
   ]
  },
  {
   "cell_type": "code",
   "execution_count": null,
   "id": "20",
   "metadata": {},
   "outputs": [],
   "source": [
    "Map.addLayer(subset, vis_params, \"Minnesota LandSAT\")"
   ]
  },
  {
   "cell_type": "code",
   "execution_count": null,
   "id": "21",
   "metadata": {},
   "outputs": [],
   "source": [
    "text = \"Made by Zhanchao Yang\"\n",
    "Map.add_text(text, fontsize=20, position=\"bottomright\")\n",
    "Map.centerObject(states, 10)"
   ]
  },
  {
   "cell_type": "code",
   "execution_count": null,
   "id": "22",
   "metadata": {},
   "outputs": [],
   "source": []
  }
 ],
 "metadata": {
  "kernelspec": {
   "display_name": "Python 3",
   "language": "python",
   "name": "python3"
  },
  "language_info": {
   "codemirror_mode": {
    "name": "ipython",
    "version": 3
   },
   "file_extension": ".py",
   "mimetype": "text/x-python",
   "name": "python",
   "nbconvert_exporter": "python",
   "pygments_lexer": "ipython3",
   "version": "3.9.16"
  }
 },
 "nbformat": 4,
 "nbformat_minor": 5
}
