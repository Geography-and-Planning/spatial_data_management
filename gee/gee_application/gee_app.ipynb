{
 "cells": [
  {
   "cell_type": "code",
   "execution_count": null,
   "metadata": {},
   "outputs": [],
   "source": [
    "import ee \n",
    "import geemap\n",
    "ee.Initialize()"
   ]
  },
  {
   "cell_type": "code",
   "execution_count": null,
   "metadata": {},
   "outputs": [],
   "source": [
    "dataset= ee.Image('JRC/GSW1_4/GlobalSurfaceWater')\n",
    "dataset.bandNames()"
   ]
  },
  {
   "cell_type": "code",
   "execution_count": null,
   "metadata": {},
   "outputs": [],
   "source": [
    "m= geemap.Map()\n",
    "m.add_basemap('HYBRID')\n",
    "m"
   ]
  },
  {
   "cell_type": "code",
   "execution_count": null,
   "metadata": {},
   "outputs": [],
   "source": [
    "image= dataset.select(['occurrence'])\n",
    "region= m.user_roi\n",
    "vis_params= {\n",
    "    'min': 0.0,\n",
    "    'max': 100.0,\n",
    "    'palette': ['ffffff', 'ffbbbb', '0000ff']\n",
    "}\n",
    "m.addLayer(image, vis_params, 'Water Occurrence')\n"
   ]
  },
  {
   "cell_type": "code",
   "execution_count": null,
   "metadata": {},
   "outputs": [],
   "source": [
    "m.add_colorbar(vis_params, label= 'Water occurrence')"
   ]
  },
  {
   "cell_type": "code",
   "execution_count": null,
   "metadata": {},
   "outputs": [],
   "source": [
    "df= geemap.image_histogram(\n",
    "    image,\n",
    "    region=region,\n",
    "    scale=30,\n",
    "    return_df=True\n",
    ")"
   ]
  },
  {
   "cell_type": "code",
   "execution_count": null,
   "metadata": {},
   "outputs": [],
   "source": [
    "df"
   ]
  },
  {
   "cell_type": "code",
   "execution_count": null,
   "metadata": {},
   "outputs": [],
   "source": [
    "histogram= geemap.image_histogram(\n",
    "    image,\n",
    "    region,\n",
    "    scale=30,\n",
    "    x_label= 'Water Occurrence',\n",
    "    y_label= 'pixel count',\n",
    "    title= 'Water Occurrence Histogram',\n",
    "    layout_args={'title': dict(x=0.5)},\n",
    "    return_df=False,\n",
    ")\n",
    "histogram"
   ]
  },
  {
   "cell_type": "code",
   "execution_count": 2,
   "metadata": {},
   "outputs": [
    {
     "data": {
      "text/html": [
       "\n",
       "            <style>\n",
       "                .geemap-dark {\n",
       "                    --jp-widgets-color: white;\n",
       "                    --jp-widgets-label-color: white;\n",
       "                    --jp-ui-font-color1: white;\n",
       "                    --jp-layout-color2: #454545;\n",
       "                    background-color: #383838;\n",
       "                }\n",
       "\n",
       "                .geemap-dark .jupyter-button {\n",
       "                    --jp-layout-color3: #383838;\n",
       "                }\n",
       "\n",
       "                .geemap-colab {\n",
       "                    background-color: var(--colab-primary-surface-color, white);\n",
       "                }\n",
       "\n",
       "                .geemap-colab .jupyter-button {\n",
       "                    --jp-layout-color3: var(--colab-primary-surface-color, white);\n",
       "                }\n",
       "            </style>\n",
       "            "
      ],
      "text/plain": [
       "<IPython.core.display.HTML object>"
      ]
     },
     "metadata": {},
     "output_type": "display_data"
    },
    {
     "data": {
      "text/html": [
       "<div><style>:root {\n",
       "  --font-color-primary: var(--jp-content-font-color0, rgba(0, 0, 0, 1));\n",
       "  --font-color-secondary: var(--jp-content-font-color2, rgba(0, 0, 0, 0.6));\n",
       "  --font-color-accent: rgba(123, 31, 162, 1);\n",
       "  --border-color: var(--jp-border-color2, #e0e0e0);\n",
       "  --background-color: var(--jp-layout-color0, white);\n",
       "  --background-color-row-even: var(--jp-layout-color1, white);\n",
       "  --background-color-row-odd: var(--jp-layout-color2, #eeeeee);\n",
       "}\n",
       "\n",
       "html[theme=\"dark\"],\n",
       "body[data-theme=\"dark\"],\n",
       "body.vscode-dark {\n",
       "  --font-color-primary: rgba(255, 255, 255, 1);\n",
       "  --font-color-secondary: rgba(255, 255, 255, 0.6);\n",
       "  --font-color-accent: rgb(173, 132, 190);\n",
       "  --border-color: #2e2e2e;\n",
       "  --background-color: #111111;\n",
       "  --background-color-row-even: #111111;\n",
       "  --background-color-row-odd: #313131;\n",
       "}\n",
       "\n",
       ".ee {\n",
       "  padding: 1em;\n",
       "  line-height: 1.5em;\n",
       "  min-width: 300px;\n",
       "  max-width: 1200px;\n",
       "  overflow-y: scroll;\n",
       "  max-height: 600px;\n",
       "  border: 1px solid var(--border-color);\n",
       "  font-family: monospace;\n",
       "}\n",
       "\n",
       ".ee li {\n",
       "  list-style-type: none;\n",
       "}\n",
       "\n",
       ".ee ul {\n",
       "  padding-left: 1.5em !important;\n",
       "  margin: 0;\n",
       "}\n",
       "\n",
       ".ee > ul {\n",
       "  padding-left: 0 !important;\n",
       "}\n",
       "\n",
       ".ee-open,\n",
       ".ee-shut {\n",
       "  color: var(--font-color-secondary);\n",
       "  cursor: pointer;\n",
       "  margin: 0;\n",
       "}\n",
       "\n",
       ".ee-open:hover,\n",
       ".ee-shut:hover {\n",
       "  color: var(--font-color-primary);\n",
       "}\n",
       "\n",
       ".ee-k {\n",
       "  color: var(--font-color-accent);\n",
       "  margin-right: 6px;\n",
       "}\n",
       "\n",
       ".ee-v {\n",
       "  color: var(--font-color-primary);\n",
       "}\n",
       "\n",
       ".ee-toggle {\n",
       "  display: none;\n",
       "}\n",
       "\n",
       ".ee-shut + ul {\n",
       "  display: none;\n",
       "}\n",
       "\n",
       ".ee-open + ul {\n",
       "  display: block;\n",
       "}\n",
       "\n",
       ".ee-shut::before {\n",
       "  display: inline-block;\n",
       "  content: \"▼\";\n",
       "  margin-right: 6px;\n",
       "  transform: rotate(-90deg);\n",
       "  transition: transform 0.2s;\n",
       "}\n",
       "\n",
       ".ee-open::before {\n",
       "  transform: rotate(0deg);\n",
       "  display: inline-block;\n",
       "  content: \"▼\";\n",
       "  margin-right: 6px;\n",
       "  transition: transform 0.2s;\n",
       "}\n",
       "</style><div class='ee'><ul><li><label class='ee-shut'>List (454 elements)<input type='checkbox' class='ee-toggle'></label><ul><li><span class='ee-k'>0:</span><span class='ee-v'>1984_03</span></li><li><span class='ee-k'>1:</span><span class='ee-v'>1984_04</span></li><li><span class='ee-k'>2:</span><span class='ee-v'>1984_05</span></li><li><span class='ee-k'>3:</span><span class='ee-v'>1984_06</span></li><li><span class='ee-k'>4:</span><span class='ee-v'>1984_07</span></li><li><span class='ee-k'>5:</span><span class='ee-v'>1984_08</span></li><li><span class='ee-k'>6:</span><span class='ee-v'>1984_09</span></li><li><span class='ee-k'>7:</span><span class='ee-v'>1984_10</span></li><li><span class='ee-k'>8:</span><span class='ee-v'>1984_11</span></li><li><span class='ee-k'>9:</span><span class='ee-v'>1984_12</span></li><li><span class='ee-k'>10:</span><span class='ee-v'>1985_01</span></li><li><span class='ee-k'>11:</span><span class='ee-v'>1985_02</span></li><li><span class='ee-k'>12:</span><span class='ee-v'>1985_03</span></li><li><span class='ee-k'>13:</span><span class='ee-v'>1985_04</span></li><li><span class='ee-k'>14:</span><span class='ee-v'>1985_05</span></li><li><span class='ee-k'>15:</span><span class='ee-v'>1985_06</span></li><li><span class='ee-k'>16:</span><span class='ee-v'>1985_07</span></li><li><span class='ee-k'>17:</span><span class='ee-v'>1985_08</span></li><li><span class='ee-k'>18:</span><span class='ee-v'>1985_09</span></li><li><span class='ee-k'>19:</span><span class='ee-v'>1985_10</span></li><li><span class='ee-k'>20:</span><span class='ee-v'>1985_11</span></li><li><span class='ee-k'>21:</span><span class='ee-v'>1985_12</span></li><li><span class='ee-k'>22:</span><span class='ee-v'>1986_01</span></li><li><span class='ee-k'>23:</span><span class='ee-v'>1986_02</span></li><li><span class='ee-k'>24:</span><span class='ee-v'>1986_03</span></li><li><span class='ee-k'>25:</span><span class='ee-v'>1986_04</span></li><li><span class='ee-k'>26:</span><span class='ee-v'>1986_05</span></li><li><span class='ee-k'>27:</span><span class='ee-v'>1986_06</span></li><li><span class='ee-k'>28:</span><span class='ee-v'>1986_07</span></li><li><span class='ee-k'>29:</span><span class='ee-v'>1986_08</span></li><li><span class='ee-k'>30:</span><span class='ee-v'>1986_09</span></li><li><span class='ee-k'>31:</span><span class='ee-v'>1986_10</span></li><li><span class='ee-k'>32:</span><span class='ee-v'>1986_11</span></li><li><span class='ee-k'>33:</span><span class='ee-v'>1986_12</span></li><li><span class='ee-k'>34:</span><span class='ee-v'>1987_01</span></li><li><span class='ee-k'>35:</span><span class='ee-v'>1987_02</span></li><li><span class='ee-k'>36:</span><span class='ee-v'>1987_03</span></li><li><span class='ee-k'>37:</span><span class='ee-v'>1987_04</span></li><li><span class='ee-k'>38:</span><span class='ee-v'>1987_05</span></li><li><span class='ee-k'>39:</span><span class='ee-v'>1987_06</span></li><li><span class='ee-k'>40:</span><span class='ee-v'>1987_07</span></li><li><span class='ee-k'>41:</span><span class='ee-v'>1987_08</span></li><li><span class='ee-k'>42:</span><span class='ee-v'>1987_09</span></li><li><span class='ee-k'>43:</span><span class='ee-v'>1987_10</span></li><li><span class='ee-k'>44:</span><span class='ee-v'>1987_11</span></li><li><span class='ee-k'>45:</span><span class='ee-v'>1987_12</span></li><li><span class='ee-k'>46:</span><span class='ee-v'>1988_01</span></li><li><span class='ee-k'>47:</span><span class='ee-v'>1988_02</span></li><li><span class='ee-k'>48:</span><span class='ee-v'>1988_03</span></li><li><span class='ee-k'>49:</span><span class='ee-v'>1988_04</span></li><li><span class='ee-k'>50:</span><span class='ee-v'>1988_05</span></li><li><span class='ee-k'>51:</span><span class='ee-v'>1988_06</span></li><li><span class='ee-k'>52:</span><span class='ee-v'>1988_07</span></li><li><span class='ee-k'>53:</span><span class='ee-v'>1988_08</span></li><li><span class='ee-k'>54:</span><span class='ee-v'>1988_09</span></li><li><span class='ee-k'>55:</span><span class='ee-v'>1988_10</span></li><li><span class='ee-k'>56:</span><span class='ee-v'>1988_11</span></li><li><span class='ee-k'>57:</span><span class='ee-v'>1988_12</span></li><li><span class='ee-k'>58:</span><span class='ee-v'>1989_01</span></li><li><span class='ee-k'>59:</span><span class='ee-v'>1989_02</span></li><li><span class='ee-k'>60:</span><span class='ee-v'>1989_03</span></li><li><span class='ee-k'>61:</span><span class='ee-v'>1989_04</span></li><li><span class='ee-k'>62:</span><span class='ee-v'>1989_05</span></li><li><span class='ee-k'>63:</span><span class='ee-v'>1989_06</span></li><li><span class='ee-k'>64:</span><span class='ee-v'>1989_07</span></li><li><span class='ee-k'>65:</span><span class='ee-v'>1989_08</span></li><li><span class='ee-k'>66:</span><span class='ee-v'>1989_09</span></li><li><span class='ee-k'>67:</span><span class='ee-v'>1989_10</span></li><li><span class='ee-k'>68:</span><span class='ee-v'>1989_11</span></li><li><span class='ee-k'>69:</span><span class='ee-v'>1989_12</span></li><li><span class='ee-k'>70:</span><span class='ee-v'>1990_01</span></li><li><span class='ee-k'>71:</span><span class='ee-v'>1990_02</span></li><li><span class='ee-k'>72:</span><span class='ee-v'>1990_03</span></li><li><span class='ee-k'>73:</span><span class='ee-v'>1990_04</span></li><li><span class='ee-k'>74:</span><span class='ee-v'>1990_05</span></li><li><span class='ee-k'>75:</span><span class='ee-v'>1990_06</span></li><li><span class='ee-k'>76:</span><span class='ee-v'>1990_07</span></li><li><span class='ee-k'>77:</span><span class='ee-v'>1990_08</span></li><li><span class='ee-k'>78:</span><span class='ee-v'>1990_09</span></li><li><span class='ee-k'>79:</span><span class='ee-v'>1990_10</span></li><li><span class='ee-k'>80:</span><span class='ee-v'>1990_11</span></li><li><span class='ee-k'>81:</span><span class='ee-v'>1990_12</span></li><li><span class='ee-k'>82:</span><span class='ee-v'>1991_01</span></li><li><span class='ee-k'>83:</span><span class='ee-v'>1991_02</span></li><li><span class='ee-k'>84:</span><span class='ee-v'>1991_03</span></li><li><span class='ee-k'>85:</span><span class='ee-v'>1991_04</span></li><li><span class='ee-k'>86:</span><span class='ee-v'>1991_05</span></li><li><span class='ee-k'>87:</span><span class='ee-v'>1991_06</span></li><li><span class='ee-k'>88:</span><span class='ee-v'>1991_07</span></li><li><span class='ee-k'>89:</span><span class='ee-v'>1991_08</span></li><li><span class='ee-k'>90:</span><span class='ee-v'>1991_09</span></li><li><span class='ee-k'>91:</span><span class='ee-v'>1991_10</span></li><li><span class='ee-k'>92:</span><span class='ee-v'>1991_11</span></li><li><span class='ee-k'>93:</span><span class='ee-v'>1991_12</span></li><li><span class='ee-k'>94:</span><span class='ee-v'>1992_01</span></li><li><span class='ee-k'>95:</span><span class='ee-v'>1992_02</span></li><li><span class='ee-k'>96:</span><span class='ee-v'>1992_03</span></li><li><span class='ee-k'>97:</span><span class='ee-v'>1992_04</span></li><li><span class='ee-k'>98:</span><span class='ee-v'>1992_05</span></li><li><span class='ee-k'>99:</span><span class='ee-v'>1992_06</span></li><li><span class='ee-k'>100:</span><span class='ee-v'>1992_07</span></li><li><span class='ee-k'>101:</span><span class='ee-v'>1992_08</span></li><li><span class='ee-k'>102:</span><span class='ee-v'>1992_09</span></li><li><span class='ee-k'>103:</span><span class='ee-v'>1992_10</span></li><li><span class='ee-k'>104:</span><span class='ee-v'>1992_11</span></li><li><span class='ee-k'>105:</span><span class='ee-v'>1992_12</span></li><li><span class='ee-k'>106:</span><span class='ee-v'>1993_01</span></li><li><span class='ee-k'>107:</span><span class='ee-v'>1993_02</span></li><li><span class='ee-k'>108:</span><span class='ee-v'>1993_03</span></li><li><span class='ee-k'>109:</span><span class='ee-v'>1993_04</span></li><li><span class='ee-k'>110:</span><span class='ee-v'>1993_05</span></li><li><span class='ee-k'>111:</span><span class='ee-v'>1993_06</span></li><li><span class='ee-k'>112:</span><span class='ee-v'>1993_07</span></li><li><span class='ee-k'>113:</span><span class='ee-v'>1993_08</span></li><li><span class='ee-k'>114:</span><span class='ee-v'>1993_09</span></li><li><span class='ee-k'>115:</span><span class='ee-v'>1993_10</span></li><li><span class='ee-k'>116:</span><span class='ee-v'>1993_11</span></li><li><span class='ee-k'>117:</span><span class='ee-v'>1993_12</span></li><li><span class='ee-k'>118:</span><span class='ee-v'>1994_01</span></li><li><span class='ee-k'>119:</span><span class='ee-v'>1994_02</span></li><li><span class='ee-k'>120:</span><span class='ee-v'>1994_03</span></li><li><span class='ee-k'>121:</span><span class='ee-v'>1994_04</span></li><li><span class='ee-k'>122:</span><span class='ee-v'>1994_05</span></li><li><span class='ee-k'>123:</span><span class='ee-v'>1994_06</span></li><li><span class='ee-k'>124:</span><span class='ee-v'>1994_07</span></li><li><span class='ee-k'>125:</span><span class='ee-v'>1994_08</span></li><li><span class='ee-k'>126:</span><span class='ee-v'>1994_09</span></li><li><span class='ee-k'>127:</span><span class='ee-v'>1994_10</span></li><li><span class='ee-k'>128:</span><span class='ee-v'>1994_11</span></li><li><span class='ee-k'>129:</span><span class='ee-v'>1994_12</span></li><li><span class='ee-k'>130:</span><span class='ee-v'>1995_01</span></li><li><span class='ee-k'>131:</span><span class='ee-v'>1995_02</span></li><li><span class='ee-k'>132:</span><span class='ee-v'>1995_03</span></li><li><span class='ee-k'>133:</span><span class='ee-v'>1995_04</span></li><li><span class='ee-k'>134:</span><span class='ee-v'>1995_05</span></li><li><span class='ee-k'>135:</span><span class='ee-v'>1995_06</span></li><li><span class='ee-k'>136:</span><span class='ee-v'>1995_07</span></li><li><span class='ee-k'>137:</span><span class='ee-v'>1995_08</span></li><li><span class='ee-k'>138:</span><span class='ee-v'>1995_09</span></li><li><span class='ee-k'>139:</span><span class='ee-v'>1995_10</span></li><li><span class='ee-k'>140:</span><span class='ee-v'>1995_11</span></li><li><span class='ee-k'>141:</span><span class='ee-v'>1995_12</span></li><li><span class='ee-k'>142:</span><span class='ee-v'>1996_01</span></li><li><span class='ee-k'>143:</span><span class='ee-v'>1996_02</span></li><li><span class='ee-k'>144:</span><span class='ee-v'>1996_03</span></li><li><span class='ee-k'>145:</span><span class='ee-v'>1996_04</span></li><li><span class='ee-k'>146:</span><span class='ee-v'>1996_05</span></li><li><span class='ee-k'>147:</span><span class='ee-v'>1996_06</span></li><li><span class='ee-k'>148:</span><span class='ee-v'>1996_07</span></li><li><span class='ee-k'>149:</span><span class='ee-v'>1996_08</span></li><li><span class='ee-k'>150:</span><span class='ee-v'>1996_09</span></li><li><span class='ee-k'>151:</span><span class='ee-v'>1996_10</span></li><li><span class='ee-k'>152:</span><span class='ee-v'>1996_11</span></li><li><span class='ee-k'>153:</span><span class='ee-v'>1996_12</span></li><li><span class='ee-k'>154:</span><span class='ee-v'>1997_01</span></li><li><span class='ee-k'>155:</span><span class='ee-v'>1997_02</span></li><li><span class='ee-k'>156:</span><span class='ee-v'>1997_03</span></li><li><span class='ee-k'>157:</span><span class='ee-v'>1997_04</span></li><li><span class='ee-k'>158:</span><span class='ee-v'>1997_05</span></li><li><span class='ee-k'>159:</span><span class='ee-v'>1997_06</span></li><li><span class='ee-k'>160:</span><span class='ee-v'>1997_07</span></li><li><span class='ee-k'>161:</span><span class='ee-v'>1997_08</span></li><li><span class='ee-k'>162:</span><span class='ee-v'>1997_09</span></li><li><span class='ee-k'>163:</span><span class='ee-v'>1997_10</span></li><li><span class='ee-k'>164:</span><span class='ee-v'>1997_11</span></li><li><span class='ee-k'>165:</span><span class='ee-v'>1997_12</span></li><li><span class='ee-k'>166:</span><span class='ee-v'>1998_01</span></li><li><span class='ee-k'>167:</span><span class='ee-v'>1998_02</span></li><li><span class='ee-k'>168:</span><span class='ee-v'>1998_03</span></li><li><span class='ee-k'>169:</span><span class='ee-v'>1998_04</span></li><li><span class='ee-k'>170:</span><span class='ee-v'>1998_05</span></li><li><span class='ee-k'>171:</span><span class='ee-v'>1998_06</span></li><li><span class='ee-k'>172:</span><span class='ee-v'>1998_07</span></li><li><span class='ee-k'>173:</span><span class='ee-v'>1998_08</span></li><li><span class='ee-k'>174:</span><span class='ee-v'>1998_09</span></li><li><span class='ee-k'>175:</span><span class='ee-v'>1998_10</span></li><li><span class='ee-k'>176:</span><span class='ee-v'>1998_11</span></li><li><span class='ee-k'>177:</span><span class='ee-v'>1998_12</span></li><li><span class='ee-k'>178:</span><span class='ee-v'>1999_01</span></li><li><span class='ee-k'>179:</span><span class='ee-v'>1999_02</span></li><li><span class='ee-k'>180:</span><span class='ee-v'>1999_03</span></li><li><span class='ee-k'>181:</span><span class='ee-v'>1999_04</span></li><li><span class='ee-k'>182:</span><span class='ee-v'>1999_05</span></li><li><span class='ee-k'>183:</span><span class='ee-v'>1999_06</span></li><li><span class='ee-k'>184:</span><span class='ee-v'>1999_07</span></li><li><span class='ee-k'>185:</span><span class='ee-v'>1999_08</span></li><li><span class='ee-k'>186:</span><span class='ee-v'>1999_09</span></li><li><span class='ee-k'>187:</span><span class='ee-v'>1999_10</span></li><li><span class='ee-k'>188:</span><span class='ee-v'>1999_11</span></li><li><span class='ee-k'>189:</span><span class='ee-v'>1999_12</span></li><li><span class='ee-k'>190:</span><span class='ee-v'>2000_01</span></li><li><span class='ee-k'>191:</span><span class='ee-v'>2000_02</span></li><li><span class='ee-k'>192:</span><span class='ee-v'>2000_03</span></li><li><span class='ee-k'>193:</span><span class='ee-v'>2000_04</span></li><li><span class='ee-k'>194:</span><span class='ee-v'>2000_05</span></li><li><span class='ee-k'>195:</span><span class='ee-v'>2000_06</span></li><li><span class='ee-k'>196:</span><span class='ee-v'>2000_07</span></li><li><span class='ee-k'>197:</span><span class='ee-v'>2000_08</span></li><li><span class='ee-k'>198:</span><span class='ee-v'>2000_09</span></li><li><span class='ee-k'>199:</span><span class='ee-v'>2000_10</span></li><li><span class='ee-k'>200:</span><span class='ee-v'>2000_11</span></li><li><span class='ee-k'>201:</span><span class='ee-v'>2000_12</span></li><li><span class='ee-k'>202:</span><span class='ee-v'>2001_01</span></li><li><span class='ee-k'>203:</span><span class='ee-v'>2001_02</span></li><li><span class='ee-k'>204:</span><span class='ee-v'>2001_03</span></li><li><span class='ee-k'>205:</span><span class='ee-v'>2001_04</span></li><li><span class='ee-k'>206:</span><span class='ee-v'>2001_05</span></li><li><span class='ee-k'>207:</span><span class='ee-v'>2001_06</span></li><li><span class='ee-k'>208:</span><span class='ee-v'>2001_07</span></li><li><span class='ee-k'>209:</span><span class='ee-v'>2001_08</span></li><li><span class='ee-k'>210:</span><span class='ee-v'>2001_09</span></li><li><span class='ee-k'>211:</span><span class='ee-v'>2001_10</span></li><li><span class='ee-k'>212:</span><span class='ee-v'>2001_11</span></li><li><span class='ee-k'>213:</span><span class='ee-v'>2001_12</span></li><li><span class='ee-k'>214:</span><span class='ee-v'>2002_01</span></li><li><span class='ee-k'>215:</span><span class='ee-v'>2002_02</span></li><li><span class='ee-k'>216:</span><span class='ee-v'>2002_03</span></li><li><span class='ee-k'>217:</span><span class='ee-v'>2002_04</span></li><li><span class='ee-k'>218:</span><span class='ee-v'>2002_05</span></li><li><span class='ee-k'>219:</span><span class='ee-v'>2002_06</span></li><li><span class='ee-k'>220:</span><span class='ee-v'>2002_07</span></li><li><span class='ee-k'>221:</span><span class='ee-v'>2002_08</span></li><li><span class='ee-k'>222:</span><span class='ee-v'>2002_09</span></li><li><span class='ee-k'>223:</span><span class='ee-v'>2002_10</span></li><li><span class='ee-k'>224:</span><span class='ee-v'>2002_11</span></li><li><span class='ee-k'>225:</span><span class='ee-v'>2002_12</span></li><li><span class='ee-k'>226:</span><span class='ee-v'>2003_01</span></li><li><span class='ee-k'>227:</span><span class='ee-v'>2003_02</span></li><li><span class='ee-k'>228:</span><span class='ee-v'>2003_03</span></li><li><span class='ee-k'>229:</span><span class='ee-v'>2003_04</span></li><li><span class='ee-k'>230:</span><span class='ee-v'>2003_05</span></li><li><span class='ee-k'>231:</span><span class='ee-v'>2003_06</span></li><li><span class='ee-k'>232:</span><span class='ee-v'>2003_07</span></li><li><span class='ee-k'>233:</span><span class='ee-v'>2003_08</span></li><li><span class='ee-k'>234:</span><span class='ee-v'>2003_09</span></li><li><span class='ee-k'>235:</span><span class='ee-v'>2003_10</span></li><li><span class='ee-k'>236:</span><span class='ee-v'>2003_11</span></li><li><span class='ee-k'>237:</span><span class='ee-v'>2003_12</span></li><li><span class='ee-k'>238:</span><span class='ee-v'>2004_01</span></li><li><span class='ee-k'>239:</span><span class='ee-v'>2004_02</span></li><li><span class='ee-k'>240:</span><span class='ee-v'>2004_03</span></li><li><span class='ee-k'>241:</span><span class='ee-v'>2004_04</span></li><li><span class='ee-k'>242:</span><span class='ee-v'>2004_05</span></li><li><span class='ee-k'>243:</span><span class='ee-v'>2004_06</span></li><li><span class='ee-k'>244:</span><span class='ee-v'>2004_07</span></li><li><span class='ee-k'>245:</span><span class='ee-v'>2004_08</span></li><li><span class='ee-k'>246:</span><span class='ee-v'>2004_09</span></li><li><span class='ee-k'>247:</span><span class='ee-v'>2004_10</span></li><li><span class='ee-k'>248:</span><span class='ee-v'>2004_11</span></li><li><span class='ee-k'>249:</span><span class='ee-v'>2004_12</span></li><li><span class='ee-k'>250:</span><span class='ee-v'>2005_01</span></li><li><span class='ee-k'>251:</span><span class='ee-v'>2005_02</span></li><li><span class='ee-k'>252:</span><span class='ee-v'>2005_03</span></li><li><span class='ee-k'>253:</span><span class='ee-v'>2005_04</span></li><li><span class='ee-k'>254:</span><span class='ee-v'>2005_05</span></li><li><span class='ee-k'>255:</span><span class='ee-v'>2005_06</span></li><li><span class='ee-k'>256:</span><span class='ee-v'>2005_07</span></li><li><span class='ee-k'>257:</span><span class='ee-v'>2005_08</span></li><li><span class='ee-k'>258:</span><span class='ee-v'>2005_09</span></li><li><span class='ee-k'>259:</span><span class='ee-v'>2005_10</span></li><li><span class='ee-k'>260:</span><span class='ee-v'>2005_11</span></li><li><span class='ee-k'>261:</span><span class='ee-v'>2005_12</span></li><li><span class='ee-k'>262:</span><span class='ee-v'>2006_01</span></li><li><span class='ee-k'>263:</span><span class='ee-v'>2006_02</span></li><li><span class='ee-k'>264:</span><span class='ee-v'>2006_03</span></li><li><span class='ee-k'>265:</span><span class='ee-v'>2006_04</span></li><li><span class='ee-k'>266:</span><span class='ee-v'>2006_05</span></li><li><span class='ee-k'>267:</span><span class='ee-v'>2006_06</span></li><li><span class='ee-k'>268:</span><span class='ee-v'>2006_07</span></li><li><span class='ee-k'>269:</span><span class='ee-v'>2006_08</span></li><li><span class='ee-k'>270:</span><span class='ee-v'>2006_09</span></li><li><span class='ee-k'>271:</span><span class='ee-v'>2006_10</span></li><li><span class='ee-k'>272:</span><span class='ee-v'>2006_11</span></li><li><span class='ee-k'>273:</span><span class='ee-v'>2006_12</span></li><li><span class='ee-k'>274:</span><span class='ee-v'>2007_01</span></li><li><span class='ee-k'>275:</span><span class='ee-v'>2007_02</span></li><li><span class='ee-k'>276:</span><span class='ee-v'>2007_03</span></li><li><span class='ee-k'>277:</span><span class='ee-v'>2007_04</span></li><li><span class='ee-k'>278:</span><span class='ee-v'>2007_05</span></li><li><span class='ee-k'>279:</span><span class='ee-v'>2007_06</span></li><li><span class='ee-k'>280:</span><span class='ee-v'>2007_07</span></li><li><span class='ee-k'>281:</span><span class='ee-v'>2007_08</span></li><li><span class='ee-k'>282:</span><span class='ee-v'>2007_09</span></li><li><span class='ee-k'>283:</span><span class='ee-v'>2007_10</span></li><li><span class='ee-k'>284:</span><span class='ee-v'>2007_11</span></li><li><span class='ee-k'>285:</span><span class='ee-v'>2007_12</span></li><li><span class='ee-k'>286:</span><span class='ee-v'>2008_01</span></li><li><span class='ee-k'>287:</span><span class='ee-v'>2008_02</span></li><li><span class='ee-k'>288:</span><span class='ee-v'>2008_03</span></li><li><span class='ee-k'>289:</span><span class='ee-v'>2008_04</span></li><li><span class='ee-k'>290:</span><span class='ee-v'>2008_05</span></li><li><span class='ee-k'>291:</span><span class='ee-v'>2008_06</span></li><li><span class='ee-k'>292:</span><span class='ee-v'>2008_07</span></li><li><span class='ee-k'>293:</span><span class='ee-v'>2008_08</span></li><li><span class='ee-k'>294:</span><span class='ee-v'>2008_09</span></li><li><span class='ee-k'>295:</span><span class='ee-v'>2008_10</span></li><li><span class='ee-k'>296:</span><span class='ee-v'>2008_11</span></li><li><span class='ee-k'>297:</span><span class='ee-v'>2008_12</span></li><li><span class='ee-k'>298:</span><span class='ee-v'>2009_01</span></li><li><span class='ee-k'>299:</span><span class='ee-v'>2009_02</span></li><li><span class='ee-k'>300:</span><span class='ee-v'>2009_03</span></li><li><span class='ee-k'>301:</span><span class='ee-v'>2009_04</span></li><li><span class='ee-k'>302:</span><span class='ee-v'>2009_05</span></li><li><span class='ee-k'>303:</span><span class='ee-v'>2009_06</span></li><li><span class='ee-k'>304:</span><span class='ee-v'>2009_07</span></li><li><span class='ee-k'>305:</span><span class='ee-v'>2009_08</span></li><li><span class='ee-k'>306:</span><span class='ee-v'>2009_09</span></li><li><span class='ee-k'>307:</span><span class='ee-v'>2009_10</span></li><li><span class='ee-k'>308:</span><span class='ee-v'>2009_11</span></li><li><span class='ee-k'>309:</span><span class='ee-v'>2009_12</span></li><li><span class='ee-k'>310:</span><span class='ee-v'>2010_01</span></li><li><span class='ee-k'>311:</span><span class='ee-v'>2010_02</span></li><li><span class='ee-k'>312:</span><span class='ee-v'>2010_03</span></li><li><span class='ee-k'>313:</span><span class='ee-v'>2010_04</span></li><li><span class='ee-k'>314:</span><span class='ee-v'>2010_05</span></li><li><span class='ee-k'>315:</span><span class='ee-v'>2010_06</span></li><li><span class='ee-k'>316:</span><span class='ee-v'>2010_07</span></li><li><span class='ee-k'>317:</span><span class='ee-v'>2010_08</span></li><li><span class='ee-k'>318:</span><span class='ee-v'>2010_09</span></li><li><span class='ee-k'>319:</span><span class='ee-v'>2010_10</span></li><li><span class='ee-k'>320:</span><span class='ee-v'>2010_11</span></li><li><span class='ee-k'>321:</span><span class='ee-v'>2010_12</span></li><li><span class='ee-k'>322:</span><span class='ee-v'>2011_01</span></li><li><span class='ee-k'>323:</span><span class='ee-v'>2011_02</span></li><li><span class='ee-k'>324:</span><span class='ee-v'>2011_03</span></li><li><span class='ee-k'>325:</span><span class='ee-v'>2011_04</span></li><li><span class='ee-k'>326:</span><span class='ee-v'>2011_05</span></li><li><span class='ee-k'>327:</span><span class='ee-v'>2011_06</span></li><li><span class='ee-k'>328:</span><span class='ee-v'>2011_07</span></li><li><span class='ee-k'>329:</span><span class='ee-v'>2011_08</span></li><li><span class='ee-k'>330:</span><span class='ee-v'>2011_09</span></li><li><span class='ee-k'>331:</span><span class='ee-v'>2011_10</span></li><li><span class='ee-k'>332:</span><span class='ee-v'>2011_11</span></li><li><span class='ee-k'>333:</span><span class='ee-v'>2011_12</span></li><li><span class='ee-k'>334:</span><span class='ee-v'>2012_01</span></li><li><span class='ee-k'>335:</span><span class='ee-v'>2012_02</span></li><li><span class='ee-k'>336:</span><span class='ee-v'>2012_03</span></li><li><span class='ee-k'>337:</span><span class='ee-v'>2012_04</span></li><li><span class='ee-k'>338:</span><span class='ee-v'>2012_05</span></li><li><span class='ee-k'>339:</span><span class='ee-v'>2012_06</span></li><li><span class='ee-k'>340:</span><span class='ee-v'>2012_07</span></li><li><span class='ee-k'>341:</span><span class='ee-v'>2012_08</span></li><li><span class='ee-k'>342:</span><span class='ee-v'>2012_09</span></li><li><span class='ee-k'>343:</span><span class='ee-v'>2012_10</span></li><li><span class='ee-k'>344:</span><span class='ee-v'>2012_11</span></li><li><span class='ee-k'>345:</span><span class='ee-v'>2012_12</span></li><li><span class='ee-k'>346:</span><span class='ee-v'>2013_01</span></li><li><span class='ee-k'>347:</span><span class='ee-v'>2013_02</span></li><li><span class='ee-k'>348:</span><span class='ee-v'>2013_03</span></li><li><span class='ee-k'>349:</span><span class='ee-v'>2013_04</span></li><li><span class='ee-k'>350:</span><span class='ee-v'>2013_05</span></li><li><span class='ee-k'>351:</span><span class='ee-v'>2013_06</span></li><li><span class='ee-k'>352:</span><span class='ee-v'>2013_07</span></li><li><span class='ee-k'>353:</span><span class='ee-v'>2013_08</span></li><li><span class='ee-k'>354:</span><span class='ee-v'>2013_09</span></li><li><span class='ee-k'>355:</span><span class='ee-v'>2013_10</span></li><li><span class='ee-k'>356:</span><span class='ee-v'>2013_11</span></li><li><span class='ee-k'>357:</span><span class='ee-v'>2013_12</span></li><li><span class='ee-k'>358:</span><span class='ee-v'>2014_01</span></li><li><span class='ee-k'>359:</span><span class='ee-v'>2014_02</span></li><li><span class='ee-k'>360:</span><span class='ee-v'>2014_03</span></li><li><span class='ee-k'>361:</span><span class='ee-v'>2014_04</span></li><li><span class='ee-k'>362:</span><span class='ee-v'>2014_05</span></li><li><span class='ee-k'>363:</span><span class='ee-v'>2014_06</span></li><li><span class='ee-k'>364:</span><span class='ee-v'>2014_07</span></li><li><span class='ee-k'>365:</span><span class='ee-v'>2014_08</span></li><li><span class='ee-k'>366:</span><span class='ee-v'>2014_09</span></li><li><span class='ee-k'>367:</span><span class='ee-v'>2014_10</span></li><li><span class='ee-k'>368:</span><span class='ee-v'>2014_11</span></li><li><span class='ee-k'>369:</span><span class='ee-v'>2014_12</span></li><li><span class='ee-k'>370:</span><span class='ee-v'>2015_01</span></li><li><span class='ee-k'>371:</span><span class='ee-v'>2015_02</span></li><li><span class='ee-k'>372:</span><span class='ee-v'>2015_03</span></li><li><span class='ee-k'>373:</span><span class='ee-v'>2015_04</span></li><li><span class='ee-k'>374:</span><span class='ee-v'>2015_05</span></li><li><span class='ee-k'>375:</span><span class='ee-v'>2015_06</span></li><li><span class='ee-k'>376:</span><span class='ee-v'>2015_07</span></li><li><span class='ee-k'>377:</span><span class='ee-v'>2015_08</span></li><li><span class='ee-k'>378:</span><span class='ee-v'>2015_09</span></li><li><span class='ee-k'>379:</span><span class='ee-v'>2015_10</span></li><li><span class='ee-k'>380:</span><span class='ee-v'>2015_11</span></li><li><span class='ee-k'>381:</span><span class='ee-v'>2015_12</span></li><li><span class='ee-k'>382:</span><span class='ee-v'>2016_01</span></li><li><span class='ee-k'>383:</span><span class='ee-v'>2016_02</span></li><li><span class='ee-k'>384:</span><span class='ee-v'>2016_03</span></li><li><span class='ee-k'>385:</span><span class='ee-v'>2016_04</span></li><li><span class='ee-k'>386:</span><span class='ee-v'>2016_05</span></li><li><span class='ee-k'>387:</span><span class='ee-v'>2016_06</span></li><li><span class='ee-k'>388:</span><span class='ee-v'>2016_07</span></li><li><span class='ee-k'>389:</span><span class='ee-v'>2016_08</span></li><li><span class='ee-k'>390:</span><span class='ee-v'>2016_09</span></li><li><span class='ee-k'>391:</span><span class='ee-v'>2016_10</span></li><li><span class='ee-k'>392:</span><span class='ee-v'>2016_11</span></li><li><span class='ee-k'>393:</span><span class='ee-v'>2016_12</span></li><li><span class='ee-k'>394:</span><span class='ee-v'>2017_01</span></li><li><span class='ee-k'>395:</span><span class='ee-v'>2017_02</span></li><li><span class='ee-k'>396:</span><span class='ee-v'>2017_03</span></li><li><span class='ee-k'>397:</span><span class='ee-v'>2017_04</span></li><li><span class='ee-k'>398:</span><span class='ee-v'>2017_05</span></li><li><span class='ee-k'>399:</span><span class='ee-v'>2017_06</span></li><li><span class='ee-k'>400:</span><span class='ee-v'>2017_07</span></li><li><span class='ee-k'>401:</span><span class='ee-v'>2017_08</span></li><li><span class='ee-k'>402:</span><span class='ee-v'>2017_09</span></li><li><span class='ee-k'>403:</span><span class='ee-v'>2017_10</span></li><li><span class='ee-k'>404:</span><span class='ee-v'>2017_11</span></li><li><span class='ee-k'>405:</span><span class='ee-v'>2017_12</span></li><li><span class='ee-k'>406:</span><span class='ee-v'>2018_01</span></li><li><span class='ee-k'>407:</span><span class='ee-v'>2018_02</span></li><li><span class='ee-k'>408:</span><span class='ee-v'>2018_03</span></li><li><span class='ee-k'>409:</span><span class='ee-v'>2018_04</span></li><li><span class='ee-k'>410:</span><span class='ee-v'>2018_05</span></li><li><span class='ee-k'>411:</span><span class='ee-v'>2018_06</span></li><li><span class='ee-k'>412:</span><span class='ee-v'>2018_07</span></li><li><span class='ee-k'>413:</span><span class='ee-v'>2018_08</span></li><li><span class='ee-k'>414:</span><span class='ee-v'>2018_09</span></li><li><span class='ee-k'>415:</span><span class='ee-v'>2018_10</span></li><li><span class='ee-k'>416:</span><span class='ee-v'>2018_11</span></li><li><span class='ee-k'>417:</span><span class='ee-v'>2018_12</span></li><li><span class='ee-k'>418:</span><span class='ee-v'>2019_01</span></li><li><span class='ee-k'>419:</span><span class='ee-v'>2019_02</span></li><li><span class='ee-k'>420:</span><span class='ee-v'>2019_03</span></li><li><span class='ee-k'>421:</span><span class='ee-v'>2019_04</span></li><li><span class='ee-k'>422:</span><span class='ee-v'>2019_05</span></li><li><span class='ee-k'>423:</span><span class='ee-v'>2019_06</span></li><li><span class='ee-k'>424:</span><span class='ee-v'>2019_07</span></li><li><span class='ee-k'>425:</span><span class='ee-v'>2019_08</span></li><li><span class='ee-k'>426:</span><span class='ee-v'>2019_09</span></li><li><span class='ee-k'>427:</span><span class='ee-v'>2019_10</span></li><li><span class='ee-k'>428:</span><span class='ee-v'>2019_11</span></li><li><span class='ee-k'>429:</span><span class='ee-v'>2019_12</span></li><li><span class='ee-k'>430:</span><span class='ee-v'>2020_01</span></li><li><span class='ee-k'>431:</span><span class='ee-v'>2020_02</span></li><li><span class='ee-k'>432:</span><span class='ee-v'>2020_03</span></li><li><span class='ee-k'>433:</span><span class='ee-v'>2020_04</span></li><li><span class='ee-k'>434:</span><span class='ee-v'>2020_05</span></li><li><span class='ee-k'>435:</span><span class='ee-v'>2020_06</span></li><li><span class='ee-k'>436:</span><span class='ee-v'>2020_07</span></li><li><span class='ee-k'>437:</span><span class='ee-v'>2020_08</span></li><li><span class='ee-k'>438:</span><span class='ee-v'>2020_09</span></li><li><span class='ee-k'>439:</span><span class='ee-v'>2020_10</span></li><li><span class='ee-k'>440:</span><span class='ee-v'>2020_11</span></li><li><span class='ee-k'>441:</span><span class='ee-v'>2020_12</span></li><li><span class='ee-k'>442:</span><span class='ee-v'>2021_01</span></li><li><span class='ee-k'>443:</span><span class='ee-v'>2021_02</span></li><li><span class='ee-k'>444:</span><span class='ee-v'>2021_03</span></li><li><span class='ee-k'>445:</span><span class='ee-v'>2021_04</span></li><li><span class='ee-k'>446:</span><span class='ee-v'>2021_05</span></li><li><span class='ee-k'>447:</span><span class='ee-v'>2021_06</span></li><li><span class='ee-k'>448:</span><span class='ee-v'>2021_07</span></li><li><span class='ee-k'>449:</span><span class='ee-v'>2021_08</span></li><li><span class='ee-k'>450:</span><span class='ee-v'>2021_09</span></li><li><span class='ee-k'>451:</span><span class='ee-v'>2021_10</span></li><li><span class='ee-k'>452:</span><span class='ee-v'>2021_11</span></li><li><span class='ee-k'>453:</span><span class='ee-v'>2021_12</span></li></ul></li></ul></div><script>function toggleHeader() {\n",
       "    const parent = this.parentElement;\n",
       "    parent.className = parent.className === \"ee-open\" ? \"ee-shut\" : \"ee-open\";\n",
       "}\n",
       "\n",
       "for (let c of document.getElementsByClassName(\"ee-toggle\")) {\n",
       "    c.onclick = toggleHeader;\n",
       "}</script></div>"
      ],
      "text/plain": [
       "<ee.ee_list.List at 0x1bc11945790>"
      ]
     },
     "execution_count": 2,
     "metadata": {},
     "output_type": "execute_result"
    }
   ],
   "source": [
    "month= ee.ImageCollection('JRC/GSW1_4/MonthlyHistory')\n",
    "month.aggregate_array(\"system:index\")"
   ]
  },
  {
   "cell_type": "code",
   "execution_count": 3,
   "metadata": {},
   "outputs": [
    {
     "data": {
      "text/html": [
       "\n",
       "            <style>\n",
       "                .geemap-dark {\n",
       "                    --jp-widgets-color: white;\n",
       "                    --jp-widgets-label-color: white;\n",
       "                    --jp-ui-font-color1: white;\n",
       "                    --jp-layout-color2: #454545;\n",
       "                    background-color: #383838;\n",
       "                }\n",
       "\n",
       "                .geemap-dark .jupyter-button {\n",
       "                    --jp-layout-color3: #383838;\n",
       "                }\n",
       "\n",
       "                .geemap-colab {\n",
       "                    background-color: var(--colab-primary-surface-color, white);\n",
       "                }\n",
       "\n",
       "                .geemap-colab .jupyter-button {\n",
       "                    --jp-layout-color3: var(--colab-primary-surface-color, white);\n",
       "                }\n",
       "            </style>\n",
       "            "
      ],
      "text/plain": [
       "<IPython.core.display.HTML object>"
      ]
     },
     "metadata": {},
     "output_type": "display_data"
    },
    {
     "data": {
      "application/vnd.jupyter.widget-view+json": {
       "model_id": "049ab006ccb4431a9c9424216368738f",
       "version_major": 2,
       "version_minor": 0
      },
      "text/plain": [
       "Map(center=[0, 0], controls=(WidgetControl(options=['position', 'transparent_bg'], widget=SearchDataGUI(childr…"
      ]
     },
     "execution_count": 3,
     "metadata": {},
     "output_type": "execute_result"
    }
   ],
   "source": [
    "Map= geemap.Map()\n",
    "Map"
   ]
  },
  {
   "cell_type": "code",
   "execution_count": 4,
   "metadata": {},
   "outputs": [
    {
     "data": {
      "text/html": [
       "\n",
       "            <style>\n",
       "                .geemap-dark {\n",
       "                    --jp-widgets-color: white;\n",
       "                    --jp-widgets-label-color: white;\n",
       "                    --jp-ui-font-color1: white;\n",
       "                    --jp-layout-color2: #454545;\n",
       "                    background-color: #383838;\n",
       "                }\n",
       "\n",
       "                .geemap-dark .jupyter-button {\n",
       "                    --jp-layout-color3: #383838;\n",
       "                }\n",
       "\n",
       "                .geemap-colab {\n",
       "                    background-color: var(--colab-primary-surface-color, white);\n",
       "                }\n",
       "\n",
       "                .geemap-colab .jupyter-button {\n",
       "                    --jp-layout-color3: var(--colab-primary-surface-color, white);\n",
       "                }\n",
       "            </style>\n",
       "            "
      ],
      "text/plain": [
       "<IPython.core.display.HTML object>"
      ]
     },
     "metadata": {},
     "output_type": "display_data"
    }
   ],
   "source": [
    "image=month.filterDate('2019-01-01', '2021-01-01').first()\n",
    "vis_params= {\n",
    "    'min': 0.0,\n",
    "    'max':2.0,\n",
    "    'palette': ['ffffff', 'fffcb8', '0905ff']\n",
    "}\n",
    "Map.addLayer(image, vis_params, 'Water Occurrence')\n",
    "Map.add_colorbar(vis_params, label= 'Water Occurrence')"
   ]
  },
  {
   "cell_type": "code",
   "execution_count": 5,
   "metadata": {},
   "outputs": [
    {
     "data": {
      "text/html": [
       "\n",
       "            <style>\n",
       "                .geemap-dark {\n",
       "                    --jp-widgets-color: white;\n",
       "                    --jp-widgets-label-color: white;\n",
       "                    --jp-ui-font-color1: white;\n",
       "                    --jp-layout-color2: #454545;\n",
       "                    background-color: #383838;\n",
       "                }\n",
       "\n",
       "                .geemap-dark .jupyter-button {\n",
       "                    --jp-layout-color3: #383838;\n",
       "                }\n",
       "\n",
       "                .geemap-colab {\n",
       "                    background-color: var(--colab-primary-surface-color, white);\n",
       "                }\n",
       "\n",
       "                .geemap-colab .jupyter-button {\n",
       "                    --jp-layout-color3: var(--colab-primary-surface-color, white);\n",
       "                }\n",
       "            </style>\n",
       "            "
      ],
      "text/plain": [
       "<IPython.core.display.HTML object>"
      ]
     },
     "metadata": {},
     "output_type": "display_data"
    }
   ],
   "source": [
    "region= Map.user_roi"
   ]
  },
  {
   "cell_type": "code",
   "execution_count": 6,
   "metadata": {},
   "outputs": [
    {
     "data": {
      "text/html": [
       "\n",
       "            <style>\n",
       "                .geemap-dark {\n",
       "                    --jp-widgets-color: white;\n",
       "                    --jp-widgets-label-color: white;\n",
       "                    --jp-ui-font-color1: white;\n",
       "                    --jp-layout-color2: #454545;\n",
       "                    background-color: #383838;\n",
       "                }\n",
       "\n",
       "                .geemap-dark .jupyter-button {\n",
       "                    --jp-layout-color3: #383838;\n",
       "                }\n",
       "\n",
       "                .geemap-colab {\n",
       "                    background-color: var(--colab-primary-surface-color, white);\n",
       "                }\n",
       "\n",
       "                .geemap-colab .jupyter-button {\n",
       "                    --jp-layout-color3: var(--colab-primary-surface-color, white);\n",
       "                }\n",
       "            </style>\n",
       "            "
      ],
      "text/plain": [
       "<IPython.core.display.HTML object>"
      ]
     },
     "metadata": {},
     "output_type": "display_data"
    },
    {
     "data": {
      "application/vnd.plotly.v1+json": {
       "config": {
        "plotlyServerURL": "https://plot.ly"
       },
       "data": [
        {
         "alignmentgroup": "True",
         "hovertemplate": "Month=%{x}<br>Area (ha)=%{y}<extra></extra>",
         "legendgroup": "",
         "marker": {
          "color": "#636efa",
          "pattern": {
           "shape": ""
          }
         },
         "name": "",
         "offsetgroup": "",
         "orientation": "v",
         "showlegend": false,
         "textposition": "auto",
         "type": "bar",
         "x": [
          "2019_01",
          "2019_02",
          "2019_03",
          "2019_04",
          "2019_05",
          "2019_06",
          "2019_07",
          "2019_08",
          "2019_09",
          "2019_10",
          "2019_11",
          "2019_12",
          "2020_01",
          "2020_02",
          "2020_03",
          "2020_04",
          "2020_05",
          "2020_06",
          "2020_07",
          "2020_08",
          "2020_09",
          "2020_10",
          "2020_11",
          "2020_12"
         ],
         "xaxis": "x",
         "y": [
          1046.0020997314518,
          4.022589434814452,
          28.47575725708008,
          131.626643914795,
          13.831490563964836,
          0,
          0,
          15.569423767089843,
          3.003171313476562,
          6.943077105712888,
          1.8937150939941407,
          0.07904403076171874,
          1.7362981323242186,
          249.42365100097734,
          246.73814224336516,
          74.21276807861324,
          0,
          0,
          0,
          128.29070005493165,
          44.470803417968746,
          467.3260177612315,
          0.4742579345703125,
          335.9474086364732
         ],
         "yaxis": "y"
        }
       ],
       "layout": {
        "barmode": "relative",
        "legend": {
         "tracegroupgap": 0
        },
        "margin": {
         "t": 60
        },
        "template": {
         "data": {
          "bar": [
           {
            "error_x": {
             "color": "#2a3f5f"
            },
            "error_y": {
             "color": "#2a3f5f"
            },
            "marker": {
             "line": {
              "color": "#E5ECF6",
              "width": 0.5
             },
             "pattern": {
              "fillmode": "overlay",
              "size": 10,
              "solidity": 0.2
             }
            },
            "type": "bar"
           }
          ],
          "barpolar": [
           {
            "marker": {
             "line": {
              "color": "#E5ECF6",
              "width": 0.5
             },
             "pattern": {
              "fillmode": "overlay",
              "size": 10,
              "solidity": 0.2
             }
            },
            "type": "barpolar"
           }
          ],
          "carpet": [
           {
            "aaxis": {
             "endlinecolor": "#2a3f5f",
             "gridcolor": "white",
             "linecolor": "white",
             "minorgridcolor": "white",
             "startlinecolor": "#2a3f5f"
            },
            "baxis": {
             "endlinecolor": "#2a3f5f",
             "gridcolor": "white",
             "linecolor": "white",
             "minorgridcolor": "white",
             "startlinecolor": "#2a3f5f"
            },
            "type": "carpet"
           }
          ],
          "choropleth": [
           {
            "colorbar": {
             "outlinewidth": 0,
             "ticks": ""
            },
            "type": "choropleth"
           }
          ],
          "contour": [
           {
            "colorbar": {
             "outlinewidth": 0,
             "ticks": ""
            },
            "colorscale": [
             [
              0,
              "#0d0887"
             ],
             [
              0.1111111111111111,
              "#46039f"
             ],
             [
              0.2222222222222222,
              "#7201a8"
             ],
             [
              0.3333333333333333,
              "#9c179e"
             ],
             [
              0.4444444444444444,
              "#bd3786"
             ],
             [
              0.5555555555555556,
              "#d8576b"
             ],
             [
              0.6666666666666666,
              "#ed7953"
             ],
             [
              0.7777777777777778,
              "#fb9f3a"
             ],
             [
              0.8888888888888888,
              "#fdca26"
             ],
             [
              1,
              "#f0f921"
             ]
            ],
            "type": "contour"
           }
          ],
          "contourcarpet": [
           {
            "colorbar": {
             "outlinewidth": 0,
             "ticks": ""
            },
            "type": "contourcarpet"
           }
          ],
          "heatmap": [
           {
            "colorbar": {
             "outlinewidth": 0,
             "ticks": ""
            },
            "colorscale": [
             [
              0,
              "#0d0887"
             ],
             [
              0.1111111111111111,
              "#46039f"
             ],
             [
              0.2222222222222222,
              "#7201a8"
             ],
             [
              0.3333333333333333,
              "#9c179e"
             ],
             [
              0.4444444444444444,
              "#bd3786"
             ],
             [
              0.5555555555555556,
              "#d8576b"
             ],
             [
              0.6666666666666666,
              "#ed7953"
             ],
             [
              0.7777777777777778,
              "#fb9f3a"
             ],
             [
              0.8888888888888888,
              "#fdca26"
             ],
             [
              1,
              "#f0f921"
             ]
            ],
            "type": "heatmap"
           }
          ],
          "heatmapgl": [
           {
            "colorbar": {
             "outlinewidth": 0,
             "ticks": ""
            },
            "colorscale": [
             [
              0,
              "#0d0887"
             ],
             [
              0.1111111111111111,
              "#46039f"
             ],
             [
              0.2222222222222222,
              "#7201a8"
             ],
             [
              0.3333333333333333,
              "#9c179e"
             ],
             [
              0.4444444444444444,
              "#bd3786"
             ],
             [
              0.5555555555555556,
              "#d8576b"
             ],
             [
              0.6666666666666666,
              "#ed7953"
             ],
             [
              0.7777777777777778,
              "#fb9f3a"
             ],
             [
              0.8888888888888888,
              "#fdca26"
             ],
             [
              1,
              "#f0f921"
             ]
            ],
            "type": "heatmapgl"
           }
          ],
          "histogram": [
           {
            "marker": {
             "pattern": {
              "fillmode": "overlay",
              "size": 10,
              "solidity": 0.2
             }
            },
            "type": "histogram"
           }
          ],
          "histogram2d": [
           {
            "colorbar": {
             "outlinewidth": 0,
             "ticks": ""
            },
            "colorscale": [
             [
              0,
              "#0d0887"
             ],
             [
              0.1111111111111111,
              "#46039f"
             ],
             [
              0.2222222222222222,
              "#7201a8"
             ],
             [
              0.3333333333333333,
              "#9c179e"
             ],
             [
              0.4444444444444444,
              "#bd3786"
             ],
             [
              0.5555555555555556,
              "#d8576b"
             ],
             [
              0.6666666666666666,
              "#ed7953"
             ],
             [
              0.7777777777777778,
              "#fb9f3a"
             ],
             [
              0.8888888888888888,
              "#fdca26"
             ],
             [
              1,
              "#f0f921"
             ]
            ],
            "type": "histogram2d"
           }
          ],
          "histogram2dcontour": [
           {
            "colorbar": {
             "outlinewidth": 0,
             "ticks": ""
            },
            "colorscale": [
             [
              0,
              "#0d0887"
             ],
             [
              0.1111111111111111,
              "#46039f"
             ],
             [
              0.2222222222222222,
              "#7201a8"
             ],
             [
              0.3333333333333333,
              "#9c179e"
             ],
             [
              0.4444444444444444,
              "#bd3786"
             ],
             [
              0.5555555555555556,
              "#d8576b"
             ],
             [
              0.6666666666666666,
              "#ed7953"
             ],
             [
              0.7777777777777778,
              "#fb9f3a"
             ],
             [
              0.8888888888888888,
              "#fdca26"
             ],
             [
              1,
              "#f0f921"
             ]
            ],
            "type": "histogram2dcontour"
           }
          ],
          "mesh3d": [
           {
            "colorbar": {
             "outlinewidth": 0,
             "ticks": ""
            },
            "type": "mesh3d"
           }
          ],
          "parcoords": [
           {
            "line": {
             "colorbar": {
              "outlinewidth": 0,
              "ticks": ""
             }
            },
            "type": "parcoords"
           }
          ],
          "pie": [
           {
            "automargin": true,
            "type": "pie"
           }
          ],
          "scatter": [
           {
            "fillpattern": {
             "fillmode": "overlay",
             "size": 10,
             "solidity": 0.2
            },
            "type": "scatter"
           }
          ],
          "scatter3d": [
           {
            "line": {
             "colorbar": {
              "outlinewidth": 0,
              "ticks": ""
             }
            },
            "marker": {
             "colorbar": {
              "outlinewidth": 0,
              "ticks": ""
             }
            },
            "type": "scatter3d"
           }
          ],
          "scattercarpet": [
           {
            "marker": {
             "colorbar": {
              "outlinewidth": 0,
              "ticks": ""
             }
            },
            "type": "scattercarpet"
           }
          ],
          "scattergeo": [
           {
            "marker": {
             "colorbar": {
              "outlinewidth": 0,
              "ticks": ""
             }
            },
            "type": "scattergeo"
           }
          ],
          "scattergl": [
           {
            "marker": {
             "colorbar": {
              "outlinewidth": 0,
              "ticks": ""
             }
            },
            "type": "scattergl"
           }
          ],
          "scattermapbox": [
           {
            "marker": {
             "colorbar": {
              "outlinewidth": 0,
              "ticks": ""
             }
            },
            "type": "scattermapbox"
           }
          ],
          "scatterpolar": [
           {
            "marker": {
             "colorbar": {
              "outlinewidth": 0,
              "ticks": ""
             }
            },
            "type": "scatterpolar"
           }
          ],
          "scatterpolargl": [
           {
            "marker": {
             "colorbar": {
              "outlinewidth": 0,
              "ticks": ""
             }
            },
            "type": "scatterpolargl"
           }
          ],
          "scatterternary": [
           {
            "marker": {
             "colorbar": {
              "outlinewidth": 0,
              "ticks": ""
             }
            },
            "type": "scatterternary"
           }
          ],
          "surface": [
           {
            "colorbar": {
             "outlinewidth": 0,
             "ticks": ""
            },
            "colorscale": [
             [
              0,
              "#0d0887"
             ],
             [
              0.1111111111111111,
              "#46039f"
             ],
             [
              0.2222222222222222,
              "#7201a8"
             ],
             [
              0.3333333333333333,
              "#9c179e"
             ],
             [
              0.4444444444444444,
              "#bd3786"
             ],
             [
              0.5555555555555556,
              "#d8576b"
             ],
             [
              0.6666666666666666,
              "#ed7953"
             ],
             [
              0.7777777777777778,
              "#fb9f3a"
             ],
             [
              0.8888888888888888,
              "#fdca26"
             ],
             [
              1,
              "#f0f921"
             ]
            ],
            "type": "surface"
           }
          ],
          "table": [
           {
            "cells": {
             "fill": {
              "color": "#EBF0F8"
             },
             "line": {
              "color": "white"
             }
            },
            "header": {
             "fill": {
              "color": "#C8D4E3"
             },
             "line": {
              "color": "white"
             }
            },
            "type": "table"
           }
          ]
         },
         "layout": {
          "annotationdefaults": {
           "arrowcolor": "#2a3f5f",
           "arrowhead": 0,
           "arrowwidth": 1
          },
          "autotypenumbers": "strict",
          "coloraxis": {
           "colorbar": {
            "outlinewidth": 0,
            "ticks": ""
           }
          },
          "colorscale": {
           "diverging": [
            [
             0,
             "#8e0152"
            ],
            [
             0.1,
             "#c51b7d"
            ],
            [
             0.2,
             "#de77ae"
            ],
            [
             0.3,
             "#f1b6da"
            ],
            [
             0.4,
             "#fde0ef"
            ],
            [
             0.5,
             "#f7f7f7"
            ],
            [
             0.6,
             "#e6f5d0"
            ],
            [
             0.7,
             "#b8e186"
            ],
            [
             0.8,
             "#7fbc41"
            ],
            [
             0.9,
             "#4d9221"
            ],
            [
             1,
             "#276419"
            ]
           ],
           "sequential": [
            [
             0,
             "#0d0887"
            ],
            [
             0.1111111111111111,
             "#46039f"
            ],
            [
             0.2222222222222222,
             "#7201a8"
            ],
            [
             0.3333333333333333,
             "#9c179e"
            ],
            [
             0.4444444444444444,
             "#bd3786"
            ],
            [
             0.5555555555555556,
             "#d8576b"
            ],
            [
             0.6666666666666666,
             "#ed7953"
            ],
            [
             0.7777777777777778,
             "#fb9f3a"
            ],
            [
             0.8888888888888888,
             "#fdca26"
            ],
            [
             1,
             "#f0f921"
            ]
           ],
           "sequentialminus": [
            [
             0,
             "#0d0887"
            ],
            [
             0.1111111111111111,
             "#46039f"
            ],
            [
             0.2222222222222222,
             "#7201a8"
            ],
            [
             0.3333333333333333,
             "#9c179e"
            ],
            [
             0.4444444444444444,
             "#bd3786"
            ],
            [
             0.5555555555555556,
             "#d8576b"
            ],
            [
             0.6666666666666666,
             "#ed7953"
            ],
            [
             0.7777777777777778,
             "#fb9f3a"
            ],
            [
             0.8888888888888888,
             "#fdca26"
            ],
            [
             1,
             "#f0f921"
            ]
           ]
          },
          "colorway": [
           "#636efa",
           "#EF553B",
           "#00cc96",
           "#ab63fa",
           "#FFA15A",
           "#19d3f3",
           "#FF6692",
           "#B6E880",
           "#FF97FF",
           "#FECB52"
          ],
          "font": {
           "color": "#2a3f5f"
          },
          "geo": {
           "bgcolor": "white",
           "lakecolor": "white",
           "landcolor": "#E5ECF6",
           "showlakes": true,
           "showland": true,
           "subunitcolor": "white"
          },
          "hoverlabel": {
           "align": "left"
          },
          "hovermode": "closest",
          "mapbox": {
           "style": "light"
          },
          "paper_bgcolor": "white",
          "plot_bgcolor": "#E5ECF6",
          "polar": {
           "angularaxis": {
            "gridcolor": "white",
            "linecolor": "white",
            "ticks": ""
           },
           "bgcolor": "#E5ECF6",
           "radialaxis": {
            "gridcolor": "white",
            "linecolor": "white",
            "ticks": ""
           }
          },
          "scene": {
           "xaxis": {
            "backgroundcolor": "#E5ECF6",
            "gridcolor": "white",
            "gridwidth": 2,
            "linecolor": "white",
            "showbackground": true,
            "ticks": "",
            "zerolinecolor": "white"
           },
           "yaxis": {
            "backgroundcolor": "#E5ECF6",
            "gridcolor": "white",
            "gridwidth": 2,
            "linecolor": "white",
            "showbackground": true,
            "ticks": "",
            "zerolinecolor": "white"
           },
           "zaxis": {
            "backgroundcolor": "#E5ECF6",
            "gridcolor": "white",
            "gridwidth": 2,
            "linecolor": "white",
            "showbackground": true,
            "ticks": "",
            "zerolinecolor": "white"
           }
          },
          "shapedefaults": {
           "line": {
            "color": "#2a3f5f"
           }
          },
          "ternary": {
           "aaxis": {
            "gridcolor": "white",
            "linecolor": "white",
            "ticks": ""
           },
           "baxis": {
            "gridcolor": "white",
            "linecolor": "white",
            "ticks": ""
           },
           "bgcolor": "#E5ECF6",
           "caxis": {
            "gridcolor": "white",
            "linecolor": "white",
            "ticks": ""
           }
          },
          "title": {
           "x": 0.05
          },
          "xaxis": {
           "automargin": true,
           "gridcolor": "white",
           "linecolor": "white",
           "ticks": "",
           "title": {
            "standoff": 15
           },
           "zerolinecolor": "white",
           "zerolinewidth": 2
          },
          "yaxis": {
           "automargin": true,
           "gridcolor": "white",
           "linecolor": "white",
           "ticks": "",
           "title": {
            "standoff": 15
           },
           "zerolinecolor": "white",
           "zerolinewidth": 2
          }
         }
        },
        "xaxis": {
         "anchor": "y",
         "domain": [
          0,
          1
         ],
         "title": {
          "text": "Month"
         }
        },
        "yaxis": {
         "anchor": "x",
         "domain": [
          0,
          1
         ],
         "title": {
          "text": "Area (ha)"
         }
        }
       }
      }
     },
     "metadata": {},
     "output_type": "display_data"
    }
   ],
   "source": [
    "geemap.jrc_hist_monthly_history(\n",
    "    region=region, \n",
    "    start_date= '2019-01-01',\n",
    "    end_date= '2021-01-01',\n",
    "    scale=30, \n",
    "    frequency='month', \n",
    "    denominator=1e4, \n",
    "    y_label='Area (ha)'\n",
    ")"
   ]
  },
  {
   "cell_type": "code",
   "execution_count": 7,
   "metadata": {},
   "outputs": [
    {
     "data": {
      "text/html": [
       "\n",
       "            <style>\n",
       "                .geemap-dark {\n",
       "                    --jp-widgets-color: white;\n",
       "                    --jp-widgets-label-color: white;\n",
       "                    --jp-ui-font-color1: white;\n",
       "                    --jp-layout-color2: #454545;\n",
       "                    background-color: #383838;\n",
       "                }\n",
       "\n",
       "                .geemap-dark .jupyter-button {\n",
       "                    --jp-layout-color3: #383838;\n",
       "                }\n",
       "\n",
       "                .geemap-colab {\n",
       "                    background-color: var(--colab-primary-surface-color, white);\n",
       "                }\n",
       "\n",
       "                .geemap-colab .jupyter-button {\n",
       "                    --jp-layout-color3: var(--colab-primary-surface-color, white);\n",
       "                }\n",
       "            </style>\n",
       "            "
      ],
      "text/plain": [
       "<IPython.core.display.HTML object>"
      ]
     },
     "metadata": {},
     "output_type": "display_data"
    },
    {
     "data": {
      "application/vnd.plotly.v1+json": {
       "config": {
        "plotlyServerURL": "https://plot.ly"
       },
       "data": [
        {
         "alignmentgroup": "True",
         "hovertemplate": "Month=%{x}<br>Area (ha)=%{y}<extra></extra>",
         "legendgroup": "",
         "marker": {
          "color": "#636efa",
          "pattern": {
           "shape": ""
          }
         },
         "name": "",
         "offsetgroup": "",
         "orientation": "v",
         "showlegend": false,
         "textposition": "auto",
         "type": "bar",
         "x": [
          "2019_06",
          "2019_07",
          "2019_08",
          "2020_06",
          "2020_07",
          "2020_08"
         ],
         "xaxis": "x",
         "y": [
          0,
          0,
          15.569423767089843,
          0,
          0,
          128.29070005493165
         ],
         "yaxis": "y"
        }
       ],
       "layout": {
        "barmode": "relative",
        "legend": {
         "tracegroupgap": 0
        },
        "margin": {
         "t": 60
        },
        "template": {
         "data": {
          "bar": [
           {
            "error_x": {
             "color": "#2a3f5f"
            },
            "error_y": {
             "color": "#2a3f5f"
            },
            "marker": {
             "line": {
              "color": "#E5ECF6",
              "width": 0.5
             },
             "pattern": {
              "fillmode": "overlay",
              "size": 10,
              "solidity": 0.2
             }
            },
            "type": "bar"
           }
          ],
          "barpolar": [
           {
            "marker": {
             "line": {
              "color": "#E5ECF6",
              "width": 0.5
             },
             "pattern": {
              "fillmode": "overlay",
              "size": 10,
              "solidity": 0.2
             }
            },
            "type": "barpolar"
           }
          ],
          "carpet": [
           {
            "aaxis": {
             "endlinecolor": "#2a3f5f",
             "gridcolor": "white",
             "linecolor": "white",
             "minorgridcolor": "white",
             "startlinecolor": "#2a3f5f"
            },
            "baxis": {
             "endlinecolor": "#2a3f5f",
             "gridcolor": "white",
             "linecolor": "white",
             "minorgridcolor": "white",
             "startlinecolor": "#2a3f5f"
            },
            "type": "carpet"
           }
          ],
          "choropleth": [
           {
            "colorbar": {
             "outlinewidth": 0,
             "ticks": ""
            },
            "type": "choropleth"
           }
          ],
          "contour": [
           {
            "colorbar": {
             "outlinewidth": 0,
             "ticks": ""
            },
            "colorscale": [
             [
              0,
              "#0d0887"
             ],
             [
              0.1111111111111111,
              "#46039f"
             ],
             [
              0.2222222222222222,
              "#7201a8"
             ],
             [
              0.3333333333333333,
              "#9c179e"
             ],
             [
              0.4444444444444444,
              "#bd3786"
             ],
             [
              0.5555555555555556,
              "#d8576b"
             ],
             [
              0.6666666666666666,
              "#ed7953"
             ],
             [
              0.7777777777777778,
              "#fb9f3a"
             ],
             [
              0.8888888888888888,
              "#fdca26"
             ],
             [
              1,
              "#f0f921"
             ]
            ],
            "type": "contour"
           }
          ],
          "contourcarpet": [
           {
            "colorbar": {
             "outlinewidth": 0,
             "ticks": ""
            },
            "type": "contourcarpet"
           }
          ],
          "heatmap": [
           {
            "colorbar": {
             "outlinewidth": 0,
             "ticks": ""
            },
            "colorscale": [
             [
              0,
              "#0d0887"
             ],
             [
              0.1111111111111111,
              "#46039f"
             ],
             [
              0.2222222222222222,
              "#7201a8"
             ],
             [
              0.3333333333333333,
              "#9c179e"
             ],
             [
              0.4444444444444444,
              "#bd3786"
             ],
             [
              0.5555555555555556,
              "#d8576b"
             ],
             [
              0.6666666666666666,
              "#ed7953"
             ],
             [
              0.7777777777777778,
              "#fb9f3a"
             ],
             [
              0.8888888888888888,
              "#fdca26"
             ],
             [
              1,
              "#f0f921"
             ]
            ],
            "type": "heatmap"
           }
          ],
          "heatmapgl": [
           {
            "colorbar": {
             "outlinewidth": 0,
             "ticks": ""
            },
            "colorscale": [
             [
              0,
              "#0d0887"
             ],
             [
              0.1111111111111111,
              "#46039f"
             ],
             [
              0.2222222222222222,
              "#7201a8"
             ],
             [
              0.3333333333333333,
              "#9c179e"
             ],
             [
              0.4444444444444444,
              "#bd3786"
             ],
             [
              0.5555555555555556,
              "#d8576b"
             ],
             [
              0.6666666666666666,
              "#ed7953"
             ],
             [
              0.7777777777777778,
              "#fb9f3a"
             ],
             [
              0.8888888888888888,
              "#fdca26"
             ],
             [
              1,
              "#f0f921"
             ]
            ],
            "type": "heatmapgl"
           }
          ],
          "histogram": [
           {
            "marker": {
             "pattern": {
              "fillmode": "overlay",
              "size": 10,
              "solidity": 0.2
             }
            },
            "type": "histogram"
           }
          ],
          "histogram2d": [
           {
            "colorbar": {
             "outlinewidth": 0,
             "ticks": ""
            },
            "colorscale": [
             [
              0,
              "#0d0887"
             ],
             [
              0.1111111111111111,
              "#46039f"
             ],
             [
              0.2222222222222222,
              "#7201a8"
             ],
             [
              0.3333333333333333,
              "#9c179e"
             ],
             [
              0.4444444444444444,
              "#bd3786"
             ],
             [
              0.5555555555555556,
              "#d8576b"
             ],
             [
              0.6666666666666666,
              "#ed7953"
             ],
             [
              0.7777777777777778,
              "#fb9f3a"
             ],
             [
              0.8888888888888888,
              "#fdca26"
             ],
             [
              1,
              "#f0f921"
             ]
            ],
            "type": "histogram2d"
           }
          ],
          "histogram2dcontour": [
           {
            "colorbar": {
             "outlinewidth": 0,
             "ticks": ""
            },
            "colorscale": [
             [
              0,
              "#0d0887"
             ],
             [
              0.1111111111111111,
              "#46039f"
             ],
             [
              0.2222222222222222,
              "#7201a8"
             ],
             [
              0.3333333333333333,
              "#9c179e"
             ],
             [
              0.4444444444444444,
              "#bd3786"
             ],
             [
              0.5555555555555556,
              "#d8576b"
             ],
             [
              0.6666666666666666,
              "#ed7953"
             ],
             [
              0.7777777777777778,
              "#fb9f3a"
             ],
             [
              0.8888888888888888,
              "#fdca26"
             ],
             [
              1,
              "#f0f921"
             ]
            ],
            "type": "histogram2dcontour"
           }
          ],
          "mesh3d": [
           {
            "colorbar": {
             "outlinewidth": 0,
             "ticks": ""
            },
            "type": "mesh3d"
           }
          ],
          "parcoords": [
           {
            "line": {
             "colorbar": {
              "outlinewidth": 0,
              "ticks": ""
             }
            },
            "type": "parcoords"
           }
          ],
          "pie": [
           {
            "automargin": true,
            "type": "pie"
           }
          ],
          "scatter": [
           {
            "fillpattern": {
             "fillmode": "overlay",
             "size": 10,
             "solidity": 0.2
            },
            "type": "scatter"
           }
          ],
          "scatter3d": [
           {
            "line": {
             "colorbar": {
              "outlinewidth": 0,
              "ticks": ""
             }
            },
            "marker": {
             "colorbar": {
              "outlinewidth": 0,
              "ticks": ""
             }
            },
            "type": "scatter3d"
           }
          ],
          "scattercarpet": [
           {
            "marker": {
             "colorbar": {
              "outlinewidth": 0,
              "ticks": ""
             }
            },
            "type": "scattercarpet"
           }
          ],
          "scattergeo": [
           {
            "marker": {
             "colorbar": {
              "outlinewidth": 0,
              "ticks": ""
             }
            },
            "type": "scattergeo"
           }
          ],
          "scattergl": [
           {
            "marker": {
             "colorbar": {
              "outlinewidth": 0,
              "ticks": ""
             }
            },
            "type": "scattergl"
           }
          ],
          "scattermapbox": [
           {
            "marker": {
             "colorbar": {
              "outlinewidth": 0,
              "ticks": ""
             }
            },
            "type": "scattermapbox"
           }
          ],
          "scatterpolar": [
           {
            "marker": {
             "colorbar": {
              "outlinewidth": 0,
              "ticks": ""
             }
            },
            "type": "scatterpolar"
           }
          ],
          "scatterpolargl": [
           {
            "marker": {
             "colorbar": {
              "outlinewidth": 0,
              "ticks": ""
             }
            },
            "type": "scatterpolargl"
           }
          ],
          "scatterternary": [
           {
            "marker": {
             "colorbar": {
              "outlinewidth": 0,
              "ticks": ""
             }
            },
            "type": "scatterternary"
           }
          ],
          "surface": [
           {
            "colorbar": {
             "outlinewidth": 0,
             "ticks": ""
            },
            "colorscale": [
             [
              0,
              "#0d0887"
             ],
             [
              0.1111111111111111,
              "#46039f"
             ],
             [
              0.2222222222222222,
              "#7201a8"
             ],
             [
              0.3333333333333333,
              "#9c179e"
             ],
             [
              0.4444444444444444,
              "#bd3786"
             ],
             [
              0.5555555555555556,
              "#d8576b"
             ],
             [
              0.6666666666666666,
              "#ed7953"
             ],
             [
              0.7777777777777778,
              "#fb9f3a"
             ],
             [
              0.8888888888888888,
              "#fdca26"
             ],
             [
              1,
              "#f0f921"
             ]
            ],
            "type": "surface"
           }
          ],
          "table": [
           {
            "cells": {
             "fill": {
              "color": "#EBF0F8"
             },
             "line": {
              "color": "white"
             }
            },
            "header": {
             "fill": {
              "color": "#C8D4E3"
             },
             "line": {
              "color": "white"
             }
            },
            "type": "table"
           }
          ]
         },
         "layout": {
          "annotationdefaults": {
           "arrowcolor": "#2a3f5f",
           "arrowhead": 0,
           "arrowwidth": 1
          },
          "autotypenumbers": "strict",
          "coloraxis": {
           "colorbar": {
            "outlinewidth": 0,
            "ticks": ""
           }
          },
          "colorscale": {
           "diverging": [
            [
             0,
             "#8e0152"
            ],
            [
             0.1,
             "#c51b7d"
            ],
            [
             0.2,
             "#de77ae"
            ],
            [
             0.3,
             "#f1b6da"
            ],
            [
             0.4,
             "#fde0ef"
            ],
            [
             0.5,
             "#f7f7f7"
            ],
            [
             0.6,
             "#e6f5d0"
            ],
            [
             0.7,
             "#b8e186"
            ],
            [
             0.8,
             "#7fbc41"
            ],
            [
             0.9,
             "#4d9221"
            ],
            [
             1,
             "#276419"
            ]
           ],
           "sequential": [
            [
             0,
             "#0d0887"
            ],
            [
             0.1111111111111111,
             "#46039f"
            ],
            [
             0.2222222222222222,
             "#7201a8"
            ],
            [
             0.3333333333333333,
             "#9c179e"
            ],
            [
             0.4444444444444444,
             "#bd3786"
            ],
            [
             0.5555555555555556,
             "#d8576b"
            ],
            [
             0.6666666666666666,
             "#ed7953"
            ],
            [
             0.7777777777777778,
             "#fb9f3a"
            ],
            [
             0.8888888888888888,
             "#fdca26"
            ],
            [
             1,
             "#f0f921"
            ]
           ],
           "sequentialminus": [
            [
             0,
             "#0d0887"
            ],
            [
             0.1111111111111111,
             "#46039f"
            ],
            [
             0.2222222222222222,
             "#7201a8"
            ],
            [
             0.3333333333333333,
             "#9c179e"
            ],
            [
             0.4444444444444444,
             "#bd3786"
            ],
            [
             0.5555555555555556,
             "#d8576b"
            ],
            [
             0.6666666666666666,
             "#ed7953"
            ],
            [
             0.7777777777777778,
             "#fb9f3a"
            ],
            [
             0.8888888888888888,
             "#fdca26"
            ],
            [
             1,
             "#f0f921"
            ]
           ]
          },
          "colorway": [
           "#636efa",
           "#EF553B",
           "#00cc96",
           "#ab63fa",
           "#FFA15A",
           "#19d3f3",
           "#FF6692",
           "#B6E880",
           "#FF97FF",
           "#FECB52"
          ],
          "font": {
           "color": "#2a3f5f"
          },
          "geo": {
           "bgcolor": "white",
           "lakecolor": "white",
           "landcolor": "#E5ECF6",
           "showlakes": true,
           "showland": true,
           "subunitcolor": "white"
          },
          "hoverlabel": {
           "align": "left"
          },
          "hovermode": "closest",
          "mapbox": {
           "style": "light"
          },
          "paper_bgcolor": "white",
          "plot_bgcolor": "#E5ECF6",
          "polar": {
           "angularaxis": {
            "gridcolor": "white",
            "linecolor": "white",
            "ticks": ""
           },
           "bgcolor": "#E5ECF6",
           "radialaxis": {
            "gridcolor": "white",
            "linecolor": "white",
            "ticks": ""
           }
          },
          "scene": {
           "xaxis": {
            "backgroundcolor": "#E5ECF6",
            "gridcolor": "white",
            "gridwidth": 2,
            "linecolor": "white",
            "showbackground": true,
            "ticks": "",
            "zerolinecolor": "white"
           },
           "yaxis": {
            "backgroundcolor": "#E5ECF6",
            "gridcolor": "white",
            "gridwidth": 2,
            "linecolor": "white",
            "showbackground": true,
            "ticks": "",
            "zerolinecolor": "white"
           },
           "zaxis": {
            "backgroundcolor": "#E5ECF6",
            "gridcolor": "white",
            "gridwidth": 2,
            "linecolor": "white",
            "showbackground": true,
            "ticks": "",
            "zerolinecolor": "white"
           }
          },
          "shapedefaults": {
           "line": {
            "color": "#2a3f5f"
           }
          },
          "ternary": {
           "aaxis": {
            "gridcolor": "white",
            "linecolor": "white",
            "ticks": ""
           },
           "baxis": {
            "gridcolor": "white",
            "linecolor": "white",
            "ticks": ""
           },
           "bgcolor": "#E5ECF6",
           "caxis": {
            "gridcolor": "white",
            "linecolor": "white",
            "ticks": ""
           }
          },
          "title": {
           "x": 0.05
          },
          "xaxis": {
           "automargin": true,
           "gridcolor": "white",
           "linecolor": "white",
           "ticks": "",
           "title": {
            "standoff": 15
           },
           "zerolinecolor": "white",
           "zerolinewidth": 2
          },
          "yaxis": {
           "automargin": true,
           "gridcolor": "white",
           "linecolor": "white",
           "ticks": "",
           "title": {
            "standoff": 15
           },
           "zerolinecolor": "white",
           "zerolinewidth": 2
          }
         }
        },
        "xaxis": {
         "anchor": "y",
         "domain": [
          0,
          1
         ],
         "title": {
          "text": "Month"
         }
        },
        "yaxis": {
         "anchor": "x",
         "domain": [
          0,
          1
         ],
         "title": {
          "text": "Area (ha)"
         }
        }
       }
      }
     },
     "metadata": {},
     "output_type": "display_data"
    }
   ],
   "source": [
    "geemap.jrc_hist_monthly_history(\n",
    "    region=region, \n",
    "    start_date= '2019-01-01',\n",
    "    end_date= '2021-01-01',\n",
    "    start_month= 6,\n",
    "    end_month= 8,\n",
    "    scale=30, \n",
    "    frequency='month', \n",
    "    denominator=1e4, \n",
    "    y_label='Area (ha)'\n",
    ")"
   ]
  },
  {
   "cell_type": "code",
   "execution_count": 8,
   "metadata": {},
   "outputs": [
    {
     "data": {
      "text/html": [
       "\n",
       "            <style>\n",
       "                .geemap-dark {\n",
       "                    --jp-widgets-color: white;\n",
       "                    --jp-widgets-label-color: white;\n",
       "                    --jp-ui-font-color1: white;\n",
       "                    --jp-layout-color2: #454545;\n",
       "                    background-color: #383838;\n",
       "                }\n",
       "\n",
       "                .geemap-dark .jupyter-button {\n",
       "                    --jp-layout-color3: #383838;\n",
       "                }\n",
       "\n",
       "                .geemap-colab {\n",
       "                    background-color: var(--colab-primary-surface-color, white);\n",
       "                }\n",
       "\n",
       "                .geemap-colab .jupyter-button {\n",
       "                    --jp-layout-color3: var(--colab-primary-surface-color, white);\n",
       "                }\n",
       "            </style>\n",
       "            "
      ],
      "text/plain": [
       "<IPython.core.display.HTML object>"
      ]
     },
     "metadata": {},
     "output_type": "display_data"
    },
    {
     "data": {
      "application/vnd.plotly.v1+json": {
       "config": {
        "plotlyServerURL": "https://plot.ly"
       },
       "data": [
        {
         "alignmentgroup": "True",
         "hovertemplate": "Year=%{x}<br>Area (ha)=%{y}<extra></extra>",
         "legendgroup": "",
         "marker": {
          "color": "#636efa",
          "pattern": {
           "shape": ""
          }
         },
         "name": "",
         "offsetgroup": "",
         "orientation": "v",
         "showlegend": false,
         "textposition": "auto",
         "type": "bar",
         "x": [
          "2019",
          "2020"
         ],
         "xaxis": "x",
         "y": [
          15.569423767089843,
          128.29070005493165
         ],
         "yaxis": "y"
        }
       ],
       "layout": {
        "barmode": "relative",
        "legend": {
         "tracegroupgap": 0
        },
        "margin": {
         "t": 60
        },
        "template": {
         "data": {
          "bar": [
           {
            "error_x": {
             "color": "#2a3f5f"
            },
            "error_y": {
             "color": "#2a3f5f"
            },
            "marker": {
             "line": {
              "color": "#E5ECF6",
              "width": 0.5
             },
             "pattern": {
              "fillmode": "overlay",
              "size": 10,
              "solidity": 0.2
             }
            },
            "type": "bar"
           }
          ],
          "barpolar": [
           {
            "marker": {
             "line": {
              "color": "#E5ECF6",
              "width": 0.5
             },
             "pattern": {
              "fillmode": "overlay",
              "size": 10,
              "solidity": 0.2
             }
            },
            "type": "barpolar"
           }
          ],
          "carpet": [
           {
            "aaxis": {
             "endlinecolor": "#2a3f5f",
             "gridcolor": "white",
             "linecolor": "white",
             "minorgridcolor": "white",
             "startlinecolor": "#2a3f5f"
            },
            "baxis": {
             "endlinecolor": "#2a3f5f",
             "gridcolor": "white",
             "linecolor": "white",
             "minorgridcolor": "white",
             "startlinecolor": "#2a3f5f"
            },
            "type": "carpet"
           }
          ],
          "choropleth": [
           {
            "colorbar": {
             "outlinewidth": 0,
             "ticks": ""
            },
            "type": "choropleth"
           }
          ],
          "contour": [
           {
            "colorbar": {
             "outlinewidth": 0,
             "ticks": ""
            },
            "colorscale": [
             [
              0,
              "#0d0887"
             ],
             [
              0.1111111111111111,
              "#46039f"
             ],
             [
              0.2222222222222222,
              "#7201a8"
             ],
             [
              0.3333333333333333,
              "#9c179e"
             ],
             [
              0.4444444444444444,
              "#bd3786"
             ],
             [
              0.5555555555555556,
              "#d8576b"
             ],
             [
              0.6666666666666666,
              "#ed7953"
             ],
             [
              0.7777777777777778,
              "#fb9f3a"
             ],
             [
              0.8888888888888888,
              "#fdca26"
             ],
             [
              1,
              "#f0f921"
             ]
            ],
            "type": "contour"
           }
          ],
          "contourcarpet": [
           {
            "colorbar": {
             "outlinewidth": 0,
             "ticks": ""
            },
            "type": "contourcarpet"
           }
          ],
          "heatmap": [
           {
            "colorbar": {
             "outlinewidth": 0,
             "ticks": ""
            },
            "colorscale": [
             [
              0,
              "#0d0887"
             ],
             [
              0.1111111111111111,
              "#46039f"
             ],
             [
              0.2222222222222222,
              "#7201a8"
             ],
             [
              0.3333333333333333,
              "#9c179e"
             ],
             [
              0.4444444444444444,
              "#bd3786"
             ],
             [
              0.5555555555555556,
              "#d8576b"
             ],
             [
              0.6666666666666666,
              "#ed7953"
             ],
             [
              0.7777777777777778,
              "#fb9f3a"
             ],
             [
              0.8888888888888888,
              "#fdca26"
             ],
             [
              1,
              "#f0f921"
             ]
            ],
            "type": "heatmap"
           }
          ],
          "heatmapgl": [
           {
            "colorbar": {
             "outlinewidth": 0,
             "ticks": ""
            },
            "colorscale": [
             [
              0,
              "#0d0887"
             ],
             [
              0.1111111111111111,
              "#46039f"
             ],
             [
              0.2222222222222222,
              "#7201a8"
             ],
             [
              0.3333333333333333,
              "#9c179e"
             ],
             [
              0.4444444444444444,
              "#bd3786"
             ],
             [
              0.5555555555555556,
              "#d8576b"
             ],
             [
              0.6666666666666666,
              "#ed7953"
             ],
             [
              0.7777777777777778,
              "#fb9f3a"
             ],
             [
              0.8888888888888888,
              "#fdca26"
             ],
             [
              1,
              "#f0f921"
             ]
            ],
            "type": "heatmapgl"
           }
          ],
          "histogram": [
           {
            "marker": {
             "pattern": {
              "fillmode": "overlay",
              "size": 10,
              "solidity": 0.2
             }
            },
            "type": "histogram"
           }
          ],
          "histogram2d": [
           {
            "colorbar": {
             "outlinewidth": 0,
             "ticks": ""
            },
            "colorscale": [
             [
              0,
              "#0d0887"
             ],
             [
              0.1111111111111111,
              "#46039f"
             ],
             [
              0.2222222222222222,
              "#7201a8"
             ],
             [
              0.3333333333333333,
              "#9c179e"
             ],
             [
              0.4444444444444444,
              "#bd3786"
             ],
             [
              0.5555555555555556,
              "#d8576b"
             ],
             [
              0.6666666666666666,
              "#ed7953"
             ],
             [
              0.7777777777777778,
              "#fb9f3a"
             ],
             [
              0.8888888888888888,
              "#fdca26"
             ],
             [
              1,
              "#f0f921"
             ]
            ],
            "type": "histogram2d"
           }
          ],
          "histogram2dcontour": [
           {
            "colorbar": {
             "outlinewidth": 0,
             "ticks": ""
            },
            "colorscale": [
             [
              0,
              "#0d0887"
             ],
             [
              0.1111111111111111,
              "#46039f"
             ],
             [
              0.2222222222222222,
              "#7201a8"
             ],
             [
              0.3333333333333333,
              "#9c179e"
             ],
             [
              0.4444444444444444,
              "#bd3786"
             ],
             [
              0.5555555555555556,
              "#d8576b"
             ],
             [
              0.6666666666666666,
              "#ed7953"
             ],
             [
              0.7777777777777778,
              "#fb9f3a"
             ],
             [
              0.8888888888888888,
              "#fdca26"
             ],
             [
              1,
              "#f0f921"
             ]
            ],
            "type": "histogram2dcontour"
           }
          ],
          "mesh3d": [
           {
            "colorbar": {
             "outlinewidth": 0,
             "ticks": ""
            },
            "type": "mesh3d"
           }
          ],
          "parcoords": [
           {
            "line": {
             "colorbar": {
              "outlinewidth": 0,
              "ticks": ""
             }
            },
            "type": "parcoords"
           }
          ],
          "pie": [
           {
            "automargin": true,
            "type": "pie"
           }
          ],
          "scatter": [
           {
            "fillpattern": {
             "fillmode": "overlay",
             "size": 10,
             "solidity": 0.2
            },
            "type": "scatter"
           }
          ],
          "scatter3d": [
           {
            "line": {
             "colorbar": {
              "outlinewidth": 0,
              "ticks": ""
             }
            },
            "marker": {
             "colorbar": {
              "outlinewidth": 0,
              "ticks": ""
             }
            },
            "type": "scatter3d"
           }
          ],
          "scattercarpet": [
           {
            "marker": {
             "colorbar": {
              "outlinewidth": 0,
              "ticks": ""
             }
            },
            "type": "scattercarpet"
           }
          ],
          "scattergeo": [
           {
            "marker": {
             "colorbar": {
              "outlinewidth": 0,
              "ticks": ""
             }
            },
            "type": "scattergeo"
           }
          ],
          "scattergl": [
           {
            "marker": {
             "colorbar": {
              "outlinewidth": 0,
              "ticks": ""
             }
            },
            "type": "scattergl"
           }
          ],
          "scattermapbox": [
           {
            "marker": {
             "colorbar": {
              "outlinewidth": 0,
              "ticks": ""
             }
            },
            "type": "scattermapbox"
           }
          ],
          "scatterpolar": [
           {
            "marker": {
             "colorbar": {
              "outlinewidth": 0,
              "ticks": ""
             }
            },
            "type": "scatterpolar"
           }
          ],
          "scatterpolargl": [
           {
            "marker": {
             "colorbar": {
              "outlinewidth": 0,
              "ticks": ""
             }
            },
            "type": "scatterpolargl"
           }
          ],
          "scatterternary": [
           {
            "marker": {
             "colorbar": {
              "outlinewidth": 0,
              "ticks": ""
             }
            },
            "type": "scatterternary"
           }
          ],
          "surface": [
           {
            "colorbar": {
             "outlinewidth": 0,
             "ticks": ""
            },
            "colorscale": [
             [
              0,
              "#0d0887"
             ],
             [
              0.1111111111111111,
              "#46039f"
             ],
             [
              0.2222222222222222,
              "#7201a8"
             ],
             [
              0.3333333333333333,
              "#9c179e"
             ],
             [
              0.4444444444444444,
              "#bd3786"
             ],
             [
              0.5555555555555556,
              "#d8576b"
             ],
             [
              0.6666666666666666,
              "#ed7953"
             ],
             [
              0.7777777777777778,
              "#fb9f3a"
             ],
             [
              0.8888888888888888,
              "#fdca26"
             ],
             [
              1,
              "#f0f921"
             ]
            ],
            "type": "surface"
           }
          ],
          "table": [
           {
            "cells": {
             "fill": {
              "color": "#EBF0F8"
             },
             "line": {
              "color": "white"
             }
            },
            "header": {
             "fill": {
              "color": "#C8D4E3"
             },
             "line": {
              "color": "white"
             }
            },
            "type": "table"
           }
          ]
         },
         "layout": {
          "annotationdefaults": {
           "arrowcolor": "#2a3f5f",
           "arrowhead": 0,
           "arrowwidth": 1
          },
          "autotypenumbers": "strict",
          "coloraxis": {
           "colorbar": {
            "outlinewidth": 0,
            "ticks": ""
           }
          },
          "colorscale": {
           "diverging": [
            [
             0,
             "#8e0152"
            ],
            [
             0.1,
             "#c51b7d"
            ],
            [
             0.2,
             "#de77ae"
            ],
            [
             0.3,
             "#f1b6da"
            ],
            [
             0.4,
             "#fde0ef"
            ],
            [
             0.5,
             "#f7f7f7"
            ],
            [
             0.6,
             "#e6f5d0"
            ],
            [
             0.7,
             "#b8e186"
            ],
            [
             0.8,
             "#7fbc41"
            ],
            [
             0.9,
             "#4d9221"
            ],
            [
             1,
             "#276419"
            ]
           ],
           "sequential": [
            [
             0,
             "#0d0887"
            ],
            [
             0.1111111111111111,
             "#46039f"
            ],
            [
             0.2222222222222222,
             "#7201a8"
            ],
            [
             0.3333333333333333,
             "#9c179e"
            ],
            [
             0.4444444444444444,
             "#bd3786"
            ],
            [
             0.5555555555555556,
             "#d8576b"
            ],
            [
             0.6666666666666666,
             "#ed7953"
            ],
            [
             0.7777777777777778,
             "#fb9f3a"
            ],
            [
             0.8888888888888888,
             "#fdca26"
            ],
            [
             1,
             "#f0f921"
            ]
           ],
           "sequentialminus": [
            [
             0,
             "#0d0887"
            ],
            [
             0.1111111111111111,
             "#46039f"
            ],
            [
             0.2222222222222222,
             "#7201a8"
            ],
            [
             0.3333333333333333,
             "#9c179e"
            ],
            [
             0.4444444444444444,
             "#bd3786"
            ],
            [
             0.5555555555555556,
             "#d8576b"
            ],
            [
             0.6666666666666666,
             "#ed7953"
            ],
            [
             0.7777777777777778,
             "#fb9f3a"
            ],
            [
             0.8888888888888888,
             "#fdca26"
            ],
            [
             1,
             "#f0f921"
            ]
           ]
          },
          "colorway": [
           "#636efa",
           "#EF553B",
           "#00cc96",
           "#ab63fa",
           "#FFA15A",
           "#19d3f3",
           "#FF6692",
           "#B6E880",
           "#FF97FF",
           "#FECB52"
          ],
          "font": {
           "color": "#2a3f5f"
          },
          "geo": {
           "bgcolor": "white",
           "lakecolor": "white",
           "landcolor": "#E5ECF6",
           "showlakes": true,
           "showland": true,
           "subunitcolor": "white"
          },
          "hoverlabel": {
           "align": "left"
          },
          "hovermode": "closest",
          "mapbox": {
           "style": "light"
          },
          "paper_bgcolor": "white",
          "plot_bgcolor": "#E5ECF6",
          "polar": {
           "angularaxis": {
            "gridcolor": "white",
            "linecolor": "white",
            "ticks": ""
           },
           "bgcolor": "#E5ECF6",
           "radialaxis": {
            "gridcolor": "white",
            "linecolor": "white",
            "ticks": ""
           }
          },
          "scene": {
           "xaxis": {
            "backgroundcolor": "#E5ECF6",
            "gridcolor": "white",
            "gridwidth": 2,
            "linecolor": "white",
            "showbackground": true,
            "ticks": "",
            "zerolinecolor": "white"
           },
           "yaxis": {
            "backgroundcolor": "#E5ECF6",
            "gridcolor": "white",
            "gridwidth": 2,
            "linecolor": "white",
            "showbackground": true,
            "ticks": "",
            "zerolinecolor": "white"
           },
           "zaxis": {
            "backgroundcolor": "#E5ECF6",
            "gridcolor": "white",
            "gridwidth": 2,
            "linecolor": "white",
            "showbackground": true,
            "ticks": "",
            "zerolinecolor": "white"
           }
          },
          "shapedefaults": {
           "line": {
            "color": "#2a3f5f"
           }
          },
          "ternary": {
           "aaxis": {
            "gridcolor": "white",
            "linecolor": "white",
            "ticks": ""
           },
           "baxis": {
            "gridcolor": "white",
            "linecolor": "white",
            "ticks": ""
           },
           "bgcolor": "#E5ECF6",
           "caxis": {
            "gridcolor": "white",
            "linecolor": "white",
            "ticks": ""
           }
          },
          "title": {
           "x": 0.05
          },
          "xaxis": {
           "automargin": true,
           "gridcolor": "white",
           "linecolor": "white",
           "ticks": "",
           "title": {
            "standoff": 15
           },
           "zerolinecolor": "white",
           "zerolinewidth": 2
          },
          "yaxis": {
           "automargin": true,
           "gridcolor": "white",
           "linecolor": "white",
           "ticks": "",
           "title": {
            "standoff": 15
           },
           "zerolinecolor": "white",
           "zerolinewidth": 2
          }
         }
        },
        "xaxis": {
         "anchor": "y",
         "domain": [
          0,
          1
         ],
         "title": {
          "text": "Year"
         }
        },
        "yaxis": {
         "anchor": "x",
         "domain": [
          0,
          1
         ],
         "title": {
          "text": "Area (ha)"
         }
        }
       }
      }
     },
     "metadata": {},
     "output_type": "display_data"
    }
   ],
   "source": [
    "geemap.jrc_hist_monthly_history(\n",
    "    region=region, \n",
    "    start_date= '2019-01-01',\n",
    "    end_date= '2021-01-01',\n",
    "    start_month= 6,\n",
    "    end_month= 8,\n",
    "    scale=30, \n",
    "    frequency='year',\n",
    "    reducer= max, \n",
    "    denominator=1e4, \n",
    "    y_label='Area (ha)'\n",
    ")"
   ]
  },
  {
   "cell_type": "code",
   "execution_count": null,
   "metadata": {},
   "outputs": [],
   "source": []
  }
 ],
 "metadata": {
  "kernelspec": {
   "display_name": "geo",
   "language": "python",
   "name": "python3"
  },
  "language_info": {
   "codemirror_mode": {
    "name": "ipython",
    "version": 3
   },
   "file_extension": ".py",
   "mimetype": "text/x-python",
   "name": "python",
   "nbconvert_exporter": "python",
   "pygments_lexer": "ipython3",
   "version": "3.12.3"
  }
 },
 "nbformat": 4,
 "nbformat_minor": 2
}
