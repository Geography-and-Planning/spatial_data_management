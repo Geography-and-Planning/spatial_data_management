{
 "cells": [
  {
   "cell_type": "code",
   "execution_count": null,
   "metadata": {},
   "outputs": [],
   "source": [
    "import ee\n",
    "import geemap\n",
    "\n",
    "ee.Initialize()"
   ]
  },
  {
   "cell_type": "code",
   "execution_count": null,
   "metadata": {},
   "outputs": [],
   "source": [
    "dataset = ee.Image(\"JRC/GSW1_4/GlobalSurfaceWater\")\n",
    "dataset.bandNames()"
   ]
  },
  {
   "cell_type": "code",
   "execution_count": null,
   "metadata": {},
   "outputs": [],
   "source": [
    "m = geemap.Map()\n",
    "m.add_basemap(\"HYBRID\")\n",
    "m"
   ]
  },
  {
   "cell_type": "code",
   "execution_count": null,
   "metadata": {},
   "outputs": [],
   "source": [
    "image = dataset.select([\"occurrence\"])\n",
    "region = m.user_roi\n",
    "vis_params = {\"min\": 0.0, \"max\": 100.0, \"palette\": [\"ffffff\", \"ffbbbb\", \"0000ff\"]}\n",
    "m.addLayer(image, vis_params, \"Water Occurrence\")"
   ]
  },
  {
   "cell_type": "code",
   "execution_count": null,
   "metadata": {},
   "outputs": [],
   "source": [
    "m.add_colorbar(vis_params, label=\"Water occurrence\")"
   ]
  },
  {
   "cell_type": "code",
   "execution_count": null,
   "metadata": {},
   "outputs": [],
   "source": [
    "df = geemap.image_histogram(image, region=region, scale=30, return_df=True)"
   ]
  },
  {
   "cell_type": "code",
   "execution_count": null,
   "metadata": {},
   "outputs": [],
   "source": [
    "df"
   ]
  },
  {
   "cell_type": "code",
   "execution_count": null,
   "metadata": {},
   "outputs": [],
   "source": [
    "histogram = geemap.image_histogram(\n",
    "    image,\n",
    "    region,\n",
    "    scale=30,\n",
    "    x_label=\"Water Occurrence\",\n",
    "    y_label=\"pixel count\",\n",
    "    title=\"Water Occurrence Histogram\",\n",
    "    layout_args={\"title\": dict(x=0.5)},\n",
    "    return_df=False,\n",
    ")\n",
    "histogram"
   ]
  },
  {
   "cell_type": "code",
   "execution_count": null,
   "metadata": {},
   "outputs": [],
   "source": [
    "month = ee.ImageCollection(\"JRC/GSW1_4/MonthlyHistory\")\n",
    "month.aggregate_array(\"system:index\")"
   ]
  },
  {
   "cell_type": "code",
   "execution_count": null,
   "metadata": {},
   "outputs": [],
   "source": [
    "Map = geemap.Map()\n",
    "Map"
   ]
  },
  {
   "cell_type": "code",
   "execution_count": null,
   "metadata": {},
   "outputs": [],
   "source": [
    "image = month.filterDate(\"2019-01-01\", \"2021-01-01\").first()\n",
    "vis_params = {\"min\": 0.0, \"max\": 2.0, \"palette\": [\"ffffff\", \"fffcb8\", \"0905ff\"]}\n",
    "Map.addLayer(image, vis_params, \"Water Occurrence\")\n",
    "Map.add_colorbar(vis_params, label=\"Water Occurrence\")"
   ]
  },
  {
   "cell_type": "code",
   "execution_count": null,
   "metadata": {},
   "outputs": [],
   "source": [
    "region = Map.user_roi"
   ]
  },
  {
   "cell_type": "code",
   "execution_count": null,
   "metadata": {},
   "outputs": [],
   "source": [
    "geemap.jrc_hist_monthly_history(\n",
    "    region=region,\n",
    "    start_date=\"2019-01-01\",\n",
    "    end_date=\"2021-01-01\",\n",
    "    scale=30,\n",
    "    frequency=\"month\",\n",
    "    denominator=1e4,\n",
    "    y_label=\"Area (ha)\",\n",
    ")"
   ]
  },
  {
   "cell_type": "code",
   "execution_count": null,
   "metadata": {},
   "outputs": [],
   "source": [
    "geemap.jrc_hist_monthly_history(\n",
    "    region=region,\n",
    "    start_date=\"2019-01-01\",\n",
    "    end_date=\"2021-01-01\",\n",
    "    start_month=6,\n",
    "    end_month=8,\n",
    "    scale=30,\n",
    "    frequency=\"month\",\n",
    "    denominator=1e4,\n",
    "    y_label=\"Area (ha)\",\n",
    ")"
   ]
  },
  {
   "cell_type": "code",
   "execution_count": null,
   "metadata": {},
   "outputs": [],
   "source": [
    "geemap.jrc_hist_monthly_history(\n",
    "    region=region,\n",
    "    start_date=\"2019-01-01\",\n",
    "    end_date=\"2021-01-01\",\n",
    "    start_month=6,\n",
    "    end_month=8,\n",
    "    scale=30,\n",
    "    frequency=\"year\",\n",
    "    reducer=max,\n",
    "    denominator=1e4,\n",
    "    y_label=\"Area (ha)\",\n",
    ")"
   ]
  },
  {
   "cell_type": "code",
   "execution_count": null,
   "metadata": {},
   "outputs": [],
   "source": []
  }
 ],
 "metadata": {
  "kernelspec": {
   "display_name": "geo",
   "language": "python",
   "name": "python3"
  },
  "language_info": {
   "codemirror_mode": {
    "name": "ipython",
    "version": 3
   },
   "file_extension": ".py",
   "mimetype": "text/x-python",
   "name": "python",
   "nbconvert_exporter": "python",
   "pygments_lexer": "ipython3",
   "version": "3.12.3"
  }
 },
 "nbformat": 4,
 "nbformat_minor": 2
}
