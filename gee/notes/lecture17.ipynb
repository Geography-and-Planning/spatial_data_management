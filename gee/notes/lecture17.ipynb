{
 "cells": [
  {
   "cell_type": "code",
   "execution_count": null,
   "metadata": {},
   "outputs": [],
   "source": [
    "import ee\n",
    "import geemap\n",
    "\n",
    "ee.Initialize()"
   ]
  },
  {
   "cell_type": "markdown",
   "metadata": {},
   "source": [
    "# Mapping available Landsat image collections"
   ]
  },
  {
   "cell_type": "code",
   "execution_count": null,
   "metadata": {},
   "outputs": [],
   "source": [
    "collection = ee.ImageCollection(\"LANDSAT/LC08/C01/T1_TOA\")\n",
    "image = geemap.image_count(\n",
    "    collection, region=None, start_date=\"2021-01-01\", end_date=\"2022-01-01\", clip=False\n",
    ")"
   ]
  },
  {
   "cell_type": "code",
   "execution_count": null,
   "metadata": {},
   "outputs": [],
   "source": [
    "m = geemap.Map()\n",
    "vis = {\"min\": 0, \"max\": 60, \"palette\": \"coolwarm\"}\n",
    "m.addLayer(image, vis, \"Image Count\")\n",
    "m.add_colorbar(vis, label=\"Lansat Image Count\")\n",
    "\n",
    "countries = ee.FeatureCollection(geemap.examples.get_ee_path(\"countries\"))\n",
    "style = {\"color\": \"00000088\", \"width\": 1, \"fillColor\": \"00000000\"}\n",
    "m.addLayer(countries.style(**style), {}, \"Countries\")\n",
    "m"
   ]
  },
  {
   "cell_type": "markdown",
   "metadata": {},
   "source": [
    "# Cloud-free Composites"
   ]
  },
  {
   "cell_type": "code",
   "execution_count": null,
   "metadata": {},
   "outputs": [],
   "source": [
    "Map = geemap.Map()\n",
    "\n",
    "collection = ee.ImageCollection(\"LANDSAT/LC08/C02/T1\").filterDate(\n",
    "    \"2021-01-01\", \"2022-01-01\"\n",
    ")\n",
    "\n",
    "# Create a cloud-free simple composite by reducing the collection. Cloud free\n",
    "# only applicable to Raw images(T!)\n",
    "composite = ee.Algorithms.Landsat.simpleComposite(collection)\n",
    "\n",
    "vis_params = {\"bands\": [\"B5\", \"B4\", \"B3\"], \"max\": 128}\n",
    "\n",
    "Map.setCenter(-122.3578, 37.7726, 10)\n",
    "Map.addLayer(composite, vis_params, \"TOA composite\")\n",
    "Map"
   ]
  },
  {
   "cell_type": "markdown",
   "metadata": {},
   "source": [
    "### VS"
   ]
  },
  {
   "cell_type": "code",
   "execution_count": null,
   "metadata": {},
   "outputs": [],
   "source": [
    "a = geemap.Map()\n",
    "\n",
    "collection = ee.ImageCollection(\"LANDSAT/LC08/C02/T1\").filterDate(\n",
    "    \"2021-01-01\", \"2022-01-01\"\n",
    ")\n",
    "## Median collect all the images in the collection and calculate the median value for each pixel, not cloud free.\n",
    "composite = collection.median()\n",
    "\n",
    "vis_params = {\"bands\": [\"B5\", \"B4\", \"B3\"], \"max\": 30000}\n",
    "\n",
    "a.setCenter(-122.3578, 37.7726, 10)\n",
    "a.addLayer(composite, vis_params, \"TOA composite\")\n",
    "a"
   ]
  },
  {
   "cell_type": "markdown",
   "metadata": {},
   "source": [
    "# chart section"
   ]
  },
  {
   "cell_type": "code",
   "execution_count": null,
   "metadata": {},
   "outputs": [],
   "source": [
    "data = geemap.examples.get_path(\"countries.geojson\")\n",
    "df = geemap.geojson_to_df(data)\n",
    "df.head()"
   ]
  },
  {
   "cell_type": "code",
   "execution_count": null,
   "metadata": {},
   "outputs": [],
   "source": [
    "geemap.bar_chart(\n",
    "    data=df,\n",
    "    x=\"NAME\",\n",
    "    y=\"POP_EST\",\n",
    "    x_label=\"Country\",\n",
    "    y_label=\"Population\",\n",
    "    descending=True,\n",
    "    max_rows=15,\n",
    "    title=\"World Population\",\n",
    "    height=500,\n",
    "    layout_args={\"title_x\": 0.5, \"title_y\": 0.85},\n",
    ")"
   ]
  },
  {
   "cell_type": "code",
   "execution_count": null,
   "metadata": {},
   "outputs": [],
   "source": [
    "geemap.pie_chart(\n",
    "    data=df,\n",
    "    names=\"NAME\",\n",
    "    values=\"POP_EST\",\n",
    "    max_rows=30,\n",
    "    height=600,\n",
    "    title=\"World Population\",\n",
    "    legend_title=\"Country\",\n",
    "    layout_args={\"title_x\": 0.47, \"title_y\": 0.87},\n",
    ")"
   ]
  },
  {
   "cell_type": "code",
   "execution_count": null,
   "metadata": {},
   "outputs": [],
   "source": [
    "data = geemap.examples.get_path(\"life_exp.csv\")\n",
    "df = geemap.csv_to_df(data)\n",
    "df = df[df[\"continent\"] == \"Oceania\"]\n",
    "df.head()"
   ]
  },
  {
   "cell_type": "code",
   "execution_count": null,
   "metadata": {},
   "outputs": [],
   "source": [
    "geemap.line_chart(\n",
    "    df,\n",
    "    x=\"year\",\n",
    "    y=\"lifeExp\",\n",
    "    color=\"country\",\n",
    "    x_label=\"Year\",\n",
    "    y_label=\"Life expectancy\",\n",
    "    legend_title=\"Country\",\n",
    "    height=400,\n",
    "    markers=True,\n",
    ")"
   ]
  },
  {
   "cell_type": "code",
   "execution_count": null,
   "metadata": {},
   "outputs": [],
   "source": [
    "geemap.line_chart(\n",
    "    df,\n",
    "    x=\"year\",\n",
    "    y=\"pop\",\n",
    "    color=\"country\",\n",
    "    x_label=\"Year\",\n",
    "    y_label=\"Life expectancy\",\n",
    "    legend_title=\"Country\",\n",
    "    height=400,\n",
    "    markers=True,\n",
    ")"
   ]
  },
  {
   "cell_type": "markdown",
   "metadata": {},
   "source": [
    "# Earth Engine object charts"
   ]
  },
  {
   "cell_type": "code",
   "execution_count": null,
   "metadata": {},
   "outputs": [],
   "source": [
    "import geemap.chart as chart"
   ]
  },
  {
   "cell_type": "code",
   "execution_count": null,
   "metadata": {},
   "outputs": [],
   "source": [
    "m = geemap.Map(center=[40, -100], zoom=4)\n",
    "collection = ee.FeatureCollection(\"projects/google/charts_feature_example\")\n",
    "m.addLayer(collection, {}, \"Features\")\n",
    "m"
   ]
  },
  {
   "cell_type": "code",
   "execution_count": null,
   "metadata": {},
   "outputs": [],
   "source": [
    "features = collection.select(\"[0-9][0-9]_tmean|label\")\n",
    "df = geemap.ee_to_df(features, sort_columns=True)\n",
    "df"
   ]
  },
  {
   "cell_type": "code",
   "execution_count": null,
   "metadata": {},
   "outputs": [],
   "source": [
    "xProperty = \"label\"\n",
    "yProperties = df.columns[:12]\n",
    "\n",
    "labels = [\n",
    "    \"Jan\",\n",
    "    \"Feb\",\n",
    "    \"Mar\",\n",
    "    \"Apr\",\n",
    "    \"May\",\n",
    "    \"Jun\",\n",
    "    \"Jul\",\n",
    "    \"Aug\",\n",
    "    \"Sep\",\n",
    "    \"Oct\",\n",
    "    \"Nov\",\n",
    "    \"Dec\",\n",
    "]\n",
    "colors = [\n",
    "    \"#604791\",\n",
    "    \"#1d6b99\",\n",
    "    \"#39a8a7\",\n",
    "    \"#0f8755\",\n",
    "    \"#76b349\",\n",
    "    \"#f0af07\",\n",
    "    \"#e37d05\",\n",
    "    \"#cf513e\",\n",
    "    \"#96356f\",\n",
    "    \"#724173\",\n",
    "    \"#9c4f97\",\n",
    "    \"#696969\",\n",
    "]\n",
    "title = \"Average Monthly Temperature by Ecoregion\"\n",
    "xlabel = \"Ecoregion\"\n",
    "ylabel = \"Temperature\""
   ]
  },
  {
   "cell_type": "code",
   "execution_count": null,
   "metadata": {},
   "outputs": [],
   "source": [
    "options = {\n",
    "    \"labels\": labels,\n",
    "    \"colors\": colors,\n",
    "    \"title\": title,\n",
    "    \"xlabel\": xlabel,\n",
    "    \"ylabel\": ylabel,\n",
    "    \"legend_location\": \"top-left\",\n",
    "    \"height\": \"500px\",\n",
    "}"
   ]
  },
  {
   "cell_type": "code",
   "execution_count": null,
   "metadata": {},
   "outputs": [],
   "source": [
    "chart.feature_byFeature(features, xProperty, yProperties, **options)"
   ]
  }
 ],
 "metadata": {
  "kernelspec": {
   "display_name": "geo",
   "language": "python",
   "name": "python3"
  },
  "language_info": {
   "codemirror_mode": {
    "name": "ipython",
    "version": 3
   },
   "file_extension": ".py",
   "mimetype": "text/x-python",
   "name": "python",
   "nbconvert_exporter": "python",
   "pygments_lexer": "ipython3",
   "version": "3.12.3"
  }
 },
 "nbformat": 4,
 "nbformat_minor": 2
}
