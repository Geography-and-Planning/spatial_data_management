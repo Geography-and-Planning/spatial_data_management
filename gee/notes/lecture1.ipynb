{
 "cells": [
  {
   "cell_type": "markdown",
   "metadata": {},
   "source": [
    "# Lecture 1\n",
    "\n",
    "[![Open In Colab](https://colab.research.google.com/assets/colab-badge.svg)](https://colab.research.google.com/github/zyang91/spatial_data_management/blob/main/notes/lecture1.ipynb)"
   ]
  },
  {
   "cell_type": "code",
   "execution_count": null,
   "metadata": {},
   "outputs": [],
   "source": [
    "import ee\n",
    "import geemap"
   ]
  },
  {
   "cell_type": "code",
   "execution_count": null,
   "metadata": {},
   "outputs": [],
   "source": [
    "geemap.ee_initialize()"
   ]
  },
  {
   "cell_type": "code",
   "execution_count": null,
   "metadata": {},
   "outputs": [],
   "source": [
    "m = geemap.Map()\n",
    "m"
   ]
  },
  {
   "cell_type": "code",
   "execution_count": null,
   "metadata": {},
   "outputs": [],
   "source": [
    "image = ee.Image(\"USGS/3DEP/10m\")"
   ]
  },
  {
   "cell_type": "code",
   "execution_count": null,
   "metadata": {},
   "outputs": [],
   "source": [
    "image"
   ]
  },
  {
   "cell_type": "code",
   "execution_count": null,
   "metadata": {},
   "outputs": [],
   "source": [
    "image.getInfo()"
   ]
  },
  {
   "cell_type": "markdown",
   "metadata": {},
   "source": [
    "Add Layer to the map"
   ]
  },
  {
   "cell_type": "code",
   "execution_count": null,
   "metadata": {},
   "outputs": [],
   "source": [
    "Map = geemap.Map()\n",
    "image = ee.Image(\"USGS/3DEP/10m\")\n",
    "vis_params = {\n",
    "    \"min\": 0,\n",
    "    \"max\": 3700,\n",
    "    \"palette\": [\"006633\", \"E5FFCC\", \"662A00\", \"D8D8D8\", \"F5F5F5\"],\n",
    "}  # color code-6 digit (RGB)\n",
    "Map.addLayer(image, vis_params, \"USGS 3DEP Elevation\")\n",
    "Map"
   ]
  },
  {
   "cell_type": "code",
   "execution_count": null,
   "metadata": {},
   "outputs": [],
   "source": [
    "Map = geemap.Map()\n",
    "image = ee.Image(\"USGS/3DEP/10m\")\n",
    "vis_params = {\n",
    "    \"min\": 0,\n",
    "    \"max\": 3700,\n",
    "    \"palette\": [\"0000FF\", \"E5FFCC\", \"662A00\", \"D8D8D8\", \"FF0000\"],\n",
    "}  # color code-6 digit (RGB)\n",
    "Map.addLayer(image, vis_params, \"USGS 3DEP Elevation\")\n",
    "Map"
   ]
  },
  {
   "cell_type": "markdown",
   "metadata": {},
   "source": [
    "Continue"
   ]
  },
  {
   "cell_type": "code",
   "execution_count": null,
   "metadata": {},
   "outputs": [],
   "source": [
    "m = geemap.Map()\n",
    "image = ee.Image(\"USGS/3DEP/10m\")\n",
    "vis_params = {\n",
    "    \"min\": 0,\n",
    "    \"max\": 4000,\n",
    "    \"palette\": [\"0000FF\", \"E5FFCC\", \"662A00\", \"D8D8D8\", \"FF0000\"],\n",
    "}  # color code-6 digit (RGB)\n",
    "\n",
    "m.addLayer(image, vis_params, \"USGS 3DEP Elevation\")\n",
    "m"
   ]
  },
  {
   "cell_type": "code",
   "execution_count": null,
   "metadata": {},
   "outputs": [],
   "source": [
    "collection = ee.ImageCollection(\"COPERNICUS/S2_SR\")"
   ]
  },
  {
   "cell_type": "code",
   "execution_count": null,
   "metadata": {},
   "outputs": [],
   "source": [
    "collection.limit(5)"
   ]
  },
  {
   "cell_type": "code",
   "execution_count": null,
   "metadata": {},
   "outputs": [],
   "source": [
    "Map = geemap.Map()\n",
    "collection = ee.ImageCollection(\"COPERNICUS/S2_SR_HARMONIZED\")\n",
    "image = collection.median()\n",
    "vis_params = {\"min\": 0.0, \"max\": 3000, \"bands\": [\"B8\", \"B4\", \"B3\"]}\n",
    "Map.set_center(83.277, 17.7009, 15)\n",
    "Map.addLayer(image, vis_params, \"COPERNICUS/S2_SR\")\n",
    "Map"
   ]
  },
  {
   "cell_type": "code",
   "execution_count": null,
   "metadata": {},
   "outputs": [],
   "source": [
    "Map = geemap.Map()\n",
    "collection = ee.ImageCollection(\"COPERNICUS/S2_SR_HARMONIZED\")\n",
    "image = collection.median()\n",
    "vis_params = {\"min\": 0.0, \"max\": 3000, \"bands\": [\"B4\", \"B3\", \"B2\"]}\n",
    "Map.set_center(83.277, 17.7009, 15)\n",
    "Map.addLayer(image, vis_params, \"COPERNICUS/S2_SR\")\n",
    "Map"
   ]
  },
  {
   "cell_type": "markdown",
   "metadata": {},
   "source": [
    "Filter image collection"
   ]
  },
  {
   "cell_type": "code",
   "execution_count": null,
   "metadata": {},
   "outputs": [],
   "source": [
    "Map = geemap.Map()\n",
    "collection = (\n",
    "    ee.ImageCollection(\"COPERNICUS/S2_SR_HARMONIZED\")\n",
    "    .filterDate(\"2021-01-01\", \"2022-01-01\")\n",
    "    .filter(ee.Filter.lt(\"CLOUDY_PIXEL_PERCENTAGE\", 5))\n",
    ")\n",
    "image = collection.median()\n",
    "vis_params = {\"min\": 0.0, \"max\": 3000, \"bands\": [\"B4\", \"B3\", \"B2\"]}\n",
    "Map.set_center(83.277, 17.7009, 15)\n",
    "Map.addLayer(image, vis_params, \"COPERNICUS/S2_SR\")\n",
    "Map"
   ]
  },
  {
   "cell_type": "code",
   "execution_count": null,
   "metadata": {},
   "outputs": [],
   "source": [
    "collection.limit(5)"
   ]
  },
  {
   "cell_type": "code",
   "execution_count": null,
   "metadata": {},
   "outputs": [],
   "source": [
    "Map = geemap.Map()\n",
    "collection = (\n",
    "    ee.ImageCollection(\"LANDSAT/LC09/C02/T1_L2\")\n",
    "    .filterDate(\"2022-01-01\", \"2023-01-01\")\n",
    "    .filter(ee.Filter.lt(\"CLOUD_COVER\", 5))\n",
    ")\n",
    "image = collection.median()\n",
    "vis_params = {\"min\": 0.0, \"max\": 65455, \"bands\": [\"SR_B4\", \"SR_B3\", \"SR_B2\"]}\n",
    "Map.set_center(-74, 40, 12)\n",
    "Map.addLayer(image, vis_params, \"LandSAT\")\n",
    "Map"
   ]
  },
  {
   "cell_type": "code",
   "execution_count": null,
   "metadata": {},
   "outputs": [],
   "source": [
    "Map = geemap.Map()\n",
    "collection = (\n",
    "    ee.ImageCollection(\"LANDSAT/LC09/C02/T1_L2\")\n",
    "    .filterDate(\"2022-01-01\", \"2023-01-01\")\n",
    "    .filter(ee.Filter.lt(\"CLOUD_COVER\", 5))\n",
    ")\n",
    "image = collection.median()\n",
    "vis_params = {\"min\": 0.0, \"max\": 65455, \"bands\": [\"SR_B5\", \"SR_B4\", \"SR_B3\"]}\n",
    "Map.set_center(-74.006, 40.7128, 12)\n",
    "Map.addLayer(image, vis_params, \"LandSAT\")\n",
    "Map"
   ]
  },
  {
   "cell_type": "code",
   "execution_count": null,
   "metadata": {},
   "outputs": [],
   "source": []
  }
 ],
 "metadata": {
  "kernelspec": {
   "display_name": "Python 3 (ipykernel)",
   "language": "python",
   "name": "python3"
  },
  "language_info": {
   "codemirror_mode": {
    "name": "ipython",
    "version": 3
   },
   "file_extension": ".py",
   "mimetype": "text/x-python",
   "name": "python",
   "nbconvert_exporter": "python",
   "pygments_lexer": "ipython3",
   "version": "3.9.16"
  }
 },
 "nbformat": 4,
 "nbformat_minor": 4
}
