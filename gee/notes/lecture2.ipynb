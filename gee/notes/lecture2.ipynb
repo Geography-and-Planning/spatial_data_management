{
 "cells": [
  {
   "cell_type": "markdown",
   "metadata": {},
   "source": [
    "# Lecture 2\n",
    "\n",
    "[![Open In Colab](https://colab.research.google.com/assets/colab-badge.svg)](https://colab.research.google.com/github/zyang91/spatial_data_management/blob/main/notes/lecture2.ipynb)"
   ]
  },
  {
   "cell_type": "code",
   "execution_count": null,
   "metadata": {},
   "outputs": [],
   "source": [
    "import ee\n",
    "import geemap"
   ]
  },
  {
   "cell_type": "code",
   "execution_count": null,
   "metadata": {},
   "outputs": [],
   "source": [
    "geemap.ee_initialize()"
   ]
  },
  {
   "cell_type": "code",
   "execution_count": null,
   "metadata": {},
   "outputs": [],
   "source": [
    "m = geemap.Map(center=[40, -100], zoom=4)\n",
    "m"
   ]
  },
  {
   "cell_type": "code",
   "execution_count": null,
   "metadata": {},
   "outputs": [],
   "source": [
    "point = ee.Geometry.Point(-122.4439, 37.7538)\n",
    "m.addLayer(point, {\"color\": \"red\"}, \"point\")\n",
    "m.centerObject(point, 10)\n",
    "m"
   ]
  },
  {
   "cell_type": "code",
   "execution_count": null,
   "metadata": {},
   "outputs": [],
   "source": [
    "line = ee.Geometry.LineString([[-122.091, 37.417], [-122.1, 37.4]])\n",
    "m.addLayer(line, {\"color\": \"blue\"}, \"line\")\n",
    "m.centerObject(line)\n",
    "m"
   ]
  },
  {
   "cell_type": "code",
   "execution_count": null,
   "metadata": {},
   "outputs": [],
   "source": [
    "linering = ee.Geometry.LinearRing(\n",
    "    [[-122.091, 37.417], [-122.1, 37.417], [-122.1, 37.4], [-122.091, 37.4]]\n",
    ")\n",
    "m.addLayer(linering, {\"color\": \"green\"}, \"linering\")\n",
    "m.centerObject(linering)\n",
    "m"
   ]
  },
  {
   "cell_type": "code",
   "execution_count": null,
   "metadata": {},
   "outputs": [],
   "source": [
    "rectangle = ee.Geometry.Rectangle([-122.09, 37.42, -122.8, 37.43])\n",
    "m.addLayer(rectangle, {\"color\": \"yellow\"}, \"rectangle\")\n",
    "m.centerObject(rectangle)\n",
    "m"
   ]
  },
  {
   "cell_type": "code",
   "execution_count": null,
   "metadata": {},
   "outputs": [],
   "source": [
    "polygon = ee.Geometry.Polygon(\n",
    "    [[-122.091, 37.417], [-122.101, 37.417], [-122.101, 37.407], [-122.091, 37.407]]\n",
    ")  # [Longtitude, Latitude]\n",
    "m.addLayer(polygon, {\"color\": \"purple\"}, \"polygon\")\n",
    "m.centerObject(polygon)\n",
    "m"
   ]
  },
  {
   "cell_type": "code",
   "execution_count": null,
   "metadata": {},
   "outputs": [],
   "source": [
    "geometry = ee.Geometry.Point([-122.4439, 37.7538])"
   ]
  },
  {
   "cell_type": "code",
   "execution_count": null,
   "metadata": {},
   "outputs": [],
   "source": [
    "collection = (\n",
    "    ee.ImageCollection(\"COPERNICUS/S2_SR_HARMONIZED\")\n",
    "    .filterDate(\"2021-01-01\", \"2022-01-01\")\n",
    "    .filter(ee.Filter.lt(\"CLOUDY_PIXEL_PERCENTAGE\", 5))\n",
    "    .filterBounds(geometry)\n",
    ")\n",
    "image = collection.median()\n",
    "vis_params = {\"min\": 0.0, \"max\": 3000, \"bands\": [\"B4\", \"B3\", \"B2\"]}\n",
    "m.set_center(-122.4439, 37.7538, 10)\n",
    "m.addLayer(image, vis_params, \"COPERNICUS/S2_SR\")\n",
    "m"
   ]
  },
  {
   "cell_type": "code",
   "execution_count": null,
   "metadata": {},
   "outputs": [],
   "source": [
    "collection.size()"
   ]
  },
  {
   "cell_type": "code",
   "execution_count": null,
   "metadata": {},
   "outputs": [],
   "source": [
    "collection.first()"
   ]
  },
  {
   "cell_type": "code",
   "execution_count": null,
   "metadata": {},
   "outputs": [],
   "source": [
    "r = geemap.Map(center=[40, -100], zoom=4)\n",
    "r"
   ]
  },
  {
   "cell_type": "code",
   "execution_count": null,
   "metadata": {},
   "outputs": [],
   "source": [
    "collection = (\n",
    "    ee.ImageCollection(\"COPERNICUS/S2_SR_HARMONIZED\")\n",
    "    .filterDate(\"2021-01-01\", \"2022-01-01\")\n",
    "    .filter(ee.Filter.lt(\"CLOUDY_PIXEL_PERCENTAGE\", 5))\n",
    "    .filterBounds(r.user_roi)\n",
    ")\n",
    "image = collection.median()\n",
    "vis_params = {\"min\": 0.0, \"max\": 3000, \"bands\": [\"B4\", \"B3\", \"B2\"]}\n",
    "r.set_center(-76, 42, 10)\n",
    "r.addLayer(image, vis_params, \"COPERNICUS/S2_SR\")\n",
    "r"
   ]
  },
  {
   "cell_type": "code",
   "execution_count": null,
   "metadata": {},
   "outputs": [],
   "source": [
    "collection.size()"
   ]
  },
  {
   "cell_type": "code",
   "execution_count": null,
   "metadata": {},
   "outputs": [],
   "source": [
    "collection.first()"
   ]
  },
  {
   "cell_type": "code",
   "execution_count": null,
   "metadata": {},
   "outputs": [],
   "source": [
    "picture = collection.first()"
   ]
  },
  {
   "cell_type": "code",
   "execution_count": null,
   "metadata": {},
   "outputs": [],
   "source": [
    "vis = {\"bands\": [\"B8\", \"B4\", \"B3\"], \"min\": 0, \"max\": 3000}\n",
    "r.addLayer(picture, vis, \"true_color\")\n",
    "r"
   ]
  },
  {
   "cell_type": "code",
   "execution_count": null,
   "metadata": {},
   "outputs": [],
   "source": []
  }
 ],
 "metadata": {
  "kernelspec": {
   "display_name": "geos",
   "language": "python",
   "name": "python3"
  },
  "language_info": {
   "codemirror_mode": {
    "name": "ipython",
    "version": 3
   },
   "file_extension": ".py",
   "mimetype": "text/x-python",
   "name": "python",
   "nbconvert_exporter": "python",
   "pygments_lexer": "ipython3",
   "version": "3.9.16"
  }
 },
 "nbformat": 4,
 "nbformat_minor": 2
}
